{
  "cells": [
    {
      "cell_type": "markdown",
      "metadata": {
        "id": "view-in-github",
        "colab_type": "text"
      },
      "source": [
        "<a href=\"https://colab.research.google.com/github/chigvintseva/UniProject-simulation-techniques/blob/main/main.ipynb\" target=\"_parent\"><img src=\"https://colab.research.google.com/assets/colab-badge.svg\" alt=\"Open In Colab\"/></a>"
      ]
    },
    {
      "cell_type": "markdown",
      "id": "5624ff8f",
      "metadata": {
        "id": "5624ff8f"
      },
      "source": [
        "# **Data generation**"
      ]
    },
    {
      "cell_type": "code",
      "execution_count": 7,
      "id": "6cf46b0a",
      "metadata": {
        "id": "6cf46b0a"
      },
      "outputs": [],
      "source": [
        "import numpy as np\n",
        "import pandas as pd\n",
        "import simpy\n",
        "from scipy import stats"
      ]
    },
    {
      "cell_type": "markdown",
      "id": "074f586f",
      "metadata": {
        "id": "074f586f"
      },
      "source": [
        "1. Set random seed for reproducibility"
      ]
    },
    {
      "cell_type": "code",
      "execution_count": 8,
      "id": "7d90070b",
      "metadata": {
        "id": "7d90070b"
      },
      "outputs": [],
      "source": [
        "# to ensure the reproducable synthetic data generation\n",
        "np.random.seed(42)"
      ]
    },
    {
      "cell_type": "markdown",
      "id": "f165b49f",
      "metadata": {
        "id": "f165b49f"
      },
      "source": [
        "2. Generate patient arrival times using poisson process"
      ]
    },
    {
      "cell_type": "code",
      "execution_count": 9,
      "id": "0d5d4a88",
      "metadata": {
        "id": "0d5d4a88"
      },
      "outputs": [],
      "source": [
        "arrival_rate_per_hour = 40\n",
        "simulation_duration_hours = 24\n",
        "\n",
        "#total patient count\n",
        "num_patients = np.random.poisson(lam=arrival_rate_per_hour * simulation_duration_hours)"
      ]
    },
    {
      "cell_type": "code",
      "execution_count": 10,
      "id": "7a02226d",
      "metadata": {
        "id": "7a02226d"
      },
      "outputs": [],
      "source": [
        "#inter-arrival times (in hours) from exponential distribution\n",
        "inter_arrival_times = np.random.exponential(scale=1/arrival_rate_per_hour, size=num_patients)"
      ]
    },
    {
      "cell_type": "code",
      "source": [
        "#cumulative arrival times\n",
        "arrival_times = np.cumsum(inter_arrival_times)"
      ],
      "metadata": {
        "id": "oRA933QzK9C1"
      },
      "id": "oRA933QzK9C1",
      "execution_count": 11,
      "outputs": []
    },
    {
      "cell_type": "markdown",
      "source": [
        "Arrivals example for data verfification:"
      ],
      "metadata": {
        "id": "gDWn4odZQMeR"
      },
      "id": "gDWn4odZQMeR"
    },
    {
      "cell_type": "code",
      "source": [
        "print(\"Sample of Patient Arrival Times:\")\n",
        "for i, arrival in enumerate(arrival_times[:5], start=1):\n",
        "    hours = int(arrival)\n",
        "    minutes = int((arrival - hours) * 60)\n",
        "    print(f\"  Patient {i}: {hours} hours and {minutes} minutes after simulation start\")"
      ],
      "metadata": {
        "colab": {
          "base_uri": "https://localhost:8080/"
        },
        "id": "g0XK-ZN6LC2F",
        "outputId": "a1cc586d-b969-4e8f-d3a0-842b9001a880"
      },
      "id": "g0XK-ZN6LC2F",
      "execution_count": 13,
      "outputs": [
        {
          "output_type": "stream",
          "name": "stdout",
          "text": [
            "Sample of Patient Arrival Times:\n",
            "  Patient 1: 0 hours and 1 minutes after simulation start\n",
            "  Patient 2: 0 hours and 3 minutes after simulation start\n",
            "  Patient 3: 0 hours and 3 minutes after simulation start\n",
            "  Patient 4: 0 hours and 3 minutes after simulation start\n",
            "  Patient 5: 0 hours and 3 minutes after simulation start\n"
          ]
        }
      ]
    },
    {
      "cell_type": "markdown",
      "source": [
        "3. Assign Triage Categories with Weighted Sampling"
      ],
      "metadata": {
        "id": "-Q4fvfIYL2xU"
      },
      "id": "-Q4fvfIYL2xU"
    },
    {
      "cell_type": "code",
      "source": [
        "# triage levels and their empirical probabilities\n",
        "triage_levels = [1, 2, 3, 4, 5]\n",
        "triage_probabilities = [0.1, 0.2, 0.3, 0.25, 0.15]"
      ],
      "metadata": {
        "id": "y1NI_5p3NCsO"
      },
      "id": "y1NI_5p3NCsO",
      "execution_count": 14,
      "outputs": []
    },
    {
      "cell_type": "code",
      "source": [
        "#random assign triage categories to each patient\n",
        "assigned_triage = np.random.choice(triage_levels, size=num_patients, p=triage_probabilities)"
      ],
      "metadata": {
        "id": "piLkLw2BNHfC"
      },
      "id": "piLkLw2BNHfC",
      "execution_count": 15,
      "outputs": []
    },
    {
      "cell_type": "code",
      "source": [
        "# Display normalized frequency distribution\n",
        "print(\"Normalized triage distribution:\")\n",
        "print(pd.Series(assigned_triage).value_counts(normalize=True).sort_index())"
      ],
      "metadata": {
        "colab": {
          "base_uri": "https://localhost:8080/"
        },
        "id": "LG4mgVpgNOTh",
        "outputId": "cd4d2605-476d-4755-924b-5c01649a0563"
      },
      "id": "LG4mgVpgNOTh",
      "execution_count": 16,
      "outputs": [
        {
          "output_type": "stream",
          "name": "stdout",
          "text": [
            "Normalized triage distribution:\n",
            "1    0.106428\n",
            "2    0.193888\n",
            "3    0.268704\n",
            "4    0.276080\n",
            "5    0.154900\n",
            "Name: proportion, dtype: float64\n"
          ]
        }
      ]
    },
    {
      "cell_type": "markdown",
      "source": [
        "Visualisation of the triage distribution"
      ],
      "metadata": {
        "id": "vEWqqdeqNWZw"
      },
      "id": "vEWqqdeqNWZw"
    },
    {
      "cell_type": "code",
      "source": [
        "import matplotlib.pyplot as plt\n",
        "import seaborn as sns\n",
        "\n",
        "triage_counts = pd.Series(assigned_triage).value_counts(normalize=True).sort_index()\n",
        "triage_levels = triage_counts.index.astype(str)\n",
        "frequencies = triage_counts.values\n",
        "\n",
        "plt.figure(figsize=(8, 5))\n",
        "sns.barplot(x=triage_levels, y=frequencies, hue=triage_levels, palette=\"viridis\", dodge=False, legend=False)\n",
        "\n",
        "plt.xlabel('Triage Category', fontsize=12)\n",
        "plt.ylabel('Proportion of Patients', fontsize=12)\n",
        "plt.title('Normalized Distribution of Triage Categories', fontsize=14)\n",
        "\n",
        "#Show proportion values on top of bars\n",
        "for i, freq in enumerate(frequencies):\n",
        "    plt.text(i, freq + 0.01, f'{freq:.2f}', ha='center', fontsize=10)\n",
        "plt.ylim(0, max(frequencies) + 0.1)\n",
        "plt.show()"
      ],
      "metadata": {
        "colab": {
          "base_uri": "https://localhost:8080/",
          "height": 492
        },
        "id": "1OXBMra8NdG7",
        "outputId": "3fa0c917-58fc-4e78-84e7-26cec575f3f8"
      },
      "id": "1OXBMra8NdG7",
      "execution_count": 17,
      "outputs": [
        {
          "output_type": "display_data",
          "data": {
            "text/plain": [
              "<Figure size 800x500 with 1 Axes>"
            ],
            "image/png": "[encoded data removed]"
          },
          "metadata": {}
        }
      ]
    },
    {
      "cell_type": "markdown",
      "source": [
        "4. Simulate diagnostic testing requirements with Bernoulli Trials"
      ],
      "metadata": {
        "id": "tMDgajqTN0ls"
      },
      "id": "tMDgajqTN0ls"
    },
    {
      "cell_type": "code",
      "source": [
        "#probability of requiring diagn. testing - 30% is typical for clinical studies\n",
        "diagnostic_probability = 0.3"
      ],
      "metadata": {
        "id": "ocrljqmfN6nx"
      },
      "id": "ocrljqmfN6nx",
      "execution_count": 18,
      "outputs": []
    },
    {
      "cell_type": "code",
      "source": [
        "# binary diagnostic requirement flags to patients\n",
        "requires_diagnostics = np.random.binomial(n=1, p=diagnostic_probability, size=num_patients)"
      ],
      "metadata": {
        "id": "aalkKatXOGEx"
      },
      "id": "aalkKatXOGEx",
      "execution_count": 19,
      "outputs": []
    },
    {
      "cell_type": "code",
      "source": [
        "print(f\"Percentage of patients requiring diagnostics: {requires_diagnostics.mean() * 100:.2f}%\")"
      ],
      "metadata": {
        "colab": {
          "base_uri": "https://localhost:8080/"
        },
        "id": "UfKxLgBNOKa5",
        "outputId": "74fa1322-783a-4772-d89e-fd6503113880"
      },
      "id": "UfKxLgBNOKa5",
      "execution_count": 20,
      "outputs": [
        {
          "output_type": "stream",
          "name": "stdout",
          "text": [
            "Percentage of patients requiring diagnostics: 29.82%\n"
          ]
        }
      ]
    },
    {
      "cell_type": "markdown",
      "source": [
        "**5. Sample process durations using Triangular Distributions**\n",
        "\n",
        "to avoid zero to negative values & return array of samples."
      ],
      "metadata": {
        "id": "09AqaI3nOYVp"
      },
      "id": "09AqaI3nOYVp"
    },
    {
      "cell_type": "markdown",
      "source": [
        "parameters:\n",
        "\n",
        "*  minimum: minimum value of distribution\n",
        "*  mode: most likely (peak) value\n",
        "*  maximum: maximum value\n",
        "*  sample_size: number of samples to generate"
      ],
      "metadata": {
        "id": "OYrsHxZtO1CV"
      },
      "id": "OYrsHxZtO1CV"
    },
    {
      "cell_type": "code",
      "source": [
        "def triangular_sample(minimum, mode, maximum, sample_size):\n",
        "  samples = np.random.triangular(left=minimum, mode=mode, right=maximum, size=sample_size)\n",
        "  return np.clip(samples, a_min=0.1, a_max=None)  # ensures positive durations"
      ],
      "metadata": {
        "id": "w2WvAR25OcKL"
      },
      "id": "w2WvAR25OcKL",
      "execution_count": 21,
      "outputs": []
    },
    {
      "cell_type": "code",
      "source": [
        "# sample process durations in minutes for each patient\n",
        "\n",
        "triage_times = triangular_sample(5, 10, 15, num_patients)\n",
        "registration_times = triangular_sample(3, 7, 12, num_patients)\n",
        "consultation_times = triangular_sample(15, 25, 40, num_patients)\n",
        "diagnostic_times = triangular_sample(20, 30, 45, num_patients)\n",
        "treatment_times = triangular_sample(10, 20, 35, num_patients)"
      ],
      "metadata": {
        "id": "VcHfkoiyPQk5"
      },
      "id": "VcHfkoiyPQk5",
      "execution_count": 22,
      "outputs": []
    },
    {
      "cell_type": "code",
      "source": [
        "# setting diagnostics to 0 for pations not requiring it\n",
        "diagnostic_times *= requires_diagnostics"
      ],
      "metadata": {
        "id": "YkKwBhUaPWjJ"
      },
      "id": "YkKwBhUaPWjJ",
      "execution_count": 23,
      "outputs": []
    },
    {
      "cell_type": "code",
      "source": [
        "print(\"Sample of Consultation Times (minutes):\")\n",
        "for i, time in enumerate(consultation_times[:5], start=1):\n",
        "    print(f\"  Patient {i}: {time:.2f} minutes\")"
      ],
      "metadata": {
        "colab": {
          "base_uri": "https://localhost:8080/"
        },
        "id": "-JQJ3_4GPdGG",
        "outputId": "05bec40c-16d2-41f4-d9ee-4c5bff7fa43d"
      },
      "id": "-JQJ3_4GPdGG",
      "execution_count": 24,
      "outputs": [
        {
          "output_type": "stream",
          "name": "stdout",
          "text": [
            "Sample of Consultation Times (minutes):\n",
            "  Patient 1: 18.12 minutes\n",
            "  Patient 2: 24.90 minutes\n",
            "  Patient 3: 31.39 minutes\n",
            "  Patient 4: 24.24 minutes\n",
            "  Patient 5: 25.56 minutes\n"
          ]
        }
      ]
    },
    {
      "cell_type": "markdown",
      "source": [
        "6. Gather generated variables into chronologically ordered dataset for further simulation (both control and manipulated scenarios)"
      ],
      "metadata": {
        "id": "zVJxD8KgQ0zg"
      },
      "id": "zVJxD8KgQ0zg"
    },
    {
      "cell_type": "code",
      "source": [
        "ed_patient_data = pd.DataFrame({\n",
        "    'arrival_time_hr': arrival_times,   #hours since simulation start\n",
        "    'triage_category': assigned_triage,  #triage levels 1–5\n",
        "    'requires_diagnostics': requires_diagnostics,   #booleans\n",
        "    'triage_time_min': triage_times,  #continuous var-s, process durations in minutes\n",
        "    'registration_time_min': registration_times,\n",
        "    'consultation_time_min': consultation_times,\n",
        "    'diagnostic_time_min': diagnostic_times,\n",
        "    'treatment_time_min': treatment_times\n",
        "})"
      ],
      "metadata": {
        "id": "VqyhxNMxRIur"
      },
      "id": "VqyhxNMxRIur",
      "execution_count": 25,
      "outputs": []
    },
    {
      "cell_type": "code",
      "source": [
        "#sort dataset by arrival time to ensure the correct event sequencing\n",
        "ed_patient_data.sort_values('arrival_time_hr', inplace=True)\n",
        "ed_patient_data.reset_index(drop=True, inplace=True)"
      ],
      "metadata": {
        "id": "UFPJuMLgRVnb"
      },
      "id": "UFPJuMLgRVnb",
      "execution_count": 26,
      "outputs": []
    },
    {
      "cell_type": "code",
      "source": [
        "# how the dataset looks like (what's stored inside, not easy to analyse)\n",
        "print(ed_patient_data.head())"
      ],
      "metadata": {
        "colab": {
          "base_uri": "https://localhost:8080/"
        },
        "id": "yEONI7j-RbTf",
        "outputId": "ce3ac5fa-6a87-4041-e057-a71e61a3523a"
      },
      "id": "yEONI7j-RbTf",
      "execution_count": 27,
      "outputs": [
        {
          "output_type": "stream",
          "name": "stdout",
          "text": [
            "   arrival_time_hr  triage_category  requires_diagnostics  triage_time_min  \\\n",
            "0         0.032919                4                     0         9.234256   \n",
            "1         0.055742                2                     0        10.856518   \n",
            "2         0.059983                5                     1         8.466979   \n",
            "3         0.064223                3                     0         8.095101   \n",
            "4         0.065719                3                     1        12.978108   \n",
            "\n",
            "   registration_time_min  consultation_time_min  diagnostic_time_min  \\\n",
            "0               5.492160              18.120811             0.000000   \n",
            "1               7.590787              24.897107             0.000000   \n",
            "2               6.266324              31.391903            42.557368   \n",
            "3              10.333929              24.236401             0.000000   \n",
            "4               9.144008              25.562853            28.585121   \n",
            "\n",
            "   treatment_time_min  \n",
            "0           20.133074  \n",
            "1           28.833465  \n",
            "2           28.762714  \n",
            "3           24.143771  \n",
            "4           27.727979  \n"
          ]
        }
      ]
    },
    {
      "cell_type": "code",
      "source": [
        "#sort and reset index\n",
        "ed_patient_data.sort_values('arrival_time_hr', inplace=True)\n",
        "ed_patient_data.reset_index(drop=True, inplace=True)\n",
        "# verify with the previous one - compare\n",
        "print(ed_patient_data.head())"
      ],
      "metadata": {
        "colab": {
          "base_uri": "https://localhost:8080/"
        },
        "id": "3BjnfFLFa_A7",
        "outputId": "cc656bcc-6f4e-4c57-aeef-9fc5f7e57a21"
      },
      "id": "3BjnfFLFa_A7",
      "execution_count": 28,
      "outputs": [
        {
          "output_type": "stream",
          "name": "stdout",
          "text": [
            "   arrival_time_hr  triage_category  requires_diagnostics  triage_time_min  \\\n",
            "0         0.032919                4                     0         9.234256   \n",
            "1         0.055742                2                     0        10.856518   \n",
            "2         0.059983                5                     1         8.466979   \n",
            "3         0.064223                3                     0         8.095101   \n",
            "4         0.065719                3                     1        12.978108   \n",
            "\n",
            "   registration_time_min  consultation_time_min  diagnostic_time_min  \\\n",
            "0               5.492160              18.120811             0.000000   \n",
            "1               7.590787              24.897107             0.000000   \n",
            "2               6.266324              31.391903            42.557368   \n",
            "3              10.333929              24.236401             0.000000   \n",
            "4               9.144008              25.562853            28.585121   \n",
            "\n",
            "   treatment_time_min  \n",
            "0           20.133074  \n",
            "1           28.833465  \n",
            "2           28.762714  \n",
            "3           24.143771  \n",
            "4           27.727979  \n"
          ]
        }
      ]
    },
    {
      "cell_type": "code",
      "source": [
        "print(\"Sample of Generated Patient Data (first 5 rows):\\n\")\n",
        "\n",
        "# Select relevant columns for display\n",
        "sample = ed_patient_data.head()\n",
        "\n",
        "# Rename columns with descriptive headers for clarity\n",
        "sample = sample.rename(columns={\n",
        "    'arrival_time_hr': 'Arrival',\n",
        "    'triage_category': 'TriageCat.',\n",
        "    'requires_diagnostics': 'Needs Diagn.?',\n",
        "    'triage_time_min': 'Triage(min)',\n",
        "    'registration_time_min': 'Registr.(min)',\n",
        "    'consultation_time_min': 'Consult.(min)',\n",
        "    'diagnostic_time_min': 'Diagnostic(min)',\n",
        "    'treatment_time_min': 'Treatment(min)'\n",
        "})\n",
        "\n",
        "print(sample.to_string(index=False))"
      ],
      "metadata": {
        "colab": {
          "base_uri": "https://localhost:8080/"
        },
        "id": "_q4A3erFRv9C",
        "outputId": "7659bf8d-1eb8-45c1-8729-53bf77008772"
      },
      "id": "_q4A3erFRv9C",
      "execution_count": 29,
      "outputs": [
        {
          "output_type": "stream",
          "name": "stdout",
          "text": [
            "Sample of Generated Patient Data (first 5 rows):\n",
            "\n",
            " Arrival  TriageCat.  Needs Diagn.?  Triage(min)  Registr.(min)  Consult.(min)  Diagnostic(min)  Treatment(min)\n",
            "0.032919           4              0     9.234256       5.492160      18.120811         0.000000       20.133074\n",
            "0.055742           2              0    10.856518       7.590787      24.897107         0.000000       28.833465\n",
            "0.059983           5              1     8.466979       6.266324      31.391903        42.557368       28.762714\n",
            "0.064223           3              0     8.095101      10.333929      24.236401         0.000000       24.143771\n",
            "0.065719           3              1    12.978108       9.144008      25.562853        28.585121       27.727979\n"
          ]
        }
      ]
    },
    {
      "cell_type": "markdown",
      "source": [
        "Visuals of the dataset by triage category"
      ],
      "metadata": {
        "id": "QHImWd0aTlCg"
      },
      "id": "QHImWd0aTlCg"
    },
    {
      "cell_type": "code",
      "source": [
        "import matplotlib.patches as mpatches\n",
        "\n",
        "palette = sns.color_palette(\"Set1\", n_colors=5)\n",
        "\n",
        "\n",
        "plot_data = ed_patient_data[['triage_category', 'consultation_time_min']].copy()\n",
        "plot_data['triage_category'] = plot_data['triage_category'].astype('category')\n",
        "\n",
        "\n",
        "plt.figure(figsize=(12, 6))\n",
        "hist = sns.histplot(\n",
        "    data=plot_data,\n",
        "    x='consultation_time_min',\n",
        "    hue='triage_category',\n",
        "    multiple='stack',\n",
        "    palette=palette,\n",
        "    bins=30,\n",
        "    edgecolor='black',\n",
        "    alpha=0.75\n",
        ")\n",
        "\n",
        "plt.title('Consultation Time Distribution by Triage Category', fontsize=16)\n",
        "plt.xlabel('Consultation Time (minutes)', fontsize=13)\n",
        "plt.ylabel('Count', fontsize=13)\n",
        "plt.grid(True, linestyle='--', alpha=0.5)\n",
        "plt.tight_layout()\n",
        "\n",
        "triage_labels = ['1 - Critical', '2 - High', '3 - Moderate', '4 - Low', '5 - Minor']\n",
        "handles = [mpatches.Patch(color=palette[i], label=triage_labels[i]) for i in range(len(triage_labels))]\n",
        "\n",
        "plt.legend(handles=handles, title='Triage Category', title_fontsize=13, fontsize=11, loc='upper right')\n",
        "\n",
        "plt.show()"
      ],
      "metadata": {
        "colab": {
          "base_uri": "https://localhost:8080/",
          "height": 607
        },
        "id": "gdpbuj-pSoyw",
        "outputId": "192e1b32-fdf4-40b8-cd84-f2591d01f79c"
      },
      "id": "gdpbuj-pSoyw",
      "execution_count": 30,
      "outputs": [
        {
          "output_type": "display_data",
          "data": {
            "text/plain": [
              "<Figure size 1200x600 with 1 Axes>"
            ],
            "image/png": "[encoded data removed]"
          },
          "metadata": {}
        }
      ]
    },
    {
      "cell_type": "markdown",
      "source": [
        "# KPIs"
      ],
      "metadata": {
        "id": "rrnZ5WOVcegL"
      },
      "id": "rrnZ5WOVcegL"
    },
    {
      "cell_type": "markdown",
      "source": [
        "Collect and store KPIs across simulations"
      ],
      "metadata": {
        "id": "fhd14zP4comz"
      },
      "id": "fhd14zP4comz"
    },
    {
      "cell_type": "code",
      "source": [
        "class KPICollector:\n",
        "    def __init__(self):\n",
        "        self.waiting_times = []\n",
        "        self.length_of_stay = []\n",
        "        self.diverted_patients = 0\n",
        "        self.doctor_busy_time = 0.0\n",
        "        self.bed_busy_time = 0.0\n",
        "        self.surgical_room_busy_time = 0.0\n",
        "        self.diagnostic_room_busy_time = 0.0\n",
        "\n",
        "    def reset(self):\n",
        "        self.waiting_times.clear()\n",
        "        self.length_of_stay.clear()\n",
        "        self.diverted_patients = 0\n",
        "        self.doctor_busy_time = 0.0\n",
        "        self.bed_busy_time = 0.0\n",
        "        self.surgical_room_busy_time = 0.0\n",
        "        self.diagnostic_room_busy_time = 0.0\n",
        "\n",
        "    def aggregate(self, other):\n",
        "        self.waiting_times.extend(other.waiting_times)\n",
        "        self.length_of_stay.extend(other.length_of_stay)\n",
        "        self.diverted_patients += other.diverted_patients\n",
        "        self.doctor_busy_time += other.doctor_busy_time\n",
        "        self.bed_busy_time += other.bed_busy_time\n",
        "        self.surgical_room_busy_time += other.surgical_room_busy_time\n",
        "        self.diagnostic_room_busy_time += other.diagnostic_room_busy_time\n"
      ],
      "metadata": {
        "id": "uO-lV61fclHE"
      },
      "id": "uO-lV61fclHE",
      "execution_count": 31,
      "outputs": []
    },
    {
      "cell_type": "code",
      "source": [
        "from scipy import stats"
      ],
      "metadata": {
        "id": "nstcy2somRn1"
      },
      "id": "nstcy2somRn1",
      "execution_count": 32,
      "outputs": []
    },
    {
      "cell_type": "code",
      "source": [
        "def kpi_statistics(data):\n",
        "    if len(data) == 0:\n",
        "        return {'mean': None, 'median': None, 'mode': None, 'std_dev': None}\n",
        "    mode_val = stats.mode(data, keepdims=False).mode\n",
        "    return {\n",
        "        'mean': np.mean(data),\n",
        "        'median': np.median(data),\n",
        "        'mode': mode_val,\n",
        "        'std_dev': np.std(data, ddof=1)\n",
        "    }"
      ],
      "metadata": {
        "id": "q0k43EV4l7-G"
      },
      "id": "q0k43EV4l7-G",
      "execution_count": 33,
      "outputs": []
    },
    {
      "cell_type": "code",
      "source": [
        "def utilization_stats(label, busy_time, capacity, sim_hours):\n",
        "    utilization_pct = (busy_time / (capacity * sim_hours)) * 100\n",
        "    print(f\"{label}: {utilization_pct:.2f}% average utilization\")"
      ],
      "metadata": {
        "id": "FpG2_Et5vEso"
      },
      "id": "FpG2_Et5vEso",
      "execution_count": 34,
      "outputs": []
    },
    {
      "cell_type": "code",
      "source": [
        "def print_resource_utilization(replication_results, scenario_name):\n",
        "    num_replications = len(replication_results)\n",
        "\n",
        "    total_doctor_busy = sum(res.doctor_busy_time for res in replication_results)\n",
        "    total_bed_busy = sum(res.bed_busy_time for res in replication_results)\n",
        "    total_surgical_busy = sum(res.surgical_room_busy_time for res in replication_results)\n",
        "    total_diagnostic_busy = sum(res.diagnostic_room_busy_time for res in replication_results)\n",
        "\n",
        "    print(f\"\\n{scenario_name} Resource Utilizations:\")\n",
        "    utilization_stats(\"Doctor Utilization\", total_doctor_busy, DOCTOR_CAPACITY, SIM_TIME_HOURS * num_replications)\n",
        "    utilization_stats(\"Bed Utilization\", total_bed_busy, BED_CAPACITY, SIM_TIME_HOURS * num_replications)\n",
        "    utilization_stats(\"Surgical Room Utilization\", total_surgical_busy, SURGICAL_ROOM_CAPACITY, SIM_TIME_HOURS * num_replications)\n",
        "    utilization_stats(\"Diagnostic Room Utilization\", total_diagnostic_busy, DIAGNOSTIC_ROOM_CAPASITY, SIM_TIME_HOURS * num_replications)"
      ],
      "metadata": {
        "id": "3OT7B3gw4Yx6"
      },
      "id": "3OT7B3gw4Yx6",
      "execution_count": 35,
      "outputs": []
    },
    {
      "cell_type": "code",
      "source": [
        "def print_kpi_stats(label, stats):\n",
        "    print(f\"{label}:\")\n",
        "    print(f\"  Mean   : {float(stats['mean']):.2f} hours\")\n",
        "    print(f\"  Median : {float(stats['median']):.2f} hours\")\n",
        "    print(f\"  Mode   : {float(stats['mode']):.2f} hours\")\n",
        "    print(f\"  Std Dev: {float(stats['std_dev']):.2f} hours\\n\")\n"
      ],
      "metadata": {
        "id": "GR3ZxrC8TVwu"
      },
      "id": "GR3ZxrC8TVwu",
      "execution_count": 36,
      "outputs": []
    },
    {
      "cell_type": "markdown",
      "source": [
        "# Control scenario simulation"
      ],
      "metadata": {
        "id": "WlECVt6kaUGt"
      },
      "id": "WlECVt6kaUGt"
    },
    {
      "cell_type": "markdown",
      "source": [
        "1. Setting the baseline scenario basic resources (including human resources) capacities and data assumptions"
      ],
      "metadata": {
        "id": "pdmwaGN1efvI"
      },
      "id": "pdmwaGN1efvI"
    },
    {
      "cell_type": "code",
      "source": [
        "DOCTOR_CAPACITY = 4\n",
        "BED_CAPACITY = 15\n",
        "SURGICAL_ROOM_CAPACITY = 1\n",
        "DIAGNOSTIC_ROOM_CAPASITY = 5"
      ],
      "metadata": {
        "id": "7iMEXWBetHG0"
      },
      "id": "7iMEXWBetHG0",
      "execution_count": 37,
      "outputs": []
    },
    {
      "cell_type": "code",
      "source": [
        "SIM_TIME_HOURS = 48 # two days simulation"
      ],
      "metadata": {
        "id": "F1JSvsw1euw8"
      },
      "id": "F1JSvsw1euw8",
      "execution_count": 38,
      "outputs": []
    },
    {
      "cell_type": "markdown",
      "source": [
        "## Patient process"
      ],
      "metadata": {
        "id": "0gzOQ-6EfPpM"
      },
      "id": "0gzOQ-6EfPpM"
    },
    {
      "cell_type": "markdown",
      "source": [
        "journey of one patient within ED. Max steps are:\n",
        "\n",
        "\n",
        "1. triage identification\n",
        "2. registration *time resource\n",
        "3. consultation *doctor, time resource\n",
        "4. diagnostics *, doctor, capacity of diagnostical rooms/equipment, time resource\n",
        "5. admission decision n possible treatment incl. surgery *bed + surgical room + doctor, time capacity\n",
        "\n"
      ],
      "metadata": {
        "id": "K3p7rA-Bgaek"
      },
      "id": "K3p7rA-Bgaek"
    },
    {
      "cell_type": "code",
      "source": [
        "def patient_process(env, patient_id, patient_data, doctors, beds, diagnostic_rooms, surgical_rooms, kpi):\n",
        "\n",
        "    arrival_time = patient_data.loc[patient_id, 'arrival_time_hr']\n",
        "    #wait for arrival\n",
        "    yield env.timeout(max(0, arrival_time - env.now))\n",
        "\n",
        "    start_time = env.now\n",
        "\n",
        "    # Triage identif. and registration(assumed unconstrained)\n",
        "    yield env.timeout(patient_data.loc[patient_id, 'triage_time_min'] / 60)\n",
        "    yield env.timeout(patient_data.loc[patient_id, 'registration_time_min'] / 60)\n",
        "\n",
        "    #Consultation\n",
        "    with doctors.request() as req:\n",
        "        yield req\n",
        "        wait_time = env.now - start_time\n",
        "        kpi.waiting_times.append(wait_time)\n",
        "        consult_duration = patient_data.loc[patient_id, 'consultation_time_min'] / 60\n",
        "        kpi.doctor_busy_time += consult_duration\n",
        "        yield env.timeout(consult_duration)\n",
        "\n",
        "    # Diagnostics / if required\n",
        "    if patient_data.loc[patient_id, 'requires_diagnostics'] == 1:\n",
        "        with diagnostic_rooms.request() as req:\n",
        "            yield req\n",
        "            diag_duration = patient_data.loc[patient_id, 'diagnostic_time_min'] / 60\n",
        "            kpi.diagnostic_room_busy_time += diag_duration\n",
        "            yield env.timeout(diag_duration)\n",
        "\n",
        "    # admission decision / (30% admitted)\n",
        "    admitted = np.random.rand() < 0.3\n",
        "\n",
        "    if admitted:\n",
        "        # bed\n",
        "        with beds.request() as bed_req:\n",
        "            bed_result = yield bed_req | env.timeout(0)  # Non-blocking bed request\n",
        "            if bed_req not in bed_result:\n",
        "                # No beds => patient diverted\n",
        "                kpi.diverted_patients += 1\n",
        "                kpi.length_of_stay.append(env.now - start_time)\n",
        "                return\n",
        "\n",
        "            # decide boolean if surgery is needed /50% of admitted require surgery\n",
        "            surgery_needed = np.random.rand() < 0.5\n",
        "\n",
        "            if surgery_needed:\n",
        "                with surgical_rooms.request() as surg_req:\n",
        "                    yield surg_req\n",
        "                    surgery_duration = patient_data.loc[patient_id, 'surgery_time_min'] / 60\n",
        "                    kpi.surgical_room_busy_time += surgery_duration\n",
        "                    yield env.timeout(surgery_duration)\n",
        "\n",
        "            # treatment duration after surgery || treatment admitted non-surgical patients\n",
        "            treatment_duration = patient_data.loc[patient_id, 'treatment_time_min'] / 60\n",
        "            kpi.bed_busy_time += treatment_duration\n",
        "            yield env.timeout(treatment_duration)\n",
        "\n",
        "    else:\n",
        "        # treatment - no bed or surgical room needed\n",
        "        yield env.timeout(patient_data.loc[patient_id, 'treatment_time_min'] / 60)\n",
        "\n",
        "    # total LOS\n",
        "    kpi.length_of_stay.append(env.now - start_time)\n"
      ],
      "metadata": {
        "id": "ios3jHYmgR3I"
      },
      "id": "ios3jHYmgR3I",
      "execution_count": 39,
      "outputs": []
    },
    {
      "cell_type": "markdown",
      "source": [
        "Changes for initial dataframe to fit the patient process with ***surgery***"
      ],
      "metadata": {
        "id": "RDY-B-p3j-vj"
      },
      "id": "RDY-B-p3j-vj"
    },
    {
      "cell_type": "code",
      "source": [
        "num_patients = len(ed_patient_data)\n",
        "\n",
        "ed_patient_data['surgery_time_min'] = 0.0\n",
        "\n",
        "# 50% require surgery\n",
        "surgery_mask = np.random.binomial(1, 0.5, num_patients).astype(bool)\n",
        "\n",
        "#TriangularDistribution for surgery time: min=60, mode=120, max=180 minutes\n",
        "surgery_times = np.random.triangular(left=60, mode=120, right=180, size=num_patients)\n",
        "\n",
        "# Assign surgery times only for patients selected for surgery\n",
        "ed_patient_data.loc[surgery_mask, 'surgery_time_min'] = surgery_times[surgery_mask]"
      ],
      "metadata": {
        "id": "4iTvxNPokEvd"
      },
      "id": "4iTvxNPokEvd",
      "execution_count": 40,
      "outputs": []
    },
    {
      "cell_type": "markdown",
      "source": [
        "# Simulation function (will use also for manipulated *consitions* later)"
      ],
      "metadata": {
        "id": "Ln8WXQVZh5d1"
      },
      "id": "Ln8WXQVZh5d1"
    },
    {
      "cell_type": "code",
      "source": [
        "def run_control_simulation(patient_data, run_time=SIM_TIME_HOURS):\n",
        "    import simpy\n",
        "    env = simpy.Environment()\n",
        "\n",
        "    doctors = simpy.Resource(env, capacity=DOCTOR_CAPACITY)\n",
        "    beds = simpy.Resource(env, capacity=BED_CAPACITY)\n",
        "    surgical_rooms = simpy.Resource(env, capacity=SURGICAL_ROOM_CAPACITY)\n",
        "    diagnostic_rooms = simpy.Resource(env, capacity=DIAGNOSTIC_ROOM_CAPASITY)\n",
        "\n",
        "    kpi = KPICollector()\n",
        "\n",
        "    for patient_id in patient_data.index:\n",
        "        env.process(patient_process(env, patient_id, patient_data, doctors, beds, diagnostic_rooms, surgical_rooms, kpi))\n",
        "\n",
        "    env.run(until=run_time)\n",
        "\n",
        "    return kpi"
      ],
      "metadata": {
        "id": "XQnoj73Hk4y-"
      },
      "id": "XQnoj73Hk4y-",
      "execution_count": 41,
      "outputs": []
    },
    {
      "cell_type": "markdown",
      "source": [
        "Run simulation  100 times"
      ],
      "metadata": {
        "id": "nF3PQ2G7jGuo"
      },
      "id": "nF3PQ2G7jGuo"
    },
    {
      "cell_type": "code",
      "source": [
        "num_replications = 100\n",
        "replication_results = []\n",
        "\n",
        "for i in range(num_replications):\n",
        "    kpi = run_control_simulation(ed_patient_data, run_time=SIM_TIME_HOURS)\n",
        "    replication_results.append(kpi)\n",
        "\n",
        "#Aggregate KPIs from all replications\n",
        "all_waiting_times = []\n",
        "all_length_of_stay = []\n",
        "total_diverted = 0\n",
        "\n",
        "for res in replication_results:\n",
        "    all_waiting_times.extend(res.waiting_times)\n",
        "    all_length_of_stay.extend(res.length_of_stay)\n",
        "    total_diverted += res.diverted_patients"
      ],
      "metadata": {
        "id": "1qcot6QUk8I8"
      },
      "id": "1qcot6QUk8I8",
      "execution_count": 53,
      "outputs": []
    },
    {
      "cell_type": "markdown",
      "source": [
        "# KPI statistics  on control scenario"
      ],
      "metadata": {
        "id": "6Oas7ozAlxJ6"
      },
      "id": "6Oas7ozAlxJ6"
    },
    {
      "cell_type": "code",
      "source": [
        "# Calculate aggregated statistics\n",
        "waiting_stats = kpi_statistics(all_waiting_times)\n",
        "los_stats = kpi_statistics(all_length_of_stay)"
      ],
      "metadata": {
        "id": "fgDaVxyCl3p1"
      },
      "id": "fgDaVxyCl3p1",
      "execution_count": 54,
      "outputs": []
    },
    {
      "cell_type": "code",
      "source": [
        "print_kpi_stats(\"Aggregated Waiting Time Statistics\", waiting_stats)\n",
        "print_kpi_stats(\"Aggregated Length of Stay Statistics\", los_stats)\n",
        "print(f\"Aggregated Total Diverted Patients: {total_diverted}\\n\")"
      ],
      "metadata": {
        "colab": {
          "base_uri": "https://localhost:8080/"
        },
        "id": "JlmUv-kzmAT1",
        "outputId": "721e9273-c9a7-40ab-ee2d-55f0e66d83dd"
      },
      "id": "JlmUv-kzmAT1",
      "execution_count": 55,
      "outputs": [
        {
          "output_type": "stream",
          "name": "stdout",
          "text": [
            "Aggregated Waiting Time Statistics:\n",
            "  Mean   : 18.90 hours\n",
            "  Median : 19.11 hours\n",
            "  Mode   : 0.25 hours\n",
            "  Std Dev: 10.81 hours\n",
            "\n",
            "Aggregated Length of Stay Statistics:\n",
            "  Mean   : 19.89 hours\n",
            "  Median : 20.20 hours\n",
            "  Mode   : 0.88 hours\n",
            "  Std Dev: 10.62 hours\n",
            "\n",
            "Aggregated Total Diverted Patients: 1245\n",
            "\n"
          ]
        }
      ]
    },
    {
      "cell_type": "code",
      "source": [
        "print_resource_utilization(replication_results, \"Control Scenario\")"
      ],
      "metadata": {
        "colab": {
          "base_uri": "https://localhost:8080/"
        },
        "id": "4_8UDSuO2HyY",
        "outputId": "8ef37bd4-2948-46e2-884c-921d4b66a847"
      },
      "id": "4_8UDSuO2HyY",
      "execution_count": 56,
      "outputs": [
        {
          "output_type": "stream",
          "name": "stdout",
          "text": [
            "\n",
            "Control Scenario Resource Utilizations:\n",
            "Doctor Utilization: 99.80% average utilization\n",
            "Bed Utilization: 5.22% average utilization\n",
            "Surgical Room Utilization: 94.00% average utilization\n",
            "Diagnostic Room Utilization: 28.39% average utilization\n"
          ]
        }
      ]
    },
    {
      "cell_type": "markdown",
      "source": [
        "# Manipulated 1 - fast track for minor cases"
      ],
      "metadata": {
        "id": "H2_tQUdkvxIk"
      },
      "id": "H2_tQUdkvxIk"
    },
    {
      "cell_type": "code",
      "source": [
        "FAST_TRACK_DOCTOR_CAPACITY = 5"
      ],
      "metadata": {
        "id": "-_fnllLUv1PX"
      },
      "id": "-_fnllLUv1PX",
      "execution_count": 47,
      "outputs": []
    },
    {
      "cell_type": "markdown",
      "source": [
        "### patient process with a fast track"
      ],
      "metadata": {
        "id": "n7Hs-Qx0zWms"
      },
      "id": "n7Hs-Qx0zWms"
    },
    {
      "cell_type": "code",
      "source": [
        "def patient_process_fast_track(env, patient_id, patient_data, doctors, beds, diagnostic_rooms, surgical_rooms, fast_track_doctors, kpi):\n",
        "    arrival = patient_data.loc[patient_id, 'arrival_time_hr']\n",
        "    yield env.timeout(max(0, arrival - env.now))\n",
        "\n",
        "    start_time = env.now\n",
        "\n",
        "    # Triage and registration\n",
        "    yield env.timeout(patient_data.loc[patient_id, 'triage_time_min'] / 60)\n",
        "    yield env.timeout(patient_data.loc[patient_id, 'registration_time_min'] / 60)\n",
        "\n",
        "    triage_cat = patient_data.loc[patient_id, 'triage_category']\n",
        "\n",
        "    # Doctor pool selection\n",
        "    if triage_cat in [4, 5]:\n",
        "        doctor_resource = fast_track_doctors\n",
        "    else:\n",
        "        doctor_resource = doctors\n",
        "\n",
        "    # Consultation\n",
        "    with doctor_resource.request() as req:\n",
        "        yield req\n",
        "        wait_time = env.now - start_time\n",
        "        kpi.waiting_times.append(wait_time)\n",
        "        duration = patient_data.loc[patient_id, 'consultation_time_min'] / 60\n",
        "        kpi.doctor_busy_time += duration\n",
        "        yield env.timeout(duration)\n",
        "\n",
        "    # Diagnostics if needed\n",
        "    if patient_data.loc[patient_id, 'requires_diagnostics'] == 1:\n",
        "        with diagnostic_rooms.request() as req:\n",
        "            yield req\n",
        "            duration = patient_data.loc[patient_id, 'diagnostic_time_min'] / 60\n",
        "            kpi.diagnostic_room_busy_time += duration\n",
        "            yield env.timeout(duration)\n",
        "\n",
        "    # Admission decision (30%)\n",
        "    admitted = np.random.rand() < 0.3\n",
        "    if admitted:\n",
        "        with beds.request() as req:\n",
        "            result = yield req | env.timeout(0)  # Non-blocking bed request\n",
        "            if req not in result:\n",
        "                kpi.diverted_patients += 1\n",
        "                kpi.length_of_stay.append(env.now - start_time)\n",
        "                return\n",
        "\n",
        "            # Surgery decision for admitted patients (50% chance)\n",
        "            surgery_needed = np.random.rand() < 0.5\n",
        "            if surgery_needed:\n",
        "                with surgical_rooms.request() as surg_req:\n",
        "                    yield surg_req\n",
        "                    surgery_duration = patient_data.loc[patient_id, 'surgery_time_min'] / 60\n",
        "                    kpi.surgical_room_busy_time += surgery_duration\n",
        "                    yield env.timeout(surgery_duration)\n",
        "\n",
        "            # Treatment after surgery or admitted non-surgical patients\n",
        "            treatment_duration = patient_data.loc[patient_id, 'treatment_time_min'] / 60\n",
        "            kpi.bed_busy_time += treatment_duration\n",
        "            yield env.timeout(treatment_duration)\n",
        "    else:\n",
        "        # Treatment without admission (no bed/surgery)\n",
        "        yield env.timeout(patient_data.loc[patient_id, 'treatment_time_min'] / 60)\n",
        "\n",
        "    kpi.length_of_stay.append(env.now - start_time)\n"
      ],
      "metadata": {
        "id": "rZo3YY-jzRiM"
      },
      "id": "rZo3YY-jzRiM",
      "execution_count": 48,
      "outputs": []
    },
    {
      "cell_type": "markdown",
      "source": [
        "### fast track sim runner"
      ],
      "metadata": {
        "id": "0B-HammPzwvA"
      },
      "id": "0B-HammPzwvA"
    },
    {
      "cell_type": "code",
      "source": [
        "def run_fast_track_simulation(patient_data, run_time=SIM_TIME_HOURS):\n",
        "    import simpy\n",
        "    env = simpy.Environment()\n",
        "\n",
        "    doctors = simpy.Resource(env, capacity=DOCTOR_CAPACITY)\n",
        "    fast_track_doctors = simpy.Resource(env, capacity=FAST_TRACK_DOCTOR_CAPACITY)\n",
        "    beds = simpy.Resource(env, capacity=BED_CAPACITY)\n",
        "    surgical_rooms = simpy.Resource(env, capacity=SURGICAL_ROOM_CAPACITY)\n",
        "    diagnostic_rooms = simpy.Resource(env, capacity=DIAGNOSTIC_ROOM_CAPASITY)\n",
        "\n",
        "    kpi = KPICollector()\n",
        "\n",
        "    for patient_id in patient_data.index:\n",
        "        env.process(patient_process_fast_track(env, patient_id, patient_data, doctors, beds,\n",
        "                                              diagnostic_rooms, surgical_rooms, fast_track_doctors, kpi))\n",
        "\n",
        "    env.run(until=run_time)\n",
        "\n",
        "    return kpi"
      ],
      "metadata": {
        "id": "4Jhn38GIzuwl"
      },
      "id": "4Jhn38GIzuwl",
      "execution_count": 49,
      "outputs": []
    },
    {
      "cell_type": "code",
      "source": [
        "num_replications = 100\n",
        "replication_results_ft = []\n",
        "\n",
        "for i in range(num_replications):\n",
        "    kpi = run_fast_track_simulation(ed_patient_data, run_time=SIM_TIME_HOURS)\n",
        "    replication_results_ft.append(kpi)"
      ],
      "metadata": {
        "id": "umqVVZsk02Td"
      },
      "id": "umqVVZsk02Td",
      "execution_count": 52,
      "outputs": []
    },
    {
      "cell_type": "markdown",
      "source": [
        "# KPI stats on scen1"
      ],
      "metadata": {
        "id": "MlFFuRuBz_SR"
      },
      "id": "MlFFuRuBz_SR"
    },
    {
      "cell_type": "code",
      "source": [
        "all_waiting_times_ft = []\n",
        "all_length_of_stay_ft = []\n",
        "total_diverted_ft = 0\n",
        "\n",
        "for res in replication_results_ft:\n",
        "    all_waiting_times_ft.extend(res.waiting_times)\n",
        "    all_length_of_stay_ft.extend(res.length_of_stay)\n",
        "    total_diverted_ft += res.diverted_patients"
      ],
      "metadata": {
        "id": "dYSgko1W0zXE"
      },
      "id": "dYSgko1W0zXE",
      "execution_count": 51,
      "outputs": []
    },
    {
      "cell_type": "code",
      "source": [
        "\n",
        "waiting_stats_ft = kpi_statistics(all_waiting_times_ft)\n",
        "los_stats_ft = kpi_statistics(all_length_of_stay_ft)\n"
      ],
      "metadata": {
        "id": "KWH0oINt0AxM"
      },
      "id": "KWH0oINt0AxM",
      "execution_count": 57,
      "outputs": []
    },
    {
      "cell_type": "code",
      "source": [
        "print_kpi_stats(\"Fast-Track Aggregated Waiting Time Statistics\", waiting_stats_ft)\n",
        "print_kpi_stats(\"Fast-Track Aggregated Length of Stay Statistics\", los_stats_ft)\n",
        "print(f\"Fast-Track Aggregated Total Diverted Patients: {total_diverted_ft}\\n\")"
      ],
      "metadata": {
        "colab": {
          "base_uri": "https://localhost:8080/"
        },
        "id": "nSViFlO90ud0",
        "outputId": "d7153651-44aa-4ac0-e255-1d8218699164"
      },
      "id": "nSViFlO90ud0",
      "execution_count": 58,
      "outputs": [
        {
          "output_type": "stream",
          "name": "stdout",
          "text": [
            "Fast-Track Aggregated Waiting Time Statistics:\n",
            "  Mean   : 10.76 hours\n",
            "  Median : 8.94 hours\n",
            "  Mode   : 0.21 hours\n",
            "  Std Dev: 7.51 hours\n",
            "\n",
            "Fast-Track Aggregated Length of Stay Statistics:\n",
            "  Mean   : 11.92 hours\n",
            "  Median : 10.16 hours\n",
            "  Mode   : 0.88 hours\n",
            "  Std Dev: 7.49 hours\n",
            "\n",
            "Fast-Track Aggregated Total Diverted Patients: 1248\n",
            "\n"
          ]
        }
      ]
    },
    {
      "cell_type": "code",
      "source": [
        "print_resource_utilization(replication_results, \"Control Scenario\")\n",
        "print_resource_utilization(replication_results_ft, \"Fast-Track Scenario\")"
      ],
      "metadata": {
        "colab": {
          "base_uri": "https://localhost:8080/"
        },
        "id": "004788dR3vBC",
        "outputId": "1c5c304e-0465-4abf-c2ba-16f5e5bf22f0"
      },
      "id": "004788dR3vBC",
      "execution_count": 59,
      "outputs": [
        {
          "output_type": "stream",
          "name": "stdout",
          "text": [
            "\n",
            "Control Scenario Resource Utilizations:\n",
            "Doctor Utilization: 99.80% average utilization\n",
            "Bed Utilization: 5.22% average utilization\n",
            "Surgical Room Utilization: 94.00% average utilization\n",
            "Diagnostic Room Utilization: 28.39% average utilization\n",
            "\n",
            "Fast-Track Scenario Resource Utilizations:\n",
            "Doctor Utilization: 194.20% average utilization\n",
            "Bed Utilization: 5.32% average utilization\n",
            "Surgical Room Utilization: 99.00% average utilization\n",
            "Diagnostic Room Utilization: 55.76% average utilization\n"
          ]
        }
      ]
    },
    {
      "cell_type": "markdown",
      "source": [
        "# Manipulated scenario 2 - additional sugical room n diagnostical equipment"
      ],
      "metadata": {
        "id": "a56pRmZs48Ql"
      },
      "id": "a56pRmZs48Ql"
    },
    {
      "cell_type": "code",
      "source": [
        "SCEN2_SURGICAL_ROOM_CAPACITY = 2 #+1\n",
        "SCEN2_DIAGNOSTIC_ROOM_CAPACITY = 7 #+2\n",
        "SCEN2_DOCTOR_CAPACITY = 5  #+1"
      ],
      "metadata": {
        "id": "cnDqoHFT5H2n"
      },
      "id": "cnDqoHFT5H2n",
      "execution_count": 60,
      "outputs": []
    },
    {
      "cell_type": "markdown",
      "source": [
        "## Patient process is the same as baseline"
      ],
      "metadata": {
        "id": "Bpfp50db5UeG"
      },
      "id": "Bpfp50db5UeG"
    },
    {
      "cell_type": "markdown",
      "source": [
        "## runner of simulation function new to accumulate data"
      ],
      "metadata": {
        "id": "o6Isd6Sk5cT5"
      },
      "id": "o6Isd6Sk5cT5"
    },
    {
      "cell_type": "code",
      "source": [
        "def run_scenario2_simulation(patient_data, run_time=SIM_TIME_HOURS):\n",
        "    import simpy\n",
        "    env = simpy.Environment()\n",
        "\n",
        "    doctors = simpy.Resource(env, capacity=SCEN2_DOCTOR_CAPACITY)\n",
        "    beds = simpy.Resource(env, capacity=BED_CAPACITY)  # no change to beds\n",
        "    surgical_rooms = simpy.Resource(env, capacity=SCEN2_SURGICAL_ROOM_CAPACITY)\n",
        "    diagnostic_rooms = simpy.Resource(env, capacity=SCEN2_DIAGNOSTIC_ROOM_CAPACITY)\n",
        "\n",
        "    kpi = KPICollector()\n",
        "\n",
        "    for patient_id in patient_data.index:\n",
        "        env.process(patient_process(env, patient_id, patient_data, doctors, beds, diagnostic_rooms, surgical_rooms, kpi))\n",
        "\n",
        "    env.run(until=run_time)\n",
        "\n",
        "    return kpi\n"
      ],
      "metadata": {
        "id": "zEzxnyrn6PEU"
      },
      "id": "zEzxnyrn6PEU",
      "execution_count": 61,
      "outputs": []
    },
    {
      "cell_type": "code",
      "source": [
        "num_replications = 100\n",
        "replication_results_scen2 = []\n",
        "\n",
        "for i in range(num_replications):\n",
        "    kpi = run_scenario2_simulation(ed_patient_data, run_time=SIM_TIME_HOURS)\n",
        "    replication_results_scen2.append(kpi)"
      ],
      "metadata": {
        "id": "UOZT_k656UAJ"
      },
      "id": "UOZT_k656UAJ",
      "execution_count": 62,
      "outputs": []
    },
    {
      "cell_type": "markdown",
      "source": [
        "# Scen2 KPIs"
      ],
      "metadata": {
        "id": "iAJE9k3-6QDx"
      },
      "id": "iAJE9k3-6QDx"
    },
    {
      "cell_type": "code",
      "source": [
        "all_waiting_times_s2 = []\n",
        "all_length_of_stay_s2 = []\n",
        "total_diverted_s2 = 0\n",
        "\n",
        "for res in replication_results_scen2:\n",
        "    all_waiting_times_s2.extend(res.waiting_times)\n",
        "    all_length_of_stay_s2.extend(res.length_of_stay)\n",
        "    total_diverted_s2 += res.diverted_patients"
      ],
      "metadata": {
        "id": "d6Ju8qnz6ZJH"
      },
      "id": "d6Ju8qnz6ZJH",
      "execution_count": 63,
      "outputs": []
    },
    {
      "cell_type": "code",
      "source": [
        "waiting_stats_s2 = kpi_statistics(all_waiting_times_s2)\n",
        "los_stats_s2 = kpi_statistics(all_length_of_stay_s2)"
      ],
      "metadata": {
        "id": "1mPODGaC6a-c"
      },
      "id": "1mPODGaC6a-c",
      "execution_count": 64,
      "outputs": []
    },
    {
      "cell_type": "code",
      "source": [
        "\n",
        "print_kpi_stats(\"Scenario 2 Aggregated Waiting Time Statistics\", waiting_stats_s2)\n",
        "print_kpi_stats(\"Scenario 2 Aggregated Length of Stay Statistics\", los_stats_s2)\n",
        "print(f\"Scenario 2 Aggregated Total Diverted Patients: {total_diverted_s2}\\n\")"
      ],
      "metadata": {
        "colab": {
          "base_uri": "https://localhost:8080/"
        },
        "id": "f2zGwMsQ6cK7",
        "outputId": "01054b22-187e-4e11-eb4a-faf5c607ea35"
      },
      "id": "f2zGwMsQ6cK7",
      "execution_count": 65,
      "outputs": [
        {
          "output_type": "stream",
          "name": "stdout",
          "text": [
            "Scenario 2 Aggregated Waiting Time Statistics:\n",
            "  Mean   : 17.49 hours\n",
            "  Median : 17.43 hours\n",
            "  Mode   : 0.22 hours\n",
            "  Std Dev: 9.91 hours\n",
            "\n",
            "Scenario 2 Aggregated Length of Stay Statistics:\n",
            "  Mean   : 18.22 hours\n",
            "  Median : 18.12 hours\n",
            "  Mode   : 0.88 hours\n",
            "  Std Dev: 9.66 hours\n",
            "\n",
            "Scenario 2 Aggregated Total Diverted Patients: 67\n",
            "\n"
          ]
        }
      ]
    },
    {
      "cell_type": "code",
      "source": [
        "print_resource_utilization(replication_results_scen2, \"Scenario 2\")"
      ],
      "metadata": {
        "colab": {
          "base_uri": "https://localhost:8080/"
        },
        "id": "No8xEm6z6fOD",
        "outputId": "93edb0e0-c598-4416-bb07-0c1e3d1bdaad"
      },
      "id": "No8xEm6z6fOD",
      "execution_count": 66,
      "outputs": [
        {
          "output_type": "stream",
          "name": "stdout",
          "text": [
            "\n",
            "Scenario 2 Resource Utilizations:\n",
            "Doctor Utilization: 125.00% average utilization\n",
            "Bed Utilization: 7.78% average utilization\n",
            "Surgical Room Utilization: 153.44% average utilization\n",
            "Diagnostic Room Utilization: 33.46% average utilization\n"
          ]
        }
      ]
    },
    {
      "cell_type": "code",
      "source": [
        "print_resource_utilization(replication_results, \"Control Scenario\")\n",
        "print_resource_utilization(replication_results_ft, \"Fast-Track Scenario\")"
      ],
      "metadata": {
        "colab": {
          "base_uri": "https://localhost:8080/"
        },
        "id": "EUBUF9uq6nCY",
        "outputId": "727d494b-7cf0-4b13-85e6-db7e2a951404"
      },
      "id": "EUBUF9uq6nCY",
      "execution_count": 67,
      "outputs": [
        {
          "output_type": "stream",
          "name": "stdout",
          "text": [
            "\n",
            "Control Scenario Resource Utilizations:\n",
            "Doctor Utilization: 99.80% average utilization\n",
            "Bed Utilization: 5.22% average utilization\n",
            "Surgical Room Utilization: 94.00% average utilization\n",
            "Diagnostic Room Utilization: 28.39% average utilization\n",
            "\n",
            "Fast-Track Scenario Resource Utilizations:\n",
            "Doctor Utilization: 194.20% average utilization\n",
            "Bed Utilization: 5.32% average utilization\n",
            "Surgical Room Utilization: 99.00% average utilization\n",
            "Diagnostic Room Utilization: 55.76% average utilization\n"
          ]
        }
      ]
    },
    {
      "cell_type": "markdown",
      "source": [
        "# Manipulated Scenario 3 - mixed"
      ],
      "metadata": {
        "id": "25koo783NUQg"
      },
      "id": "25koo783NUQg"
    },
    {
      "cell_type": "markdown",
      "source": [
        "parameters are set again (not to forget, plus can do them const above)"
      ],
      "metadata": {
        "id": "9cG3kr8TXoc8"
      },
      "id": "9cG3kr8TXoc8"
    },
    {
      "cell_type": "code",
      "source": [
        "SCEN2_SURGICAL_ROOM_CAPACITY = 2\n",
        "SCEN2_DIAGNOSTIC_ROOM_CAPACITY = 7\n",
        "SCEN2_DOCTOR_CAPACITY = 5\n",
        "FAST_TRACK_DOCTOR_CAPACITY = 5     #from scen1, fast track doctors\n",
        "BED_CAPACITY = 15"
      ],
      "metadata": {
        "id": "Ri-LOzaRNU7A"
      },
      "id": "Ri-LOzaRNU7A",
      "execution_count": 68,
      "outputs": []
    },
    {
      "cell_type": "markdown",
      "source": [],
      "metadata": {
        "id": "-F6QdS39XuLK"
      },
      "id": "-F6QdS39XuLK"
    },
    {
      "cell_type": "code",
      "source": [
        "def run_scenario3_simulation(patient_data, run_time=SIM_TIME_HOURS):\n",
        "    env = simpy.Environment()\n",
        "\n",
        "    doctors = simpy.Resource(env, capacity=SCEN2_DOCTOR_CAPACITY)\n",
        "    fast_track_doctors = simpy.Resource(env, capacity=FAST_TRACK_DOCTOR_CAPACITY)\n",
        "    beds = simpy.Resource(env, capacity=BED_CAPACITY)\n",
        "    surgical_rooms = simpy.Resource(env, capacity=SCEN2_SURGICAL_ROOM_CAPACITY)\n",
        "    diagnostic_rooms = simpy.Resource(env, capacity=SCEN2_DIAGNOSTIC_ROOM_CAPACITY)\n",
        "\n",
        "    kpi = KPICollector()\n",
        "\n",
        "    for patient_id in patient_data.index:\n",
        "        env.process(patient_process_fast_track(env, patient_id, patient_data,\n",
        "                                              doctors, beds, diagnostic_rooms,\n",
        "                                              surgical_rooms, fast_track_doctors, kpi))\n",
        "\n",
        "    env.run(until=run_time)\n",
        "\n",
        "    return kpi\n"
      ],
      "metadata": {
        "id": "Iq65z8-cQCe3"
      },
      "id": "Iq65z8-cQCe3",
      "execution_count": 69,
      "outputs": []
    },
    {
      "cell_type": "code",
      "source": [
        "\n",
        "num_replications = 100\n",
        "replication_results_s3 = []\n",
        "\n",
        "for i in range(num_replications):\n",
        "    kpi = run_scenario3_simulation(ed_patient_data, run_time=SIM_TIME_HOURS)\n",
        "    replication_results_s3.append(kpi)\n"
      ],
      "metadata": {
        "id": "Yqr04RLjP8Ax"
      },
      "id": "Yqr04RLjP8Ax",
      "execution_count": 70,
      "outputs": []
    },
    {
      "cell_type": "code",
      "source": [
        "\n",
        "all_waiting_times_s3 = []\n",
        "all_length_of_stay_s3 = []\n",
        "total_diverted_s3 = 0"
      ],
      "metadata": {
        "id": "lBU67C73VlFr"
      },
      "id": "lBU67C73VlFr",
      "execution_count": 71,
      "outputs": []
    },
    {
      "cell_type": "code",
      "source": [
        "for res in replication_results_s3:\n",
        "    all_waiting_times_s3.extend(res.waiting_times)\n",
        "    all_length_of_stay_s3.extend(res.length_of_stay)\n",
        "    total_diverted_s3 += res.diverted_patients"
      ],
      "metadata": {
        "id": "g1fEoEaQVrqW"
      },
      "id": "g1fEoEaQVrqW",
      "execution_count": 72,
      "outputs": []
    },
    {
      "cell_type": "markdown",
      "source": [
        "# KPIs scen3 mixed"
      ],
      "metadata": {
        "id": "jfJTWpZCVszs"
      },
      "id": "jfJTWpZCVszs"
    },
    {
      "cell_type": "code",
      "source": [
        "waiting_stats_s3 = kpi_statistics(all_waiting_times_s3)\n",
        "los_stats_s3 = kpi_statistics(all_length_of_stay_s3)\n"
      ],
      "metadata": {
        "id": "8W7gLx7WVwc7"
      },
      "id": "8W7gLx7WVwc7",
      "execution_count": 73,
      "outputs": []
    },
    {
      "cell_type": "code",
      "source": [
        "print_kpi_stats(\"Scenario 3 Aggregated Waiting Time Statistics\", waiting_stats_s3)\n",
        "print_kpi_stats(\"Scenario 3 Aggregated Length of Stay Statistics\", los_stats_s3)\n",
        "print(f\"Scenario 3 Aggregated Total Diverted Patients: {total_diverted_s3}\\n\")"
      ],
      "metadata": {
        "colab": {
          "base_uri": "https://localhost:8080/"
        },
        "id": "ZYV2XC8WVy5M",
        "outputId": "8b17fbbb-aca3-4733-9679-f3b5222b6900"
      },
      "id": "ZYV2XC8WVy5M",
      "execution_count": 74,
      "outputs": [
        {
          "output_type": "stream",
          "name": "stdout",
          "text": [
            "Scenario 3 Aggregated Waiting Time Statistics:\n",
            "  Mean   : 9.87 hours\n",
            "  Median : 8.89 hours\n",
            "  Mode   : 0.21 hours\n",
            "  Std Dev: 6.38 hours\n",
            "\n",
            "Scenario 3 Aggregated Length of Stay Statistics:\n",
            "  Mean   : 11.00 hours\n",
            "  Median : 10.08 hours\n",
            "  Mode   : 0.88 hours\n",
            "  Std Dev: 6.29 hours\n",
            "\n",
            "Scenario 3 Aggregated Total Diverted Patients: 8460\n",
            "\n"
          ]
        }
      ]
    },
    {
      "cell_type": "code",
      "source": [
        "\n",
        "print_resource_utilization(replication_results_s3, \"Scenario 3\")\n"
      ],
      "metadata": {
        "colab": {
          "base_uri": "https://localhost:8080/"
        },
        "id": "C1RkArXWV023",
        "outputId": "3cb6b84f-5333-4cca-9d7f-80278c6a851b"
      },
      "id": "C1RkArXWV023",
      "execution_count": 75,
      "outputs": [
        {
          "output_type": "stream",
          "name": "stdout",
          "text": [
            "\n",
            "Scenario 3 Resource Utilizations:\n",
            "Doctor Utilization: 219.00% average utilization\n",
            "Bed Utilization: 9.55% average utilization\n",
            "Surgical Room Utilization: 194.62% average utilization\n",
            "Diagnostic Room Utilization: 62.17% average utilization\n"
          ]
        }
      ]
    },
    {
      "cell_type": "code",
      "source": [
        "print_resource_utilization(replication_results, \"Control Scenario\")\n",
        "print_resource_utilization(replication_results_ft, \"Fast-Track Scenario\")\n",
        "print_resource_utilization(replication_results_scen2, \"Scenario 2\")"
      ],
      "metadata": {
        "colab": {
          "base_uri": "https://localhost:8080/"
        },
        "id": "96bsAfMgV47H",
        "outputId": "e99e1e25-a1b7-429e-f0e0-8f0188cd2d6e"
      },
      "id": "96bsAfMgV47H",
      "execution_count": 76,
      "outputs": [
        {
          "output_type": "stream",
          "name": "stdout",
          "text": [
            "\n",
            "Control Scenario Resource Utilizations:\n",
            "Doctor Utilization: 99.80% average utilization\n",
            "Bed Utilization: 5.22% average utilization\n",
            "Surgical Room Utilization: 94.00% average utilization\n",
            "Diagnostic Room Utilization: 28.39% average utilization\n",
            "\n",
            "Fast-Track Scenario Resource Utilizations:\n",
            "Doctor Utilization: 194.20% average utilization\n",
            "Bed Utilization: 5.32% average utilization\n",
            "Surgical Room Utilization: 99.00% average utilization\n",
            "Diagnostic Room Utilization: 55.76% average utilization\n",
            "\n",
            "Scenario 2 Resource Utilizations:\n",
            "Doctor Utilization: 125.00% average utilization\n",
            "Bed Utilization: 7.78% average utilization\n",
            "Surgical Room Utilization: 153.44% average utilization\n",
            "Diagnostic Room Utilization: 33.46% average utilization\n"
          ]
        }
      ]
    },
    {
      "cell_type": "markdown",
      "source": [
        "# ----------------------------------------"
      ],
      "metadata": {
        "id": "CQO7ZZ2iYYRI"
      },
      "id": "CQO7ZZ2iYYRI"
    },
    {
      "cell_type": "markdown",
      "source": [
        "# KPIs summary"
      ],
      "metadata": {
        "id": "lMDVJL5wY3WX"
      },
      "id": "lMDVJL5wY3WX"
    },
    {
      "cell_type": "code",
      "source": [
        "# Aggregation function — unchanged but complete here for reference\n",
        "def aggregate_kpis(replication_results, scenario_name):\n",
        "    data = []\n",
        "    for res in replication_results:\n",
        "        for wt in res.waiting_times:\n",
        "            data.append({'Scenario': scenario_name, 'KPI': 'Waiting Time', 'Value': wt})\n",
        "        for los in res.length_of_stay:\n",
        "            data.append({'Scenario': scenario_name, 'KPI': 'Length of Stay', 'Value': los})\n",
        "        data.append({'Scenario': scenario_name, 'KPI': 'Diverted Patients', 'Value': res.diverted_patients})\n",
        "        data.append({'Scenario': scenario_name, 'KPI': 'Doctor Busy Time', 'Value': res.doctor_busy_time})\n",
        "        data.append({'Scenario': scenario_name, 'KPI': 'Bed Busy Time', 'Value': res.bed_busy_time})\n",
        "        data.append({'Scenario': scenario_name, 'KPI': 'Surgical Room Busy Time', 'Value': res.surgical_room_busy_time})\n",
        "        data.append({'Scenario': scenario_name, 'KPI': 'Diagnostic Room Busy Time', 'Value': res.diagnostic_room_busy_time})\n",
        "    return pd.DataFrame(data)\n",
        "\n",
        "# Aggregate data for all scenarios\n",
        "df_control = aggregate_kpis(replication_results, 'Control')\n",
        "df_ft = aggregate_kpis(replication_results_ft, 'Fast-Track')\n",
        "df_s2 = aggregate_kpis(replication_results_scen2, 'More Rooms for Surgery and Diagnostics')\n",
        "df_s3 = aggregate_kpis(replication_results_s3, 'Combined')\n",
        "\n",
        "# Combine all\n",
        "df_all = pd.concat([df_control, df_ft, df_s2, df_s3], ignore_index=True)\n",
        "\n",
        "# Summary stats function - clean and readable\n",
        "def kpi_grouped_summary_clean(df):\n",
        "    summary_records = []\n",
        "    for scenario in sorted(df['Scenario'].unique()):\n",
        "        for kpi_name in sorted(df['KPI'].unique()):\n",
        "            values = df.loc[(df['Scenario'] == scenario) & (df['KPI'] == kpi_name), 'Value']\n",
        "            n = len(values)\n",
        "            if n == 0:\n",
        "                continue\n",
        "\n",
        "            mean = values.mean()\n",
        "            median = values.median()\n",
        "            try:\n",
        "                mode_val = stats.mode(values, keepdims=False).mode\n",
        "            except Exception:\n",
        "                mode_val = np.nan\n",
        "            std_dev = values.std(ddof=1)\n",
        "            if n > 1:\n",
        "                ci_low, ci_high = stats.t.interval(0.95, n-1, loc=mean, scale=stats.sem(values))\n",
        "            else:\n",
        "                ci_low, ci_high = (np.nan, np.nan)\n",
        "\n",
        "            summary_records.append({\n",
        "                'Scenario': scenario,\n",
        "                'KPI': kpi_name,\n",
        "                'Count': n,\n",
        "                'Mean': round(mean, 3),\n",
        "                'Median': round(median, 3),\n",
        "                'Mode': round(mode_val, 3) if not pd.isna(mode_val) else None,\n",
        "                'Std Dev': round(std_dev, 3),\n",
        "                '95% CI Lower': round(ci_low, 3) if not pd.isna(ci_low) else None,\n",
        "                '95% CI Upper': round(ci_high, 3) if not pd.isna(ci_high) else None,\n",
        "            })\n",
        "    return pd.DataFrame(summary_records)\n",
        "\n",
        "# Generate summary\n",
        "summary_df = kpi_grouped_summary_clean(df_all)\n",
        "\n",
        "# Print summaries per scenario clearly\n",
        "for scenario in summary_df['Scenario'].unique():\n",
        "    print(f\"\\n--- KPI Summary for Scenario: {scenario} ---\")\n",
        "    display(summary_df[summary_df['Scenario'] == scenario].drop(columns='Scenario').reset_index(drop=True))\n"
      ],
      "metadata": {
        "colab": {
          "base_uri": "https://localhost:8080/",
          "height": 1000
        },
        "id": "RSMFyUMam7SS",
        "outputId": "21369d9a-9e23-4eb9-fd38-5fe7d77c8975"
      },
      "id": "RSMFyUMam7SS",
      "execution_count": 77,
      "outputs": [
        {
          "output_type": "stream",
          "name": "stderr",
          "text": [
            "/usr/local/lib/python3.11/dist-packages/scipy/stats/_distn_infrastructure.py:2304: RuntimeWarning: invalid value encountered in multiply\n",
            "  lower_bound = _a * scale + loc\n",
            "/usr/local/lib/python3.11/dist-packages/scipy/stats/_distn_infrastructure.py:2305: RuntimeWarning: invalid value encountered in multiply\n",
            "  upper_bound = _b * scale + loc\n"
          ]
        },
        {
          "output_type": "stream",
          "name": "stdout",
          "text": [
            "\n",
            "--- KPI Summary for Scenario: Combined ---\n"
          ]
        },
        {
          "output_type": "display_data",
          "data": {
            "text/plain": [
              "                         KPI  Count     Mean   Median     Mode  Std Dev  \\\n",
              "0              Bed Busy Time    100   68.791   69.523   50.220    7.239   \n",
              "1  Diagnostic Room Busy Time    100  149.204  149.204  149.204    0.000   \n",
              "2          Diverted Patients    100   84.600   81.500   75.000   22.552   \n",
              "3           Doctor Busy Time    100  420.473  420.473  420.473    0.000   \n",
              "4             Length of Stay  92928   11.000   10.082    0.883    6.292   \n",
              "5    Surgical Room Busy Time    100   93.417   94.029   80.577    2.943   \n",
              "6               Waiting Time  94900    9.875    8.885    0.205    6.381   \n",
              "\n",
              "   95% CI Lower  95% CI Upper  \n",
              "0        67.355        70.228  \n",
              "1           NaN           NaN  \n",
              "2        80.125        89.075  \n",
              "3       420.473       420.473  \n",
              "4        10.960        11.040  \n",
              "5        92.833        94.001  \n",
              "6         9.834         9.915  "
            ],
            "text/html": [
              "\n",
              "  <div id=\"df-b50bb23b-bd0c-4fa2-aeaa-03de487fc1db\" class=\"colab-df-container\">\n",
              "    <div>\n",
              "<style scoped>\n",
              "    .dataframe tbody tr th:only-of-type {\n",
              "        vertical-align: middle;\n",
              "    }\n",
              "\n",
              "    .dataframe tbody tr th {\n",
              "        vertical-align: top;\n",
              "    }\n",
              "\n",
              "    .dataframe thead th {\n",
              "        text-align: right;\n",
              "    }\n",
              "</style>\n",
              "<table border=\"1\" class=\"dataframe\">\n",
              "  <thead>\n",
              "    <tr style=\"text-align: right;\">\n",
              "      <th></th>\n",
              "      <th>KPI</th>\n",
              "      <th>Count</th>\n",
              "      <th>Mean</th>\n",
              "      <th>Median</th>\n",
              "      <th>Mode</th>\n",
              "      <th>Std Dev</th>\n",
              "      <th>95% CI Lower</th>\n",
              "      <th>95% CI Upper</th>\n",
              "    </tr>\n",
              "  </thead>\n",
              "  <tbody>\n",
              "    <tr>\n",
              "      <th>0</th>\n",
              "      <td>Bed Busy Time</td>\n",
              "      <td>100</td>\n",
              "      <td>68.791</td>\n",
              "      <td>69.523</td>\n",
              "      <td>50.220</td>\n",
              "      <td>7.239</td>\n",
              "      <td>67.355</td>\n",
              "      <td>70.228</td>\n",
              "    </tr>\n",
              "    <tr>\n",
              "      <th>1</th>\n",
              "      <td>Diagnostic Room Busy Time</td>\n",
              "      <td>100</td>\n",
              "      <td>149.204</td>\n",
              "      <td>149.204</td>\n",
              "      <td>149.204</td>\n",
              "      <td>0.000</td>\n",
              "      <td>NaN</td>\n",
              "      <td>NaN</td>\n",
              "    </tr>\n",
              "    <tr>\n",
              "      <th>2</th>\n",
              "      <td>Diverted Patients</td>\n",
              "      <td>100</td>\n",
              "      <td>84.600</td>\n",
              "      <td>81.500</td>\n",
              "      <td>75.000</td>\n",
              "      <td>22.552</td>\n",
              "      <td>80.125</td>\n",
              "      <td>89.075</td>\n",
              "    </tr>\n",
              "    <tr>\n",
              "      <th>3</th>\n",
              "      <td>Doctor Busy Time</td>\n",
              "      <td>100</td>\n",
              "      <td>420.473</td>\n",
              "      <td>420.473</td>\n",
              "      <td>420.473</td>\n",
              "      <td>0.000</td>\n",
              "      <td>420.473</td>\n",
              "      <td>420.473</td>\n",
              "    </tr>\n",
              "    <tr>\n",
              "      <th>4</th>\n",
              "      <td>Length of Stay</td>\n",
              "      <td>92928</td>\n",
              "      <td>11.000</td>\n",
              "      <td>10.082</td>\n",
              "      <td>0.883</td>\n",
              "      <td>6.292</td>\n",
              "      <td>10.960</td>\n",
              "      <td>11.040</td>\n",
              "    </tr>\n",
              "    <tr>\n",
              "      <th>5</th>\n",
              "      <td>Surgical Room Busy Time</td>\n",
              "      <td>100</td>\n",
              "      <td>93.417</td>\n",
              "      <td>94.029</td>\n",
              "      <td>80.577</td>\n",
              "      <td>2.943</td>\n",
              "      <td>92.833</td>\n",
              "      <td>94.001</td>\n",
              "    </tr>\n",
              "    <tr>\n",
              "      <th>6</th>\n",
              "      <td>Waiting Time</td>\n",
              "      <td>94900</td>\n",
              "      <td>9.875</td>\n",
              "      <td>8.885</td>\n",
              "      <td>0.205</td>\n",
              "      <td>6.381</td>\n",
              "      <td>9.834</td>\n",
              "      <td>9.915</td>\n",
              "    </tr>\n",
              "  </tbody>\n",
              "</table>\n",
              "</div>\n",
              "    <div class=\"colab-df-buttons\">\n",
              "\n",
              "  <div class=\"colab-df-container\">\n",
              "    <button class=\"colab-df-convert\" onclick=\"convertToInteractive('df-b50bb23b-bd0c-4fa2-aeaa-03de487fc1db')\"\n",
              "            title=\"Convert this dataframe to an interactive table.\"\n",
              "            style=\"display:none;\">\n",
              "\n",
              "  <svg xmlns=\"http://www.w3.org/2000/svg\" height=\"24px\" viewBox=\"0 -960 960 960\">\n",
              "    <path d=\"M120-120v-720h720v720H120Zm60-500h600v-160H180v160Zm220 220h160v-160H400v160Zm0 220h160v-160H400v160ZM180-400h160v-160H180v160Zm440 0h160v-160H620v160ZM180-180h160v-160H180v160Zm440 0h160v-160H620v160Z\"/>\n",
              "  </svg>\n",
              "    </button>\n",
              "\n",
              "  <style>\n",
              "    .colab-df-container {\n",
              "      display:flex;\n",
              "      gap: 12px;\n",
              "    }\n",
              "\n",
              "    .colab-df-convert {\n",
              "      background-color: #E8F0FE;\n",
              "      border: none;\n",
              "      border-radius: 50%;\n",
              "      cursor: pointer;\n",
              "      display: none;\n",
              "      fill: #1967D2;\n",
              "      height: 32px;\n",
              "      padding: 0 0 0 0;\n",
              "      width: 32px;\n",
              "    }\n",
              "\n",
              "    .colab-df-convert:hover {\n",
              "      background-color: #E2EBFA;\n",
              "      box-shadow: 0px 1px 2px rgba(60, 64, 67, 0.3), 0px 1px 3px 1px rgba(60, 64, 67, 0.15);\n",
              "      fill: #174EA6;\n",
              "    }\n",
              "\n",
              "    .colab-df-buttons div {\n",
              "      margin-bottom: 4px;\n",
              "    }\n",
              "\n",
              "    [theme=dark] .colab-df-convert {\n",
              "      background-color: #3B4455;\n",
              "      fill: #D2E3FC;\n",
              "    }\n",
              "\n",
              "    [theme=dark] .colab-df-convert:hover {\n",
              "      background-color: #434B5C;\n",
              "      box-shadow: 0px 1px 3px 1px rgba(0, 0, 0, 0.15);\n",
              "      filter: drop-shadow(0px 1px 2px rgba(0, 0, 0, 0.3));\n",
              "      fill: #FFFFFF;\n",
              "    }\n",
              "  </style>\n",
              "\n",
              "    <script>\n",
              "      const buttonEl =\n",
              "        document.querySelector('#df-b50bb23b-bd0c-4fa2-aeaa-03de487fc1db button.colab-df-convert');\n",
              "      buttonEl.style.display =\n",
              "        google.colab.kernel.accessAllowed ? 'block' : 'none';\n",
              "\n",
              "      async function convertToInteractive(key) {\n",
              "        const element = document.querySelector('#df-b50bb23b-bd0c-4fa2-aeaa-03de487fc1db');\n",
              "        const dataTable =\n",
              "          await google.colab.kernel.invokeFunction('convertToInteractive',\n",
              "                                                    [key], {});\n",
              "        if (!dataTable) return;\n",
              "\n",
              "        const docLinkHtml = 'Like what you see? Visit the ' +\n",
              "          '<a target=\"_blank\" href=https://colab.research.google.com/notebooks/data_table.ipynb>data table notebook</a>'\n",
              "          + ' to learn more about interactive tables.';\n",
              "        element.innerHTML = '';\n",
              "        dataTable['output_type'] = 'display_data';\n",
              "        await google.colab.output.renderOutput(dataTable, element);\n",
              "        const docLink = document.createElement('div');\n",
              "        docLink.innerHTML = docLinkHtml;\n",
              "        element.appendChild(docLink);\n",
              "      }\n",
              "    </script>\n",
              "  </div>\n",
              "\n",
              "\n",
              "    <div id=\"df-af6f1bf9-6b7e-4aa0-9b11-5181e7d30e33\">\n",
              "      <button class=\"colab-df-quickchart\" onclick=\"quickchart('df-af6f1bf9-6b7e-4aa0-9b11-5181e7d30e33')\"\n",
              "                title=\"Suggest charts\"\n",
              "                style=\"display:none;\">\n",
              "\n",
              "<svg xmlns=\"http://www.w3.org/2000/svg\" height=\"24px\"viewBox=\"0 0 24 24\"\n",
              "     width=\"24px\">\n",
              "    <g>\n",
              "        <path d=\"M19 3H5c-1.1 0-2 .9-2 2v14c0 1.1.9 2 2 2h14c1.1 0 2-.9 2-2V5c0-1.1-.9-2-2-2zM9 17H7v-7h2v7zm4 0h-2V7h2v10zm4 0h-2v-4h2v4z\"/>\n",
              "    </g>\n",
              "</svg>\n",
              "      </button>\n",
              "\n",
              "<style>\n",
              "  .colab-df-quickchart {\n",
              "      --bg-color: #E8F0FE;\n",
              "      --fill-color: #1967D2;\n",
              "      --hover-bg-color: #E2EBFA;\n",
              "      --hover-fill-color: #174EA6;\n",
              "      --disabled-fill-color: #AAA;\n",
              "      --disabled-bg-color: #DDD;\n",
              "  }\n",
              "\n",
              "  [theme=dark] .colab-df-quickchart {\n",
              "      --bg-color: #3B4455;\n",
              "      --fill-color: #D2E3FC;\n",
              "      --hover-bg-color: #434B5C;\n",
              "      --hover-fill-color: #FFFFFF;\n",
              "      --disabled-bg-color: #3B4455;\n",
              "      --disabled-fill-color: #666;\n",
              "  }\n",
              "\n",
              "  .colab-df-quickchart {\n",
              "    background-color: var(--bg-color);\n",
              "    border: none;\n",
              "    border-radius: 50%;\n",
              "    cursor: pointer;\n",
              "    display: none;\n",
              "    fill: var(--fill-color);\n",
              "    height: 32px;\n",
              "    padding: 0;\n",
              "    width: 32px;\n",
              "  }\n",
              "\n",
              "  .colab-df-quickchart:hover {\n",
              "    background-color: var(--hover-bg-color);\n",
              "    box-shadow: 0 1px 2px rgba(60, 64, 67, 0.3), 0 1px 3px 1px rgba(60, 64, 67, 0.15);\n",
              "    fill: var(--button-hover-fill-color);\n",
              "  }\n",
              "\n",
              "  .colab-df-quickchart-complete:disabled,\n",
              "  .colab-df-quickchart-complete:disabled:hover {\n",
              "    background-color: var(--disabled-bg-color);\n",
              "    fill: var(--disabled-fill-color);\n",
              "    box-shadow: none;\n",
              "  }\n",
              "\n",
              "  .colab-df-spinner {\n",
              "    border: 2px solid var(--fill-color);\n",
              "    border-color: transparent;\n",
              "    border-bottom-color: var(--fill-color);\n",
              "    animation:\n",
              "      spin 1s steps(1) infinite;\n",
              "  }\n",
              "\n",
              "  @keyframes spin {\n",
              "    0% {\n",
              "      border-color: transparent;\n",
              "      border-bottom-color: var(--fill-color);\n",
              "      border-left-color: var(--fill-color);\n",
              "    }\n",
              "    20% {\n",
              "      border-color: transparent;\n",
              "      border-left-color: var(--fill-color);\n",
              "      border-top-color: var(--fill-color);\n",
              "    }\n",
              "    30% {\n",
              "      border-color: transparent;\n",
              "      border-left-color: var(--fill-color);\n",
              "      border-top-color: var(--fill-color);\n",
              "      border-right-color: var(--fill-color);\n",
              "    }\n",
              "    40% {\n",
              "      border-color: transparent;\n",
              "      border-right-color: var(--fill-color);\n",
              "      border-top-color: var(--fill-color);\n",
              "    }\n",
              "    60% {\n",
              "      border-color: transparent;\n",
              "      border-right-color: var(--fill-color);\n",
              "    }\n",
              "    80% {\n",
              "      border-color: transparent;\n",
              "      border-right-color: var(--fill-color);\n",
              "      border-bottom-color: var(--fill-color);\n",
              "    }\n",
              "    90% {\n",
              "      border-color: transparent;\n",
              "      border-bottom-color: var(--fill-color);\n",
              "    }\n",
              "  }\n",
              "</style>\n",
              "\n",
              "      <script>\n",
              "        async function quickchart(key) {\n",
              "          const quickchartButtonEl =\n",
              "            document.querySelector('#' + key + ' button');\n",
              "          quickchartButtonEl.disabled = true;  // To prevent multiple clicks.\n",
              "          quickchartButtonEl.classList.add('colab-df-spinner');\n",
              "          try {\n",
              "            const charts = await google.colab.kernel.invokeFunction(\n",
              "                'suggestCharts', [key], {});\n",
              "          } catch (error) {\n",
              "            console.error('Error during call to suggestCharts:', error);\n",
              "          }\n",
              "          quickchartButtonEl.classList.remove('colab-df-spinner');\n",
              "          quickchartButtonEl.classList.add('colab-df-quickchart-complete');\n",
              "        }\n",
              "        (() => {\n",
              "          let quickchartButtonEl =\n",
              "            document.querySelector('#df-af6f1bf9-6b7e-4aa0-9b11-5181e7d30e33 button');\n",
              "          quickchartButtonEl.style.display =\n",
              "            google.colab.kernel.accessAllowed ? 'block' : 'none';\n",
              "        })();\n",
              "      </script>\n",
              "    </div>\n",
              "\n",
              "    </div>\n",
              "  </div>\n"
            ],
            "application/vnd.google.colaboratory.intrinsic+json": {
              "type": "dataframe",
              "summary": "{\n  \"name\": \"    display(summary_df[summary_df['Scenario'] == scenario]\",\n  \"rows\": 7,\n  \"fields\": [\n    {\n      \"column\": \"KPI\",\n      \"properties\": {\n        \"dtype\": \"string\",\n        \"num_unique_values\": 7,\n        \"samples\": [\n          \"Bed Busy Time\",\n          \"Diagnostic Room Busy Time\",\n          \"Surgical Room Busy Time\"\n        ],\n        \"semantic_type\": \"\",\n        \"description\": \"\"\n      }\n    },\n    {\n      \"column\": \"Count\",\n      \"properties\": {\n        \"dtype\": \"number\",\n        \"std\": 45780,\n        \"min\": 100,\n        \"max\": 94900,\n        \"num_unique_values\": 3,\n        \"samples\": [\n          100,\n          92928,\n          94900\n        ],\n        \"semantic_type\": \"\",\n        \"description\": \"\"\n      }\n    },\n    {\n      \"column\": \"Mean\",\n      \"properties\": {\n        \"dtype\": \"number\",\n        \"std\": 141.2601588576064,\n        \"min\": 9.875,\n        \"max\": 420.473,\n        \"num_unique_values\": 7,\n        \"samples\": [\n          68.791,\n          149.204,\n          93.417\n        ],\n        \"semantic_type\": \"\",\n        \"description\": \"\"\n      }\n    },\n    {\n      \"column\": \"Median\",\n      \"properties\": {\n        \"dtype\": \"number\",\n        \"std\": 141.5770699782244,\n        \"min\": 8.885,\n        \"max\": 420.473,\n        \"num_unique_values\": 7,\n        \"samples\": [\n          69.523,\n          149.204,\n          94.029\n        ],\n        \"semantic_type\": \"\",\n        \"description\": \"\"\n      }\n    },\n    {\n      \"column\": \"Mode\",\n      \"properties\": {\n        \"dtype\": \"number\",\n        \"std\": 145.80243995541494,\n        \"min\": 0.205,\n        \"max\": 420.473,\n        \"num_unique_values\": 7,\n        \"samples\": [\n          50.22,\n          149.204,\n          80.577\n        ],\n        \"semantic_type\": \"\",\n        \"description\": \"\"\n      }\n    },\n    {\n      \"column\": \"Std Dev\",\n      \"properties\": {\n        \"dtype\": \"number\",\n        \"std\": 7.696549696980799,\n        \"min\": 0.0,\n        \"max\": 22.552,\n        \"num_unique_values\": 6,\n        \"samples\": [\n          7.239,\n          0.0,\n          6.381\n        ],\n        \"semantic_type\": \"\",\n        \"description\": \"\"\n      }\n    },\n    {\n      \"column\": \"95% CI Lower\",\n      \"properties\": {\n        \"dtype\": \"number\",\n        \"std\": 154.3786477187395,\n        \"min\": 9.834,\n        \"max\": 420.473,\n        \"num_unique_values\": 6,\n        \"samples\": [\n          67.355,\n          80.125,\n          9.834\n        ],\n        \"semantic_type\": \"\",\n        \"description\": \"\"\n      }\n    },\n    {\n      \"column\": \"95% CI Upper\",\n      \"properties\": {\n        \"dtype\": \"number\",\n        \"std\": 153.80387263871697,\n        \"min\": 9.915,\n        \"max\": 420.473,\n        \"num_unique_values\": 6,\n        \"samples\": [\n          70.228,\n          89.075,\n          9.915\n        ],\n        \"semantic_type\": \"\",\n        \"description\": \"\"\n      }\n    }\n  ]\n}"
            }
          },
          "metadata": {}
        },
        {
          "output_type": "stream",
          "name": "stdout",
          "text": [
            "\n",
            "--- KPI Summary for Scenario: Control ---\n"
          ]
        },
        {
          "output_type": "display_data",
          "data": {
            "text/plain": [
              "                         KPI  Count     Mean   Median     Mode  Std Dev  \\\n",
              "0              Bed Busy Time    100   37.594   37.861   24.479    4.611   \n",
              "1  Diagnostic Room Busy Time    100   68.142   68.142   68.142    0.000   \n",
              "2          Diverted Patients    100   12.450   11.000    0.000   11.419   \n",
              "3           Doctor Busy Time    100  191.624  191.624  191.624    0.000   \n",
              "4             Length of Stay  41497   19.885   20.196    0.883   10.623   \n",
              "5    Surgical Room Busy Time    100   45.122   45.893   25.969    3.439   \n",
              "6               Waiting Time  43400   18.899   19.112    0.245   10.807   \n",
              "\n",
              "   95% CI Lower  95% CI Upper  \n",
              "0        36.679        38.509  \n",
              "1           NaN           NaN  \n",
              "2        10.184        14.716  \n",
              "3       191.624       191.624  \n",
              "4        19.783        19.987  \n",
              "5        44.440        45.805  \n",
              "6        18.797        19.001  "
            ],
            "text/html": [
              "\n",
              "  <div id=\"df-34e0f61b-82b7-4eb0-a0dd-1799f69d5404\" class=\"colab-df-container\">\n",
              "    <div>\n",
              "<style scoped>\n",
              "    .dataframe tbody tr th:only-of-type {\n",
              "        vertical-align: middle;\n",
              "    }\n",
              "\n",
              "    .dataframe tbody tr th {\n",
              "        vertical-align: top;\n",
              "    }\n",
              "\n",
              "    .dataframe thead th {\n",
              "        text-align: right;\n",
              "    }\n",
              "</style>\n",
              "<table border=\"1\" class=\"dataframe\">\n",
              "  <thead>\n",
              "    <tr style=\"text-align: right;\">\n",
              "      <th></th>\n",
              "      <th>KPI</th>\n",
              "      <th>Count</th>\n",
              "      <th>Mean</th>\n",
              "      <th>Median</th>\n",
              "      <th>Mode</th>\n",
              "      <th>Std Dev</th>\n",
              "      <th>95% CI Lower</th>\n",
              "      <th>95% CI Upper</th>\n",
              "    </tr>\n",
              "  </thead>\n",
              "  <tbody>\n",
              "    <tr>\n",
              "      <th>0</th>\n",
              "      <td>Bed Busy Time</td>\n",
              "      <td>100</td>\n",
              "      <td>37.594</td>\n",
              "      <td>37.861</td>\n",
              "      <td>24.479</td>\n",
              "      <td>4.611</td>\n",
              "      <td>36.679</td>\n",
              "      <td>38.509</td>\n",
              "    </tr>\n",
              "    <tr>\n",
              "      <th>1</th>\n",
              "      <td>Diagnostic Room Busy Time</td>\n",
              "      <td>100</td>\n",
              "      <td>68.142</td>\n",
              "      <td>68.142</td>\n",
              "      <td>68.142</td>\n",
              "      <td>0.000</td>\n",
              "      <td>NaN</td>\n",
              "      <td>NaN</td>\n",
              "    </tr>\n",
              "    <tr>\n",
              "      <th>2</th>\n",
              "      <td>Diverted Patients</td>\n",
              "      <td>100</td>\n",
              "      <td>12.450</td>\n",
              "      <td>11.000</td>\n",
              "      <td>0.000</td>\n",
              "      <td>11.419</td>\n",
              "      <td>10.184</td>\n",
              "      <td>14.716</td>\n",
              "    </tr>\n",
              "    <tr>\n",
              "      <th>3</th>\n",
              "      <td>Doctor Busy Time</td>\n",
              "      <td>100</td>\n",
              "      <td>191.624</td>\n",
              "      <td>191.624</td>\n",
              "      <td>191.624</td>\n",
              "      <td>0.000</td>\n",
              "      <td>191.624</td>\n",
              "      <td>191.624</td>\n",
              "    </tr>\n",
              "    <tr>\n",
              "      <th>4</th>\n",
              "      <td>Length of Stay</td>\n",
              "      <td>41497</td>\n",
              "      <td>19.885</td>\n",
              "      <td>20.196</td>\n",
              "      <td>0.883</td>\n",
              "      <td>10.623</td>\n",
              "      <td>19.783</td>\n",
              "      <td>19.987</td>\n",
              "    </tr>\n",
              "    <tr>\n",
              "      <th>5</th>\n",
              "      <td>Surgical Room Busy Time</td>\n",
              "      <td>100</td>\n",
              "      <td>45.122</td>\n",
              "      <td>45.893</td>\n",
              "      <td>25.969</td>\n",
              "      <td>3.439</td>\n",
              "      <td>44.440</td>\n",
              "      <td>45.805</td>\n",
              "    </tr>\n",
              "    <tr>\n",
              "      <th>6</th>\n",
              "      <td>Waiting Time</td>\n",
              "      <td>43400</td>\n",
              "      <td>18.899</td>\n",
              "      <td>19.112</td>\n",
              "      <td>0.245</td>\n",
              "      <td>10.807</td>\n",
              "      <td>18.797</td>\n",
              "      <td>19.001</td>\n",
              "    </tr>\n",
              "  </tbody>\n",
              "</table>\n",
              "</div>\n",
              "    <div class=\"colab-df-buttons\">\n",
              "\n",
              "  <div class=\"colab-df-container\">\n",
              "    <button class=\"colab-df-convert\" onclick=\"convertToInteractive('df-34e0f61b-82b7-4eb0-a0dd-1799f69d5404')\"\n",
              "            title=\"Convert this dataframe to an interactive table.\"\n",
              "            style=\"display:none;\">\n",
              "\n",
              "  <svg xmlns=\"http://www.w3.org/2000/svg\" height=\"24px\" viewBox=\"0 -960 960 960\">\n",
              "    <path d=\"M120-120v-720h720v720H120Zm60-500h600v-160H180v160Zm220 220h160v-160H400v160Zm0 220h160v-160H400v160ZM180-400h160v-160H180v160Zm440 0h160v-160H620v160ZM180-180h160v-160H180v160Zm440 0h160v-160H620v160Z\"/>\n",
              "  </svg>\n",
              "    </button>\n",
              "\n",
              "  <style>\n",
              "    .colab-df-container {\n",
              "      display:flex;\n",
              "      gap: 12px;\n",
              "    }\n",
              "\n",
              "    .colab-df-convert {\n",
              "      background-color: #E8F0FE;\n",
              "      border: none;\n",
              "      border-radius: 50%;\n",
              "      cursor: pointer;\n",
              "      display: none;\n",
              "      fill: #1967D2;\n",
              "      height: 32px;\n",
              "      padding: 0 0 0 0;\n",
              "      width: 32px;\n",
              "    }\n",
              "\n",
              "    .colab-df-convert:hover {\n",
              "      background-color: #E2EBFA;\n",
              "      box-shadow: 0px 1px 2px rgba(60, 64, 67, 0.3), 0px 1px 3px 1px rgba(60, 64, 67, 0.15);\n",
              "      fill: #174EA6;\n",
              "    }\n",
              "\n",
              "    .colab-df-buttons div {\n",
              "      margin-bottom: 4px;\n",
              "    }\n",
              "\n",
              "    [theme=dark] .colab-df-convert {\n",
              "      background-color: #3B4455;\n",
              "      fill: #D2E3FC;\n",
              "    }\n",
              "\n",
              "    [theme=dark] .colab-df-convert:hover {\n",
              "      background-color: #434B5C;\n",
              "      box-shadow: 0px 1px 3px 1px rgba(0, 0, 0, 0.15);\n",
              "      filter: drop-shadow(0px 1px 2px rgba(0, 0, 0, 0.3));\n",
              "      fill: #FFFFFF;\n",
              "    }\n",
              "  </style>\n",
              "\n",
              "    <script>\n",
              "      const buttonEl =\n",
              "        document.querySelector('#df-34e0f61b-82b7-4eb0-a0dd-1799f69d5404 button.colab-df-convert');\n",
              "      buttonEl.style.display =\n",
              "        google.colab.kernel.accessAllowed ? 'block' : 'none';\n",
              "\n",
              "      async function convertToInteractive(key) {\n",
              "        const element = document.querySelector('#df-34e0f61b-82b7-4eb0-a0dd-1799f69d5404');\n",
              "        const dataTable =\n",
              "          await google.colab.kernel.invokeFunction('convertToInteractive',\n",
              "                                                    [key], {});\n",
              "        if (!dataTable) return;\n",
              "\n",
              "        const docLinkHtml = 'Like what you see? Visit the ' +\n",
              "          '<a target=\"_blank\" href=https://colab.research.google.com/notebooks/data_table.ipynb>data table notebook</a>'\n",
              "          + ' to learn more about interactive tables.';\n",
              "        element.innerHTML = '';\n",
              "        dataTable['output_type'] = 'display_data';\n",
              "        await google.colab.output.renderOutput(dataTable, element);\n",
              "        const docLink = document.createElement('div');\n",
              "        docLink.innerHTML = docLinkHtml;\n",
              "        element.appendChild(docLink);\n",
              "      }\n",
              "    </script>\n",
              "  </div>\n",
              "\n",
              "\n",
              "    <div id=\"df-eddcb8e6-5541-4079-ba78-dfba806ca177\">\n",
              "      <button class=\"colab-df-quickchart\" onclick=\"quickchart('df-eddcb8e6-5541-4079-ba78-dfba806ca177')\"\n",
              "                title=\"Suggest charts\"\n",
              "                style=\"display:none;\">\n",
              "\n",
              "<svg xmlns=\"http://www.w3.org/2000/svg\" height=\"24px\"viewBox=\"0 0 24 24\"\n",
              "     width=\"24px\">\n",
              "    <g>\n",
              "        <path d=\"M19 3H5c-1.1 0-2 .9-2 2v14c0 1.1.9 2 2 2h14c1.1 0 2-.9 2-2V5c0-1.1-.9-2-2-2zM9 17H7v-7h2v7zm4 0h-2V7h2v10zm4 0h-2v-4h2v4z\"/>\n",
              "    </g>\n",
              "</svg>\n",
              "      </button>\n",
              "\n",
              "<style>\n",
              "  .colab-df-quickchart {\n",
              "      --bg-color: #E8F0FE;\n",
              "      --fill-color: #1967D2;\n",
              "      --hover-bg-color: #E2EBFA;\n",
              "      --hover-fill-color: #174EA6;\n",
              "      --disabled-fill-color: #AAA;\n",
              "      --disabled-bg-color: #DDD;\n",
              "  }\n",
              "\n",
              "  [theme=dark] .colab-df-quickchart {\n",
              "      --bg-color: #3B4455;\n",
              "      --fill-color: #D2E3FC;\n",
              "      --hover-bg-color: #434B5C;\n",
              "      --hover-fill-color: #FFFFFF;\n",
              "      --disabled-bg-color: #3B4455;\n",
              "      --disabled-fill-color: #666;\n",
              "  }\n",
              "\n",
              "  .colab-df-quickchart {\n",
              "    background-color: var(--bg-color);\n",
              "    border: none;\n",
              "    border-radius: 50%;\n",
              "    cursor: pointer;\n",
              "    display: none;\n",
              "    fill: var(--fill-color);\n",
              "    height: 32px;\n",
              "    padding: 0;\n",
              "    width: 32px;\n",
              "  }\n",
              "\n",
              "  .colab-df-quickchart:hover {\n",
              "    background-color: var(--hover-bg-color);\n",
              "    box-shadow: 0 1px 2px rgba(60, 64, 67, 0.3), 0 1px 3px 1px rgba(60, 64, 67, 0.15);\n",
              "    fill: var(--button-hover-fill-color);\n",
              "  }\n",
              "\n",
              "  .colab-df-quickchart-complete:disabled,\n",
              "  .colab-df-quickchart-complete:disabled:hover {\n",
              "    background-color: var(--disabled-bg-color);\n",
              "    fill: var(--disabled-fill-color);\n",
              "    box-shadow: none;\n",
              "  }\n",
              "\n",
              "  .colab-df-spinner {\n",
              "    border: 2px solid var(--fill-color);\n",
              "    border-color: transparent;\n",
              "    border-bottom-color: var(--fill-color);\n",
              "    animation:\n",
              "      spin 1s steps(1) infinite;\n",
              "  }\n",
              "\n",
              "  @keyframes spin {\n",
              "    0% {\n",
              "      border-color: transparent;\n",
              "      border-bottom-color: var(--fill-color);\n",
              "      border-left-color: var(--fill-color);\n",
              "    }\n",
              "    20% {\n",
              "      border-color: transparent;\n",
              "      border-left-color: var(--fill-color);\n",
              "      border-top-color: var(--fill-color);\n",
              "    }\n",
              "    30% {\n",
              "      border-color: transparent;\n",
              "      border-left-color: var(--fill-color);\n",
              "      border-top-color: var(--fill-color);\n",
              "      border-right-color: var(--fill-color);\n",
              "    }\n",
              "    40% {\n",
              "      border-color: transparent;\n",
              "      border-right-color: var(--fill-color);\n",
              "      border-top-color: var(--fill-color);\n",
              "    }\n",
              "    60% {\n",
              "      border-color: transparent;\n",
              "      border-right-color: var(--fill-color);\n",
              "    }\n",
              "    80% {\n",
              "      border-color: transparent;\n",
              "      border-right-color: var(--fill-color);\n",
              "      border-bottom-color: var(--fill-color);\n",
              "    }\n",
              "    90% {\n",
              "      border-color: transparent;\n",
              "      border-bottom-color: var(--fill-color);\n",
              "    }\n",
              "  }\n",
              "</style>\n",
              "\n",
              "      <script>\n",
              "        async function quickchart(key) {\n",
              "          const quickchartButtonEl =\n",
              "            document.querySelector('#' + key + ' button');\n",
              "          quickchartButtonEl.disabled = true;  // To prevent multiple clicks.\n",
              "          quickchartButtonEl.classList.add('colab-df-spinner');\n",
              "          try {\n",
              "            const charts = await google.colab.kernel.invokeFunction(\n",
              "                'suggestCharts', [key], {});\n",
              "          } catch (error) {\n",
              "            console.error('Error during call to suggestCharts:', error);\n",
              "          }\n",
              "          quickchartButtonEl.classList.remove('colab-df-spinner');\n",
              "          quickchartButtonEl.classList.add('colab-df-quickchart-complete');\n",
              "        }\n",
              "        (() => {\n",
              "          let quickchartButtonEl =\n",
              "            document.querySelector('#df-eddcb8e6-5541-4079-ba78-dfba806ca177 button');\n",
              "          quickchartButtonEl.style.display =\n",
              "            google.colab.kernel.accessAllowed ? 'block' : 'none';\n",
              "        })();\n",
              "      </script>\n",
              "    </div>\n",
              "\n",
              "    </div>\n",
              "  </div>\n"
            ],
            "application/vnd.google.colaboratory.intrinsic+json": {
              "type": "dataframe",
              "summary": "{\n  \"name\": \"    display(summary_df[summary_df['Scenario'] == scenario]\",\n  \"rows\": 7,\n  \"fields\": [\n    {\n      \"column\": \"KPI\",\n      \"properties\": {\n        \"dtype\": \"string\",\n        \"num_unique_values\": 7,\n        \"samples\": [\n          \"Bed Busy Time\",\n          \"Diagnostic Room Busy Time\",\n          \"Surgical Room Busy Time\"\n        ],\n        \"semantic_type\": \"\",\n        \"description\": \"\"\n      }\n    },\n    {\n      \"column\": \"Count\",\n      \"properties\": {\n        \"dtype\": \"number\",\n        \"std\": 20671,\n        \"min\": 100,\n        \"max\": 43400,\n        \"num_unique_values\": 3,\n        \"samples\": [\n          100,\n          41497,\n          43400\n        ],\n        \"semantic_type\": \"\",\n        \"description\": \"\"\n      }\n    },\n    {\n      \"column\": \"Mean\",\n      \"properties\": {\n        \"dtype\": \"number\",\n        \"std\": 62.68355515451819,\n        \"min\": 12.45,\n        \"max\": 191.624,\n        \"num_unique_values\": 7,\n        \"samples\": [\n          37.594,\n          68.142,\n          45.122\n        ],\n        \"semantic_type\": \"\",\n        \"description\": \"\"\n      }\n    },\n    {\n      \"column\": \"Median\",\n      \"properties\": {\n        \"dtype\": \"number\",\n        \"std\": 62.768949198438804,\n        \"min\": 11.0,\n        \"max\": 191.624,\n        \"num_unique_values\": 7,\n        \"samples\": [\n          37.861,\n          68.142,\n          45.893\n        ],\n        \"semantic_type\": \"\",\n        \"description\": \"\"\n      }\n    },\n    {\n      \"column\": \"Mode\",\n      \"properties\": {\n        \"dtype\": \"number\",\n        \"std\": 69.26982037620988,\n        \"min\": 0.0,\n        \"max\": 191.624,\n        \"num_unique_values\": 7,\n        \"samples\": [\n          24.479,\n          68.142,\n          25.969\n        ],\n        \"semantic_type\": \"\",\n        \"description\": \"\"\n      }\n    },\n    {\n      \"column\": \"Std Dev\",\n      \"properties\": {\n        \"dtype\": \"number\",\n        \"std\": 5.068856041695066,\n        \"min\": 0.0,\n        \"max\": 11.419,\n        \"num_unique_values\": 6,\n        \"samples\": [\n          4.611,\n          0.0,\n          10.807\n        ],\n        \"semantic_type\": \"\",\n        \"description\": \"\"\n      }\n    },\n    {\n      \"column\": \"95% CI Lower\",\n      \"properties\": {\n        \"dtype\": \"number\",\n        \"std\": 68.79045911970643,\n        \"min\": 10.184,\n        \"max\": 191.624,\n        \"num_unique_values\": 6,\n        \"samples\": [\n          36.679,\n          10.184,\n          18.797\n        ],\n        \"semantic_type\": \"\",\n        \"description\": \"\"\n      }\n    },\n    {\n      \"column\": \"95% CI Upper\",\n      \"properties\": {\n        \"dtype\": \"number\",\n        \"std\": 68.06942918422826,\n        \"min\": 14.716,\n        \"max\": 191.624,\n        \"num_unique_values\": 6,\n        \"samples\": [\n          38.509,\n          14.716,\n          19.001\n        ],\n        \"semantic_type\": \"\",\n        \"description\": \"\"\n      }\n    }\n  ]\n}"
            }
          },
          "metadata": {}
        },
        {
          "output_type": "stream",
          "name": "stdout",
          "text": [
            "\n",
            "--- KPI Summary for Scenario: Fast-Track ---\n"
          ]
        },
        {
          "output_type": "display_data",
          "data": {
            "text/plain": [
              "                         KPI  Count     Mean   Median     Mode  Std Dev  \\\n",
              "0              Bed Busy Time    100   38.324   38.208   25.779    6.174   \n",
              "1  Diagnostic Room Busy Time    100  133.815  133.815  133.815    0.000   \n",
              "2          Diverted Patients    100  133.920  133.500  124.000   19.445   \n",
              "3           Doctor Busy Time    100  372.863  372.863  372.863    0.000   \n",
              "4             Length of Stay  82153   11.905   10.164    0.883    7.463   \n",
              "5    Surgical Room Busy Time    100   47.519   47.583   43.351    1.036   \n",
              "6               Waiting Time  84200   10.759    8.937    0.205    7.512   \n",
              "\n",
              "   95% CI Lower  95% CI Upper  \n",
              "0        37.099        39.549  \n",
              "1       133.815       133.815  \n",
              "2       130.062       137.778  \n",
              "3       372.863       372.863  \n",
              "4        11.854        11.956  \n",
              "5        47.313        47.724  \n",
              "6        10.709        10.810  "
            ],
            "text/html": [
              "\n",
              "  <div id=\"df-c525bc1d-5cd3-4e69-af11-3fb0cddf9638\" class=\"colab-df-container\">\n",
              "    <div>\n",
              "<style scoped>\n",
              "    .dataframe tbody tr th:only-of-type {\n",
              "        vertical-align: middle;\n",
              "    }\n",
              "\n",
              "    .dataframe tbody tr th {\n",
              "        vertical-align: top;\n",
              "    }\n",
              "\n",
              "    .dataframe thead th {\n",
              "        text-align: right;\n",
              "    }\n",
              "</style>\n",
              "<table border=\"1\" class=\"dataframe\">\n",
              "  <thead>\n",
              "    <tr style=\"text-align: right;\">\n",
              "      <th></th>\n",
              "      <th>KPI</th>\n",
              "      <th>Count</th>\n",
              "      <th>Mean</th>\n",
              "      <th>Median</th>\n",
              "      <th>Mode</th>\n",
              "      <th>Std Dev</th>\n",
              "      <th>95% CI Lower</th>\n",
              "      <th>95% CI Upper</th>\n",
              "    </tr>\n",
              "  </thead>\n",
              "  <tbody>\n",
              "    <tr>\n",
              "      <th>0</th>\n",
              "      <td>Bed Busy Time</td>\n",
              "      <td>100</td>\n",
              "      <td>38.324</td>\n",
              "      <td>38.208</td>\n",
              "      <td>25.779</td>\n",
              "      <td>6.174</td>\n",
              "      <td>37.099</td>\n",
              "      <td>39.549</td>\n",
              "    </tr>\n",
              "    <tr>\n",
              "      <th>1</th>\n",
              "      <td>Diagnostic Room Busy Time</td>\n",
              "      <td>100</td>\n",
              "      <td>133.815</td>\n",
              "      <td>133.815</td>\n",
              "      <td>133.815</td>\n",
              "      <td>0.000</td>\n",
              "      <td>133.815</td>\n",
              "      <td>133.815</td>\n",
              "    </tr>\n",
              "    <tr>\n",
              "      <th>2</th>\n",
              "      <td>Diverted Patients</td>\n",
              "      <td>100</td>\n",
              "      <td>133.920</td>\n",
              "      <td>133.500</td>\n",
              "      <td>124.000</td>\n",
              "      <td>19.445</td>\n",
              "      <td>130.062</td>\n",
              "      <td>137.778</td>\n",
              "    </tr>\n",
              "    <tr>\n",
              "      <th>3</th>\n",
              "      <td>Doctor Busy Time</td>\n",
              "      <td>100</td>\n",
              "      <td>372.863</td>\n",
              "      <td>372.863</td>\n",
              "      <td>372.863</td>\n",
              "      <td>0.000</td>\n",
              "      <td>372.863</td>\n",
              "      <td>372.863</td>\n",
              "    </tr>\n",
              "    <tr>\n",
              "      <th>4</th>\n",
              "      <td>Length of Stay</td>\n",
              "      <td>82153</td>\n",
              "      <td>11.905</td>\n",
              "      <td>10.164</td>\n",
              "      <td>0.883</td>\n",
              "      <td>7.463</td>\n",
              "      <td>11.854</td>\n",
              "      <td>11.956</td>\n",
              "    </tr>\n",
              "    <tr>\n",
              "      <th>5</th>\n",
              "      <td>Surgical Room Busy Time</td>\n",
              "      <td>100</td>\n",
              "      <td>47.519</td>\n",
              "      <td>47.583</td>\n",
              "      <td>43.351</td>\n",
              "      <td>1.036</td>\n",
              "      <td>47.313</td>\n",
              "      <td>47.724</td>\n",
              "    </tr>\n",
              "    <tr>\n",
              "      <th>6</th>\n",
              "      <td>Waiting Time</td>\n",
              "      <td>84200</td>\n",
              "      <td>10.759</td>\n",
              "      <td>8.937</td>\n",
              "      <td>0.205</td>\n",
              "      <td>7.512</td>\n",
              "      <td>10.709</td>\n",
              "      <td>10.810</td>\n",
              "    </tr>\n",
              "  </tbody>\n",
              "</table>\n",
              "</div>\n",
              "    <div class=\"colab-df-buttons\">\n",
              "\n",
              "  <div class=\"colab-df-container\">\n",
              "    <button class=\"colab-df-convert\" onclick=\"convertToInteractive('df-c525bc1d-5cd3-4e69-af11-3fb0cddf9638')\"\n",
              "            title=\"Convert this dataframe to an interactive table.\"\n",
              "            style=\"display:none;\">\n",
              "\n",
              "  <svg xmlns=\"http://www.w3.org/2000/svg\" height=\"24px\" viewBox=\"0 -960 960 960\">\n",
              "    <path d=\"M120-120v-720h720v720H120Zm60-500h600v-160H180v160Zm220 220h160v-160H400v160Zm0 220h160v-160H400v160ZM180-400h160v-160H180v160Zm440 0h160v-160H620v160ZM180-180h160v-160H180v160Zm440 0h160v-160H620v160Z\"/>\n",
              "  </svg>\n",
              "    </button>\n",
              "\n",
              "  <style>\n",
              "    .colab-df-container {\n",
              "      display:flex;\n",
              "      gap: 12px;\n",
              "    }\n",
              "\n",
              "    .colab-df-convert {\n",
              "      background-color: #E8F0FE;\n",
              "      border: none;\n",
              "      border-radius: 50%;\n",
              "      cursor: pointer;\n",
              "      display: none;\n",
              "      fill: #1967D2;\n",
              "      height: 32px;\n",
              "      padding: 0 0 0 0;\n",
              "      width: 32px;\n",
              "    }\n",
              "\n",
              "    .colab-df-convert:hover {\n",
              "      background-color: #E2EBFA;\n",
              "      box-shadow: 0px 1px 2px rgba(60, 64, 67, 0.3), 0px 1px 3px 1px rgba(60, 64, 67, 0.15);\n",
              "      fill: #174EA6;\n",
              "    }\n",
              "\n",
              "    .colab-df-buttons div {\n",
              "      margin-bottom: 4px;\n",
              "    }\n",
              "\n",
              "    [theme=dark] .colab-df-convert {\n",
              "      background-color: #3B4455;\n",
              "      fill: #D2E3FC;\n",
              "    }\n",
              "\n",
              "    [theme=dark] .colab-df-convert:hover {\n",
              "      background-color: #434B5C;\n",
              "      box-shadow: 0px 1px 3px 1px rgba(0, 0, 0, 0.15);\n",
              "      filter: drop-shadow(0px 1px 2px rgba(0, 0, 0, 0.3));\n",
              "      fill: #FFFFFF;\n",
              "    }\n",
              "  </style>\n",
              "\n",
              "    <script>\n",
              "      const buttonEl =\n",
              "        document.querySelector('#df-c525bc1d-5cd3-4e69-af11-3fb0cddf9638 button.colab-df-convert');\n",
              "      buttonEl.style.display =\n",
              "        google.colab.kernel.accessAllowed ? 'block' : 'none';\n",
              "\n",
              "      async function convertToInteractive(key) {\n",
              "        const element = document.querySelector('#df-c525bc1d-5cd3-4e69-af11-3fb0cddf9638');\n",
              "        const dataTable =\n",
              "          await google.colab.kernel.invokeFunction('convertToInteractive',\n",
              "                                                    [key], {});\n",
              "        if (!dataTable) return;\n",
              "\n",
              "        const docLinkHtml = 'Like what you see? Visit the ' +\n",
              "          '<a target=\"_blank\" href=https://colab.research.google.com/notebooks/data_table.ipynb>data table notebook</a>'\n",
              "          + ' to learn more about interactive tables.';\n",
              "        element.innerHTML = '';\n",
              "        dataTable['output_type'] = 'display_data';\n",
              "        await google.colab.output.renderOutput(dataTable, element);\n",
              "        const docLink = document.createElement('div');\n",
              "        docLink.innerHTML = docLinkHtml;\n",
              "        element.appendChild(docLink);\n",
              "      }\n",
              "    </script>\n",
              "  </div>\n",
              "\n",
              "\n",
              "    <div id=\"df-6b5cfb40-1ed4-4217-a568-758477b73317\">\n",
              "      <button class=\"colab-df-quickchart\" onclick=\"quickchart('df-6b5cfb40-1ed4-4217-a568-758477b73317')\"\n",
              "                title=\"Suggest charts\"\n",
              "                style=\"display:none;\">\n",
              "\n",
              "<svg xmlns=\"http://www.w3.org/2000/svg\" height=\"24px\"viewBox=\"0 0 24 24\"\n",
              "     width=\"24px\">\n",
              "    <g>\n",
              "        <path d=\"M19 3H5c-1.1 0-2 .9-2 2v14c0 1.1.9 2 2 2h14c1.1 0 2-.9 2-2V5c0-1.1-.9-2-2-2zM9 17H7v-7h2v7zm4 0h-2V7h2v10zm4 0h-2v-4h2v4z\"/>\n",
              "    </g>\n",
              "</svg>\n",
              "      </button>\n",
              "\n",
              "<style>\n",
              "  .colab-df-quickchart {\n",
              "      --bg-color: #E8F0FE;\n",
              "      --fill-color: #1967D2;\n",
              "      --hover-bg-color: #E2EBFA;\n",
              "      --hover-fill-color: #174EA6;\n",
              "      --disabled-fill-color: #AAA;\n",
              "      --disabled-bg-color: #DDD;\n",
              "  }\n",
              "\n",
              "  [theme=dark] .colab-df-quickchart {\n",
              "      --bg-color: #3B4455;\n",
              "      --fill-color: #D2E3FC;\n",
              "      --hover-bg-color: #434B5C;\n",
              "      --hover-fill-color: #FFFFFF;\n",
              "      --disabled-bg-color: #3B4455;\n",
              "      --disabled-fill-color: #666;\n",
              "  }\n",
              "\n",
              "  .colab-df-quickchart {\n",
              "    background-color: var(--bg-color);\n",
              "    border: none;\n",
              "    border-radius: 50%;\n",
              "    cursor: pointer;\n",
              "    display: none;\n",
              "    fill: var(--fill-color);\n",
              "    height: 32px;\n",
              "    padding: 0;\n",
              "    width: 32px;\n",
              "  }\n",
              "\n",
              "  .colab-df-quickchart:hover {\n",
              "    background-color: var(--hover-bg-color);\n",
              "    box-shadow: 0 1px 2px rgba(60, 64, 67, 0.3), 0 1px 3px 1px rgba(60, 64, 67, 0.15);\n",
              "    fill: var(--button-hover-fill-color);\n",
              "  }\n",
              "\n",
              "  .colab-df-quickchart-complete:disabled,\n",
              "  .colab-df-quickchart-complete:disabled:hover {\n",
              "    background-color: var(--disabled-bg-color);\n",
              "    fill: var(--disabled-fill-color);\n",
              "    box-shadow: none;\n",
              "  }\n",
              "\n",
              "  .colab-df-spinner {\n",
              "    border: 2px solid var(--fill-color);\n",
              "    border-color: transparent;\n",
              "    border-bottom-color: var(--fill-color);\n",
              "    animation:\n",
              "      spin 1s steps(1) infinite;\n",
              "  }\n",
              "\n",
              "  @keyframes spin {\n",
              "    0% {\n",
              "      border-color: transparent;\n",
              "      border-bottom-color: var(--fill-color);\n",
              "      border-left-color: var(--fill-color);\n",
              "    }\n",
              "    20% {\n",
              "      border-color: transparent;\n",
              "      border-left-color: var(--fill-color);\n",
              "      border-top-color: var(--fill-color);\n",
              "    }\n",
              "    30% {\n",
              "      border-color: transparent;\n",
              "      border-left-color: var(--fill-color);\n",
              "      border-top-color: var(--fill-color);\n",
              "      border-right-color: var(--fill-color);\n",
              "    }\n",
              "    40% {\n",
              "      border-color: transparent;\n",
              "      border-right-color: var(--fill-color);\n",
              "      border-top-color: var(--fill-color);\n",
              "    }\n",
              "    60% {\n",
              "      border-color: transparent;\n",
              "      border-right-color: var(--fill-color);\n",
              "    }\n",
              "    80% {\n",
              "      border-color: transparent;\n",
              "      border-right-color: var(--fill-color);\n",
              "      border-bottom-color: var(--fill-color);\n",
              "    }\n",
              "    90% {\n",
              "      border-color: transparent;\n",
              "      border-bottom-color: var(--fill-color);\n",
              "    }\n",
              "  }\n",
              "</style>\n",
              "\n",
              "      <script>\n",
              "        async function quickchart(key) {\n",
              "          const quickchartButtonEl =\n",
              "            document.querySelector('#' + key + ' button');\n",
              "          quickchartButtonEl.disabled = true;  // To prevent multiple clicks.\n",
              "          quickchartButtonEl.classList.add('colab-df-spinner');\n",
              "          try {\n",
              "            const charts = await google.colab.kernel.invokeFunction(\n",
              "                'suggestCharts', [key], {});\n",
              "          } catch (error) {\n",
              "            console.error('Error during call to suggestCharts:', error);\n",
              "          }\n",
              "          quickchartButtonEl.classList.remove('colab-df-spinner');\n",
              "          quickchartButtonEl.classList.add('colab-df-quickchart-complete');\n",
              "        }\n",
              "        (() => {\n",
              "          let quickchartButtonEl =\n",
              "            document.querySelector('#df-6b5cfb40-1ed4-4217-a568-758477b73317 button');\n",
              "          quickchartButtonEl.style.display =\n",
              "            google.colab.kernel.accessAllowed ? 'block' : 'none';\n",
              "        })();\n",
              "      </script>\n",
              "    </div>\n",
              "\n",
              "    </div>\n",
              "  </div>\n"
            ],
            "application/vnd.google.colaboratory.intrinsic+json": {
              "type": "dataframe",
              "summary": "{\n  \"name\": \"    display(summary_df[summary_df['Scenario'] == scenario]\",\n  \"rows\": 7,\n  \"fields\": [\n    {\n      \"column\": \"KPI\",\n      \"properties\": {\n        \"dtype\": \"string\",\n        \"num_unique_values\": 7,\n        \"samples\": [\n          \"Bed Busy Time\",\n          \"Diagnostic Room Busy Time\",\n          \"Surgical Room Busy Time\"\n        ],\n        \"semantic_type\": \"\",\n        \"description\": \"\"\n      }\n    },\n    {\n      \"column\": \"Count\",\n      \"properties\": {\n        \"dtype\": \"number\",\n        \"std\": 40541,\n        \"min\": 100,\n        \"max\": 84200,\n        \"num_unique_values\": 3,\n        \"samples\": [\n          100,\n          82153,\n          84200\n        ],\n        \"semantic_type\": \"\",\n        \"description\": \"\"\n      }\n    },\n    {\n      \"column\": \"Mean\",\n      \"properties\": {\n        \"dtype\": \"number\",\n        \"std\": 128.24886956096987,\n        \"min\": 10.759,\n        \"max\": 372.863,\n        \"num_unique_values\": 7,\n        \"samples\": [\n          38.324,\n          133.815,\n          47.519\n        ],\n        \"semantic_type\": \"\",\n        \"description\": \"\"\n      }\n    },\n    {\n      \"column\": \"Median\",\n      \"properties\": {\n        \"dtype\": \"number\",\n        \"std\": 128.68469515169903,\n        \"min\": 8.937,\n        \"max\": 372.863,\n        \"num_unique_values\": 7,\n        \"samples\": [\n          38.208,\n          133.815,\n          47.583\n        ],\n        \"semantic_type\": \"\",\n        \"description\": \"\"\n      }\n    },\n    {\n      \"column\": \"Mode\",\n      \"properties\": {\n        \"dtype\": \"number\",\n        \"std\": 132.08245156088424,\n        \"min\": 0.205,\n        \"max\": 372.863,\n        \"num_unique_values\": 7,\n        \"samples\": [\n          25.779,\n          133.815,\n          43.351\n        ],\n        \"semantic_type\": \"\",\n        \"description\": \"\"\n      }\n    },\n    {\n      \"column\": \"Std Dev\",\n      \"properties\": {\n        \"dtype\": \"number\",\n        \"std\": 6.85378913274916,\n        \"min\": 0.0,\n        \"max\": 19.445,\n        \"num_unique_values\": 6,\n        \"samples\": [\n          6.174,\n          0.0,\n          7.512\n        ],\n        \"semantic_type\": \"\",\n        \"description\": \"\"\n      }\n    },\n    {\n      \"column\": \"95% CI Lower\",\n      \"properties\": {\n        \"dtype\": \"number\",\n        \"std\": 128.25979522697932,\n        \"min\": 10.709,\n        \"max\": 372.863,\n        \"num_unique_values\": 7,\n        \"samples\": [\n          37.099,\n          133.815,\n          47.313\n        ],\n        \"semantic_type\": \"\",\n        \"description\": \"\"\n      }\n    },\n    {\n      \"column\": \"95% CI Upper\",\n      \"properties\": {\n        \"dtype\": \"number\",\n        \"std\": 128.2538565476038,\n        \"min\": 10.81,\n        \"max\": 372.863,\n        \"num_unique_values\": 7,\n        \"samples\": [\n          39.549,\n          133.815,\n          47.724\n        ],\n        \"semantic_type\": \"\",\n        \"description\": \"\"\n      }\n    }\n  ]\n}"
            }
          },
          "metadata": {}
        },
        {
          "output_type": "stream",
          "name": "stdout",
          "text": [
            "\n",
            "--- KPI Summary for Scenario: More Rooms for Surgery and Diagnostics ---\n"
          ]
        },
        {
          "output_type": "display_data",
          "data": {
            "text/plain": [
              "                         KPI  Count     Mean   Median     Mode  Std Dev  \\\n",
              "0              Bed Busy Time    100   56.022   55.635   45.657    3.629   \n",
              "1  Diagnostic Room Busy Time    100   80.304   80.304   80.304    0.000   \n",
              "2          Diverted Patients    100    0.670    0.000    0.000    2.234   \n",
              "3           Doctor Busy Time    100  240.000  240.000  240.000    0.000   \n",
              "4             Length of Stay  52432   18.221   18.122    0.883    9.660   \n",
              "5    Surgical Room Busy Time    100   73.653   74.221   44.159    9.560   \n",
              "6               Waiting Time  54100   17.486   17.426    0.222    9.915   \n",
              "\n",
              "   95% CI Lower  95% CI Upper  \n",
              "0        55.302        56.742  \n",
              "1           NaN           NaN  \n",
              "2         0.227         1.113  \n",
              "3       240.000       240.000  \n",
              "4        18.138        18.304  \n",
              "5        71.756        75.550  \n",
              "6        17.402        17.569  "
            ],
            "text/html": [
              "\n",
              "  <div id=\"df-8dbffadf-5bbc-404e-8a7d-197cfde803f1\" class=\"colab-df-container\">\n",
              "    <div>\n",
              "<style scoped>\n",
              "    .dataframe tbody tr th:only-of-type {\n",
              "        vertical-align: middle;\n",
              "    }\n",
              "\n",
              "    .dataframe tbody tr th {\n",
              "        vertical-align: top;\n",
              "    }\n",
              "\n",
              "    .dataframe thead th {\n",
              "        text-align: right;\n",
              "    }\n",
              "</style>\n",
              "<table border=\"1\" class=\"dataframe\">\n",
              "  <thead>\n",
              "    <tr style=\"text-align: right;\">\n",
              "      <th></th>\n",
              "      <th>KPI</th>\n",
              "      <th>Count</th>\n",
              "      <th>Mean</th>\n",
              "      <th>Median</th>\n",
              "      <th>Mode</th>\n",
              "      <th>Std Dev</th>\n",
              "      <th>95% CI Lower</th>\n",
              "      <th>95% CI Upper</th>\n",
              "    </tr>\n",
              "  </thead>\n",
              "  <tbody>\n",
              "    <tr>\n",
              "      <th>0</th>\n",
              "      <td>Bed Busy Time</td>\n",
              "      <td>100</td>\n",
              "      <td>56.022</td>\n",
              "      <td>55.635</td>\n",
              "      <td>45.657</td>\n",
              "      <td>3.629</td>\n",
              "      <td>55.302</td>\n",
              "      <td>56.742</td>\n",
              "    </tr>\n",
              "    <tr>\n",
              "      <th>1</th>\n",
              "      <td>Diagnostic Room Busy Time</td>\n",
              "      <td>100</td>\n",
              "      <td>80.304</td>\n",
              "      <td>80.304</td>\n",
              "      <td>80.304</td>\n",
              "      <td>0.000</td>\n",
              "      <td>NaN</td>\n",
              "      <td>NaN</td>\n",
              "    </tr>\n",
              "    <tr>\n",
              "      <th>2</th>\n",
              "      <td>Diverted Patients</td>\n",
              "      <td>100</td>\n",
              "      <td>0.670</td>\n",
              "      <td>0.000</td>\n",
              "      <td>0.000</td>\n",
              "      <td>2.234</td>\n",
              "      <td>0.227</td>\n",
              "      <td>1.113</td>\n",
              "    </tr>\n",
              "    <tr>\n",
              "      <th>3</th>\n",
              "      <td>Doctor Busy Time</td>\n",
              "      <td>100</td>\n",
              "      <td>240.000</td>\n",
              "      <td>240.000</td>\n",
              "      <td>240.000</td>\n",
              "      <td>0.000</td>\n",
              "      <td>240.000</td>\n",
              "      <td>240.000</td>\n",
              "    </tr>\n",
              "    <tr>\n",
              "      <th>4</th>\n",
              "      <td>Length of Stay</td>\n",
              "      <td>52432</td>\n",
              "      <td>18.221</td>\n",
              "      <td>18.122</td>\n",
              "      <td>0.883</td>\n",
              "      <td>9.660</td>\n",
              "      <td>18.138</td>\n",
              "      <td>18.304</td>\n",
              "    </tr>\n",
              "    <tr>\n",
              "      <th>5</th>\n",
              "      <td>Surgical Room Busy Time</td>\n",
              "      <td>100</td>\n",
              "      <td>73.653</td>\n",
              "      <td>74.221</td>\n",
              "      <td>44.159</td>\n",
              "      <td>9.560</td>\n",
              "      <td>71.756</td>\n",
              "      <td>75.550</td>\n",
              "    </tr>\n",
              "    <tr>\n",
              "      <th>6</th>\n",
              "      <td>Waiting Time</td>\n",
              "      <td>54100</td>\n",
              "      <td>17.486</td>\n",
              "      <td>17.426</td>\n",
              "      <td>0.222</td>\n",
              "      <td>9.915</td>\n",
              "      <td>17.402</td>\n",
              "      <td>17.569</td>\n",
              "    </tr>\n",
              "  </tbody>\n",
              "</table>\n",
              "</div>\n",
              "    <div class=\"colab-df-buttons\">\n",
              "\n",
              "  <div class=\"colab-df-container\">\n",
              "    <button class=\"colab-df-convert\" onclick=\"convertToInteractive('df-8dbffadf-5bbc-404e-8a7d-197cfde803f1')\"\n",
              "            title=\"Convert this dataframe to an interactive table.\"\n",
              "            style=\"display:none;\">\n",
              "\n",
              "  <svg xmlns=\"http://www.w3.org/2000/svg\" height=\"24px\" viewBox=\"0 -960 960 960\">\n",
              "    <path d=\"M120-120v-720h720v720H120Zm60-500h600v-160H180v160Zm220 220h160v-160H400v160Zm0 220h160v-160H400v160ZM180-400h160v-160H180v160Zm440 0h160v-160H620v160ZM180-180h160v-160H180v160Zm440 0h160v-160H620v160Z\"/>\n",
              "  </svg>\n",
              "    </button>\n",
              "\n",
              "  <style>\n",
              "    .colab-df-container {\n",
              "      display:flex;\n",
              "      gap: 12px;\n",
              "    }\n",
              "\n",
              "    .colab-df-convert {\n",
              "      background-color: #E8F0FE;\n",
              "      border: none;\n",
              "      border-radius: 50%;\n",
              "      cursor: pointer;\n",
              "      display: none;\n",
              "      fill: #1967D2;\n",
              "      height: 32px;\n",
              "      padding: 0 0 0 0;\n",
              "      width: 32px;\n",
              "    }\n",
              "\n",
              "    .colab-df-convert:hover {\n",
              "      background-color: #E2EBFA;\n",
              "      box-shadow: 0px 1px 2px rgba(60, 64, 67, 0.3), 0px 1px 3px 1px rgba(60, 64, 67, 0.15);\n",
              "      fill: #174EA6;\n",
              "    }\n",
              "\n",
              "    .colab-df-buttons div {\n",
              "      margin-bottom: 4px;\n",
              "    }\n",
              "\n",
              "    [theme=dark] .colab-df-convert {\n",
              "      background-color: #3B4455;\n",
              "      fill: #D2E3FC;\n",
              "    }\n",
              "\n",
              "    [theme=dark] .colab-df-convert:hover {\n",
              "      background-color: #434B5C;\n",
              "      box-shadow: 0px 1px 3px 1px rgba(0, 0, 0, 0.15);\n",
              "      filter: drop-shadow(0px 1px 2px rgba(0, 0, 0, 0.3));\n",
              "      fill: #FFFFFF;\n",
              "    }\n",
              "  </style>\n",
              "\n",
              "    <script>\n",
              "      const buttonEl =\n",
              "        document.querySelector('#df-8dbffadf-5bbc-404e-8a7d-197cfde803f1 button.colab-df-convert');\n",
              "      buttonEl.style.display =\n",
              "        google.colab.kernel.accessAllowed ? 'block' : 'none';\n",
              "\n",
              "      async function convertToInteractive(key) {\n",
              "        const element = document.querySelector('#df-8dbffadf-5bbc-404e-8a7d-197cfde803f1');\n",
              "        const dataTable =\n",
              "          await google.colab.kernel.invokeFunction('convertToInteractive',\n",
              "                                                    [key], {});\n",
              "        if (!dataTable) return;\n",
              "\n",
              "        const docLinkHtml = 'Like what you see? Visit the ' +\n",
              "          '<a target=\"_blank\" href=https://colab.research.google.com/notebooks/data_table.ipynb>data table notebook</a>'\n",
              "          + ' to learn more about interactive tables.';\n",
              "        element.innerHTML = '';\n",
              "        dataTable['output_type'] = 'display_data';\n",
              "        await google.colab.output.renderOutput(dataTable, element);\n",
              "        const docLink = document.createElement('div');\n",
              "        docLink.innerHTML = docLinkHtml;\n",
              "        element.appendChild(docLink);\n",
              "      }\n",
              "    </script>\n",
              "  </div>\n",
              "\n",
              "\n",
              "    <div id=\"df-2adb8872-6132-403d-b164-b19033a9590b\">\n",
              "      <button class=\"colab-df-quickchart\" onclick=\"quickchart('df-2adb8872-6132-403d-b164-b19033a9590b')\"\n",
              "                title=\"Suggest charts\"\n",
              "                style=\"display:none;\">\n",
              "\n",
              "<svg xmlns=\"http://www.w3.org/2000/svg\" height=\"24px\"viewBox=\"0 0 24 24\"\n",
              "     width=\"24px\">\n",
              "    <g>\n",
              "        <path d=\"M19 3H5c-1.1 0-2 .9-2 2v14c0 1.1.9 2 2 2h14c1.1 0 2-.9 2-2V5c0-1.1-.9-2-2-2zM9 17H7v-7h2v7zm4 0h-2V7h2v10zm4 0h-2v-4h2v4z\"/>\n",
              "    </g>\n",
              "</svg>\n",
              "      </button>\n",
              "\n",
              "<style>\n",
              "  .colab-df-quickchart {\n",
              "      --bg-color: #E8F0FE;\n",
              "      --fill-color: #1967D2;\n",
              "      --hover-bg-color: #E2EBFA;\n",
              "      --hover-fill-color: #174EA6;\n",
              "      --disabled-fill-color: #AAA;\n",
              "      --disabled-bg-color: #DDD;\n",
              "  }\n",
              "\n",
              "  [theme=dark] .colab-df-quickchart {\n",
              "      --bg-color: #3B4455;\n",
              "      --fill-color: #D2E3FC;\n",
              "      --hover-bg-color: #434B5C;\n",
              "      --hover-fill-color: #FFFFFF;\n",
              "      --disabled-bg-color: #3B4455;\n",
              "      --disabled-fill-color: #666;\n",
              "  }\n",
              "\n",
              "  .colab-df-quickchart {\n",
              "    background-color: var(--bg-color);\n",
              "    border: none;\n",
              "    border-radius: 50%;\n",
              "    cursor: pointer;\n",
              "    display: none;\n",
              "    fill: var(--fill-color);\n",
              "    height: 32px;\n",
              "    padding: 0;\n",
              "    width: 32px;\n",
              "  }\n",
              "\n",
              "  .colab-df-quickchart:hover {\n",
              "    background-color: var(--hover-bg-color);\n",
              "    box-shadow: 0 1px 2px rgba(60, 64, 67, 0.3), 0 1px 3px 1px rgba(60, 64, 67, 0.15);\n",
              "    fill: var(--button-hover-fill-color);\n",
              "  }\n",
              "\n",
              "  .colab-df-quickchart-complete:disabled,\n",
              "  .colab-df-quickchart-complete:disabled:hover {\n",
              "    background-color: var(--disabled-bg-color);\n",
              "    fill: var(--disabled-fill-color);\n",
              "    box-shadow: none;\n",
              "  }\n",
              "\n",
              "  .colab-df-spinner {\n",
              "    border: 2px solid var(--fill-color);\n",
              "    border-color: transparent;\n",
              "    border-bottom-color: var(--fill-color);\n",
              "    animation:\n",
              "      spin 1s steps(1) infinite;\n",
              "  }\n",
              "\n",
              "  @keyframes spin {\n",
              "    0% {\n",
              "      border-color: transparent;\n",
              "      border-bottom-color: var(--fill-color);\n",
              "      border-left-color: var(--fill-color);\n",
              "    }\n",
              "    20% {\n",
              "      border-color: transparent;\n",
              "      border-left-color: var(--fill-color);\n",
              "      border-top-color: var(--fill-color);\n",
              "    }\n",
              "    30% {\n",
              "      border-color: transparent;\n",
              "      border-left-color: var(--fill-color);\n",
              "      border-top-color: var(--fill-color);\n",
              "      border-right-color: var(--fill-color);\n",
              "    }\n",
              "    40% {\n",
              "      border-color: transparent;\n",
              "      border-right-color: var(--fill-color);\n",
              "      border-top-color: var(--fill-color);\n",
              "    }\n",
              "    60% {\n",
              "      border-color: transparent;\n",
              "      border-right-color: var(--fill-color);\n",
              "    }\n",
              "    80% {\n",
              "      border-color: transparent;\n",
              "      border-right-color: var(--fill-color);\n",
              "      border-bottom-color: var(--fill-color);\n",
              "    }\n",
              "    90% {\n",
              "      border-color: transparent;\n",
              "      border-bottom-color: var(--fill-color);\n",
              "    }\n",
              "  }\n",
              "</style>\n",
              "\n",
              "      <script>\n",
              "        async function quickchart(key) {\n",
              "          const quickchartButtonEl =\n",
              "            document.querySelector('#' + key + ' button');\n",
              "          quickchartButtonEl.disabled = true;  // To prevent multiple clicks.\n",
              "          quickchartButtonEl.classList.add('colab-df-spinner');\n",
              "          try {\n",
              "            const charts = await google.colab.kernel.invokeFunction(\n",
              "                'suggestCharts', [key], {});\n",
              "          } catch (error) {\n",
              "            console.error('Error during call to suggestCharts:', error);\n",
              "          }\n",
              "          quickchartButtonEl.classList.remove('colab-df-spinner');\n",
              "          quickchartButtonEl.classList.add('colab-df-quickchart-complete');\n",
              "        }\n",
              "        (() => {\n",
              "          let quickchartButtonEl =\n",
              "            document.querySelector('#df-2adb8872-6132-403d-b164-b19033a9590b button');\n",
              "          quickchartButtonEl.style.display =\n",
              "            google.colab.kernel.accessAllowed ? 'block' : 'none';\n",
              "        })();\n",
              "      </script>\n",
              "    </div>\n",
              "\n",
              "    </div>\n",
              "  </div>\n"
            ],
            "application/vnd.google.colaboratory.intrinsic+json": {
              "type": "dataframe",
              "summary": "{\n  \"name\": \"    display(summary_df[summary_df['Scenario'] == scenario]\",\n  \"rows\": 7,\n  \"fields\": [\n    {\n      \"column\": \"KPI\",\n      \"properties\": {\n        \"dtype\": \"string\",\n        \"num_unique_values\": 7,\n        \"samples\": [\n          \"Bed Busy Time\",\n          \"Diagnostic Room Busy Time\",\n          \"Surgical Room Busy Time\"\n        ],\n        \"semantic_type\": \"\",\n        \"description\": \"\"\n      }\n    },\n    {\n      \"column\": \"Count\",\n      \"properties\": {\n        \"dtype\": \"number\",\n        \"std\": 25946,\n        \"min\": 100,\n        \"max\": 54100,\n        \"num_unique_values\": 3,\n        \"samples\": [\n          100,\n          52432,\n          54100\n        ],\n        \"semantic_type\": \"\",\n        \"description\": \"\"\n      }\n    },\n    {\n      \"column\": \"Mean\",\n      \"properties\": {\n        \"dtype\": \"number\",\n        \"std\": 81.0950453518527,\n        \"min\": 0.67,\n        \"max\": 240.0,\n        \"num_unique_values\": 7,\n        \"samples\": [\n          56.022,\n          80.304,\n          73.653\n        ],\n        \"semantic_type\": \"\",\n        \"description\": \"\"\n      }\n    },\n    {\n      \"column\": \"Median\",\n      \"properties\": {\n        \"dtype\": \"number\",\n        \"std\": 81.22300908902717,\n        \"min\": 0.0,\n        \"max\": 240.0,\n        \"num_unique_values\": 7,\n        \"samples\": [\n          55.635,\n          80.304,\n          74.221\n        ],\n        \"semantic_type\": \"\",\n        \"description\": \"\"\n      }\n    },\n    {\n      \"column\": \"Mode\",\n      \"properties\": {\n        \"dtype\": \"number\",\n        \"std\": 85.56297897817169,\n        \"min\": 0.0,\n        \"max\": 240.0,\n        \"num_unique_values\": 7,\n        \"samples\": [\n          45.657,\n          80.304,\n          44.159\n        ],\n        \"semantic_type\": \"\",\n        \"description\": \"\"\n      }\n    },\n    {\n      \"column\": \"Std Dev\",\n      \"properties\": {\n        \"dtype\": \"number\",\n        \"std\": 4.586153461390992,\n        \"min\": 0.0,\n        \"max\": 9.915,\n        \"num_unique_values\": 6,\n        \"samples\": [\n          3.629,\n          0.0,\n          9.915\n        ],\n        \"semantic_type\": \"\",\n        \"description\": \"\"\n      }\n    },\n    {\n      \"column\": \"95% CI Lower\",\n      \"properties\": {\n        \"dtype\": \"number\",\n        \"std\": 88.7630998551763,\n        \"min\": 0.227,\n        \"max\": 240.0,\n        \"num_unique_values\": 6,\n        \"samples\": [\n          55.302,\n          0.227,\n          17.402\n        ],\n        \"semantic_type\": \"\",\n        \"description\": \"\"\n      }\n    },\n    {\n      \"column\": \"95% CI Upper\",\n      \"properties\": {\n        \"dtype\": \"number\",\n        \"std\": 88.60510346024093,\n        \"min\": 1.113,\n        \"max\": 240.0,\n        \"num_unique_values\": 6,\n        \"samples\": [\n          56.742,\n          1.113,\n          17.569\n        ],\n        \"semantic_type\": \"\",\n        \"description\": \"\"\n      }\n    }\n  ]\n}"
            }
          },
          "metadata": {}
        }
      ]
    },
    {
      "cell_type": "markdown",
      "source": [
        "# Visualisation and comparison  of the scenarios (and versus control)"
      ],
      "metadata": {
        "id": "drKvjEDtau8h"
      },
      "id": "drKvjEDtau8h"
    },
    {
      "cell_type": "markdown",
      "source": [
        "# Boxplot - distribution of waiting time by scenario"
      ],
      "metadata": {
        "id": "MupvQvuun3tE"
      },
      "id": "MupvQvuun3tE"
    },
    {
      "cell_type": "code",
      "source": [
        "\n",
        "plt.figure(figsize=(12,10))\n",
        "sns.boxplot(\n",
        "    data=df_all[df_all['KPI'] == 'Waiting Time'],\n",
        "    x='Scenario', y='Value',\n",
        "    hue='Scenario',\n",
        "    palette='Set2',\n",
        "    legend=False\n",
        ")\n",
        "plt.title('Distribution of Patient Waiting Time by Scenario', fontsize=16)\n",
        "plt.ylabel('Waiting Time (hours)')\n",
        "plt.xlabel('Scenario')\n",
        "plt.grid(axis='y', linestyle='--', alpha=0.6)\n",
        "plt.tight_layout()\n",
        "plt.show()"
      ],
      "metadata": {
        "colab": {
          "base_uri": "https://localhost:8080/",
          "height": 1000
        },
        "id": "arBTqpeSn6AS",
        "outputId": "c869c1bc-de13-41fd-8a3f-75dd2671ca03"
      },
      "id": "arBTqpeSn6AS",
      "execution_count": 78,
      "outputs": [
        {
          "output_type": "display_data",
          "data": {
            "text/plain": [
              "<Figure size 1200x1000 with 1 Axes>"
            ],
            "image/png": "[encoded data removed]"
          },
          "metadata": {}
        }
      ]
    },
    {
      "cell_type": "markdown",
      "source": [
        "# Violin distr. for LOS"
      ],
      "metadata": {
        "id": "p2gz_ffIolpP"
      },
      "id": "p2gz_ffIolpP"
    },
    {
      "cell_type": "code",
      "source": [
        "plt.figure(figsize=(12,10))\n",
        "sns.violinplot(\n",
        "    data=df_all[df_all['KPI'] == 'Length of Stay'],\n",
        "    x='Scenario', y='Value',\n",
        "    hue='Scenario',\n",
        "    legend=False,\n",
        "    palette='Set3',\n",
        "    inner='quartile'\n",
        ")\n",
        "plt.title('Length of Stay Distribution by Scenario', fontsize=16)\n",
        "plt.ylabel('Length of Stay (hours)')\n",
        "plt.xlabel('Scenario')\n",
        "plt.grid(axis='y', linestyle='--', alpha=0.6)\n",
        "plt.tight_layout()\n",
        "plt.show()"
      ],
      "metadata": {
        "colab": {
          "base_uri": "https://localhost:8080/",
          "height": 1000
        },
        "id": "1gKLrMWdopDH",
        "outputId": "567b43a1-237a-4d3d-b0cd-e17f7ecd1007"
      },
      "id": "1gKLrMWdopDH",
      "execution_count": 79,
      "outputs": [
        {
          "output_type": "display_data",
          "data": {
            "text/plain": [
              "<Figure size 1200x1000 with 1 Axes>"
            ],
            "image/png": "[encoded data removed]"
          },
          "metadata": {}
        }
      ]
    },
    {
      "cell_type": "markdown",
      "source": [
        "# Bar plot - mean LPIs with 95% confidence intervals"
      ],
      "metadata": {
        "id": "DQ23UxPppfwF"
      },
      "id": "DQ23UxPppfwF"
    },
    {
      "cell_type": "code",
      "source": [
        "# Filter KPIs for numeric means comparison (exclude Diverted Patients)\n",
        "mean_kpis = summary_df[~summary_df['KPI'].isin(['Diverted Patients'])]\n",
        "\n",
        "plt.figure(figsize=(14,7))\n",
        "sns.barplot(\n",
        "    data=mean_kpis, x='KPI', y='Mean', hue='Scenario',\n",
        "    palette='Pastel1', capsize=0.1,\n",
        "    err_kws={'color': 'gray'}\n",
        ")\n",
        "plt.title('Mean KPI Comparison Across Scenarios with 95% Confidence Intervals', fontsize=18)\n",
        "plt.ylabel('Mean Value (hours)')\n",
        "plt.xlabel('KPI')\n",
        "plt.legend(title='Scenario', loc='upper right')\n",
        "plt.xticks(rotation=45)\n",
        "plt.grid(axis='y', linestyle='--', alpha=0.7)\n",
        "plt.tight_layout()\n",
        "plt.show()\n"
      ],
      "metadata": {
        "colab": {
          "base_uri": "https://localhost:8080/",
          "height": 707
        },
        "id": "dfjcpMmjphFR",
        "outputId": "29adb89e-9f7d-448d-f6c9-13a53518085f"
      },
      "id": "dfjcpMmjphFR",
      "execution_count": 82,
      "outputs": [
        {
          "output_type": "display_data",
          "data": {
            "text/plain": [
              "<Figure size 1400x700 with 1 Axes>"
            ],
            "image/png": "[encoded data removed]"
          },
          "metadata": {}
        }
      ]
    }
  ],
  "metadata": {
    "kernelspec": {
      "display_name": ".venv",
      "language": "python",
      "name": "python3"
    },
    "language_info": {
      "codemirror_mode": {
        "name": "ipython",
        "version": 3
      },
      "file_extension": ".py",
      "mimetype": "text/x-python",
      "name": "python",
      "nbconvert_exporter": "python",
      "pygments_lexer": "ipython3",
      "version": "3.13.2"
    },
    "colab": {
      "provenance": [],
      "collapsed_sections": [
        "5624ff8f",
        "rrnZ5WOVcegL",
        "WlECVt6kaUGt",
        "Ln8WXQVZh5d1",
        "6Oas7ozAlxJ6",
        "H2_tQUdkvxIk",
        "0B-HammPzwvA",
        "MlFFuRuBz_SR",
        "o6Isd6Sk5cT5",
        "iAJE9k3-6QDx",
        "25koo783NUQg",
        "jfJTWpZCVszs",
        "twdxZq-eZ6KI"
      ],
      "include_colab_link": true
    }
  },
  "nbformat": 4,
  "nbformat_minor": 5
}