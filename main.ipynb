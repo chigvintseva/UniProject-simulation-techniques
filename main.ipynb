{
  "cells": [
    {
      "cell_type": "markdown",
      "metadata": {
        "id": "view-in-github",
        "colab_type": "text"
      },
      "source": [
        "<a href=\"https://colab.research.google.com/github/chigvintseva/UniProject-simulation-techniques/blob/main/main.ipynb\" target=\"_parent\"><img src=\"https://colab.research.google.com/assets/colab-badge.svg\" alt=\"Open In Colab\"/></a>"
      ]
    },
    {
      "cell_type": "markdown",
      "id": "5624ff8f",
      "metadata": {
        "id": "5624ff8f"
      },
      "source": [
        "# **Data generation**"
      ]
    },
    {
      "cell_type": "code",
      "execution_count": 4,
      "id": "6cf46b0a",
      "metadata": {
        "id": "6cf46b0a"
      },
      "outputs": [],
      "source": [
        "import numpy as np\n",
        "import pandas as pd\n",
        "import simpy\n",
        "from scipy import stats"
      ]
    },
    {
      "cell_type": "code",
      "source": [],
      "metadata": {
        "id": "OzA_R3FFUOp9"
      },
      "id": "OzA_R3FFUOp9",
      "execution_count": 4,
      "outputs": []
    },
    {
      "cell_type": "markdown",
      "id": "074f586f",
      "metadata": {
        "id": "074f586f"
      },
      "source": [
        "1. Set random seed for reproducibility"
      ]
    },
    {
      "cell_type": "code",
      "execution_count": 5,
      "id": "7d90070b",
      "metadata": {
        "id": "7d90070b"
      },
      "outputs": [],
      "source": [
        "# to ensure the reproducable synthetic data generation\n",
        "np.random.seed(42)"
      ]
    },
    {
      "cell_type": "markdown",
      "id": "f165b49f",
      "metadata": {
        "id": "f165b49f"
      },
      "source": [
        "2. Generate patient arrival times using poisson process"
      ]
    },
    {
      "cell_type": "code",
      "execution_count": 6,
      "id": "0d5d4a88",
      "metadata": {
        "id": "0d5d4a88"
      },
      "outputs": [],
      "source": [
        "arrival_rate_per_hour = 40\n",
        "simulation_duration_hours = 24\n",
        "\n",
        "#total patient count\n",
        "num_patients = np.random.poisson(lam=arrival_rate_per_hour * simulation_duration_hours)"
      ]
    },
    {
      "cell_type": "code",
      "execution_count": 7,
      "id": "7a02226d",
      "metadata": {
        "id": "7a02226d"
      },
      "outputs": [],
      "source": [
        "#inter-arrival times (in hours) from exponential distribution\n",
        "inter_arrival_times = np.random.exponential(scale=1/arrival_rate_per_hour, size=num_patients)"
      ]
    },
    {
      "cell_type": "code",
      "source": [
        "#cumulative arrival times\n",
        "arrival_times = np.cumsum(inter_arrival_times)"
      ],
      "metadata": {
        "id": "oRA933QzK9C1"
      },
      "id": "oRA933QzK9C1",
      "execution_count": 8,
      "outputs": []
    },
    {
      "cell_type": "markdown",
      "source": [
        "Arrivals example for data verfification:"
      ],
      "metadata": {
        "id": "gDWn4odZQMeR"
      },
      "id": "gDWn4odZQMeR"
    },
    {
      "cell_type": "code",
      "source": [
        "print(\"Sample of Patient Arrival Times:\")\n",
        "for i, arrival in enumerate(arrival_times[:5], start=1):\n",
        "    hours = int(arrival)\n",
        "    minutes = int((arrival - hours) * 60)\n",
        "    print(f\"  Patient {i}: {hours} hours and {minutes} minutes after simulation start\")"
      ],
      "metadata": {
        "colab": {
          "base_uri": "https://localhost:8080/"
        },
        "id": "g0XK-ZN6LC2F",
        "outputId": "71209aa8-7efe-4229-b955-82632cb94758"
      },
      "id": "g0XK-ZN6LC2F",
      "execution_count": 9,
      "outputs": [
        {
          "output_type": "stream",
          "name": "stdout",
          "text": [
            "Sample of Patient Arrival Times:\n",
            "  Patient 1: 0 hours and 1 minutes after simulation start\n",
            "  Patient 2: 0 hours and 3 minutes after simulation start\n",
            "  Patient 3: 0 hours and 3 minutes after simulation start\n",
            "  Patient 4: 0 hours and 3 minutes after simulation start\n",
            "  Patient 5: 0 hours and 3 minutes after simulation start\n"
          ]
        }
      ]
    },
    {
      "cell_type": "markdown",
      "source": [
        "3. Assign Triage Categories with Weighted Sampling"
      ],
      "metadata": {
        "id": "-Q4fvfIYL2xU"
      },
      "id": "-Q4fvfIYL2xU"
    },
    {
      "cell_type": "code",
      "source": [
        "# triage levels and their empirical probabilities\n",
        "triage_levels = [1, 2, 3, 4, 5]\n",
        "triage_probabilities = [0.1, 0.2, 0.3, 0.25, 0.15]"
      ],
      "metadata": {
        "id": "y1NI_5p3NCsO"
      },
      "id": "y1NI_5p3NCsO",
      "execution_count": 10,
      "outputs": []
    },
    {
      "cell_type": "code",
      "source": [
        "#random assign triage categories to each patient\n",
        "assigned_triage = np.random.choice(triage_levels, size=num_patients, p=triage_probabilities)"
      ],
      "metadata": {
        "id": "piLkLw2BNHfC"
      },
      "id": "piLkLw2BNHfC",
      "execution_count": 11,
      "outputs": []
    },
    {
      "cell_type": "code",
      "source": [
        "# Display normalized frequency distribution\n",
        "print(\"Normalized triage distribution:\")\n",
        "print(pd.Series(assigned_triage).value_counts(normalize=True).sort_index())"
      ],
      "metadata": {
        "colab": {
          "base_uri": "https://localhost:8080/"
        },
        "id": "LG4mgVpgNOTh",
        "outputId": "0432398d-2533-45a9-f5a1-5941bb444456"
      },
      "id": "LG4mgVpgNOTh",
      "execution_count": 12,
      "outputs": [
        {
          "output_type": "stream",
          "name": "stdout",
          "text": [
            "Normalized triage distribution:\n",
            "1    0.106428\n",
            "2    0.193888\n",
            "3    0.268704\n",
            "4    0.276080\n",
            "5    0.154900\n",
            "Name: proportion, dtype: float64\n"
          ]
        }
      ]
    },
    {
      "cell_type": "markdown",
      "source": [
        "Visualisation of the triage distribution"
      ],
      "metadata": {
        "id": "vEWqqdeqNWZw"
      },
      "id": "vEWqqdeqNWZw"
    },
    {
      "cell_type": "code",
      "source": [
        "import matplotlib.pyplot as plt\n",
        "import seaborn as sns\n",
        "\n",
        "triage_counts = pd.Series(assigned_triage).value_counts(normalize=True).sort_index()\n",
        "triage_levels = triage_counts.index.astype(str)\n",
        "frequencies = triage_counts.values\n",
        "\n",
        "plt.figure(figsize=(8, 5))\n",
        "sns.barplot(x=triage_levels, y=frequencies, hue=triage_levels, palette=\"viridis\", dodge=False, legend=False)\n",
        "\n",
        "plt.xlabel('Triage Category', fontsize=12)\n",
        "plt.ylabel('Proportion of Patients', fontsize=12)\n",
        "plt.title('Normalized Distribution of Triage Categories', fontsize=14)\n",
        "\n",
        "#Show proportion values on top of bars\n",
        "for i, freq in enumerate(frequencies):\n",
        "    plt.text(i, freq + 0.01, f'{freq:.2f}', ha='center', fontsize=10)\n",
        "plt.ylim(0, max(frequencies) + 0.1)\n",
        "plt.show()"
      ],
      "metadata": {
        "colab": {
          "base_uri": "https://localhost:8080/",
          "height": 441
        },
        "id": "1OXBMra8NdG7",
        "outputId": "901572a8-90cd-48d2-9c35-748bfd3b1d7c"
      },
      "id": "1OXBMra8NdG7",
      "execution_count": 13,
      "outputs": [
        {
          "output_type": "display_data",
          "data": {
            "text/plain": [
              "<Figure size 800x500 with 1 Axes>"
            ],
            "image/png": "[encoded data removed]"
          },
          "metadata": {}
        }
      ]
    },
    {
      "cell_type": "markdown",
      "source": [
        "4. Simulate diagnostic testing requirements with Bernoulli Trials"
      ],
      "metadata": {
        "id": "tMDgajqTN0ls"
      },
      "id": "tMDgajqTN0ls"
    },
    {
      "cell_type": "code",
      "source": [
        "#probability of requiring diagn. testing - 30% is typical for clinical studies\n",
        "diagnostic_probability = 0.3"
      ],
      "metadata": {
        "id": "ocrljqmfN6nx"
      },
      "id": "ocrljqmfN6nx",
      "execution_count": 14,
      "outputs": []
    },
    {
      "cell_type": "code",
      "source": [
        "# binary diagnostic requirement flags to patients\n",
        "requires_diagnostics = np.random.binomial(n=1, p=diagnostic_probability, size=num_patients)"
      ],
      "metadata": {
        "id": "aalkKatXOGEx"
      },
      "id": "aalkKatXOGEx",
      "execution_count": 15,
      "outputs": []
    },
    {
      "cell_type": "code",
      "source": [
        "print(f\"Percentage of patients requiring diagnostics: {requires_diagnostics.mean() * 100:.2f}%\")"
      ],
      "metadata": {
        "colab": {
          "base_uri": "https://localhost:8080/"
        },
        "id": "UfKxLgBNOKa5",
        "outputId": "b22cdaf8-6164-42cb-dd0f-a1529c9fea27"
      },
      "id": "UfKxLgBNOKa5",
      "execution_count": 16,
      "outputs": [
        {
          "output_type": "stream",
          "name": "stdout",
          "text": [
            "Percentage of patients requiring diagnostics: 29.82%\n"
          ]
        }
      ]
    },
    {
      "cell_type": "markdown",
      "source": [
        "**5. Sample process durations using Triangular Distributions**\n",
        "\n",
        "to avoid zero to negative values & return array of samples."
      ],
      "metadata": {
        "id": "09AqaI3nOYVp"
      },
      "id": "09AqaI3nOYVp"
    },
    {
      "cell_type": "markdown",
      "source": [
        "parameters:\n",
        "\n",
        "*  minimum: minimum value of distribution\n",
        "*  mode: most likely (peak) value\n",
        "*  maximum: maximum value\n",
        "*  sample_size: number of samples to generate"
      ],
      "metadata": {
        "id": "OYrsHxZtO1CV"
      },
      "id": "OYrsHxZtO1CV"
    },
    {
      "cell_type": "code",
      "source": [
        "def triangular_sample(minimum, mode, maximum, sample_size):\n",
        "  samples = np.random.triangular(left=minimum, mode=mode, right=maximum, size=sample_size)\n",
        "  return np.clip(samples, a_min=0.1, a_max=None)  # ensures positive durations"
      ],
      "metadata": {
        "id": "w2WvAR25OcKL"
      },
      "id": "w2WvAR25OcKL",
      "execution_count": 17,
      "outputs": []
    },
    {
      "cell_type": "code",
      "source": [
        "# sample process durations in minutes for each patient\n",
        "\n",
        "triage_times = triangular_sample(5, 10, 15, num_patients)\n",
        "registration_times = triangular_sample(3, 7, 12, num_patients)\n",
        "consultation_times = triangular_sample(15, 25, 40, num_patients)\n",
        "diagnostic_times = triangular_sample(20, 30, 45, num_patients)\n",
        "treatment_times = triangular_sample(10, 20, 35, num_patients)"
      ],
      "metadata": {
        "id": "VcHfkoiyPQk5"
      },
      "id": "VcHfkoiyPQk5",
      "execution_count": 18,
      "outputs": []
    },
    {
      "cell_type": "code",
      "source": [
        "# setting diagnostics to 0 for pations not requiring it\n",
        "diagnostic_times *= requires_diagnostics"
      ],
      "metadata": {
        "id": "YkKwBhUaPWjJ"
      },
      "id": "YkKwBhUaPWjJ",
      "execution_count": 19,
      "outputs": []
    },
    {
      "cell_type": "code",
      "source": [
        "print(\"Sample of Consultation Times (minutes):\")\n",
        "for i, time in enumerate(consultation_times[:5], start=1):\n",
        "    print(f\"  Patient {i}: {time:.2f} minutes\")"
      ],
      "metadata": {
        "colab": {
          "base_uri": "https://localhost:8080/"
        },
        "id": "-JQJ3_4GPdGG",
        "outputId": "9128f327-40d3-4b9e-a1b6-f54ca98d49ed"
      },
      "id": "-JQJ3_4GPdGG",
      "execution_count": 20,
      "outputs": [
        {
          "output_type": "stream",
          "name": "stdout",
          "text": [
            "Sample of Consultation Times (minutes):\n",
            "  Patient 1: 18.12 minutes\n",
            "  Patient 2: 24.90 minutes\n",
            "  Patient 3: 31.39 minutes\n",
            "  Patient 4: 24.24 minutes\n",
            "  Patient 5: 25.56 minutes\n"
          ]
        }
      ]
    },
    {
      "cell_type": "markdown",
      "source": [
        "6. Gather generated variables into chronologically ordered dataset for further simulation (both control and manipulated scenarios)"
      ],
      "metadata": {
        "id": "zVJxD8KgQ0zg"
      },
      "id": "zVJxD8KgQ0zg"
    },
    {
      "cell_type": "code",
      "source": [
        "ed_patient_data = pd.DataFrame({\n",
        "    'arrival_time_hr': arrival_times,   #hours since simulation start\n",
        "    'triage_category': assigned_triage,  #triage levels 1–5\n",
        "    'requires_diagnostics': requires_diagnostics,   #booleans\n",
        "    'triage_time_min': triage_times,  #continuous var-s, process durations in minutes\n",
        "    'registration_time_min': registration_times,\n",
        "    'consultation_time_min': consultation_times,\n",
        "    'diagnostic_time_min': diagnostic_times,\n",
        "    'treatment_time_min': treatment_times\n",
        "})"
      ],
      "metadata": {
        "id": "VqyhxNMxRIur"
      },
      "id": "VqyhxNMxRIur",
      "execution_count": 21,
      "outputs": []
    },
    {
      "cell_type": "code",
      "source": [
        "#sort dataset by arrival time to ensure the correct event sequencing\n",
        "ed_patient_data.sort_values('arrival_time_hr', inplace=True)\n",
        "ed_patient_data.reset_index(drop=True, inplace=True)"
      ],
      "metadata": {
        "id": "UFPJuMLgRVnb"
      },
      "id": "UFPJuMLgRVnb",
      "execution_count": 22,
      "outputs": []
    },
    {
      "cell_type": "code",
      "source": [
        "# how the dataset looks like (what's stored inside, not easy to analyse)\n",
        "print(ed_patient_data.head())"
      ],
      "metadata": {
        "colab": {
          "base_uri": "https://localhost:8080/"
        },
        "id": "yEONI7j-RbTf",
        "outputId": "b632b8c8-eaa1-4abb-efad-556864724144"
      },
      "id": "yEONI7j-RbTf",
      "execution_count": 23,
      "outputs": [
        {
          "output_type": "stream",
          "name": "stdout",
          "text": [
            "   arrival_time_hr  triage_category  requires_diagnostics  triage_time_min  \\\n",
            "0         0.032919                4                     0         9.234256   \n",
            "1         0.055742                2                     0        10.856518   \n",
            "2         0.059983                5                     1         8.466979   \n",
            "3         0.064223                3                     0         8.095101   \n",
            "4         0.065719                3                     1        12.978108   \n",
            "\n",
            "   registration_time_min  consultation_time_min  diagnostic_time_min  \\\n",
            "0               5.492160              18.120811             0.000000   \n",
            "1               7.590787              24.897107             0.000000   \n",
            "2               6.266324              31.391903            42.557368   \n",
            "3              10.333929              24.236401             0.000000   \n",
            "4               9.144008              25.562853            28.585121   \n",
            "\n",
            "   treatment_time_min  \n",
            "0           20.133074  \n",
            "1           28.833465  \n",
            "2           28.762714  \n",
            "3           24.143771  \n",
            "4           27.727979  \n"
          ]
        }
      ]
    },
    {
      "cell_type": "code",
      "source": [
        "#sort and reset index\n",
        "ed_patient_data.sort_values('arrival_time_hr', inplace=True)\n",
        "ed_patient_data.reset_index(drop=True, inplace=True)\n",
        "# verify with the previous one - compare\n",
        "print(ed_patient_data.head())"
      ],
      "metadata": {
        "colab": {
          "base_uri": "https://localhost:8080/"
        },
        "id": "3BjnfFLFa_A7",
        "outputId": "2259c3bb-c6e4-473f-cd7c-6918986343a2"
      },
      "id": "3BjnfFLFa_A7",
      "execution_count": 24,
      "outputs": [
        {
          "output_type": "stream",
          "name": "stdout",
          "text": [
            "   arrival_time_hr  triage_category  requires_diagnostics  triage_time_min  \\\n",
            "0         0.032919                4                     0         9.234256   \n",
            "1         0.055742                2                     0        10.856518   \n",
            "2         0.059983                5                     1         8.466979   \n",
            "3         0.064223                3                     0         8.095101   \n",
            "4         0.065719                3                     1        12.978108   \n",
            "\n",
            "   registration_time_min  consultation_time_min  diagnostic_time_min  \\\n",
            "0               5.492160              18.120811             0.000000   \n",
            "1               7.590787              24.897107             0.000000   \n",
            "2               6.266324              31.391903            42.557368   \n",
            "3              10.333929              24.236401             0.000000   \n",
            "4               9.144008              25.562853            28.585121   \n",
            "\n",
            "   treatment_time_min  \n",
            "0           20.133074  \n",
            "1           28.833465  \n",
            "2           28.762714  \n",
            "3           24.143771  \n",
            "4           27.727979  \n"
          ]
        }
      ]
    },
    {
      "cell_type": "code",
      "source": [
        "print(\"Sample of Generated Patient Data (first 5 rows):\\n\")\n",
        "\n",
        "# Select relevant columns for display\n",
        "sample = ed_patient_data.head()\n",
        "\n",
        "# Rename columns with descriptive headers for clarity\n",
        "sample = sample.rename(columns={\n",
        "    'arrival_time_hr': 'Arrival',\n",
        "    'triage_category': 'TriageCat.',\n",
        "    'requires_diagnostics': 'Needs Diagn.?',\n",
        "    'triage_time_min': 'Triage(min)',\n",
        "    'registration_time_min': 'Registr.(min)',\n",
        "    'consultation_time_min': 'Consult.(min)',\n",
        "    'diagnostic_time_min': 'Diagnostic(min)',\n",
        "    'treatment_time_min': 'Treatment(min)'\n",
        "})\n",
        "\n",
        "print(sample.to_string(index=False))"
      ],
      "metadata": {
        "colab": {
          "base_uri": "https://localhost:8080/"
        },
        "id": "_q4A3erFRv9C",
        "outputId": "7166ce45-9715-42c8-bfef-3837ab3624ff"
      },
      "id": "_q4A3erFRv9C",
      "execution_count": 25,
      "outputs": [
        {
          "output_type": "stream",
          "name": "stdout",
          "text": [
            "Sample of Generated Patient Data (first 5 rows):\n",
            "\n",
            " Arrival  TriageCat.  Needs Diagn.?  Triage(min)  Registr.(min)  Consult.(min)  Diagnostic(min)  Treatment(min)\n",
            "0.032919           4              0     9.234256       5.492160      18.120811         0.000000       20.133074\n",
            "0.055742           2              0    10.856518       7.590787      24.897107         0.000000       28.833465\n",
            "0.059983           5              1     8.466979       6.266324      31.391903        42.557368       28.762714\n",
            "0.064223           3              0     8.095101      10.333929      24.236401         0.000000       24.143771\n",
            "0.065719           3              1    12.978108       9.144008      25.562853        28.585121       27.727979\n"
          ]
        }
      ]
    },
    {
      "cell_type": "markdown",
      "source": [
        "Visuals of the dataset by triage category"
      ],
      "metadata": {
        "id": "QHImWd0aTlCg"
      },
      "id": "QHImWd0aTlCg"
    },
    {
      "cell_type": "code",
      "source": [
        "import matplotlib.patches as mpatches\n",
        "\n",
        "palette = sns.color_palette(\"Set1\", n_colors=5)\n",
        "\n",
        "\n",
        "plot_data = ed_patient_data[['triage_category', 'consultation_time_min']].copy()\n",
        "plot_data['triage_category'] = plot_data['triage_category'].astype('category')\n",
        "\n",
        "\n",
        "plt.figure(figsize=(12, 6))\n",
        "hist = sns.histplot(\n",
        "    data=plot_data,\n",
        "    x='consultation_time_min',\n",
        "    hue='triage_category',\n",
        "    multiple='stack',\n",
        "    palette=palette,\n",
        "    bins=30,\n",
        "    edgecolor='black',\n",
        "    alpha=0.75\n",
        ")\n",
        "\n",
        "plt.title('Consultation Time Distribution by Triage Category', fontsize=16)\n",
        "plt.xlabel('Consultation Time (minutes)', fontsize=13)\n",
        "plt.ylabel('Count', fontsize=13)\n",
        "plt.grid(True, linestyle='--', alpha=0.5)\n",
        "plt.tight_layout()\n",
        "\n",
        "triage_labels = ['1 - Critical', '2 - High', '3 - Moderate', '4 - Low', '5 - Minor']\n",
        "handles = [mpatches.Patch(color=palette[i], label=triage_labels[i]) for i in range(len(triage_labels))]\n",
        "\n",
        "plt.legend(handles=handles, title='Triage Category', title_fontsize=13, fontsize=11, loc='upper right')\n",
        "\n",
        "plt.show()"
      ],
      "metadata": {
        "colab": {
          "base_uri": "https://localhost:8080/",
          "height": 329
        },
        "id": "gdpbuj-pSoyw",
        "outputId": "a5521ba0-3c9f-4f62-ad42-0c9fe1ff4bfb"
      },
      "id": "gdpbuj-pSoyw",
      "execution_count": 26,
      "outputs": [
        {
          "output_type": "display_data",
          "data": {
            "text/plain": [
              "<Figure size 1200x600 with 1 Axes>"
            ],
            "image/png": "[encoded data removed]"
          },
          "metadata": {}
        }
      ]
    },
    {
      "cell_type": "markdown",
      "source": [
        "# KPIs"
      ],
      "metadata": {
        "id": "rrnZ5WOVcegL"
      },
      "id": "rrnZ5WOVcegL"
    },
    {
      "cell_type": "markdown",
      "source": [
        "Collect and store KPIs across simulations"
      ],
      "metadata": {
        "id": "fhd14zP4comz"
      },
      "id": "fhd14zP4comz"
    },
    {
      "cell_type": "code",
      "source": [
        "class KPICollector:\n",
        "    def __init__(self):\n",
        "        self.waiting_times = []\n",
        "        self.length_of_stay = []\n",
        "        self.diverted_patients = 0\n",
        "        self.doctor_busy_time = 0.0\n",
        "        self.bed_busy_time = 0.0\n",
        "        self.surgical_room_busy_time = 0.0\n",
        "        self.diagnostic_room_busy_time = 0.0\n",
        "\n",
        "    def reset(self):\n",
        "        self.waiting_times.clear()\n",
        "        self.length_of_stay.clear()\n",
        "        self.diverted_patients = 0\n",
        "        self.doctor_busy_time = 0.0\n",
        "        self.bed_busy_time = 0.0\n",
        "        self.surgical_room_busy_time = 0.0\n",
        "        self.diagnostic_room_busy_time = 0.0\n",
        "\n",
        "    def aggregate(self, other):\n",
        "        self.waiting_times.extend(other.waiting_times)\n",
        "        self.length_of_stay.extend(other.length_of_stay)\n",
        "        self.diverted_patients += other.diverted_patients\n",
        "        self.doctor_busy_time += other.doctor_busy_time\n",
        "        self.bed_busy_time += other.bed_busy_time\n",
        "        self.surgical_room_busy_time += other.surgical_room_busy_time\n",
        "        self.diagnostic_room_busy_time += other.diagnostic_room_busy_time\n"
      ],
      "metadata": {
        "id": "uO-lV61fclHE"
      },
      "id": "uO-lV61fclHE",
      "execution_count": 27,
      "outputs": []
    },
    {
      "cell_type": "code",
      "source": [
        "from scipy import stats"
      ],
      "metadata": {
        "id": "nstcy2somRn1"
      },
      "id": "nstcy2somRn1",
      "execution_count": 28,
      "outputs": []
    },
    {
      "cell_type": "code",
      "source": [
        "def kpi_statistics(data):\n",
        "    if len(data) == 0:\n",
        "        return {'mean': None, 'median': None, 'mode': None, 'std_dev': None}\n",
        "    mode_val = stats.mode(data, keepdims=False).mode\n",
        "    return {\n",
        "        'mean': np.mean(data),\n",
        "        'median': np.median(data),\n",
        "        'mode': mode_val,\n",
        "        'std_dev': np.std(data, ddof=1)\n",
        "    }"
      ],
      "metadata": {
        "id": "q0k43EV4l7-G"
      },
      "id": "q0k43EV4l7-G",
      "execution_count": 29,
      "outputs": []
    },
    {
      "cell_type": "code",
      "source": [
        "def utilization_stats(label, busy_time, capacity, sim_hours):\n",
        "    utilization_pct = (busy_time / (capacity * sim_hours)) * 100\n",
        "    print(f\"{label}: {utilization_pct:.2f}% average utilization\")"
      ],
      "metadata": {
        "id": "FpG2_Et5vEso"
      },
      "id": "FpG2_Et5vEso",
      "execution_count": 30,
      "outputs": []
    },
    {
      "cell_type": "code",
      "source": [
        "def print_resource_utilization(replication_results, scenario_name):\n",
        "    num_replications = len(replication_results)\n",
        "\n",
        "    total_doctor_busy = sum(res.doctor_busy_time for res in replication_results)\n",
        "    total_bed_busy = sum(res.bed_busy_time for res in replication_results)\n",
        "    total_surgical_busy = sum(res.surgical_room_busy_time for res in replication_results)\n",
        "    total_diagnostic_busy = sum(res.diagnostic_room_busy_time for res in replication_results)\n",
        "\n",
        "    print(f\"\\n{scenario_name} Resource Utilizations:\")\n",
        "    utilization_stats(\"Doctor Utilization\", total_doctor_busy, DOCTOR_CAPACITY, SIM_TIME_HOURS * num_replications)\n",
        "    utilization_stats(\"Bed Utilization\", total_bed_busy, BED_CAPACITY, SIM_TIME_HOURS * num_replications)\n",
        "    utilization_stats(\"Surgical Room Utilization\", total_surgical_busy, SURGICAL_ROOM_CAPACITY, SIM_TIME_HOURS * num_replications)\n",
        "    utilization_stats(\"Diagnostic Room Utilization\", total_diagnostic_busy, DIAGNOSTIC_ROOM_CAPASITY, SIM_TIME_HOURS * num_replications)"
      ],
      "metadata": {
        "id": "3OT7B3gw4Yx6"
      },
      "id": "3OT7B3gw4Yx6",
      "execution_count": 31,
      "outputs": []
    },
    {
      "cell_type": "code",
      "source": [
        "def print_kpi_stats(label, stats):\n",
        "    print(f\"{label}:\")\n",
        "    print(f\"  Mean   : {float(stats['mean']):.2f} hours\")\n",
        "    print(f\"  Median : {float(stats['median']):.2f} hours\")\n",
        "    print(f\"  Mode   : {float(stats['mode']):.2f} hours\")\n",
        "    print(f\"  Std Dev: {float(stats['std_dev']):.2f} hours\\n\")\n"
      ],
      "metadata": {
        "id": "GR3ZxrC8TVwu"
      },
      "id": "GR3ZxrC8TVwu",
      "execution_count": 32,
      "outputs": []
    },
    {
      "cell_type": "markdown",
      "source": [
        "# Control scenario simulation"
      ],
      "metadata": {
        "id": "WlECVt6kaUGt"
      },
      "id": "WlECVt6kaUGt"
    },
    {
      "cell_type": "markdown",
      "source": [
        "1. Setting the baseline scenario basic resources (including human resources) capacities and data assumptions"
      ],
      "metadata": {
        "id": "pdmwaGN1efvI"
      },
      "id": "pdmwaGN1efvI"
    },
    {
      "cell_type": "code",
      "source": [
        "DOCTOR_CAPACITY = 4\n",
        "BED_CAPACITY = 15\n",
        "SURGICAL_ROOM_CAPACITY = 1\n",
        "DIAGNOSTIC_ROOM_CAPASITY = 5"
      ],
      "metadata": {
        "id": "7iMEXWBetHG0"
      },
      "id": "7iMEXWBetHG0",
      "execution_count": 33,
      "outputs": []
    },
    {
      "cell_type": "code",
      "source": [
        "SIM_TIME_HOURS = 48 # two days simulation"
      ],
      "metadata": {
        "id": "F1JSvsw1euw8"
      },
      "id": "F1JSvsw1euw8",
      "execution_count": 34,
      "outputs": []
    },
    {
      "cell_type": "markdown",
      "source": [
        "## Patient process"
      ],
      "metadata": {
        "id": "0gzOQ-6EfPpM"
      },
      "id": "0gzOQ-6EfPpM"
    },
    {
      "cell_type": "markdown",
      "source": [
        "journey of one patient within ED. Max steps are:\n",
        "\n",
        "\n",
        "1. triage identification\n",
        "2. registration *time resource\n",
        "3. consultation *doctor, time resource\n",
        "4. diagnostics *, doctor, capacity of diagnostical rooms/equipment, time resource\n",
        "5. admission decision n possible treatment incl. surgery *bed + surgical room + doctor, time capacity\n",
        "\n"
      ],
      "metadata": {
        "id": "K3p7rA-Bgaek"
      },
      "id": "K3p7rA-Bgaek"
    },
    {
      "cell_type": "code",
      "source": [
        "def patient_process(env, patient_id, patient_data, doctors, beds, diagnostic_rooms, surgical_rooms, kpi):\n",
        "\n",
        "    arrival_time = patient_data.loc[patient_id, 'arrival_time_hr']\n",
        "    #wait for arrival\n",
        "    yield env.timeout(max(0, arrival_time - env.now))\n",
        "\n",
        "    start_time = env.now\n",
        "\n",
        "    # Triage identif. and registration(assumed unconstrained)\n",
        "    yield env.timeout(patient_data.loc[patient_id, 'triage_time_min'] / 60)\n",
        "    yield env.timeout(patient_data.loc[patient_id, 'registration_time_min'] / 60)\n",
        "\n",
        "    #Consultation\n",
        "    with doctors.request() as req:\n",
        "        yield req\n",
        "        wait_time = env.now - start_time\n",
        "        kpi.waiting_times.append(wait_time)\n",
        "        consult_duration = patient_data.loc[patient_id, 'consultation_time_min'] / 60\n",
        "        kpi.doctor_busy_time += consult_duration\n",
        "        yield env.timeout(consult_duration)\n",
        "\n",
        "    # Diagnostics / if required\n",
        "    if patient_data.loc[patient_id, 'requires_diagnostics'] == 1:\n",
        "        with diagnostic_rooms.request() as req:\n",
        "            yield req\n",
        "            diag_duration = patient_data.loc[patient_id, 'diagnostic_time_min'] / 60\n",
        "            kpi.diagnostic_room_busy_time += diag_duration\n",
        "            yield env.timeout(diag_duration)\n",
        "\n",
        "    # admission decision / (30% admitted)\n",
        "    admitted = np.random.rand() < 0.3\n",
        "\n",
        "    if admitted:\n",
        "        # bed\n",
        "        with beds.request() as bed_req:\n",
        "            bed_result = yield bed_req | env.timeout(0)  # Non-blocking bed request\n",
        "            if bed_req not in bed_result:\n",
        "                # No beds => patient diverted\n",
        "                kpi.diverted_patients += 1\n",
        "                kpi.length_of_stay.append(env.now - start_time)\n",
        "                return\n",
        "\n",
        "            # decide boolean if surgery is needed /50% of admitted require surgery\n",
        "            surgery_needed = np.random.rand() < 0.5\n",
        "\n",
        "            if surgery_needed:\n",
        "                with surgical_rooms.request() as surg_req:\n",
        "                    yield surg_req\n",
        "                    surgery_duration = patient_data.loc[patient_id, 'surgery_time_min'] / 60\n",
        "                    kpi.surgical_room_busy_time += surgery_duration\n",
        "                    yield env.timeout(surgery_duration)\n",
        "\n",
        "            # treatment duration after surgery || treatment admitted non-surgical patients\n",
        "            treatment_duration = patient_data.loc[patient_id, 'treatment_time_min'] / 60\n",
        "            kpi.bed_busy_time += treatment_duration\n",
        "            yield env.timeout(treatment_duration)\n",
        "\n",
        "    else:\n",
        "        # treatment - no bed or surgical room needed\n",
        "        yield env.timeout(patient_data.loc[patient_id, 'treatment_time_min'] / 60)\n",
        "\n",
        "    # total LOS\n",
        "    kpi.length_of_stay.append(env.now - start_time)\n"
      ],
      "metadata": {
        "id": "ios3jHYmgR3I"
      },
      "id": "ios3jHYmgR3I",
      "execution_count": 35,
      "outputs": []
    },
    {
      "cell_type": "markdown",
      "source": [
        "Changes for initial dataframe to fit the patient process with ***surgery***"
      ],
      "metadata": {
        "id": "RDY-B-p3j-vj"
      },
      "id": "RDY-B-p3j-vj"
    },
    {
      "cell_type": "code",
      "source": [
        "num_patients = len(ed_patient_data)\n",
        "\n",
        "ed_patient_data['surgery_time_min'] = 0.0\n",
        "\n",
        "# 50% require surgery\n",
        "surgery_mask = np.random.binomial(1, 0.5, num_patients).astype(bool)\n",
        "\n",
        "#TriangularDistribution for surgery time: min=60, mode=120, max=180 minutes\n",
        "surgery_times = np.random.triangular(left=60, mode=120, right=180, size=num_patients)\n",
        "\n",
        "# Assign surgery times only for patients selected for surgery\n",
        "ed_patient_data.loc[surgery_mask, 'surgery_time_min'] = surgery_times[surgery_mask]"
      ],
      "metadata": {
        "id": "4iTvxNPokEvd"
      },
      "id": "4iTvxNPokEvd",
      "execution_count": 36,
      "outputs": []
    },
    {
      "cell_type": "markdown",
      "source": [
        "# Simulation function (will use also for manipulated *consitions* later)"
      ],
      "metadata": {
        "id": "Ln8WXQVZh5d1"
      },
      "id": "Ln8WXQVZh5d1"
    },
    {
      "cell_type": "code",
      "source": [
        "def run_control_simulation(patient_data, run_time=SIM_TIME_HOURS):\n",
        "    import simpy\n",
        "    env = simpy.Environment()\n",
        "\n",
        "    doctors = simpy.Resource(env, capacity=DOCTOR_CAPACITY)\n",
        "    beds = simpy.Resource(env, capacity=BED_CAPACITY)\n",
        "    surgical_rooms = simpy.Resource(env, capacity=SURGICAL_ROOM_CAPACITY)\n",
        "    diagnostic_rooms = simpy.Resource(env, capacity=DIAGNOSTIC_ROOM_CAPASITY)\n",
        "\n",
        "    kpi = KPICollector()\n",
        "\n",
        "    for patient_id in patient_data.index:\n",
        "        env.process(patient_process(env, patient_id, patient_data, doctors, beds, diagnostic_rooms, surgical_rooms, kpi))\n",
        "\n",
        "    env.run(until=run_time)\n",
        "\n",
        "    return kpi"
      ],
      "metadata": {
        "id": "XQnoj73Hk4y-"
      },
      "id": "XQnoj73Hk4y-",
      "execution_count": 37,
      "outputs": []
    },
    {
      "cell_type": "markdown",
      "source": [
        "Run simulation  10 times"
      ],
      "metadata": {
        "id": "nF3PQ2G7jGuo"
      },
      "id": "nF3PQ2G7jGuo"
    },
    {
      "cell_type": "code",
      "source": [
        "num_replications = 10\n",
        "replication_results = []\n",
        "\n",
        "for i in range(num_replications):\n",
        "    kpi = run_control_simulation(ed_patient_data, run_time=SIM_TIME_HOURS)\n",
        "    replication_results.append(kpi)\n",
        "\n",
        "#Aggregate KPIs from all replications\n",
        "all_waiting_times = []\n",
        "all_length_of_stay = []\n",
        "total_diverted = 0\n",
        "\n",
        "for res in replication_results:\n",
        "    all_waiting_times.extend(res.waiting_times)\n",
        "    all_length_of_stay.extend(res.length_of_stay)\n",
        "    total_diverted += res.diverted_patients"
      ],
      "metadata": {
        "id": "1qcot6QUk8I8"
      },
      "id": "1qcot6QUk8I8",
      "execution_count": 38,
      "outputs": []
    },
    {
      "cell_type": "markdown",
      "source": [
        "# KPI statistics  on control scenario"
      ],
      "metadata": {
        "id": "6Oas7ozAlxJ6"
      },
      "id": "6Oas7ozAlxJ6"
    },
    {
      "cell_type": "code",
      "source": [
        "# Calculate aggregated statistics\n",
        "waiting_stats = kpi_statistics(all_waiting_times)\n",
        "los_stats = kpi_statistics(all_length_of_stay)"
      ],
      "metadata": {
        "id": "fgDaVxyCl3p1"
      },
      "id": "fgDaVxyCl3p1",
      "execution_count": 39,
      "outputs": []
    },
    {
      "cell_type": "code",
      "source": [
        "print_kpi_stats(\"Aggregated Waiting Time Statistics\", waiting_stats)\n",
        "print_kpi_stats(\"Aggregated Length of Stay Statistics\", los_stats)\n",
        "print(f\"Aggregated Total Diverted Patients: {total_diverted}\\n\")"
      ],
      "metadata": {
        "colab": {
          "base_uri": "https://localhost:8080/"
        },
        "id": "JlmUv-kzmAT1",
        "outputId": "b4b7b181-7ed8-4044-a9bb-1057b83903db"
      },
      "id": "JlmUv-kzmAT1",
      "execution_count": 40,
      "outputs": [
        {
          "output_type": "stream",
          "name": "stdout",
          "text": [
            "Aggregated Waiting Time Statistics:\n",
            "  Mean   : 18.90 hours\n",
            "  Median : 19.11 hours\n",
            "  Mode   : 0.25 hours\n",
            "  Std Dev: 10.81 hours\n",
            "\n",
            "Aggregated Length of Stay Statistics:\n",
            "  Mean   : 19.93 hours\n",
            "  Median : 20.62 hours\n",
            "  Mode   : 0.88 hours\n",
            "  Std Dev: 10.65 hours\n",
            "\n",
            "Aggregated Total Diverted Patients: 154\n",
            "\n"
          ]
        }
      ]
    },
    {
      "cell_type": "code",
      "source": [
        "print_resource_utilization(replication_results, \"Control Scenario\")"
      ],
      "metadata": {
        "colab": {
          "base_uri": "https://localhost:8080/"
        },
        "id": "4_8UDSuO2HyY",
        "outputId": "222ac0b3-fb2a-4610-dfc9-79a8ba8b6182"
      },
      "id": "4_8UDSuO2HyY",
      "execution_count": 41,
      "outputs": [
        {
          "output_type": "stream",
          "name": "stdout",
          "text": [
            "\n",
            "Control Scenario Resource Utilizations:\n",
            "Doctor Utilization: 99.80% average utilization\n",
            "Bed Utilization: 5.12% average utilization\n",
            "Surgical Room Utilization: 93.71% average utilization\n",
            "Diagnostic Room Utilization: 28.39% average utilization\n"
          ]
        }
      ]
    },
    {
      "cell_type": "markdown",
      "source": [
        "# Manipulated 1 - fast track for minor cases"
      ],
      "metadata": {
        "id": "H2_tQUdkvxIk"
      },
      "id": "H2_tQUdkvxIk"
    },
    {
      "cell_type": "code",
      "source": [
        "FAST_TRACK_DOCTOR_CAPACITY = 5"
      ],
      "metadata": {
        "id": "-_fnllLUv1PX"
      },
      "id": "-_fnllLUv1PX",
      "execution_count": 42,
      "outputs": []
    },
    {
      "cell_type": "markdown",
      "source": [
        "### patient process with a fast track"
      ],
      "metadata": {
        "id": "n7Hs-Qx0zWms"
      },
      "id": "n7Hs-Qx0zWms"
    },
    {
      "cell_type": "code",
      "source": [
        "def patient_process_fast_track(env, patient_id, patient_data, doctors, beds, diagnostic_rooms, surgical_rooms, fast_track_doctors, kpi):\n",
        "    arrival = patient_data.loc[patient_id, 'arrival_time_hr']\n",
        "    yield env.timeout(max(0, arrival - env.now))\n",
        "\n",
        "    start_time = env.now\n",
        "\n",
        "    # Triage and registration\n",
        "    yield env.timeout(patient_data.loc[patient_id, 'triage_time_min'] / 60)\n",
        "    yield env.timeout(patient_data.loc[patient_id, 'registration_time_min'] / 60)\n",
        "\n",
        "    triage_cat = patient_data.loc[patient_id, 'triage_category']\n",
        "\n",
        "    # Doctor pool selection\n",
        "    if triage_cat in [4, 5]:\n",
        "        doctor_resource = fast_track_doctors\n",
        "    else:\n",
        "        doctor_resource = doctors\n",
        "\n",
        "    # Consultation\n",
        "    with doctor_resource.request() as req:\n",
        "        yield req\n",
        "        wait_time = env.now - start_time\n",
        "        kpi.waiting_times.append(wait_time)\n",
        "        duration = patient_data.loc[patient_id, 'consultation_time_min'] / 60\n",
        "        kpi.doctor_busy_time += duration\n",
        "        yield env.timeout(duration)\n",
        "\n",
        "    # Diagnostics if needed\n",
        "    if patient_data.loc[patient_id, 'requires_diagnostics'] == 1:\n",
        "        with diagnostic_rooms.request() as req:\n",
        "            yield req\n",
        "            duration = patient_data.loc[patient_id, 'diagnostic_time_min'] / 60\n",
        "            kpi.diagnostic_room_busy_time += duration\n",
        "            yield env.timeout(duration)\n",
        "\n",
        "    # Admission decision (30%)\n",
        "    admitted = np.random.rand() < 0.3\n",
        "    if admitted:\n",
        "        with beds.request() as req:\n",
        "            result = yield req | env.timeout(0)  # Non-blocking bed request\n",
        "            if req not in result:\n",
        "                kpi.diverted_patients += 1\n",
        "                kpi.length_of_stay.append(env.now - start_time)\n",
        "                return\n",
        "\n",
        "            # Surgery decision for admitted patients (50% chance)\n",
        "            surgery_needed = np.random.rand() < 0.5\n",
        "            if surgery_needed:\n",
        "                with surgical_rooms.request() as surg_req:\n",
        "                    yield surg_req\n",
        "                    surgery_duration = patient_data.loc[patient_id, 'surgery_time_min'] / 60\n",
        "                    kpi.surgical_room_busy_time += surgery_duration\n",
        "                    yield env.timeout(surgery_duration)\n",
        "\n",
        "            # Treatment after surgery or admitted non-surgical patients\n",
        "            treatment_duration = patient_data.loc[patient_id, 'treatment_time_min'] / 60\n",
        "            kpi.bed_busy_time += treatment_duration\n",
        "            yield env.timeout(treatment_duration)\n",
        "    else:\n",
        "        # Treatment without admission (no bed/surgery)\n",
        "        yield env.timeout(patient_data.loc[patient_id, 'treatment_time_min'] / 60)\n",
        "\n",
        "    kpi.length_of_stay.append(env.now - start_time)\n"
      ],
      "metadata": {
        "id": "rZo3YY-jzRiM"
      },
      "id": "rZo3YY-jzRiM",
      "execution_count": 43,
      "outputs": []
    },
    {
      "cell_type": "markdown",
      "source": [
        "### fast track sim runner"
      ],
      "metadata": {
        "id": "0B-HammPzwvA"
      },
      "id": "0B-HammPzwvA"
    },
    {
      "cell_type": "code",
      "source": [
        "def run_fast_track_simulation(patient_data, run_time=SIM_TIME_HOURS):\n",
        "    import simpy\n",
        "    env = simpy.Environment()\n",
        "\n",
        "    doctors = simpy.Resource(env, capacity=DOCTOR_CAPACITY)\n",
        "    fast_track_doctors = simpy.Resource(env, capacity=FAST_TRACK_DOCTOR_CAPACITY)\n",
        "    beds = simpy.Resource(env, capacity=BED_CAPACITY)\n",
        "    surgical_rooms = simpy.Resource(env, capacity=SURGICAL_ROOM_CAPACITY)\n",
        "    diagnostic_rooms = simpy.Resource(env, capacity=DIAGNOSTIC_ROOM_CAPASITY)\n",
        "\n",
        "    kpi = KPICollector()\n",
        "\n",
        "    for patient_id in patient_data.index:\n",
        "        env.process(patient_process_fast_track(env, patient_id, patient_data, doctors, beds,\n",
        "                                              diagnostic_rooms, surgical_rooms, fast_track_doctors, kpi))\n",
        "\n",
        "    env.run(until=run_time)\n",
        "\n",
        "    return kpi"
      ],
      "metadata": {
        "id": "4Jhn38GIzuwl"
      },
      "id": "4Jhn38GIzuwl",
      "execution_count": 44,
      "outputs": []
    },
    {
      "cell_type": "code",
      "source": [
        "num_replications = 10\n",
        "replication_results_ft = []\n",
        "\n",
        "for i in range(num_replications):\n",
        "    kpi = run_fast_track_simulation(ed_patient_data, run_time=SIM_TIME_HOURS)\n",
        "    replication_results_ft.append(kpi)"
      ],
      "metadata": {
        "id": "umqVVZsk02Td"
      },
      "id": "umqVVZsk02Td",
      "execution_count": 45,
      "outputs": []
    },
    {
      "cell_type": "markdown",
      "source": [
        "# KPI stats on scen1"
      ],
      "metadata": {
        "id": "MlFFuRuBz_SR"
      },
      "id": "MlFFuRuBz_SR"
    },
    {
      "cell_type": "code",
      "source": [
        "all_waiting_times_ft = []\n",
        "all_length_of_stay_ft = []\n",
        "total_diverted_ft = 0\n",
        "\n",
        "for res in replication_results_ft:\n",
        "    all_waiting_times_ft.extend(res.waiting_times)\n",
        "    all_length_of_stay_ft.extend(res.length_of_stay)\n",
        "    total_diverted_ft += res.diverted_patients"
      ],
      "metadata": {
        "id": "dYSgko1W0zXE"
      },
      "id": "dYSgko1W0zXE",
      "execution_count": 46,
      "outputs": []
    },
    {
      "cell_type": "code",
      "source": [
        "\n",
        "waiting_stats_ft = kpi_statistics(all_waiting_times_ft)\n",
        "los_stats_ft = kpi_statistics(all_length_of_stay_ft)\n"
      ],
      "metadata": {
        "id": "KWH0oINt0AxM"
      },
      "id": "KWH0oINt0AxM",
      "execution_count": 47,
      "outputs": []
    },
    {
      "cell_type": "code",
      "source": [
        "print_kpi_stats(\"Fast-Track Aggregated Waiting Time Statistics\", waiting_stats_ft)\n",
        "print_kpi_stats(\"Fast-Track Aggregated Length of Stay Statistics\", los_stats_ft)\n",
        "print(f\"Fast-Track Aggregated Total Diverted Patients: {total_diverted_ft}\\n\")"
      ],
      "metadata": {
        "colab": {
          "base_uri": "https://localhost:8080/"
        },
        "id": "nSViFlO90ud0",
        "outputId": "8bf9fcef-5825-4655-ec5d-44f137b7e768"
      },
      "id": "nSViFlO90ud0",
      "execution_count": 48,
      "outputs": [
        {
          "output_type": "stream",
          "name": "stdout",
          "text": [
            "Fast-Track Aggregated Waiting Time Statistics:\n",
            "  Mean   : 10.76 hours\n",
            "  Median : 8.94 hours\n",
            "  Mode   : 0.21 hours\n",
            "  Std Dev: 7.51 hours\n",
            "\n",
            "Fast-Track Aggregated Length of Stay Statistics:\n",
            "  Mean   : 11.92 hours\n",
            "  Median : 10.16 hours\n",
            "  Mode   : 0.88 hours\n",
            "  Std Dev: 7.49 hours\n",
            "\n",
            "Fast-Track Aggregated Total Diverted Patients: 1248\n",
            "\n"
          ]
        }
      ]
    },
    {
      "cell_type": "code",
      "source": [
        "print_resource_utilization(replication_results, \"Control Scenario\")\n",
        "print_resource_utilization(replication_results_ft, \"Fast-Track Scenario\")"
      ],
      "metadata": {
        "colab": {
          "base_uri": "https://localhost:8080/"
        },
        "id": "004788dR3vBC",
        "outputId": "72b42c19-c244-42a1-a79f-9c4c74d232b1"
      },
      "id": "004788dR3vBC",
      "execution_count": 49,
      "outputs": [
        {
          "output_type": "stream",
          "name": "stdout",
          "text": [
            "\n",
            "Control Scenario Resource Utilizations:\n",
            "Doctor Utilization: 99.80% average utilization\n",
            "Bed Utilization: 5.12% average utilization\n",
            "Surgical Room Utilization: 93.71% average utilization\n",
            "Diagnostic Room Utilization: 28.39% average utilization\n",
            "\n",
            "Fast-Track Scenario Resource Utilizations:\n",
            "Doctor Utilization: 194.20% average utilization\n",
            "Bed Utilization: 5.20% average utilization\n",
            "Surgical Room Utilization: 99.61% average utilization\n",
            "Diagnostic Room Utilization: 55.76% average utilization\n"
          ]
        }
      ]
    },
    {
      "cell_type": "markdown",
      "source": [
        "# Manipulated scenario 2 - additional sugical room n diagnostical equipment"
      ],
      "metadata": {
        "id": "a56pRmZs48Ql"
      },
      "id": "a56pRmZs48Ql"
    },
    {
      "cell_type": "code",
      "source": [
        "SCEN2_SURGICAL_ROOM_CAPACITY = 2 #+1\n",
        "SCEN2_DIAGNOSTIC_ROOM_CAPACITY = 7 #+2\n",
        "SCEN2_DOCTOR_CAPACITY = 5  #+1"
      ],
      "metadata": {
        "id": "cnDqoHFT5H2n"
      },
      "id": "cnDqoHFT5H2n",
      "execution_count": 50,
      "outputs": []
    },
    {
      "cell_type": "markdown",
      "source": [
        "## Patient process is the same as baseline"
      ],
      "metadata": {
        "id": "Bpfp50db5UeG"
      },
      "id": "Bpfp50db5UeG"
    },
    {
      "cell_type": "markdown",
      "source": [
        "## runner of simulation function new to accumulate data"
      ],
      "metadata": {
        "id": "o6Isd6Sk5cT5"
      },
      "id": "o6Isd6Sk5cT5"
    },
    {
      "cell_type": "code",
      "source": [
        "def run_scenario2_simulation(patient_data, run_time=SIM_TIME_HOURS):\n",
        "    import simpy\n",
        "    env = simpy.Environment()\n",
        "\n",
        "    doctors = simpy.Resource(env, capacity=SCEN2_DOCTOR_CAPACITY)\n",
        "    beds = simpy.Resource(env, capacity=BED_CAPACITY)  # no change to beds\n",
        "    surgical_rooms = simpy.Resource(env, capacity=SCEN2_SURGICAL_ROOM_CAPACITY)\n",
        "    diagnostic_rooms = simpy.Resource(env, capacity=SCEN2_DIAGNOSTIC_ROOM_CAPACITY)\n",
        "\n",
        "    kpi = KPICollector()\n",
        "\n",
        "    for patient_id in patient_data.index:\n",
        "        env.process(patient_process(env, patient_id, patient_data, doctors, beds, diagnostic_rooms, surgical_rooms, kpi))\n",
        "\n",
        "    env.run(until=run_time)\n",
        "\n",
        "    return kpi\n"
      ],
      "metadata": {
        "id": "zEzxnyrn6PEU"
      },
      "id": "zEzxnyrn6PEU",
      "execution_count": 51,
      "outputs": []
    },
    {
      "cell_type": "code",
      "source": [
        "num_replications = 10\n",
        "replication_results_scen2 = []\n",
        "\n",
        "for i in range(num_replications):\n",
        "    kpi = run_scenario2_simulation(ed_patient_data, run_time=SIM_TIME_HOURS)\n",
        "    replication_results_scen2.append(kpi)"
      ],
      "metadata": {
        "id": "UOZT_k656UAJ"
      },
      "id": "UOZT_k656UAJ",
      "execution_count": 52,
      "outputs": []
    },
    {
      "cell_type": "markdown",
      "source": [
        "# Scen2 KPIs"
      ],
      "metadata": {
        "id": "iAJE9k3-6QDx"
      },
      "id": "iAJE9k3-6QDx"
    },
    {
      "cell_type": "code",
      "source": [
        "all_waiting_times_s2 = []\n",
        "all_length_of_stay_s2 = []\n",
        "total_diverted_s2 = 0\n",
        "\n",
        "for res in replication_results_scen2:\n",
        "    all_waiting_times_s2.extend(res.waiting_times)\n",
        "    all_length_of_stay_s2.extend(res.length_of_stay)\n",
        "    total_diverted_s2 += res.diverted_patients"
      ],
      "metadata": {
        "id": "d6Ju8qnz6ZJH"
      },
      "id": "d6Ju8qnz6ZJH",
      "execution_count": 53,
      "outputs": []
    },
    {
      "cell_type": "code",
      "source": [
        "waiting_stats_s2 = kpi_statistics(all_waiting_times_s2)\n",
        "los_stats_s2 = kpi_statistics(all_length_of_stay_s2)"
      ],
      "metadata": {
        "id": "1mPODGaC6a-c"
      },
      "id": "1mPODGaC6a-c",
      "execution_count": 54,
      "outputs": []
    },
    {
      "cell_type": "code",
      "source": [
        "\n",
        "print_kpi_stats(\"Scenario 2 Aggregated Waiting Time Statistics\", waiting_stats_s2)\n",
        "print_kpi_stats(\"Scenario 2 Aggregated Length of Stay Statistics\", los_stats_s2)\n",
        "print(f\"Scenario 2 Aggregated Total Diverted Patients: {total_diverted_s2}\\n\")"
      ],
      "metadata": {
        "colab": {
          "base_uri": "https://localhost:8080/"
        },
        "id": "f2zGwMsQ6cK7",
        "outputId": "afbdd1b1-1260-4791-9642-6f20f891bced"
      },
      "id": "f2zGwMsQ6cK7",
      "execution_count": 55,
      "outputs": [
        {
          "output_type": "stream",
          "name": "stdout",
          "text": [
            "Scenario 2 Aggregated Waiting Time Statistics:\n",
            "  Mean   : 17.49 hours\n",
            "  Median : 17.43 hours\n",
            "  Mode   : 0.22 hours\n",
            "  Std Dev: 9.92 hours\n",
            "\n",
            "Scenario 2 Aggregated Length of Stay Statistics:\n",
            "  Mean   : 18.19 hours\n",
            "  Median : 18.06 hours\n",
            "  Mode   : 0.88 hours\n",
            "  Std Dev: 9.72 hours\n",
            "\n",
            "Scenario 2 Aggregated Total Diverted Patients: 22\n",
            "\n"
          ]
        }
      ]
    },
    {
      "cell_type": "code",
      "source": [
        "print_resource_utilization(replication_results_scen2, \"Scenario 2\")"
      ],
      "metadata": {
        "colab": {
          "base_uri": "https://localhost:8080/"
        },
        "id": "No8xEm6z6fOD",
        "outputId": "1d4f6709-c6dc-4af8-b6b4-37452747abb0"
      },
      "id": "No8xEm6z6fOD",
      "execution_count": 56,
      "outputs": [
        {
          "output_type": "stream",
          "name": "stdout",
          "text": [
            "\n",
            "Scenario 2 Resource Utilizations:\n",
            "Doctor Utilization: 125.00% average utilization\n",
            "Bed Utilization: 7.69% average utilization\n",
            "Surgical Room Utilization: 160.84% average utilization\n",
            "Diagnostic Room Utilization: 33.46% average utilization\n"
          ]
        }
      ]
    },
    {
      "cell_type": "code",
      "source": [
        "print_resource_utilization(replication_results, \"Control Scenario\")\n",
        "print_resource_utilization(replication_results_ft, \"Fast-Track Scenario\")"
      ],
      "metadata": {
        "colab": {
          "base_uri": "https://localhost:8080/"
        },
        "id": "EUBUF9uq6nCY",
        "outputId": "0b585de7-7b21-41fe-ca38-eef41ac2111b"
      },
      "id": "EUBUF9uq6nCY",
      "execution_count": 57,
      "outputs": [
        {
          "output_type": "stream",
          "name": "stdout",
          "text": [
            "\n",
            "Control Scenario Resource Utilizations:\n",
            "Doctor Utilization: 99.80% average utilization\n",
            "Bed Utilization: 5.12% average utilization\n",
            "Surgical Room Utilization: 93.71% average utilization\n",
            "Diagnostic Room Utilization: 28.39% average utilization\n",
            "\n",
            "Fast-Track Scenario Resource Utilizations:\n",
            "Doctor Utilization: 194.20% average utilization\n",
            "Bed Utilization: 5.20% average utilization\n",
            "Surgical Room Utilization: 99.61% average utilization\n",
            "Diagnostic Room Utilization: 55.76% average utilization\n"
          ]
        }
      ]
    },
    {
      "cell_type": "markdown",
      "source": [
        "# Manipulated Scenario 3 - mixed"
      ],
      "metadata": {
        "id": "25koo783NUQg"
      },
      "id": "25koo783NUQg"
    },
    {
      "cell_type": "markdown",
      "source": [
        "parameters are set again (not to forget, plus can do them const above)"
      ],
      "metadata": {
        "id": "9cG3kr8TXoc8"
      },
      "id": "9cG3kr8TXoc8"
    },
    {
      "cell_type": "code",
      "source": [
        "SCEN2_SURGICAL_ROOM_CAPACITY = 2\n",
        "SCEN2_DIAGNOSTIC_ROOM_CAPACITY = 7\n",
        "SCEN2_DOCTOR_CAPACITY = 5\n",
        "FAST_TRACK_DOCTOR_CAPACITY = 5     #from scen1, fast track doctors\n",
        "BED_CAPACITY = 15"
      ],
      "metadata": {
        "id": "Ri-LOzaRNU7A"
      },
      "id": "Ri-LOzaRNU7A",
      "execution_count": 58,
      "outputs": []
    },
    {
      "cell_type": "markdown",
      "source": [],
      "metadata": {
        "id": "-F6QdS39XuLK"
      },
      "id": "-F6QdS39XuLK"
    },
    {
      "cell_type": "code",
      "source": [
        "def run_scenario3_simulation(patient_data, run_time=SIM_TIME_HOURS):\n",
        "    env = simpy.Environment()\n",
        "\n",
        "    doctors = simpy.Resource(env, capacity=SCEN2_DOCTOR_CAPACITY)\n",
        "    fast_track_doctors = simpy.Resource(env, capacity=FAST_TRACK_DOCTOR_CAPACITY)\n",
        "    beds = simpy.Resource(env, capacity=BED_CAPACITY)\n",
        "    surgical_rooms = simpy.Resource(env, capacity=SCEN2_SURGICAL_ROOM_CAPACITY)\n",
        "    diagnostic_rooms = simpy.Resource(env, capacity=SCEN2_DIAGNOSTIC_ROOM_CAPACITY)\n",
        "\n",
        "    kpi = KPICollector()\n",
        "\n",
        "    for patient_id in patient_data.index:\n",
        "        env.process(patient_process_fast_track(env, patient_id, patient_data,\n",
        "                                              doctors, beds, diagnostic_rooms,\n",
        "                                              surgical_rooms, fast_track_doctors, kpi))\n",
        "\n",
        "    env.run(until=run_time)\n",
        "\n",
        "    return kpi\n"
      ],
      "metadata": {
        "id": "Iq65z8-cQCe3"
      },
      "id": "Iq65z8-cQCe3",
      "execution_count": 59,
      "outputs": []
    },
    {
      "cell_type": "code",
      "source": [
        "\n",
        "num_replications = 10\n",
        "replication_results_s3 = []\n",
        "\n",
        "for i in range(num_replications):\n",
        "    kpi = run_scenario3_simulation(ed_patient_data, run_time=SIM_TIME_HOURS)\n",
        "    replication_results_s3.append(kpi)\n"
      ],
      "metadata": {
        "id": "Yqr04RLjP8Ax"
      },
      "id": "Yqr04RLjP8Ax",
      "execution_count": 60,
      "outputs": []
    },
    {
      "cell_type": "code",
      "source": [
        "\n",
        "all_waiting_times_s3 = []\n",
        "all_length_of_stay_s3 = []\n",
        "total_diverted_s3 = 0"
      ],
      "metadata": {
        "id": "lBU67C73VlFr"
      },
      "id": "lBU67C73VlFr",
      "execution_count": 61,
      "outputs": []
    },
    {
      "cell_type": "code",
      "source": [
        "for res in replication_results_s3:\n",
        "    all_waiting_times_s3.extend(res.waiting_times)\n",
        "    all_length_of_stay_s3.extend(res.length_of_stay)\n",
        "    total_diverted_s3 += res.diverted_patients"
      ],
      "metadata": {
        "id": "g1fEoEaQVrqW"
      },
      "id": "g1fEoEaQVrqW",
      "execution_count": 62,
      "outputs": []
    },
    {
      "cell_type": "markdown",
      "source": [
        "# KPIs scen3 mixed"
      ],
      "metadata": {
        "id": "jfJTWpZCVszs"
      },
      "id": "jfJTWpZCVszs"
    },
    {
      "cell_type": "code",
      "source": [
        "waiting_stats_s3 = kpi_statistics(all_waiting_times_s3)\n",
        "los_stats_s3 = kpi_statistics(all_length_of_stay_s3)\n"
      ],
      "metadata": {
        "id": "8W7gLx7WVwc7"
      },
      "id": "8W7gLx7WVwc7",
      "execution_count": 63,
      "outputs": []
    },
    {
      "cell_type": "code",
      "source": [
        "print_kpi_stats(\"Scenario 3 Aggregated Waiting Time Statistics\", waiting_stats_s3)\n",
        "print_kpi_stats(\"Scenario 3 Aggregated Length of Stay Statistics\", los_stats_s3)\n",
        "print(f\"Scenario 3 Aggregated Total Diverted Patients: {total_diverted_s3}\\n\")"
      ],
      "metadata": {
        "colab": {
          "base_uri": "https://localhost:8080/"
        },
        "id": "ZYV2XC8WVy5M",
        "outputId": "80ce668a-f765-459c-9fb6-49d0e1e3ad5f"
      },
      "id": "ZYV2XC8WVy5M",
      "execution_count": 64,
      "outputs": [
        {
          "output_type": "stream",
          "name": "stdout",
          "text": [
            "Scenario 3 Aggregated Waiting Time Statistics:\n",
            "  Mean   : 9.87 hours\n",
            "  Median : 8.89 hours\n",
            "  Mode   : 0.21 hours\n",
            "  Std Dev: 6.38 hours\n",
            "\n",
            "Scenario 3 Aggregated Length of Stay Statistics:\n",
            "  Mean   : 11.02 hours\n",
            "  Median : 10.12 hours\n",
            "  Mode   : 0.88 hours\n",
            "  Std Dev: 6.30 hours\n",
            "\n",
            "Scenario 3 Aggregated Total Diverted Patients: 865\n",
            "\n"
          ]
        }
      ]
    },
    {
      "cell_type": "code",
      "source": [
        "\n",
        "print_resource_utilization(replication_results_s3, \"Scenario 3\")\n"
      ],
      "metadata": {
        "colab": {
          "base_uri": "https://localhost:8080/"
        },
        "id": "C1RkArXWV023",
        "outputId": "ecf1dc53-c3d2-4b60-d83a-f41cda14bc76"
      },
      "id": "C1RkArXWV023",
      "execution_count": 65,
      "outputs": [
        {
          "output_type": "stream",
          "name": "stdout",
          "text": [
            "\n",
            "Scenario 3 Resource Utilizations:\n",
            "Doctor Utilization: 219.00% average utilization\n",
            "Bed Utilization: 9.35% average utilization\n",
            "Surgical Room Utilization: 194.84% average utilization\n",
            "Diagnostic Room Utilization: 62.17% average utilization\n"
          ]
        }
      ]
    },
    {
      "cell_type": "code",
      "source": [
        "print_resource_utilization(replication_results, \"Control Scenario\")\n",
        "print_resource_utilization(replication_results_ft, \"Fast-Track Scenario\")\n",
        "print_resource_utilization(replication_results_scen2, \"Scenario 2\")"
      ],
      "metadata": {
        "colab": {
          "base_uri": "https://localhost:8080/"
        },
        "id": "96bsAfMgV47H",
        "outputId": "a8d76991-9c7f-46c7-951f-4b1012cf909c"
      },
      "id": "96bsAfMgV47H",
      "execution_count": 66,
      "outputs": [
        {
          "output_type": "stream",
          "name": "stdout",
          "text": [
            "\n",
            "Control Scenario Resource Utilizations:\n",
            "Doctor Utilization: 99.80% average utilization\n",
            "Bed Utilization: 5.12% average utilization\n",
            "Surgical Room Utilization: 93.71% average utilization\n",
            "Diagnostic Room Utilization: 28.39% average utilization\n",
            "\n",
            "Fast-Track Scenario Resource Utilizations:\n",
            "Doctor Utilization: 194.20% average utilization\n",
            "Bed Utilization: 5.20% average utilization\n",
            "Surgical Room Utilization: 99.61% average utilization\n",
            "Diagnostic Room Utilization: 55.76% average utilization\n",
            "\n",
            "Scenario 2 Resource Utilizations:\n",
            "Doctor Utilization: 125.00% average utilization\n",
            "Bed Utilization: 7.69% average utilization\n",
            "Surgical Room Utilization: 160.84% average utilization\n",
            "Diagnostic Room Utilization: 33.46% average utilization\n"
          ]
        }
      ]
    },
    {
      "cell_type": "markdown",
      "source": [
        "# ----------------------------------------"
      ],
      "metadata": {
        "id": "CQO7ZZ2iYYRI"
      },
      "id": "CQO7ZZ2iYYRI"
    },
    {
      "cell_type": "markdown",
      "source": [
        "# KPIs summary"
      ],
      "metadata": {
        "id": "lMDVJL5wY3WX"
      },
      "id": "lMDVJL5wY3WX"
    },
    {
      "cell_type": "code",
      "source": [
        "# Aggregation function — unchanged but complete here for reference\n",
        "def aggregate_kpis(replication_results, scenario_name):\n",
        "    data = []\n",
        "    for res in replication_results:\n",
        "        for wt in res.waiting_times:\n",
        "            data.append({'Scenario': scenario_name, 'KPI': 'Waiting Time', 'Value': wt})\n",
        "        for los in res.length_of_stay:\n",
        "            data.append({'Scenario': scenario_name, 'KPI': 'Length of Stay', 'Value': los})\n",
        "        data.append({'Scenario': scenario_name, 'KPI': 'Diverted Patients', 'Value': res.diverted_patients})\n",
        "        data.append({'Scenario': scenario_name, 'KPI': 'Doctor Busy Time', 'Value': res.doctor_busy_time})\n",
        "        data.append({'Scenario': scenario_name, 'KPI': 'Bed Busy Time', 'Value': res.bed_busy_time})\n",
        "        data.append({'Scenario': scenario_name, 'KPI': 'Surgical Room Busy Time', 'Value': res.surgical_room_busy_time})\n",
        "        data.append({'Scenario': scenario_name, 'KPI': 'Diagnostic Room Busy Time', 'Value': res.diagnostic_room_busy_time})\n",
        "    return pd.DataFrame(data)\n",
        "\n",
        "# Aggregate data for all scenarios\n",
        "df_control = aggregate_kpis(replication_results, 'Control')\n",
        "df_ft = aggregate_kpis(replication_results_ft, 'Fast-Track')\n",
        "df_s2 = aggregate_kpis(replication_results_scen2, 'More Rooms for Surgery and Diagnostics')\n",
        "df_s3 = aggregate_kpis(replication_results_s3, 'Combined')\n",
        "\n",
        "# Combine all\n",
        "df_all = pd.concat([df_control, df_ft, df_s2, df_s3], ignore_index=True)\n",
        "\n",
        "# Summary stats function - clean and readable\n",
        "def kpi_grouped_summary_clean(df):\n",
        "    summary_records = []\n",
        "    for scenario in sorted(df['Scenario'].unique()):\n",
        "        for kpi_name in sorted(df['KPI'].unique()):\n",
        "            values = df.loc[(df['Scenario'] == scenario) & (df['KPI'] == kpi_name), 'Value']\n",
        "            n = len(values)\n",
        "            if n == 0:\n",
        "                continue\n",
        "\n",
        "            mean = values.mean()\n",
        "            median = values.median()\n",
        "            try:\n",
        "                mode_val = stats.mode(values, keepdims=False).mode\n",
        "            except Exception:\n",
        "                mode_val = np.nan\n",
        "            std_dev = values.std(ddof=1)\n",
        "            if n > 1:\n",
        "                ci_low, ci_high = stats.t.interval(0.95, n-1, loc=mean, scale=stats.sem(values))\n",
        "            else:\n",
        "                ci_low, ci_high = (np.nan, np.nan)\n",
        "\n",
        "            summary_records.append({\n",
        "                'Scenario': scenario,\n",
        "                'KPI': kpi_name,\n",
        "                'Count': n,\n",
        "                'Mean': round(mean, 3),\n",
        "                'Median': round(median, 3),\n",
        "                'Mode': round(mode_val, 3) if not pd.isna(mode_val) else None,\n",
        "                'Std Dev': round(std_dev, 3),\n",
        "                '95% CI Lower': round(ci_low, 3) if not pd.isna(ci_low) else None,\n",
        "                '95% CI Upper': round(ci_high, 3) if not pd.isna(ci_high) else None,\n",
        "            })\n",
        "    return pd.DataFrame(summary_records)\n",
        "\n",
        "# Generate summary\n",
        "summary_df = kpi_grouped_summary_clean(df_all)\n",
        "\n",
        "# Print summaries per scenario clearly\n",
        "for scenario in summary_df['Scenario'].unique():\n",
        "    print(f\"\\n--- KPI Summary for Scenario: {scenario} ---\")\n",
        "    display(summary_df[summary_df['Scenario'] == scenario].drop(columns='Scenario').reset_index(drop=True))\n"
      ],
      "metadata": {
        "colab": {
          "base_uri": "https://localhost:8080/",
          "height": 0
        },
        "id": "RSMFyUMam7SS",
        "outputId": "0754c82f-0c6d-4a69-b95d-6c1fe98655be"
      },
      "id": "RSMFyUMam7SS",
      "execution_count": 67,
      "outputs": [
        {
          "output_type": "stream",
          "name": "stderr",
          "text": [
            "/usr/local/lib/python3.11/dist-packages/scipy/stats/_distn_infrastructure.py:2304: RuntimeWarning: invalid value encountered in multiply\n",
            "  lower_bound = _a * scale + loc\n",
            "/usr/local/lib/python3.11/dist-packages/scipy/stats/_distn_infrastructure.py:2305: RuntimeWarning: invalid value encountered in multiply\n",
            "  upper_bound = _b * scale + loc\n"
          ]
        },
        {
          "output_type": "stream",
          "name": "stdout",
          "text": [
            "\n",
            "--- KPI Summary for Scenario: Combined ---\n"
          ]
        },
        {
          "output_type": "display_data",
          "data": {
            "text/plain": [
              "                         KPI  Count     Mean   Median     Mode  Std Dev  \\\n",
              "0              Bed Busy Time     10   67.349   71.203   53.052    8.389   \n",
              "1  Diagnostic Room Busy Time     10  149.204  149.204  149.204    0.000   \n",
              "2          Diverted Patients     10   86.500   78.000   42.000   30.490   \n",
              "3           Doctor Busy Time     10  420.473  420.473  420.473    0.000   \n",
              "4             Length of Stay   9303   11.016   10.124    0.883    6.305   \n",
              "5    Surgical Room Busy Time     10   93.522   94.010   86.633    2.582   \n",
              "6               Waiting Time   9490    9.875    8.885    0.205    6.381   \n",
              "\n",
              "   95% CI Lower  95% CI Upper  \n",
              "0        61.348        73.350  \n",
              "1           NaN           NaN  \n",
              "2        64.689       108.311  \n",
              "3           NaN           NaN  \n",
              "4        10.888        11.144  \n",
              "5        91.675        95.369  \n",
              "6         9.746        10.003  "
            ],
            "text/html": [
              "\n",
              "  <div id=\"df-5417f420-14c0-4a1d-95ab-e6993a16b73c\" class=\"colab-df-container\">\n",
              "    <div>\n",
              "<style scoped>\n",
              "    .dataframe tbody tr th:only-of-type {\n",
              "        vertical-align: middle;\n",
              "    }\n",
              "\n",
              "    .dataframe tbody tr th {\n",
              "        vertical-align: top;\n",
              "    }\n",
              "\n",
              "    .dataframe thead th {\n",
              "        text-align: right;\n",
              "    }\n",
              "</style>\n",
              "<table border=\"1\" class=\"dataframe\">\n",
              "  <thead>\n",
              "    <tr style=\"text-align: right;\">\n",
              "      <th></th>\n",
              "      <th>KPI</th>\n",
              "      <th>Count</th>\n",
              "      <th>Mean</th>\n",
              "      <th>Median</th>\n",
              "      <th>Mode</th>\n",
              "      <th>Std Dev</th>\n",
              "      <th>95% CI Lower</th>\n",
              "      <th>95% CI Upper</th>\n",
              "    </tr>\n",
              "  </thead>\n",
              "  <tbody>\n",
              "    <tr>\n",
              "      <th>0</th>\n",
              "      <td>Bed Busy Time</td>\n",
              "      <td>10</td>\n",
              "      <td>67.349</td>\n",
              "      <td>71.203</td>\n",
              "      <td>53.052</td>\n",
              "      <td>8.389</td>\n",
              "      <td>61.348</td>\n",
              "      <td>73.350</td>\n",
              "    </tr>\n",
              "    <tr>\n",
              "      <th>1</th>\n",
              "      <td>Diagnostic Room Busy Time</td>\n",
              "      <td>10</td>\n",
              "      <td>149.204</td>\n",
              "      <td>149.204</td>\n",
              "      <td>149.204</td>\n",
              "      <td>0.000</td>\n",
              "      <td>NaN</td>\n",
              "      <td>NaN</td>\n",
              "    </tr>\n",
              "    <tr>\n",
              "      <th>2</th>\n",
              "      <td>Diverted Patients</td>\n",
              "      <td>10</td>\n",
              "      <td>86.500</td>\n",
              "      <td>78.000</td>\n",
              "      <td>42.000</td>\n",
              "      <td>30.490</td>\n",
              "      <td>64.689</td>\n",
              "      <td>108.311</td>\n",
              "    </tr>\n",
              "    <tr>\n",
              "      <th>3</th>\n",
              "      <td>Doctor Busy Time</td>\n",
              "      <td>10</td>\n",
              "      <td>420.473</td>\n",
              "      <td>420.473</td>\n",
              "      <td>420.473</td>\n",
              "      <td>0.000</td>\n",
              "      <td>NaN</td>\n",
              "      <td>NaN</td>\n",
              "    </tr>\n",
              "    <tr>\n",
              "      <th>4</th>\n",
              "      <td>Length of Stay</td>\n",
              "      <td>9303</td>\n",
              "      <td>11.016</td>\n",
              "      <td>10.124</td>\n",
              "      <td>0.883</td>\n",
              "      <td>6.305</td>\n",
              "      <td>10.888</td>\n",
              "      <td>11.144</td>\n",
              "    </tr>\n",
              "    <tr>\n",
              "      <th>5</th>\n",
              "      <td>Surgical Room Busy Time</td>\n",
              "      <td>10</td>\n",
              "      <td>93.522</td>\n",
              "      <td>94.010</td>\n",
              "      <td>86.633</td>\n",
              "      <td>2.582</td>\n",
              "      <td>91.675</td>\n",
              "      <td>95.369</td>\n",
              "    </tr>\n",
              "    <tr>\n",
              "      <th>6</th>\n",
              "      <td>Waiting Time</td>\n",
              "      <td>9490</td>\n",
              "      <td>9.875</td>\n",
              "      <td>8.885</td>\n",
              "      <td>0.205</td>\n",
              "      <td>6.381</td>\n",
              "      <td>9.746</td>\n",
              "      <td>10.003</td>\n",
              "    </tr>\n",
              "  </tbody>\n",
              "</table>\n",
              "</div>\n",
              "    <div class=\"colab-df-buttons\">\n",
              "\n",
              "  <div class=\"colab-df-container\">\n",
              "    <button class=\"colab-df-convert\" onclick=\"convertToInteractive('df-5417f420-14c0-4a1d-95ab-e6993a16b73c')\"\n",
              "            title=\"Convert this dataframe to an interactive table.\"\n",
              "            style=\"display:none;\">\n",
              "\n",
              "  <svg xmlns=\"http://www.w3.org/2000/svg\" height=\"24px\" viewBox=\"0 -960 960 960\">\n",
              "    <path d=\"M120-120v-720h720v720H120Zm60-500h600v-160H180v160Zm220 220h160v-160H400v160Zm0 220h160v-160H400v160ZM180-400h160v-160H180v160Zm440 0h160v-160H620v160ZM180-180h160v-160H180v160Zm440 0h160v-160H620v160Z\"/>\n",
              "  </svg>\n",
              "    </button>\n",
              "\n",
              "  <style>\n",
              "    .colab-df-container {\n",
              "      display:flex;\n",
              "      gap: 12px;\n",
              "    }\n",
              "\n",
              "    .colab-df-convert {\n",
              "      background-color: #E8F0FE;\n",
              "      border: none;\n",
              "      border-radius: 50%;\n",
              "      cursor: pointer;\n",
              "      display: none;\n",
              "      fill: #1967D2;\n",
              "      height: 32px;\n",
              "      padding: 0 0 0 0;\n",
              "      width: 32px;\n",
              "    }\n",
              "\n",
              "    .colab-df-convert:hover {\n",
              "      background-color: #E2EBFA;\n",
              "      box-shadow: 0px 1px 2px rgba(60, 64, 67, 0.3), 0px 1px 3px 1px rgba(60, 64, 67, 0.15);\n",
              "      fill: #174EA6;\n",
              "    }\n",
              "\n",
              "    .colab-df-buttons div {\n",
              "      margin-bottom: 4px;\n",
              "    }\n",
              "\n",
              "    [theme=dark] .colab-df-convert {\n",
              "      background-color: #3B4455;\n",
              "      fill: #D2E3FC;\n",
              "    }\n",
              "\n",
              "    [theme=dark] .colab-df-convert:hover {\n",
              "      background-color: #434B5C;\n",
              "      box-shadow: 0px 1px 3px 1px rgba(0, 0, 0, 0.15);\n",
              "      filter: drop-shadow(0px 1px 2px rgba(0, 0, 0, 0.3));\n",
              "      fill: #FFFFFF;\n",
              "    }\n",
              "  </style>\n",
              "\n",
              "    <script>\n",
              "      const buttonEl =\n",
              "        document.querySelector('#df-5417f420-14c0-4a1d-95ab-e6993a16b73c button.colab-df-convert');\n",
              "      buttonEl.style.display =\n",
              "        google.colab.kernel.accessAllowed ? 'block' : 'none';\n",
              "\n",
              "      async function convertToInteractive(key) {\n",
              "        const element = document.querySelector('#df-5417f420-14c0-4a1d-95ab-e6993a16b73c');\n",
              "        const dataTable =\n",
              "          await google.colab.kernel.invokeFunction('convertToInteractive',\n",
              "                                                    [key], {});\n",
              "        if (!dataTable) return;\n",
              "\n",
              "        const docLinkHtml = 'Like what you see? Visit the ' +\n",
              "          '<a target=\"_blank\" href=https://colab.research.google.com/notebooks/data_table.ipynb>data table notebook</a>'\n",
              "          + ' to learn more about interactive tables.';\n",
              "        element.innerHTML = '';\n",
              "        dataTable['output_type'] = 'display_data';\n",
              "        await google.colab.output.renderOutput(dataTable, element);\n",
              "        const docLink = document.createElement('div');\n",
              "        docLink.innerHTML = docLinkHtml;\n",
              "        element.appendChild(docLink);\n",
              "      }\n",
              "    </script>\n",
              "  </div>\n",
              "\n",
              "\n",
              "    <div id=\"df-d3f48ea8-82c4-4428-bd62-b5ea23a7db9d\">\n",
              "      <button class=\"colab-df-quickchart\" onclick=\"quickchart('df-d3f48ea8-82c4-4428-bd62-b5ea23a7db9d')\"\n",
              "                title=\"Suggest charts\"\n",
              "                style=\"display:none;\">\n",
              "\n",
              "<svg xmlns=\"http://www.w3.org/2000/svg\" height=\"24px\"viewBox=\"0 0 24 24\"\n",
              "     width=\"24px\">\n",
              "    <g>\n",
              "        <path d=\"M19 3H5c-1.1 0-2 .9-2 2v14c0 1.1.9 2 2 2h14c1.1 0 2-.9 2-2V5c0-1.1-.9-2-2-2zM9 17H7v-7h2v7zm4 0h-2V7h2v10zm4 0h-2v-4h2v4z\"/>\n",
              "    </g>\n",
              "</svg>\n",
              "      </button>\n",
              "\n",
              "<style>\n",
              "  .colab-df-quickchart {\n",
              "      --bg-color: #E8F0FE;\n",
              "      --fill-color: #1967D2;\n",
              "      --hover-bg-color: #E2EBFA;\n",
              "      --hover-fill-color: #174EA6;\n",
              "      --disabled-fill-color: #AAA;\n",
              "      --disabled-bg-color: #DDD;\n",
              "  }\n",
              "\n",
              "  [theme=dark] .colab-df-quickchart {\n",
              "      --bg-color: #3B4455;\n",
              "      --fill-color: #D2E3FC;\n",
              "      --hover-bg-color: #434B5C;\n",
              "      --hover-fill-color: #FFFFFF;\n",
              "      --disabled-bg-color: #3B4455;\n",
              "      --disabled-fill-color: #666;\n",
              "  }\n",
              "\n",
              "  .colab-df-quickchart {\n",
              "    background-color: var(--bg-color);\n",
              "    border: none;\n",
              "    border-radius: 50%;\n",
              "    cursor: pointer;\n",
              "    display: none;\n",
              "    fill: var(--fill-color);\n",
              "    height: 32px;\n",
              "    padding: 0;\n",
              "    width: 32px;\n",
              "  }\n",
              "\n",
              "  .colab-df-quickchart:hover {\n",
              "    background-color: var(--hover-bg-color);\n",
              "    box-shadow: 0 1px 2px rgba(60, 64, 67, 0.3), 0 1px 3px 1px rgba(60, 64, 67, 0.15);\n",
              "    fill: var(--button-hover-fill-color);\n",
              "  }\n",
              "\n",
              "  .colab-df-quickchart-complete:disabled,\n",
              "  .colab-df-quickchart-complete:disabled:hover {\n",
              "    background-color: var(--disabled-bg-color);\n",
              "    fill: var(--disabled-fill-color);\n",
              "    box-shadow: none;\n",
              "  }\n",
              "\n",
              "  .colab-df-spinner {\n",
              "    border: 2px solid var(--fill-color);\n",
              "    border-color: transparent;\n",
              "    border-bottom-color: var(--fill-color);\n",
              "    animation:\n",
              "      spin 1s steps(1) infinite;\n",
              "  }\n",
              "\n",
              "  @keyframes spin {\n",
              "    0% {\n",
              "      border-color: transparent;\n",
              "      border-bottom-color: var(--fill-color);\n",
              "      border-left-color: var(--fill-color);\n",
              "    }\n",
              "    20% {\n",
              "      border-color: transparent;\n",
              "      border-left-color: var(--fill-color);\n",
              "      border-top-color: var(--fill-color);\n",
              "    }\n",
              "    30% {\n",
              "      border-color: transparent;\n",
              "      border-left-color: var(--fill-color);\n",
              "      border-top-color: var(--fill-color);\n",
              "      border-right-color: var(--fill-color);\n",
              "    }\n",
              "    40% {\n",
              "      border-color: transparent;\n",
              "      border-right-color: var(--fill-color);\n",
              "      border-top-color: var(--fill-color);\n",
              "    }\n",
              "    60% {\n",
              "      border-color: transparent;\n",
              "      border-right-color: var(--fill-color);\n",
              "    }\n",
              "    80% {\n",
              "      border-color: transparent;\n",
              "      border-right-color: var(--fill-color);\n",
              "      border-bottom-color: var(--fill-color);\n",
              "    }\n",
              "    90% {\n",
              "      border-color: transparent;\n",
              "      border-bottom-color: var(--fill-color);\n",
              "    }\n",
              "  }\n",
              "</style>\n",
              "\n",
              "      <script>\n",
              "        async function quickchart(key) {\n",
              "          const quickchartButtonEl =\n",
              "            document.querySelector('#' + key + ' button');\n",
              "          quickchartButtonEl.disabled = true;  // To prevent multiple clicks.\n",
              "          quickchartButtonEl.classList.add('colab-df-spinner');\n",
              "          try {\n",
              "            const charts = await google.colab.kernel.invokeFunction(\n",
              "                'suggestCharts', [key], {});\n",
              "          } catch (error) {\n",
              "            console.error('Error during call to suggestCharts:', error);\n",
              "          }\n",
              "          quickchartButtonEl.classList.remove('colab-df-spinner');\n",
              "          quickchartButtonEl.classList.add('colab-df-quickchart-complete');\n",
              "        }\n",
              "        (() => {\n",
              "          let quickchartButtonEl =\n",
              "            document.querySelector('#df-d3f48ea8-82c4-4428-bd62-b5ea23a7db9d button');\n",
              "          quickchartButtonEl.style.display =\n",
              "            google.colab.kernel.accessAllowed ? 'block' : 'none';\n",
              "        })();\n",
              "      </script>\n",
              "    </div>\n",
              "\n",
              "    </div>\n",
              "  </div>\n"
            ],
            "application/vnd.google.colaboratory.intrinsic+json": {
              "type": "dataframe",
              "summary": "{\n  \"name\": \"    display(summary_df[summary_df['Scenario'] == scenario]\",\n  \"rows\": 7,\n  \"fields\": [\n    {\n      \"column\": \"KPI\",\n      \"properties\": {\n        \"dtype\": \"string\",\n        \"num_unique_values\": 7,\n        \"samples\": [\n          \"Bed Busy Time\",\n          \"Diagnostic Room Busy Time\",\n          \"Surgical Room Busy Time\"\n        ],\n        \"semantic_type\": \"\",\n        \"description\": \"\"\n      }\n    },\n    {\n      \"column\": \"Count\",\n      \"properties\": {\n        \"dtype\": \"number\",\n        \"std\": 4580,\n        \"min\": 10,\n        \"max\": 9490,\n        \"num_unique_values\": 3,\n        \"samples\": [\n          10,\n          9303,\n          9490\n        ],\n        \"semantic_type\": \"\",\n        \"description\": \"\"\n      }\n    },\n    {\n      \"column\": \"Mean\",\n      \"properties\": {\n        \"dtype\": \"number\",\n        \"std\": 141.26616762558206,\n        \"min\": 9.875,\n        \"max\": 420.473,\n        \"num_unique_values\": 7,\n        \"samples\": [\n          67.349,\n          149.204,\n          93.522\n        ],\n        \"semantic_type\": \"\",\n        \"description\": \"\"\n      }\n    },\n    {\n      \"column\": \"Median\",\n      \"properties\": {\n        \"dtype\": \"number\",\n        \"std\": 141.6376998327238,\n        \"min\": 8.885,\n        \"max\": 420.473,\n        \"num_unique_values\": 7,\n        \"samples\": [\n          71.203,\n          149.204,\n          94.01\n        ],\n        \"semantic_type\": \"\",\n        \"description\": \"\"\n      }\n    },\n    {\n      \"column\": \"Mode\",\n      \"properties\": {\n        \"dtype\": \"number\",\n        \"std\": 147.34369689881385,\n        \"min\": 0.205,\n        \"max\": 420.473,\n        \"num_unique_values\": 7,\n        \"samples\": [\n          53.052,\n          149.204,\n          86.633\n        ],\n        \"semantic_type\": \"\",\n        \"description\": \"\"\n      }\n    },\n    {\n      \"column\": \"Std Dev\",\n      \"properties\": {\n        \"dtype\": \"number\",\n        \"std\": 10.553907770967832,\n        \"min\": 0.0,\n        \"max\": 30.49,\n        \"num_unique_values\": 6,\n        \"samples\": [\n          8.389,\n          0.0,\n          6.381\n        ],\n        \"semantic_type\": \"\",\n        \"description\": \"\"\n      }\n    },\n    {\n      \"column\": \"95% CI Lower\",\n      \"properties\": {\n        \"dtype\": \"number\",\n        \"std\": 36.070484356326574,\n        \"min\": 9.746,\n        \"max\": 91.675,\n        \"num_unique_values\": 5,\n        \"samples\": [\n          64.689,\n          9.746,\n          10.888\n        ],\n        \"semantic_type\": \"\",\n        \"description\": \"\"\n      }\n    },\n    {\n      \"column\": \"95% CI Upper\",\n      \"properties\": {\n        \"dtype\": \"number\",\n        \"std\": 46.5002297338411,\n        \"min\": 10.003,\n        \"max\": 108.311,\n        \"num_unique_values\": 5,\n        \"samples\": [\n          108.311,\n          10.003,\n          11.144\n        ],\n        \"semantic_type\": \"\",\n        \"description\": \"\"\n      }\n    }\n  ]\n}"
            }
          },
          "metadata": {}
        },
        {
          "output_type": "stream",
          "name": "stdout",
          "text": [
            "\n",
            "--- KPI Summary for Scenario: Control ---\n"
          ]
        },
        {
          "output_type": "display_data",
          "data": {
            "text/plain": [
              "                         KPI  Count     Mean   Median     Mode  Std Dev  \\\n",
              "0              Bed Busy Time     10   36.881   36.720   30.205    4.195   \n",
              "1  Diagnostic Room Busy Time     10   68.142   68.142   68.142    0.000   \n",
              "2          Diverted Patients     10   15.400   15.500    0.000   10.700   \n",
              "3           Doctor Busy Time     10  191.624  191.624  191.624    0.000   \n",
              "4             Length of Stay   4142   19.926   20.619    0.883   10.655   \n",
              "5    Surgical Room Busy Time     10   44.981   45.609   39.622    2.664   \n",
              "6               Waiting Time   4340   18.899   19.112    0.245   10.808   \n",
              "\n",
              "   95% CI Lower  95% CI Upper  \n",
              "0        33.880        39.882  \n",
              "1        68.142        68.142  \n",
              "2         7.746        23.054  \n",
              "3           NaN           NaN  \n",
              "4        19.602        20.251  \n",
              "5        43.075        46.887  \n",
              "6        18.577        19.221  "
            ],
            "text/html": [
              "\n",
              "  <div id=\"df-a6b55ed0-c15f-4da3-97a5-fd2c73493b27\" class=\"colab-df-container\">\n",
              "    <div>\n",
              "<style scoped>\n",
              "    .dataframe tbody tr th:only-of-type {\n",
              "        vertical-align: middle;\n",
              "    }\n",
              "\n",
              "    .dataframe tbody tr th {\n",
              "        vertical-align: top;\n",
              "    }\n",
              "\n",
              "    .dataframe thead th {\n",
              "        text-align: right;\n",
              "    }\n",
              "</style>\n",
              "<table border=\"1\" class=\"dataframe\">\n",
              "  <thead>\n",
              "    <tr style=\"text-align: right;\">\n",
              "      <th></th>\n",
              "      <th>KPI</th>\n",
              "      <th>Count</th>\n",
              "      <th>Mean</th>\n",
              "      <th>Median</th>\n",
              "      <th>Mode</th>\n",
              "      <th>Std Dev</th>\n",
              "      <th>95% CI Lower</th>\n",
              "      <th>95% CI Upper</th>\n",
              "    </tr>\n",
              "  </thead>\n",
              "  <tbody>\n",
              "    <tr>\n",
              "      <th>0</th>\n",
              "      <td>Bed Busy Time</td>\n",
              "      <td>10</td>\n",
              "      <td>36.881</td>\n",
              "      <td>36.720</td>\n",
              "      <td>30.205</td>\n",
              "      <td>4.195</td>\n",
              "      <td>33.880</td>\n",
              "      <td>39.882</td>\n",
              "    </tr>\n",
              "    <tr>\n",
              "      <th>1</th>\n",
              "      <td>Diagnostic Room Busy Time</td>\n",
              "      <td>10</td>\n",
              "      <td>68.142</td>\n",
              "      <td>68.142</td>\n",
              "      <td>68.142</td>\n",
              "      <td>0.000</td>\n",
              "      <td>68.142</td>\n",
              "      <td>68.142</td>\n",
              "    </tr>\n",
              "    <tr>\n",
              "      <th>2</th>\n",
              "      <td>Diverted Patients</td>\n",
              "      <td>10</td>\n",
              "      <td>15.400</td>\n",
              "      <td>15.500</td>\n",
              "      <td>0.000</td>\n",
              "      <td>10.700</td>\n",
              "      <td>7.746</td>\n",
              "      <td>23.054</td>\n",
              "    </tr>\n",
              "    <tr>\n",
              "      <th>3</th>\n",
              "      <td>Doctor Busy Time</td>\n",
              "      <td>10</td>\n",
              "      <td>191.624</td>\n",
              "      <td>191.624</td>\n",
              "      <td>191.624</td>\n",
              "      <td>0.000</td>\n",
              "      <td>NaN</td>\n",
              "      <td>NaN</td>\n",
              "    </tr>\n",
              "    <tr>\n",
              "      <th>4</th>\n",
              "      <td>Length of Stay</td>\n",
              "      <td>4142</td>\n",
              "      <td>19.926</td>\n",
              "      <td>20.619</td>\n",
              "      <td>0.883</td>\n",
              "      <td>10.655</td>\n",
              "      <td>19.602</td>\n",
              "      <td>20.251</td>\n",
              "    </tr>\n",
              "    <tr>\n",
              "      <th>5</th>\n",
              "      <td>Surgical Room Busy Time</td>\n",
              "      <td>10</td>\n",
              "      <td>44.981</td>\n",
              "      <td>45.609</td>\n",
              "      <td>39.622</td>\n",
              "      <td>2.664</td>\n",
              "      <td>43.075</td>\n",
              "      <td>46.887</td>\n",
              "    </tr>\n",
              "    <tr>\n",
              "      <th>6</th>\n",
              "      <td>Waiting Time</td>\n",
              "      <td>4340</td>\n",
              "      <td>18.899</td>\n",
              "      <td>19.112</td>\n",
              "      <td>0.245</td>\n",
              "      <td>10.808</td>\n",
              "      <td>18.577</td>\n",
              "      <td>19.221</td>\n",
              "    </tr>\n",
              "  </tbody>\n",
              "</table>\n",
              "</div>\n",
              "    <div class=\"colab-df-buttons\">\n",
              "\n",
              "  <div class=\"colab-df-container\">\n",
              "    <button class=\"colab-df-convert\" onclick=\"convertToInteractive('df-a6b55ed0-c15f-4da3-97a5-fd2c73493b27')\"\n",
              "            title=\"Convert this dataframe to an interactive table.\"\n",
              "            style=\"display:none;\">\n",
              "\n",
              "  <svg xmlns=\"http://www.w3.org/2000/svg\" height=\"24px\" viewBox=\"0 -960 960 960\">\n",
              "    <path d=\"M120-120v-720h720v720H120Zm60-500h600v-160H180v160Zm220 220h160v-160H400v160Zm0 220h160v-160H400v160ZM180-400h160v-160H180v160Zm440 0h160v-160H620v160ZM180-180h160v-160H180v160Zm440 0h160v-160H620v160Z\"/>\n",
              "  </svg>\n",
              "    </button>\n",
              "\n",
              "  <style>\n",
              "    .colab-df-container {\n",
              "      display:flex;\n",
              "      gap: 12px;\n",
              "    }\n",
              "\n",
              "    .colab-df-convert {\n",
              "      background-color: #E8F0FE;\n",
              "      border: none;\n",
              "      border-radius: 50%;\n",
              "      cursor: pointer;\n",
              "      display: none;\n",
              "      fill: #1967D2;\n",
              "      height: 32px;\n",
              "      padding: 0 0 0 0;\n",
              "      width: 32px;\n",
              "    }\n",
              "\n",
              "    .colab-df-convert:hover {\n",
              "      background-color: #E2EBFA;\n",
              "      box-shadow: 0px 1px 2px rgba(60, 64, 67, 0.3), 0px 1px 3px 1px rgba(60, 64, 67, 0.15);\n",
              "      fill: #174EA6;\n",
              "    }\n",
              "\n",
              "    .colab-df-buttons div {\n",
              "      margin-bottom: 4px;\n",
              "    }\n",
              "\n",
              "    [theme=dark] .colab-df-convert {\n",
              "      background-color: #3B4455;\n",
              "      fill: #D2E3FC;\n",
              "    }\n",
              "\n",
              "    [theme=dark] .colab-df-convert:hover {\n",
              "      background-color: #434B5C;\n",
              "      box-shadow: 0px 1px 3px 1px rgba(0, 0, 0, 0.15);\n",
              "      filter: drop-shadow(0px 1px 2px rgba(0, 0, 0, 0.3));\n",
              "      fill: #FFFFFF;\n",
              "    }\n",
              "  </style>\n",
              "\n",
              "    <script>\n",
              "      const buttonEl =\n",
              "        document.querySelector('#df-a6b55ed0-c15f-4da3-97a5-fd2c73493b27 button.colab-df-convert');\n",
              "      buttonEl.style.display =\n",
              "        google.colab.kernel.accessAllowed ? 'block' : 'none';\n",
              "\n",
              "      async function convertToInteractive(key) {\n",
              "        const element = document.querySelector('#df-a6b55ed0-c15f-4da3-97a5-fd2c73493b27');\n",
              "        const dataTable =\n",
              "          await google.colab.kernel.invokeFunction('convertToInteractive',\n",
              "                                                    [key], {});\n",
              "        if (!dataTable) return;\n",
              "\n",
              "        const docLinkHtml = 'Like what you see? Visit the ' +\n",
              "          '<a target=\"_blank\" href=https://colab.research.google.com/notebooks/data_table.ipynb>data table notebook</a>'\n",
              "          + ' to learn more about interactive tables.';\n",
              "        element.innerHTML = '';\n",
              "        dataTable['output_type'] = 'display_data';\n",
              "        await google.colab.output.renderOutput(dataTable, element);\n",
              "        const docLink = document.createElement('div');\n",
              "        docLink.innerHTML = docLinkHtml;\n",
              "        element.appendChild(docLink);\n",
              "      }\n",
              "    </script>\n",
              "  </div>\n",
              "\n",
              "\n",
              "    <div id=\"df-73b52044-3d1b-40a1-a233-c5b43306b482\">\n",
              "      <button class=\"colab-df-quickchart\" onclick=\"quickchart('df-73b52044-3d1b-40a1-a233-c5b43306b482')\"\n",
              "                title=\"Suggest charts\"\n",
              "                style=\"display:none;\">\n",
              "\n",
              "<svg xmlns=\"http://www.w3.org/2000/svg\" height=\"24px\"viewBox=\"0 0 24 24\"\n",
              "     width=\"24px\">\n",
              "    <g>\n",
              "        <path d=\"M19 3H5c-1.1 0-2 .9-2 2v14c0 1.1.9 2 2 2h14c1.1 0 2-.9 2-2V5c0-1.1-.9-2-2-2zM9 17H7v-7h2v7zm4 0h-2V7h2v10zm4 0h-2v-4h2v4z\"/>\n",
              "    </g>\n",
              "</svg>\n",
              "      </button>\n",
              "\n",
              "<style>\n",
              "  .colab-df-quickchart {\n",
              "      --bg-color: #E8F0FE;\n",
              "      --fill-color: #1967D2;\n",
              "      --hover-bg-color: #E2EBFA;\n",
              "      --hover-fill-color: #174EA6;\n",
              "      --disabled-fill-color: #AAA;\n",
              "      --disabled-bg-color: #DDD;\n",
              "  }\n",
              "\n",
              "  [theme=dark] .colab-df-quickchart {\n",
              "      --bg-color: #3B4455;\n",
              "      --fill-color: #D2E3FC;\n",
              "      --hover-bg-color: #434B5C;\n",
              "      --hover-fill-color: #FFFFFF;\n",
              "      --disabled-bg-color: #3B4455;\n",
              "      --disabled-fill-color: #666;\n",
              "  }\n",
              "\n",
              "  .colab-df-quickchart {\n",
              "    background-color: var(--bg-color);\n",
              "    border: none;\n",
              "    border-radius: 50%;\n",
              "    cursor: pointer;\n",
              "    display: none;\n",
              "    fill: var(--fill-color);\n",
              "    height: 32px;\n",
              "    padding: 0;\n",
              "    width: 32px;\n",
              "  }\n",
              "\n",
              "  .colab-df-quickchart:hover {\n",
              "    background-color: var(--hover-bg-color);\n",
              "    box-shadow: 0 1px 2px rgba(60, 64, 67, 0.3), 0 1px 3px 1px rgba(60, 64, 67, 0.15);\n",
              "    fill: var(--button-hover-fill-color);\n",
              "  }\n",
              "\n",
              "  .colab-df-quickchart-complete:disabled,\n",
              "  .colab-df-quickchart-complete:disabled:hover {\n",
              "    background-color: var(--disabled-bg-color);\n",
              "    fill: var(--disabled-fill-color);\n",
              "    box-shadow: none;\n",
              "  }\n",
              "\n",
              "  .colab-df-spinner {\n",
              "    border: 2px solid var(--fill-color);\n",
              "    border-color: transparent;\n",
              "    border-bottom-color: var(--fill-color);\n",
              "    animation:\n",
              "      spin 1s steps(1) infinite;\n",
              "  }\n",
              "\n",
              "  @keyframes spin {\n",
              "    0% {\n",
              "      border-color: transparent;\n",
              "      border-bottom-color: var(--fill-color);\n",
              "      border-left-color: var(--fill-color);\n",
              "    }\n",
              "    20% {\n",
              "      border-color: transparent;\n",
              "      border-left-color: var(--fill-color);\n",
              "      border-top-color: var(--fill-color);\n",
              "    }\n",
              "    30% {\n",
              "      border-color: transparent;\n",
              "      border-left-color: var(--fill-color);\n",
              "      border-top-color: var(--fill-color);\n",
              "      border-right-color: var(--fill-color);\n",
              "    }\n",
              "    40% {\n",
              "      border-color: transparent;\n",
              "      border-right-color: var(--fill-color);\n",
              "      border-top-color: var(--fill-color);\n",
              "    }\n",
              "    60% {\n",
              "      border-color: transparent;\n",
              "      border-right-color: var(--fill-color);\n",
              "    }\n",
              "    80% {\n",
              "      border-color: transparent;\n",
              "      border-right-color: var(--fill-color);\n",
              "      border-bottom-color: var(--fill-color);\n",
              "    }\n",
              "    90% {\n",
              "      border-color: transparent;\n",
              "      border-bottom-color: var(--fill-color);\n",
              "    }\n",
              "  }\n",
              "</style>\n",
              "\n",
              "      <script>\n",
              "        async function quickchart(key) {\n",
              "          const quickchartButtonEl =\n",
              "            document.querySelector('#' + key + ' button');\n",
              "          quickchartButtonEl.disabled = true;  // To prevent multiple clicks.\n",
              "          quickchartButtonEl.classList.add('colab-df-spinner');\n",
              "          try {\n",
              "            const charts = await google.colab.kernel.invokeFunction(\n",
              "                'suggestCharts', [key], {});\n",
              "          } catch (error) {\n",
              "            console.error('Error during call to suggestCharts:', error);\n",
              "          }\n",
              "          quickchartButtonEl.classList.remove('colab-df-spinner');\n",
              "          quickchartButtonEl.classList.add('colab-df-quickchart-complete');\n",
              "        }\n",
              "        (() => {\n",
              "          let quickchartButtonEl =\n",
              "            document.querySelector('#df-73b52044-3d1b-40a1-a233-c5b43306b482 button');\n",
              "          quickchartButtonEl.style.display =\n",
              "            google.colab.kernel.accessAllowed ? 'block' : 'none';\n",
              "        })();\n",
              "      </script>\n",
              "    </div>\n",
              "\n",
              "    </div>\n",
              "  </div>\n"
            ],
            "application/vnd.google.colaboratory.intrinsic+json": {
              "type": "dataframe",
              "summary": "{\n  \"name\": \"    display(summary_df[summary_df['Scenario'] == scenario]\",\n  \"rows\": 7,\n  \"fields\": [\n    {\n      \"column\": \"KPI\",\n      \"properties\": {\n        \"dtype\": \"string\",\n        \"num_unique_values\": 7,\n        \"samples\": [\n          \"Bed Busy Time\",\n          \"Diagnostic Room Busy Time\",\n          \"Surgical Room Busy Time\"\n        ],\n        \"semantic_type\": \"\",\n        \"description\": \"\"\n      }\n    },\n    {\n      \"column\": \"Count\",\n      \"properties\": {\n        \"dtype\": \"number\",\n        \"std\": 2065,\n        \"min\": 10,\n        \"max\": 4340,\n        \"num_unique_values\": 3,\n        \"samples\": [\n          10,\n          4142,\n          4340\n        ],\n        \"semantic_type\": \"\",\n        \"description\": \"\"\n      }\n    },\n    {\n      \"column\": \"Mean\",\n      \"properties\": {\n        \"dtype\": \"number\",\n        \"std\": 62.386308510914866,\n        \"min\": 15.4,\n        \"max\": 191.624,\n        \"num_unique_values\": 7,\n        \"samples\": [\n          36.881,\n          68.142,\n          44.981\n        ],\n        \"semantic_type\": \"\",\n        \"description\": \"\"\n      }\n    },\n    {\n      \"column\": \"Median\",\n      \"properties\": {\n        \"dtype\": \"number\",\n        \"std\": 62.275899834067886,\n        \"min\": 15.5,\n        \"max\": 191.624,\n        \"num_unique_values\": 7,\n        \"samples\": [\n          36.72,\n          68.142,\n          45.609\n        ],\n        \"semantic_type\": \"\",\n        \"description\": \"\"\n      }\n    },\n    {\n      \"column\": \"Mode\",\n      \"properties\": {\n        \"dtype\": \"number\",\n        \"std\": 68.58203973205757,\n        \"min\": 0.0,\n        \"max\": 191.624,\n        \"num_unique_values\": 7,\n        \"samples\": [\n          30.205,\n          68.142,\n          39.622\n        ],\n        \"semantic_type\": \"\",\n        \"description\": \"\"\n      }\n    },\n    {\n      \"column\": \"Std Dev\",\n      \"properties\": {\n        \"dtype\": \"number\",\n        \"std\": 5.033154804465513,\n        \"min\": 0.0,\n        \"max\": 10.808,\n        \"num_unique_values\": 6,\n        \"samples\": [\n          4.195,\n          0.0,\n          10.808\n        ],\n        \"semantic_type\": \"\",\n        \"description\": \"\"\n      }\n    },\n    {\n      \"column\": \"95% CI Lower\",\n      \"properties\": {\n        \"dtype\": \"number\",\n        \"std\": 21.699855409656536,\n        \"min\": 7.746,\n        \"max\": 68.142,\n        \"num_unique_values\": 6,\n        \"samples\": [\n          33.88,\n          68.142,\n          18.577\n        ],\n        \"semantic_type\": \"\",\n        \"description\": \"\"\n      }\n    },\n    {\n      \"column\": \"95% CI Upper\",\n      \"properties\": {\n        \"dtype\": \"number\",\n        \"std\": 19.30557149374242,\n        \"min\": 19.221,\n        \"max\": 68.142,\n        \"num_unique_values\": 6,\n        \"samples\": [\n          39.882,\n          68.142,\n          19.221\n        ],\n        \"semantic_type\": \"\",\n        \"description\": \"\"\n      }\n    }\n  ]\n}"
            }
          },
          "metadata": {}
        },
        {
          "output_type": "stream",
          "name": "stdout",
          "text": [
            "\n",
            "--- KPI Summary for Scenario: Fast-Track ---\n"
          ]
        },
        {
          "output_type": "display_data",
          "data": {
            "text/plain": [
              "                         KPI  Count     Mean   Median     Mode  Std Dev  \\\n",
              "0              Bed Busy Time     10   37.465   37.212   28.843    6.198   \n",
              "1  Diagnostic Room Busy Time     10  133.815  133.815  133.815    0.000   \n",
              "2          Diverted Patients     10  124.800  127.500  101.000   15.992   \n",
              "3           Doctor Busy Time     10  372.863  372.863  372.863    0.000   \n",
              "4             Length of Stay   8215   11.916   10.164    0.883    7.491   \n",
              "5    Surgical Room Busy Time     10   47.814   47.710   46.953    0.684   \n",
              "6               Waiting Time   8420   10.759    8.937    0.205    7.512   \n",
              "\n",
              "   95% CI Lower  95% CI Upper  \n",
              "0        33.032        41.899  \n",
              "1           NaN           NaN  \n",
              "2       113.360       136.240  \n",
              "3           NaN           NaN  \n",
              "4        11.754        12.078  \n",
              "5        47.325        48.303  \n",
              "6        10.599        10.920  "
            ],
            "text/html": [
              "\n",
              "  <div id=\"df-77eb4847-7b64-4fe9-bee5-89358d737544\" class=\"colab-df-container\">\n",
              "    <div>\n",
              "<style scoped>\n",
              "    .dataframe tbody tr th:only-of-type {\n",
              "        vertical-align: middle;\n",
              "    }\n",
              "\n",
              "    .dataframe tbody tr th {\n",
              "        vertical-align: top;\n",
              "    }\n",
              "\n",
              "    .dataframe thead th {\n",
              "        text-align: right;\n",
              "    }\n",
              "</style>\n",
              "<table border=\"1\" class=\"dataframe\">\n",
              "  <thead>\n",
              "    <tr style=\"text-align: right;\">\n",
              "      <th></th>\n",
              "      <th>KPI</th>\n",
              "      <th>Count</th>\n",
              "      <th>Mean</th>\n",
              "      <th>Median</th>\n",
              "      <th>Mode</th>\n",
              "      <th>Std Dev</th>\n",
              "      <th>95% CI Lower</th>\n",
              "      <th>95% CI Upper</th>\n",
              "    </tr>\n",
              "  </thead>\n",
              "  <tbody>\n",
              "    <tr>\n",
              "      <th>0</th>\n",
              "      <td>Bed Busy Time</td>\n",
              "      <td>10</td>\n",
              "      <td>37.465</td>\n",
              "      <td>37.212</td>\n",
              "      <td>28.843</td>\n",
              "      <td>6.198</td>\n",
              "      <td>33.032</td>\n",
              "      <td>41.899</td>\n",
              "    </tr>\n",
              "    <tr>\n",
              "      <th>1</th>\n",
              "      <td>Diagnostic Room Busy Time</td>\n",
              "      <td>10</td>\n",
              "      <td>133.815</td>\n",
              "      <td>133.815</td>\n",
              "      <td>133.815</td>\n",
              "      <td>0.000</td>\n",
              "      <td>NaN</td>\n",
              "      <td>NaN</td>\n",
              "    </tr>\n",
              "    <tr>\n",
              "      <th>2</th>\n",
              "      <td>Diverted Patients</td>\n",
              "      <td>10</td>\n",
              "      <td>124.800</td>\n",
              "      <td>127.500</td>\n",
              "      <td>101.000</td>\n",
              "      <td>15.992</td>\n",
              "      <td>113.360</td>\n",
              "      <td>136.240</td>\n",
              "    </tr>\n",
              "    <tr>\n",
              "      <th>3</th>\n",
              "      <td>Doctor Busy Time</td>\n",
              "      <td>10</td>\n",
              "      <td>372.863</td>\n",
              "      <td>372.863</td>\n",
              "      <td>372.863</td>\n",
              "      <td>0.000</td>\n",
              "      <td>NaN</td>\n",
              "      <td>NaN</td>\n",
              "    </tr>\n",
              "    <tr>\n",
              "      <th>4</th>\n",
              "      <td>Length of Stay</td>\n",
              "      <td>8215</td>\n",
              "      <td>11.916</td>\n",
              "      <td>10.164</td>\n",
              "      <td>0.883</td>\n",
              "      <td>7.491</td>\n",
              "      <td>11.754</td>\n",
              "      <td>12.078</td>\n",
              "    </tr>\n",
              "    <tr>\n",
              "      <th>5</th>\n",
              "      <td>Surgical Room Busy Time</td>\n",
              "      <td>10</td>\n",
              "      <td>47.814</td>\n",
              "      <td>47.710</td>\n",
              "      <td>46.953</td>\n",
              "      <td>0.684</td>\n",
              "      <td>47.325</td>\n",
              "      <td>48.303</td>\n",
              "    </tr>\n",
              "    <tr>\n",
              "      <th>6</th>\n",
              "      <td>Waiting Time</td>\n",
              "      <td>8420</td>\n",
              "      <td>10.759</td>\n",
              "      <td>8.937</td>\n",
              "      <td>0.205</td>\n",
              "      <td>7.512</td>\n",
              "      <td>10.599</td>\n",
              "      <td>10.920</td>\n",
              "    </tr>\n",
              "  </tbody>\n",
              "</table>\n",
              "</div>\n",
              "    <div class=\"colab-df-buttons\">\n",
              "\n",
              "  <div class=\"colab-df-container\">\n",
              "    <button class=\"colab-df-convert\" onclick=\"convertToInteractive('df-77eb4847-7b64-4fe9-bee5-89358d737544')\"\n",
              "            title=\"Convert this dataframe to an interactive table.\"\n",
              "            style=\"display:none;\">\n",
              "\n",
              "  <svg xmlns=\"http://www.w3.org/2000/svg\" height=\"24px\" viewBox=\"0 -960 960 960\">\n",
              "    <path d=\"M120-120v-720h720v720H120Zm60-500h600v-160H180v160Zm220 220h160v-160H400v160Zm0 220h160v-160H400v160ZM180-400h160v-160H180v160Zm440 0h160v-160H620v160ZM180-180h160v-160H180v160Zm440 0h160v-160H620v160Z\"/>\n",
              "  </svg>\n",
              "    </button>\n",
              "\n",
              "  <style>\n",
              "    .colab-df-container {\n",
              "      display:flex;\n",
              "      gap: 12px;\n",
              "    }\n",
              "\n",
              "    .colab-df-convert {\n",
              "      background-color: #E8F0FE;\n",
              "      border: none;\n",
              "      border-radius: 50%;\n",
              "      cursor: pointer;\n",
              "      display: none;\n",
              "      fill: #1967D2;\n",
              "      height: 32px;\n",
              "      padding: 0 0 0 0;\n",
              "      width: 32px;\n",
              "    }\n",
              "\n",
              "    .colab-df-convert:hover {\n",
              "      background-color: #E2EBFA;\n",
              "      box-shadow: 0px 1px 2px rgba(60, 64, 67, 0.3), 0px 1px 3px 1px rgba(60, 64, 67, 0.15);\n",
              "      fill: #174EA6;\n",
              "    }\n",
              "\n",
              "    .colab-df-buttons div {\n",
              "      margin-bottom: 4px;\n",
              "    }\n",
              "\n",
              "    [theme=dark] .colab-df-convert {\n",
              "      background-color: #3B4455;\n",
              "      fill: #D2E3FC;\n",
              "    }\n",
              "\n",
              "    [theme=dark] .colab-df-convert:hover {\n",
              "      background-color: #434B5C;\n",
              "      box-shadow: 0px 1px 3px 1px rgba(0, 0, 0, 0.15);\n",
              "      filter: drop-shadow(0px 1px 2px rgba(0, 0, 0, 0.3));\n",
              "      fill: #FFFFFF;\n",
              "    }\n",
              "  </style>\n",
              "\n",
              "    <script>\n",
              "      const buttonEl =\n",
              "        document.querySelector('#df-77eb4847-7b64-4fe9-bee5-89358d737544 button.colab-df-convert');\n",
              "      buttonEl.style.display =\n",
              "        google.colab.kernel.accessAllowed ? 'block' : 'none';\n",
              "\n",
              "      async function convertToInteractive(key) {\n",
              "        const element = document.querySelector('#df-77eb4847-7b64-4fe9-bee5-89358d737544');\n",
              "        const dataTable =\n",
              "          await google.colab.kernel.invokeFunction('convertToInteractive',\n",
              "                                                    [key], {});\n",
              "        if (!dataTable) return;\n",
              "\n",
              "        const docLinkHtml = 'Like what you see? Visit the ' +\n",
              "          '<a target=\"_blank\" href=https://colab.research.google.com/notebooks/data_table.ipynb>data table notebook</a>'\n",
              "          + ' to learn more about interactive tables.';\n",
              "        element.innerHTML = '';\n",
              "        dataTable['output_type'] = 'display_data';\n",
              "        await google.colab.output.renderOutput(dataTable, element);\n",
              "        const docLink = document.createElement('div');\n",
              "        docLink.innerHTML = docLinkHtml;\n",
              "        element.appendChild(docLink);\n",
              "      }\n",
              "    </script>\n",
              "  </div>\n",
              "\n",
              "\n",
              "    <div id=\"df-aabdbfb0-4736-41d6-9f80-0b4d321fd1e7\">\n",
              "      <button class=\"colab-df-quickchart\" onclick=\"quickchart('df-aabdbfb0-4736-41d6-9f80-0b4d321fd1e7')\"\n",
              "                title=\"Suggest charts\"\n",
              "                style=\"display:none;\">\n",
              "\n",
              "<svg xmlns=\"http://www.w3.org/2000/svg\" height=\"24px\"viewBox=\"0 0 24 24\"\n",
              "     width=\"24px\">\n",
              "    <g>\n",
              "        <path d=\"M19 3H5c-1.1 0-2 .9-2 2v14c0 1.1.9 2 2 2h14c1.1 0 2-.9 2-2V5c0-1.1-.9-2-2-2zM9 17H7v-7h2v7zm4 0h-2V7h2v10zm4 0h-2v-4h2v4z\"/>\n",
              "    </g>\n",
              "</svg>\n",
              "      </button>\n",
              "\n",
              "<style>\n",
              "  .colab-df-quickchart {\n",
              "      --bg-color: #E8F0FE;\n",
              "      --fill-color: #1967D2;\n",
              "      --hover-bg-color: #E2EBFA;\n",
              "      --hover-fill-color: #174EA6;\n",
              "      --disabled-fill-color: #AAA;\n",
              "      --disabled-bg-color: #DDD;\n",
              "  }\n",
              "\n",
              "  [theme=dark] .colab-df-quickchart {\n",
              "      --bg-color: #3B4455;\n",
              "      --fill-color: #D2E3FC;\n",
              "      --hover-bg-color: #434B5C;\n",
              "      --hover-fill-color: #FFFFFF;\n",
              "      --disabled-bg-color: #3B4455;\n",
              "      --disabled-fill-color: #666;\n",
              "  }\n",
              "\n",
              "  .colab-df-quickchart {\n",
              "    background-color: var(--bg-color);\n",
              "    border: none;\n",
              "    border-radius: 50%;\n",
              "    cursor: pointer;\n",
              "    display: none;\n",
              "    fill: var(--fill-color);\n",
              "    height: 32px;\n",
              "    padding: 0;\n",
              "    width: 32px;\n",
              "  }\n",
              "\n",
              "  .colab-df-quickchart:hover {\n",
              "    background-color: var(--hover-bg-color);\n",
              "    box-shadow: 0 1px 2px rgba(60, 64, 67, 0.3), 0 1px 3px 1px rgba(60, 64, 67, 0.15);\n",
              "    fill: var(--button-hover-fill-color);\n",
              "  }\n",
              "\n",
              "  .colab-df-quickchart-complete:disabled,\n",
              "  .colab-df-quickchart-complete:disabled:hover {\n",
              "    background-color: var(--disabled-bg-color);\n",
              "    fill: var(--disabled-fill-color);\n",
              "    box-shadow: none;\n",
              "  }\n",
              "\n",
              "  .colab-df-spinner {\n",
              "    border: 2px solid var(--fill-color);\n",
              "    border-color: transparent;\n",
              "    border-bottom-color: var(--fill-color);\n",
              "    animation:\n",
              "      spin 1s steps(1) infinite;\n",
              "  }\n",
              "\n",
              "  @keyframes spin {\n",
              "    0% {\n",
              "      border-color: transparent;\n",
              "      border-bottom-color: var(--fill-color);\n",
              "      border-left-color: var(--fill-color);\n",
              "    }\n",
              "    20% {\n",
              "      border-color: transparent;\n",
              "      border-left-color: var(--fill-color);\n",
              "      border-top-color: var(--fill-color);\n",
              "    }\n",
              "    30% {\n",
              "      border-color: transparent;\n",
              "      border-left-color: var(--fill-color);\n",
              "      border-top-color: var(--fill-color);\n",
              "      border-right-color: var(--fill-color);\n",
              "    }\n",
              "    40% {\n",
              "      border-color: transparent;\n",
              "      border-right-color: var(--fill-color);\n",
              "      border-top-color: var(--fill-color);\n",
              "    }\n",
              "    60% {\n",
              "      border-color: transparent;\n",
              "      border-right-color: var(--fill-color);\n",
              "    }\n",
              "    80% {\n",
              "      border-color: transparent;\n",
              "      border-right-color: var(--fill-color);\n",
              "      border-bottom-color: var(--fill-color);\n",
              "    }\n",
              "    90% {\n",
              "      border-color: transparent;\n",
              "      border-bottom-color: var(--fill-color);\n",
              "    }\n",
              "  }\n",
              "</style>\n",
              "\n",
              "      <script>\n",
              "        async function quickchart(key) {\n",
              "          const quickchartButtonEl =\n",
              "            document.querySelector('#' + key + ' button');\n",
              "          quickchartButtonEl.disabled = true;  // To prevent multiple clicks.\n",
              "          quickchartButtonEl.classList.add('colab-df-spinner');\n",
              "          try {\n",
              "            const charts = await google.colab.kernel.invokeFunction(\n",
              "                'suggestCharts', [key], {});\n",
              "          } catch (error) {\n",
              "            console.error('Error during call to suggestCharts:', error);\n",
              "          }\n",
              "          quickchartButtonEl.classList.remove('colab-df-spinner');\n",
              "          quickchartButtonEl.classList.add('colab-df-quickchart-complete');\n",
              "        }\n",
              "        (() => {\n",
              "          let quickchartButtonEl =\n",
              "            document.querySelector('#df-aabdbfb0-4736-41d6-9f80-0b4d321fd1e7 button');\n",
              "          quickchartButtonEl.style.display =\n",
              "            google.colab.kernel.accessAllowed ? 'block' : 'none';\n",
              "        })();\n",
              "      </script>\n",
              "    </div>\n",
              "\n",
              "    </div>\n",
              "  </div>\n"
            ],
            "application/vnd.google.colaboratory.intrinsic+json": {
              "type": "dataframe",
              "summary": "{\n  \"name\": \"    display(summary_df[summary_df['Scenario'] == scenario]\",\n  \"rows\": 7,\n  \"fields\": [\n    {\n      \"column\": \"KPI\",\n      \"properties\": {\n        \"dtype\": \"string\",\n        \"num_unique_values\": 7,\n        \"samples\": [\n          \"Bed Busy Time\",\n          \"Diagnostic Room Busy Time\",\n          \"Surgical Room Busy Time\"\n        ],\n        \"semantic_type\": \"\",\n        \"description\": \"\"\n      }\n    },\n    {\n      \"column\": \"Count\",\n      \"properties\": {\n        \"dtype\": \"number\",\n        \"std\": 4054,\n        \"min\": 10,\n        \"max\": 8420,\n        \"num_unique_values\": 3,\n        \"samples\": [\n          10,\n          8215,\n          8420\n        ],\n        \"semantic_type\": \"\",\n        \"description\": \"\"\n      }\n    },\n    {\n      \"column\": \"Mean\",\n      \"properties\": {\n        \"dtype\": \"number\",\n        \"std\": 128.02821099459365,\n        \"min\": 10.759,\n        \"max\": 372.863,\n        \"num_unique_values\": 7,\n        \"samples\": [\n          37.465,\n          133.815,\n          47.814\n        ],\n        \"semantic_type\": \"\",\n        \"description\": \"\"\n      }\n    },\n    {\n      \"column\": \"Median\",\n      \"properties\": {\n        \"dtype\": \"number\",\n        \"std\": 128.572289090242,\n        \"min\": 8.937,\n        \"max\": 372.863,\n        \"num_unique_values\": 7,\n        \"samples\": [\n          37.212,\n          133.815,\n          47.71\n        ],\n        \"semantic_type\": \"\",\n        \"description\": \"\"\n      }\n    },\n    {\n      \"column\": \"Mode\",\n      \"properties\": {\n        \"dtype\": \"number\",\n        \"std\": 131.16474892269028,\n        \"min\": 0.205,\n        \"max\": 372.863,\n        \"num_unique_values\": 7,\n        \"samples\": [\n          28.843,\n          133.815,\n          46.953\n        ],\n        \"semantic_type\": \"\",\n        \"description\": \"\"\n      }\n    },\n    {\n      \"column\": \"Std Dev\",\n      \"properties\": {\n        \"dtype\": \"number\",\n        \"std\": 5.805455796059427,\n        \"min\": 0.0,\n        \"max\": 15.992,\n        \"num_unique_values\": 6,\n        \"samples\": [\n          6.198,\n          0.0,\n          7.512\n        ],\n        \"semantic_type\": \"\",\n        \"description\": \"\"\n      }\n    },\n    {\n      \"column\": \"95% CI Lower\",\n      \"properties\": {\n        \"dtype\": \"number\",\n        \"std\": 42.11444106835564,\n        \"min\": 10.599,\n        \"max\": 113.36,\n        \"num_unique_values\": 5,\n        \"samples\": [\n          113.36,\n          10.599,\n          11.754\n        ],\n        \"semantic_type\": \"\",\n        \"description\": \"\"\n      }\n    },\n    {\n      \"column\": \"95% CI Upper\",\n      \"properties\": {\n        \"dtype\": \"number\",\n        \"std\": 51.1642095951848,\n        \"min\": 10.92,\n        \"max\": 136.24,\n        \"num_unique_values\": 5,\n        \"samples\": [\n          136.24,\n          10.92,\n          12.078\n        ],\n        \"semantic_type\": \"\",\n        \"description\": \"\"\n      }\n    }\n  ]\n}"
            }
          },
          "metadata": {}
        },
        {
          "output_type": "stream",
          "name": "stdout",
          "text": [
            "\n",
            "--- KPI Summary for Scenario: More Rooms for Surgery and Diagnostics ---\n"
          ]
        },
        {
          "output_type": "display_data",
          "data": {
            "text/plain": [
              "                         KPI  Count     Mean   Median     Mode  Std Dev  \\\n",
              "0              Bed Busy Time     10   55.388   55.880   48.364    4.273   \n",
              "1  Diagnostic Room Busy Time     10   80.304   80.304   80.304    0.000   \n",
              "2          Diverted Patients     10    2.200    0.000    0.000    3.615   \n",
              "3           Doctor Busy Time     10  240.000  240.000  240.000    0.000   \n",
              "4             Length of Stay   5213   18.189   18.057    0.883    9.719   \n",
              "5    Surgical Room Busy Time     10   77.204   78.978   58.170    7.930   \n",
              "6               Waiting Time   5410   17.486   17.426    0.222    9.916   \n",
              "\n",
              "   95% CI Lower  95% CI Upper  \n",
              "0        52.332        58.445  \n",
              "1           NaN           NaN  \n",
              "2        -0.386         4.786  \n",
              "3           NaN           NaN  \n",
              "4        17.925        18.453  \n",
              "5        71.531        82.876  \n",
              "6        17.221        17.750  "
            ],
            "text/html": [
              "\n",
              "  <div id=\"df-691c2869-f697-4fe6-be82-2160432330cb\" class=\"colab-df-container\">\n",
              "    <div>\n",
              "<style scoped>\n",
              "    .dataframe tbody tr th:only-of-type {\n",
              "        vertical-align: middle;\n",
              "    }\n",
              "\n",
              "    .dataframe tbody tr th {\n",
              "        vertical-align: top;\n",
              "    }\n",
              "\n",
              "    .dataframe thead th {\n",
              "        text-align: right;\n",
              "    }\n",
              "</style>\n",
              "<table border=\"1\" class=\"dataframe\">\n",
              "  <thead>\n",
              "    <tr style=\"text-align: right;\">\n",
              "      <th></th>\n",
              "      <th>KPI</th>\n",
              "      <th>Count</th>\n",
              "      <th>Mean</th>\n",
              "      <th>Median</th>\n",
              "      <th>Mode</th>\n",
              "      <th>Std Dev</th>\n",
              "      <th>95% CI Lower</th>\n",
              "      <th>95% CI Upper</th>\n",
              "    </tr>\n",
              "  </thead>\n",
              "  <tbody>\n",
              "    <tr>\n",
              "      <th>0</th>\n",
              "      <td>Bed Busy Time</td>\n",
              "      <td>10</td>\n",
              "      <td>55.388</td>\n",
              "      <td>55.880</td>\n",
              "      <td>48.364</td>\n",
              "      <td>4.273</td>\n",
              "      <td>52.332</td>\n",
              "      <td>58.445</td>\n",
              "    </tr>\n",
              "    <tr>\n",
              "      <th>1</th>\n",
              "      <td>Diagnostic Room Busy Time</td>\n",
              "      <td>10</td>\n",
              "      <td>80.304</td>\n",
              "      <td>80.304</td>\n",
              "      <td>80.304</td>\n",
              "      <td>0.000</td>\n",
              "      <td>NaN</td>\n",
              "      <td>NaN</td>\n",
              "    </tr>\n",
              "    <tr>\n",
              "      <th>2</th>\n",
              "      <td>Diverted Patients</td>\n",
              "      <td>10</td>\n",
              "      <td>2.200</td>\n",
              "      <td>0.000</td>\n",
              "      <td>0.000</td>\n",
              "      <td>3.615</td>\n",
              "      <td>-0.386</td>\n",
              "      <td>4.786</td>\n",
              "    </tr>\n",
              "    <tr>\n",
              "      <th>3</th>\n",
              "      <td>Doctor Busy Time</td>\n",
              "      <td>10</td>\n",
              "      <td>240.000</td>\n",
              "      <td>240.000</td>\n",
              "      <td>240.000</td>\n",
              "      <td>0.000</td>\n",
              "      <td>NaN</td>\n",
              "      <td>NaN</td>\n",
              "    </tr>\n",
              "    <tr>\n",
              "      <th>4</th>\n",
              "      <td>Length of Stay</td>\n",
              "      <td>5213</td>\n",
              "      <td>18.189</td>\n",
              "      <td>18.057</td>\n",
              "      <td>0.883</td>\n",
              "      <td>9.719</td>\n",
              "      <td>17.925</td>\n",
              "      <td>18.453</td>\n",
              "    </tr>\n",
              "    <tr>\n",
              "      <th>5</th>\n",
              "      <td>Surgical Room Busy Time</td>\n",
              "      <td>10</td>\n",
              "      <td>77.204</td>\n",
              "      <td>78.978</td>\n",
              "      <td>58.170</td>\n",
              "      <td>7.930</td>\n",
              "      <td>71.531</td>\n",
              "      <td>82.876</td>\n",
              "    </tr>\n",
              "    <tr>\n",
              "      <th>6</th>\n",
              "      <td>Waiting Time</td>\n",
              "      <td>5410</td>\n",
              "      <td>17.486</td>\n",
              "      <td>17.426</td>\n",
              "      <td>0.222</td>\n",
              "      <td>9.916</td>\n",
              "      <td>17.221</td>\n",
              "      <td>17.750</td>\n",
              "    </tr>\n",
              "  </tbody>\n",
              "</table>\n",
              "</div>\n",
              "    <div class=\"colab-df-buttons\">\n",
              "\n",
              "  <div class=\"colab-df-container\">\n",
              "    <button class=\"colab-df-convert\" onclick=\"convertToInteractive('df-691c2869-f697-4fe6-be82-2160432330cb')\"\n",
              "            title=\"Convert this dataframe to an interactive table.\"\n",
              "            style=\"display:none;\">\n",
              "\n",
              "  <svg xmlns=\"http://www.w3.org/2000/svg\" height=\"24px\" viewBox=\"0 -960 960 960\">\n",
              "    <path d=\"M120-120v-720h720v720H120Zm60-500h600v-160H180v160Zm220 220h160v-160H400v160Zm0 220h160v-160H400v160ZM180-400h160v-160H180v160Zm440 0h160v-160H620v160ZM180-180h160v-160H180v160Zm440 0h160v-160H620v160Z\"/>\n",
              "  </svg>\n",
              "    </button>\n",
              "\n",
              "  <style>\n",
              "    .colab-df-container {\n",
              "      display:flex;\n",
              "      gap: 12px;\n",
              "    }\n",
              "\n",
              "    .colab-df-convert {\n",
              "      background-color: #E8F0FE;\n",
              "      border: none;\n",
              "      border-radius: 50%;\n",
              "      cursor: pointer;\n",
              "      display: none;\n",
              "      fill: #1967D2;\n",
              "      height: 32px;\n",
              "      padding: 0 0 0 0;\n",
              "      width: 32px;\n",
              "    }\n",
              "\n",
              "    .colab-df-convert:hover {\n",
              "      background-color: #E2EBFA;\n",
              "      box-shadow: 0px 1px 2px rgba(60, 64, 67, 0.3), 0px 1px 3px 1px rgba(60, 64, 67, 0.15);\n",
              "      fill: #174EA6;\n",
              "    }\n",
              "\n",
              "    .colab-df-buttons div {\n",
              "      margin-bottom: 4px;\n",
              "    }\n",
              "\n",
              "    [theme=dark] .colab-df-convert {\n",
              "      background-color: #3B4455;\n",
              "      fill: #D2E3FC;\n",
              "    }\n",
              "\n",
              "    [theme=dark] .colab-df-convert:hover {\n",
              "      background-color: #434B5C;\n",
              "      box-shadow: 0px 1px 3px 1px rgba(0, 0, 0, 0.15);\n",
              "      filter: drop-shadow(0px 1px 2px rgba(0, 0, 0, 0.3));\n",
              "      fill: #FFFFFF;\n",
              "    }\n",
              "  </style>\n",
              "\n",
              "    <script>\n",
              "      const buttonEl =\n",
              "        document.querySelector('#df-691c2869-f697-4fe6-be82-2160432330cb button.colab-df-convert');\n",
              "      buttonEl.style.display =\n",
              "        google.colab.kernel.accessAllowed ? 'block' : 'none';\n",
              "\n",
              "      async function convertToInteractive(key) {\n",
              "        const element = document.querySelector('#df-691c2869-f697-4fe6-be82-2160432330cb');\n",
              "        const dataTable =\n",
              "          await google.colab.kernel.invokeFunction('convertToInteractive',\n",
              "                                                    [key], {});\n",
              "        if (!dataTable) return;\n",
              "\n",
              "        const docLinkHtml = 'Like what you see? Visit the ' +\n",
              "          '<a target=\"_blank\" href=https://colab.research.google.com/notebooks/data_table.ipynb>data table notebook</a>'\n",
              "          + ' to learn more about interactive tables.';\n",
              "        element.innerHTML = '';\n",
              "        dataTable['output_type'] = 'display_data';\n",
              "        await google.colab.output.renderOutput(dataTable, element);\n",
              "        const docLink = document.createElement('div');\n",
              "        docLink.innerHTML = docLinkHtml;\n",
              "        element.appendChild(docLink);\n",
              "      }\n",
              "    </script>\n",
              "  </div>\n",
              "\n",
              "\n",
              "    <div id=\"df-472b4cb3-f833-4631-af56-7a8225ece318\">\n",
              "      <button class=\"colab-df-quickchart\" onclick=\"quickchart('df-472b4cb3-f833-4631-af56-7a8225ece318')\"\n",
              "                title=\"Suggest charts\"\n",
              "                style=\"display:none;\">\n",
              "\n",
              "<svg xmlns=\"http://www.w3.org/2000/svg\" height=\"24px\"viewBox=\"0 0 24 24\"\n",
              "     width=\"24px\">\n",
              "    <g>\n",
              "        <path d=\"M19 3H5c-1.1 0-2 .9-2 2v14c0 1.1.9 2 2 2h14c1.1 0 2-.9 2-2V5c0-1.1-.9-2-2-2zM9 17H7v-7h2v7zm4 0h-2V7h2v10zm4 0h-2v-4h2v4z\"/>\n",
              "    </g>\n",
              "</svg>\n",
              "      </button>\n",
              "\n",
              "<style>\n",
              "  .colab-df-quickchart {\n",
              "      --bg-color: #E8F0FE;\n",
              "      --fill-color: #1967D2;\n",
              "      --hover-bg-color: #E2EBFA;\n",
              "      --hover-fill-color: #174EA6;\n",
              "      --disabled-fill-color: #AAA;\n",
              "      --disabled-bg-color: #DDD;\n",
              "  }\n",
              "\n",
              "  [theme=dark] .colab-df-quickchart {\n",
              "      --bg-color: #3B4455;\n",
              "      --fill-color: #D2E3FC;\n",
              "      --hover-bg-color: #434B5C;\n",
              "      --hover-fill-color: #FFFFFF;\n",
              "      --disabled-bg-color: #3B4455;\n",
              "      --disabled-fill-color: #666;\n",
              "  }\n",
              "\n",
              "  .colab-df-quickchart {\n",
              "    background-color: var(--bg-color);\n",
              "    border: none;\n",
              "    border-radius: 50%;\n",
              "    cursor: pointer;\n",
              "    display: none;\n",
              "    fill: var(--fill-color);\n",
              "    height: 32px;\n",
              "    padding: 0;\n",
              "    width: 32px;\n",
              "  }\n",
              "\n",
              "  .colab-df-quickchart:hover {\n",
              "    background-color: var(--hover-bg-color);\n",
              "    box-shadow: 0 1px 2px rgba(60, 64, 67, 0.3), 0 1px 3px 1px rgba(60, 64, 67, 0.15);\n",
              "    fill: var(--button-hover-fill-color);\n",
              "  }\n",
              "\n",
              "  .colab-df-quickchart-complete:disabled,\n",
              "  .colab-df-quickchart-complete:disabled:hover {\n",
              "    background-color: var(--disabled-bg-color);\n",
              "    fill: var(--disabled-fill-color);\n",
              "    box-shadow: none;\n",
              "  }\n",
              "\n",
              "  .colab-df-spinner {\n",
              "    border: 2px solid var(--fill-color);\n",
              "    border-color: transparent;\n",
              "    border-bottom-color: var(--fill-color);\n",
              "    animation:\n",
              "      spin 1s steps(1) infinite;\n",
              "  }\n",
              "\n",
              "  @keyframes spin {\n",
              "    0% {\n",
              "      border-color: transparent;\n",
              "      border-bottom-color: var(--fill-color);\n",
              "      border-left-color: var(--fill-color);\n",
              "    }\n",
              "    20% {\n",
              "      border-color: transparent;\n",
              "      border-left-color: var(--fill-color);\n",
              "      border-top-color: var(--fill-color);\n",
              "    }\n",
              "    30% {\n",
              "      border-color: transparent;\n",
              "      border-left-color: var(--fill-color);\n",
              "      border-top-color: var(--fill-color);\n",
              "      border-right-color: var(--fill-color);\n",
              "    }\n",
              "    40% {\n",
              "      border-color: transparent;\n",
              "      border-right-color: var(--fill-color);\n",
              "      border-top-color: var(--fill-color);\n",
              "    }\n",
              "    60% {\n",
              "      border-color: transparent;\n",
              "      border-right-color: var(--fill-color);\n",
              "    }\n",
              "    80% {\n",
              "      border-color: transparent;\n",
              "      border-right-color: var(--fill-color);\n",
              "      border-bottom-color: var(--fill-color);\n",
              "    }\n",
              "    90% {\n",
              "      border-color: transparent;\n",
              "      border-bottom-color: var(--fill-color);\n",
              "    }\n",
              "  }\n",
              "</style>\n",
              "\n",
              "      <script>\n",
              "        async function quickchart(key) {\n",
              "          const quickchartButtonEl =\n",
              "            document.querySelector('#' + key + ' button');\n",
              "          quickchartButtonEl.disabled = true;  // To prevent multiple clicks.\n",
              "          quickchartButtonEl.classList.add('colab-df-spinner');\n",
              "          try {\n",
              "            const charts = await google.colab.kernel.invokeFunction(\n",
              "                'suggestCharts', [key], {});\n",
              "          } catch (error) {\n",
              "            console.error('Error during call to suggestCharts:', error);\n",
              "          }\n",
              "          quickchartButtonEl.classList.remove('colab-df-spinner');\n",
              "          quickchartButtonEl.classList.add('colab-df-quickchart-complete');\n",
              "        }\n",
              "        (() => {\n",
              "          let quickchartButtonEl =\n",
              "            document.querySelector('#df-472b4cb3-f833-4631-af56-7a8225ece318 button');\n",
              "          quickchartButtonEl.style.display =\n",
              "            google.colab.kernel.accessAllowed ? 'block' : 'none';\n",
              "        })();\n",
              "      </script>\n",
              "    </div>\n",
              "\n",
              "    </div>\n",
              "  </div>\n"
            ],
            "application/vnd.google.colaboratory.intrinsic+json": {
              "type": "dataframe",
              "summary": "{\n  \"name\": \"    display(summary_df[summary_df['Scenario'] == scenario]\",\n  \"rows\": 7,\n  \"fields\": [\n    {\n      \"column\": \"KPI\",\n      \"properties\": {\n        \"dtype\": \"string\",\n        \"num_unique_values\": 7,\n        \"samples\": [\n          \"Bed Busy Time\",\n          \"Diagnostic Room Busy Time\",\n          \"Surgical Room Busy Time\"\n        ],\n        \"semantic_type\": \"\",\n        \"description\": \"\"\n      }\n    },\n    {\n      \"column\": \"Count\",\n      \"properties\": {\n        \"dtype\": \"number\",\n        \"std\": 2587,\n        \"min\": 10,\n        \"max\": 5410,\n        \"num_unique_values\": 3,\n        \"samples\": [\n          10,\n          5213,\n          5410\n        ],\n        \"semantic_type\": \"\",\n        \"description\": \"\"\n      }\n    },\n    {\n      \"column\": \"Mean\",\n      \"properties\": {\n        \"dtype\": \"number\",\n        \"std\": 80.94281476538146,\n        \"min\": 2.2,\n        \"max\": 240.0,\n        \"num_unique_values\": 7,\n        \"samples\": [\n          55.388,\n          80.304,\n          77.204\n        ],\n        \"semantic_type\": \"\",\n        \"description\": \"\"\n      }\n    },\n    {\n      \"column\": \"Median\",\n      \"properties\": {\n        \"dtype\": \"number\",\n        \"std\": 81.28980316626141,\n        \"min\": 0.0,\n        \"max\": 240.0,\n        \"num_unique_values\": 7,\n        \"samples\": [\n          55.88,\n          80.304,\n          78.978\n        ],\n        \"semantic_type\": \"\",\n        \"description\": \"\"\n      }\n    },\n    {\n      \"column\": \"Mode\",\n      \"properties\": {\n        \"dtype\": \"number\",\n        \"std\": 85.25472982913085,\n        \"min\": 0.0,\n        \"max\": 240.0,\n        \"num_unique_values\": 7,\n        \"samples\": [\n          48.364,\n          80.304,\n          58.17\n        ],\n        \"semantic_type\": \"\",\n        \"description\": \"\"\n      }\n    },\n    {\n      \"column\": \"Std Dev\",\n      \"properties\": {\n        \"dtype\": \"number\",\n        \"std\": 4.231594566050553,\n        \"min\": 0.0,\n        \"max\": 9.916,\n        \"num_unique_values\": 6,\n        \"samples\": [\n          4.273,\n          0.0,\n          9.916\n        ],\n        \"semantic_type\": \"\",\n        \"description\": \"\"\n      }\n    },\n    {\n      \"column\": \"95% CI Lower\",\n      \"properties\": {\n        \"dtype\": \"number\",\n        \"std\": 29.330395587172024,\n        \"min\": -0.386,\n        \"max\": 71.531,\n        \"num_unique_values\": 5,\n        \"samples\": [\n          -0.386,\n          17.221,\n          17.925\n        ],\n        \"semantic_type\": \"\",\n        \"description\": \"\"\n      }\n    },\n    {\n      \"column\": \"95% CI Upper\",\n      \"properties\": {\n        \"dtype\": \"number\",\n        \"std\": 32.84563778494795,\n        \"min\": 4.786,\n        \"max\": 82.876,\n        \"num_unique_values\": 5,\n        \"samples\": [\n          4.786,\n          17.75,\n          18.453\n        ],\n        \"semantic_type\": \"\",\n        \"description\": \"\"\n      }\n    }\n  ]\n}"
            }
          },
          "metadata": {}
        }
      ]
    },
    {
      "cell_type": "markdown",
      "source": [
        "# Visualisation and comparison  of the scenarios (and versus control)"
      ],
      "metadata": {
        "id": "drKvjEDtau8h"
      },
      "id": "drKvjEDtau8h"
    },
    {
      "cell_type": "markdown",
      "source": [
        "# Boxplot - distribution of waiting time by scenario"
      ],
      "metadata": {
        "id": "MupvQvuun3tE"
      },
      "id": "MupvQvuun3tE"
    },
    {
      "cell_type": "code",
      "source": [
        "\n",
        "plt.figure(figsize=(12,10))\n",
        "sns.boxplot(\n",
        "    data=df_all[df_all['KPI'] == 'Waiting Time'],\n",
        "    x='Scenario', y='Value',\n",
        "    hue='Scenario',\n",
        "    palette='Set2',\n",
        "    legend=False\n",
        ")\n",
        "plt.title('Distribution of Patient Waiting Time by Scenario', fontsize=16)\n",
        "plt.ylabel('Waiting Time (hours)')\n",
        "plt.xlabel('Scenario')\n",
        "plt.grid(axis='y', linestyle='--', alpha=0.6)\n",
        "plt.tight_layout()\n",
        "plt.show()"
      ],
      "metadata": {
        "colab": {
          "base_uri": "https://localhost:8080/",
          "height": 540
        },
        "id": "arBTqpeSn6AS",
        "outputId": "c159cddd-fc4b-470b-e128-55d194f540da"
      },
      "id": "arBTqpeSn6AS",
      "execution_count": 68,
      "outputs": [
        {
          "output_type": "display_data",
          "data": {
            "text/plain": [
              "<Figure size 1200x1000 with 1 Axes>"
            ],
            "image/png": "[encoded data removed]"
          },
          "metadata": {}
        }
      ]
    },
    {
      "cell_type": "markdown",
      "source": [
        "# Violin distr. for LOS"
      ],
      "metadata": {
        "id": "p2gz_ffIolpP"
      },
      "id": "p2gz_ffIolpP"
    },
    {
      "cell_type": "code",
      "source": [
        "plt.figure(figsize=(12,10))\n",
        "sns.violinplot(\n",
        "    data=df_all[df_all['KPI'] == 'Length of Stay'],\n",
        "    x='Scenario', y='Value',\n",
        "    hue='Scenario',\n",
        "    legend=False,\n",
        "    palette='Set3',\n",
        "    inner='quartile'\n",
        ")\n",
        "plt.title('Length of Stay Distribution by Scenario', fontsize=16)\n",
        "plt.ylabel('Length of Stay (hours)')\n",
        "plt.xlabel('Scenario')\n",
        "plt.grid(axis='y', linestyle='--', alpha=0.6)\n",
        "plt.tight_layout()\n",
        "plt.show()"
      ],
      "metadata": {
        "colab": {
          "base_uri": "https://localhost:8080/",
          "height": 540
        },
        "id": "1gKLrMWdopDH",
        "outputId": "8c40899b-203b-4778-80e5-d8a7580a9521"
      },
      "id": "1gKLrMWdopDH",
      "execution_count": 69,
      "outputs": [
        {
          "output_type": "display_data",
          "data": {
            "text/plain": [
              "<Figure size 1200x1000 with 1 Axes>"
            ],
            "image/png": "[encoded data removed]"
          },
          "metadata": {}
        }
      ]
    },
    {
      "cell_type": "markdown",
      "source": [
        "# Bar plot - mean LPIs with 95% confidence intervals"
      ],
      "metadata": {
        "id": "DQ23UxPppfwF"
      },
      "id": "DQ23UxPppfwF"
    },
    {
      "cell_type": "code",
      "source": [
        "# Filter KPIs for numeric means comparison (exclude Diverted Patients)\n",
        "mean_kpis = summary_df[~summary_df['KPI'].isin(['Diverted Patients'])]\n",
        "\n",
        "plt.figure(figsize=(14,7))\n",
        "sns.barplot(\n",
        "    data=mean_kpis, x='KPI', y='Mean', hue='Scenario',\n",
        "    palette='Pastel1', capsize=0.1,\n",
        "    err_kws={'color': 'gray'},\n",
        "    yerr=(mean_kpis['95% CI Upper'] - mean_kpis['Mean']).fillna(0)\n",
        ")\n",
        "plt.title('Mean KPI Comparison Across Scenarios with 95% Confidence Intervals', fontsize=18)\n",
        "plt.ylabel('Mean Value (hours)')\n",
        "plt.xlabel('KPI')\n",
        "plt.legend(title='Scenario', loc='upper right')\n",
        "plt.xticks(rotation=45)\n",
        "plt.grid(axis='y', linestyle='--', alpha=0.7)\n",
        "plt.tight_layout()\n",
        "plt.show()\n"
      ],
      "metadata": {
        "colab": {
          "base_uri": "https://localhost:8080/",
          "height": 782
        },
        "id": "dfjcpMmjphFR",
        "outputId": "acae6913-6aad-48ce-ec85-113e166d1472"
      },
      "id": "dfjcpMmjphFR",
      "execution_count": 72,
      "outputs": [
        {
          "output_type": "error",
          "ename": "ValueError",
          "evalue": "'yerr' (shape: (24,)) must be a scalar or a 1D or (2, n) array-like whose shape matches 'y' (shape: (6,))",
          "traceback": [
            "\u001b[0;31m---------------------------------------------------------------------------\u001b[0m",
            "\u001b[0;31mValueError\u001b[0m                                Traceback (most recent call last)",
            "\u001b[0;32m<ipython-input-72-49769cd5f5df>\u001b[0m in \u001b[0;36m<cell line: 0>\u001b[0;34m()\u001b[0m\n\u001b[1;32m      3\u001b[0m \u001b[0;34m\u001b[0m\u001b[0m\n\u001b[1;32m      4\u001b[0m \u001b[0mplt\u001b[0m\u001b[0;34m.\u001b[0m\u001b[0mfigure\u001b[0m\u001b[0;34m(\u001b[0m\u001b[0mfigsize\u001b[0m\u001b[0;34m=\u001b[0m\u001b[0;34m(\u001b[0m\u001b[0;36m14\u001b[0m\u001b[0;34m,\u001b[0m\u001b[0;36m7\u001b[0m\u001b[0;34m)\u001b[0m\u001b[0;34m)\u001b[0m\u001b[0;34m\u001b[0m\u001b[0;34m\u001b[0m\u001b[0m\n\u001b[0;32m----> 5\u001b[0;31m sns.barplot(\n\u001b[0m\u001b[1;32m      6\u001b[0m     \u001b[0mdata\u001b[0m\u001b[0;34m=\u001b[0m\u001b[0mmean_kpis\u001b[0m\u001b[0;34m,\u001b[0m \u001b[0mx\u001b[0m\u001b[0;34m=\u001b[0m\u001b[0;34m'KPI'\u001b[0m\u001b[0;34m,\u001b[0m \u001b[0my\u001b[0m\u001b[0;34m=\u001b[0m\u001b[0;34m'Mean'\u001b[0m\u001b[0;34m,\u001b[0m \u001b[0mhue\u001b[0m\u001b[0;34m=\u001b[0m\u001b[0;34m'Scenario'\u001b[0m\u001b[0;34m,\u001b[0m\u001b[0;34m\u001b[0m\u001b[0;34m\u001b[0m\u001b[0m\n\u001b[1;32m      7\u001b[0m     \u001b[0mpalette\u001b[0m\u001b[0;34m=\u001b[0m\u001b[0;34m'Pastel1'\u001b[0m\u001b[0;34m,\u001b[0m \u001b[0mcapsize\u001b[0m\u001b[0;34m=\u001b[0m\u001b[0;36m0.1\u001b[0m\u001b[0;34m,\u001b[0m\u001b[0;34m\u001b[0m\u001b[0;34m\u001b[0m\u001b[0m\n",
            "\u001b[0;32m/usr/local/lib/python3.11/dist-packages/seaborn/categorical.py\u001b[0m in \u001b[0;36mbarplot\u001b[0;34m(data, x, y, hue, order, hue_order, estimator, errorbar, n_boot, seed, units, weights, orient, color, palette, saturation, fill, hue_norm, width, dodge, gap, log_scale, native_scale, formatter, legend, capsize, err_kws, ci, errcolor, errwidth, ax, **kwargs)\u001b[0m\n\u001b[1;32m   2378\u001b[0m     \u001b[0merr_kws\u001b[0m\u001b[0;34m,\u001b[0m \u001b[0mcapsize\u001b[0m \u001b[0;34m=\u001b[0m \u001b[0mp\u001b[0m\u001b[0;34m.\u001b[0m\u001b[0m_err_kws_backcompat\u001b[0m\u001b[0;34m(\u001b[0m\u001b[0merr_kws\u001b[0m\u001b[0;34m,\u001b[0m \u001b[0merrcolor\u001b[0m\u001b[0;34m,\u001b[0m \u001b[0merrwidth\u001b[0m\u001b[0;34m,\u001b[0m \u001b[0mcapsize\u001b[0m\u001b[0;34m)\u001b[0m\u001b[0;34m\u001b[0m\u001b[0;34m\u001b[0m\u001b[0m\n\u001b[1;32m   2379\u001b[0m \u001b[0;34m\u001b[0m\u001b[0m\n\u001b[0;32m-> 2380\u001b[0;31m     p.plot_bars(\n\u001b[0m\u001b[1;32m   2381\u001b[0m         \u001b[0maggregator\u001b[0m\u001b[0;34m=\u001b[0m\u001b[0maggregator\u001b[0m\u001b[0;34m,\u001b[0m\u001b[0;34m\u001b[0m\u001b[0;34m\u001b[0m\u001b[0m\n\u001b[1;32m   2382\u001b[0m         \u001b[0mdodge\u001b[0m\u001b[0;34m=\u001b[0m\u001b[0mdodge\u001b[0m\u001b[0;34m,\u001b[0m\u001b[0;34m\u001b[0m\u001b[0;34m\u001b[0m\u001b[0m\n",
            "\u001b[0;32m/usr/local/lib/python3.11/dist-packages/seaborn/categorical.py\u001b[0m in \u001b[0;36mplot_bars\u001b[0;34m(self, aggregator, dodge, gap, width, fill, color, capsize, err_kws, plot_kws)\u001b[0m\n\u001b[1;32m   1313\u001b[0m                 \u001b[0mkws\u001b[0m\u001b[0;34m.\u001b[0m\u001b[0mupdate\u001b[0m\u001b[0;34m(\u001b[0m\u001b[0mcolor\u001b[0m\u001b[0;34m=\u001b[0m\u001b[0mmain_color\u001b[0m\u001b[0;34m,\u001b[0m \u001b[0medgecolor\u001b[0m\u001b[0;34m=\u001b[0m\u001b[0mmain_color\u001b[0m\u001b[0;34m,\u001b[0m \u001b[0mfacecolor\u001b[0m\u001b[0;34m=\u001b[0m\u001b[0;34m\"none\"\u001b[0m\u001b[0;34m)\u001b[0m\u001b[0;34m\u001b[0m\u001b[0;34m\u001b[0m\u001b[0m\n\u001b[1;32m   1314\u001b[0m \u001b[0;34m\u001b[0m\u001b[0m\n\u001b[0;32m-> 1315\u001b[0;31m             \u001b[0mbar_func\u001b[0m\u001b[0;34m(\u001b[0m\u001b[0;34m**\u001b[0m\u001b[0;34m{\u001b[0m\u001b[0;34m**\u001b[0m\u001b[0mkws\u001b[0m\u001b[0;34m,\u001b[0m \u001b[0;34m**\u001b[0m\u001b[0mplot_kws\u001b[0m\u001b[0;34m}\u001b[0m\u001b[0;34m)\u001b[0m\u001b[0;34m\u001b[0m\u001b[0;34m\u001b[0m\u001b[0m\n\u001b[0m\u001b[1;32m   1316\u001b[0m \u001b[0;34m\u001b[0m\u001b[0m\n\u001b[1;32m   1317\u001b[0m             \u001b[0;32mif\u001b[0m \u001b[0maggregator\u001b[0m\u001b[0;34m.\u001b[0m\u001b[0merror_method\u001b[0m \u001b[0;32mis\u001b[0m \u001b[0;32mnot\u001b[0m \u001b[0;32mNone\u001b[0m\u001b[0;34m:\u001b[0m\u001b[0;34m\u001b[0m\u001b[0;34m\u001b[0m\u001b[0m\n",
            "\u001b[0;32m/usr/local/lib/python3.11/dist-packages/matplotlib/__init__.py\u001b[0m in \u001b[0;36minner\u001b[0;34m(ax, data, *args, **kwargs)\u001b[0m\n\u001b[1;32m   1519\u001b[0m     \u001b[0;32mdef\u001b[0m \u001b[0minner\u001b[0m\u001b[0;34m(\u001b[0m\u001b[0max\u001b[0m\u001b[0;34m,\u001b[0m \u001b[0;34m*\u001b[0m\u001b[0margs\u001b[0m\u001b[0;34m,\u001b[0m \u001b[0mdata\u001b[0m\u001b[0;34m=\u001b[0m\u001b[0;32mNone\u001b[0m\u001b[0;34m,\u001b[0m \u001b[0;34m**\u001b[0m\u001b[0mkwargs\u001b[0m\u001b[0;34m)\u001b[0m\u001b[0;34m:\u001b[0m\u001b[0;34m\u001b[0m\u001b[0;34m\u001b[0m\u001b[0m\n\u001b[1;32m   1520\u001b[0m         \u001b[0;32mif\u001b[0m \u001b[0mdata\u001b[0m \u001b[0;32mis\u001b[0m \u001b[0;32mNone\u001b[0m\u001b[0;34m:\u001b[0m\u001b[0;34m\u001b[0m\u001b[0;34m\u001b[0m\u001b[0m\n\u001b[0;32m-> 1521\u001b[0;31m             return func(\n\u001b[0m\u001b[1;32m   1522\u001b[0m                 \u001b[0max\u001b[0m\u001b[0;34m,\u001b[0m\u001b[0;34m\u001b[0m\u001b[0;34m\u001b[0m\u001b[0m\n\u001b[1;32m   1523\u001b[0m                 \u001b[0;34m*\u001b[0m\u001b[0mmap\u001b[0m\u001b[0;34m(\u001b[0m\u001b[0mcbook\u001b[0m\u001b[0;34m.\u001b[0m\u001b[0msanitize_sequence\u001b[0m\u001b[0;34m,\u001b[0m \u001b[0margs\u001b[0m\u001b[0;34m)\u001b[0m\u001b[0;34m,\u001b[0m\u001b[0;34m\u001b[0m\u001b[0;34m\u001b[0m\u001b[0m\n",
            "\u001b[0;32m/usr/local/lib/python3.11/dist-packages/matplotlib/axes/_axes.py\u001b[0m in \u001b[0;36mbar\u001b[0;34m(self, x, height, width, bottom, align, **kwargs)\u001b[0m\n\u001b[1;32m   2663\u001b[0m             \u001b[0merror_kw\u001b[0m\u001b[0;34m.\u001b[0m\u001b[0msetdefault\u001b[0m\u001b[0;34m(\u001b[0m\u001b[0;34m\"label\"\u001b[0m\u001b[0;34m,\u001b[0m \u001b[0;34m'_nolegend_'\u001b[0m\u001b[0;34m)\u001b[0m\u001b[0;34m\u001b[0m\u001b[0;34m\u001b[0m\u001b[0m\n\u001b[1;32m   2664\u001b[0m \u001b[0;34m\u001b[0m\u001b[0m\n\u001b[0;32m-> 2665\u001b[0;31m             errorbar = self.errorbar(ex, ey, yerr=yerr, xerr=xerr, fmt='none',\n\u001b[0m\u001b[1;32m   2666\u001b[0m                                      **error_kw)\n\u001b[1;32m   2667\u001b[0m         \u001b[0;32melse\u001b[0m\u001b[0;34m:\u001b[0m\u001b[0;34m\u001b[0m\u001b[0;34m\u001b[0m\u001b[0m\n",
            "\u001b[0;32m/usr/local/lib/python3.11/dist-packages/matplotlib/_api/deprecation.py\u001b[0m in \u001b[0;36mwrapper\u001b[0;34m(*args, **kwargs)\u001b[0m\n\u001b[1;32m    451\u001b[0m                 \u001b[0;34m\"parameter will become keyword-only in %(removal)s.\"\u001b[0m\u001b[0;34m,\u001b[0m\u001b[0;34m\u001b[0m\u001b[0;34m\u001b[0m\u001b[0m\n\u001b[1;32m    452\u001b[0m                 name=name, obj_type=f\"parameter of {func.__name__}()\")\n\u001b[0;32m--> 453\u001b[0;31m         \u001b[0;32mreturn\u001b[0m \u001b[0mfunc\u001b[0m\u001b[0;34m(\u001b[0m\u001b[0;34m*\u001b[0m\u001b[0margs\u001b[0m\u001b[0;34m,\u001b[0m \u001b[0;34m**\u001b[0m\u001b[0mkwargs\u001b[0m\u001b[0;34m)\u001b[0m\u001b[0;34m\u001b[0m\u001b[0;34m\u001b[0m\u001b[0m\n\u001b[0m\u001b[1;32m    454\u001b[0m \u001b[0;34m\u001b[0m\u001b[0m\n\u001b[1;32m    455\u001b[0m     \u001b[0;31m# Don't modify *func*'s signature, as boilerplate.py needs it.\u001b[0m\u001b[0;34m\u001b[0m\u001b[0;34m\u001b[0m\u001b[0m\n",
            "\u001b[0;32m/usr/local/lib/python3.11/dist-packages/matplotlib/__init__.py\u001b[0m in \u001b[0;36minner\u001b[0;34m(ax, data, *args, **kwargs)\u001b[0m\n\u001b[1;32m   1519\u001b[0m     \u001b[0;32mdef\u001b[0m \u001b[0minner\u001b[0m\u001b[0;34m(\u001b[0m\u001b[0max\u001b[0m\u001b[0;34m,\u001b[0m \u001b[0;34m*\u001b[0m\u001b[0margs\u001b[0m\u001b[0;34m,\u001b[0m \u001b[0mdata\u001b[0m\u001b[0;34m=\u001b[0m\u001b[0;32mNone\u001b[0m\u001b[0;34m,\u001b[0m \u001b[0;34m**\u001b[0m\u001b[0mkwargs\u001b[0m\u001b[0;34m)\u001b[0m\u001b[0;34m:\u001b[0m\u001b[0;34m\u001b[0m\u001b[0;34m\u001b[0m\u001b[0m\n\u001b[1;32m   1520\u001b[0m         \u001b[0;32mif\u001b[0m \u001b[0mdata\u001b[0m \u001b[0;32mis\u001b[0m \u001b[0;32mNone\u001b[0m\u001b[0;34m:\u001b[0m\u001b[0;34m\u001b[0m\u001b[0;34m\u001b[0m\u001b[0m\n\u001b[0;32m-> 1521\u001b[0;31m             return func(\n\u001b[0m\u001b[1;32m   1522\u001b[0m                 \u001b[0max\u001b[0m\u001b[0;34m,\u001b[0m\u001b[0;34m\u001b[0m\u001b[0;34m\u001b[0m\u001b[0m\n\u001b[1;32m   1523\u001b[0m                 \u001b[0;34m*\u001b[0m\u001b[0mmap\u001b[0m\u001b[0;34m(\u001b[0m\u001b[0mcbook\u001b[0m\u001b[0;34m.\u001b[0m\u001b[0msanitize_sequence\u001b[0m\u001b[0;34m,\u001b[0m \u001b[0margs\u001b[0m\u001b[0;34m)\u001b[0m\u001b[0;34m,\u001b[0m\u001b[0;34m\u001b[0m\u001b[0;34m\u001b[0m\u001b[0m\n",
            "\u001b[0;32m/usr/local/lib/python3.11/dist-packages/matplotlib/axes/_axes.py\u001b[0m in \u001b[0;36merrorbar\u001b[0;34m(self, x, y, yerr, xerr, fmt, ecolor, elinewidth, capsize, barsabove, lolims, uplims, xlolims, xuplims, errorevery, capthick, **kwargs)\u001b[0m\n\u001b[1;32m   3783\u001b[0m                 \u001b[0mnp\u001b[0m\u001b[0;34m.\u001b[0m\u001b[0mbroadcast_to\u001b[0m\u001b[0;34m(\u001b[0m\u001b[0merr\u001b[0m\u001b[0;34m,\u001b[0m \u001b[0;34m(\u001b[0m\u001b[0;36m2\u001b[0m\u001b[0;34m,\u001b[0m \u001b[0mlen\u001b[0m\u001b[0;34m(\u001b[0m\u001b[0mdep\u001b[0m\u001b[0;34m)\u001b[0m\u001b[0;34m)\u001b[0m\u001b[0;34m)\u001b[0m\u001b[0;34m\u001b[0m\u001b[0;34m\u001b[0m\u001b[0m\n\u001b[1;32m   3784\u001b[0m             \u001b[0;32mexcept\u001b[0m \u001b[0mValueError\u001b[0m\u001b[0;34m:\u001b[0m\u001b[0;34m\u001b[0m\u001b[0;34m\u001b[0m\u001b[0m\n\u001b[0;32m-> 3785\u001b[0;31m                 raise ValueError(\n\u001b[0m\u001b[1;32m   3786\u001b[0m                     \u001b[0;34mf\"'{dep_axis}err' (shape: {np.shape(err)}) must be a \"\u001b[0m\u001b[0;34m\u001b[0m\u001b[0;34m\u001b[0m\u001b[0m\n\u001b[1;32m   3787\u001b[0m                     \u001b[0;34mf\"scalar or a 1D or (2, n) array-like whose shape matches \"\u001b[0m\u001b[0;34m\u001b[0m\u001b[0;34m\u001b[0m\u001b[0m\n",
            "\u001b[0;31mValueError\u001b[0m: 'yerr' (shape: (24,)) must be a scalar or a 1D or (2, n) array-like whose shape matches 'y' (shape: (6,))"
          ]
        },
        {
          "output_type": "display_data",
          "data": {
            "text/plain": [
              "<Figure size 1400x700 with 1 Axes>"
            ],
            "image/png": "[encoded data removed]"
          },
          "metadata": {}
        }
      ]
    }
  ],
  "metadata": {
    "kernelspec": {
      "display_name": ".venv",
      "language": "python",
      "name": "python3"
    },
    "language_info": {
      "codemirror_mode": {
        "name": "ipython",
        "version": 3
      },
      "file_extension": ".py",
      "mimetype": "text/x-python",
      "name": "python",
      "nbconvert_exporter": "python",
      "pygments_lexer": "ipython3",
      "version": "3.13.2"
    },
    "colab": {
      "provenance": [],
      "collapsed_sections": [
        "5624ff8f",
        "rrnZ5WOVcegL",
        "WlECVt6kaUGt",
        "Ln8WXQVZh5d1",
        "6Oas7ozAlxJ6",
        "H2_tQUdkvxIk",
        "0B-HammPzwvA",
        "MlFFuRuBz_SR",
        "o6Isd6Sk5cT5",
        "iAJE9k3-6QDx",
        "25koo783NUQg",
        "jfJTWpZCVszs",
        "twdxZq-eZ6KI"
      ],
      "include_colab_link": true
    }
  },
  "nbformat": 4,
  "nbformat_minor": 5
}