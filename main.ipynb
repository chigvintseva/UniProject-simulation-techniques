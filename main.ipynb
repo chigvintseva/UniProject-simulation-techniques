{
  "cells": [
    {
      "cell_type": "markdown",
      "metadata": {
        "id": "view-in-github",
        "colab_type": "text"
      },
      "source": [
        "<a href=\"https://colab.research.google.com/github/chigvintseva/UniProject-simulation-techniques/blob/main/main.ipynb\" target=\"_parent\"><img src=\"https://colab.research.google.com/assets/colab-badge.svg\" alt=\"Open In Colab\"/></a>"
      ]
    },
    {
      "cell_type": "markdown",
      "id": "5624ff8f",
      "metadata": {
        "id": "5624ff8f"
      },
      "source": [
        "# **Data generation**"
      ]
    },
    {
      "cell_type": "code",
      "execution_count": 157,
      "id": "6cf46b0a",
      "metadata": {
        "id": "6cf46b0a"
      },
      "outputs": [],
      "source": [
        "import numpy as np\n",
        "import pandas as pd\n",
        "import simpy\n",
        "from scipy import stats"
      ]
    },
    {
      "cell_type": "markdown",
      "id": "074f586f",
      "metadata": {
        "id": "074f586f"
      },
      "source": [
        "1. Set random seed for reproducibility"
      ]
    },
    {
      "cell_type": "code",
      "execution_count": 158,
      "id": "7d90070b",
      "metadata": {
        "id": "7d90070b"
      },
      "outputs": [],
      "source": [
        "# to ensure the reproducable synthetic data generation\n",
        "np.random.seed(42)"
      ]
    },
    {
      "cell_type": "markdown",
      "id": "f165b49f",
      "metadata": {
        "id": "f165b49f"
      },
      "source": [
        "2. Generate patient arrival times using poisson process"
      ]
    },
    {
      "cell_type": "code",
      "execution_count": 159,
      "id": "0d5d4a88",
      "metadata": {
        "id": "0d5d4a88"
      },
      "outputs": [],
      "source": [
        "arrival_rate_per_hour = 40\n",
        "simulation_duration_hours = 24\n",
        "\n",
        "#total patient count\n",
        "num_patients = np.random.poisson(lam=arrival_rate_per_hour * simulation_duration_hours)"
      ]
    },
    {
      "cell_type": "code",
      "execution_count": 160,
      "id": "7a02226d",
      "metadata": {
        "id": "7a02226d"
      },
      "outputs": [],
      "source": [
        "#inter-arrival times (in hours) from exponential distribution\n",
        "inter_arrival_times = np.random.exponential(scale=1/arrival_rate_per_hour, size=num_patients)"
      ]
    },
    {
      "cell_type": "code",
      "source": [
        "#cumulative arrival times\n",
        "arrival_times = np.cumsum(inter_arrival_times)"
      ],
      "metadata": {
        "id": "oRA933QzK9C1"
      },
      "id": "oRA933QzK9C1",
      "execution_count": 161,
      "outputs": []
    },
    {
      "cell_type": "markdown",
      "source": [
        "Arrivals example for data verfification:"
      ],
      "metadata": {
        "id": "gDWn4odZQMeR"
      },
      "id": "gDWn4odZQMeR"
    },
    {
      "cell_type": "code",
      "source": [
        "print(\"Sample of Patient Arrival Times:\")\n",
        "for i, arrival in enumerate(arrival_times[:5], start=1):\n",
        "    hours = int(arrival)\n",
        "    minutes = int((arrival - hours) * 60)\n",
        "    print(f\"  Patient {i}: {hours} hours and {minutes} minutes after simulation start\")"
      ],
      "metadata": {
        "colab": {
          "base_uri": "https://localhost:8080/"
        },
        "id": "g0XK-ZN6LC2F",
        "outputId": "bb57822a-db8f-45ce-f9ca-a59c56fc920b"
      },
      "id": "g0XK-ZN6LC2F",
      "execution_count": 162,
      "outputs": [
        {
          "output_type": "stream",
          "name": "stdout",
          "text": [
            "Sample of Patient Arrival Times:\n",
            "  Patient 1: 0 hours and 1 minutes after simulation start\n",
            "  Patient 2: 0 hours and 3 minutes after simulation start\n",
            "  Patient 3: 0 hours and 3 minutes after simulation start\n",
            "  Patient 4: 0 hours and 3 minutes after simulation start\n",
            "  Patient 5: 0 hours and 3 minutes after simulation start\n"
          ]
        }
      ]
    },
    {
      "cell_type": "markdown",
      "source": [
        "3. Assign Triage Categories with Weighted Sampling"
      ],
      "metadata": {
        "id": "-Q4fvfIYL2xU"
      },
      "id": "-Q4fvfIYL2xU"
    },
    {
      "cell_type": "code",
      "source": [
        "# triage levels and their empirical probabilities\n",
        "triage_levels = [1, 2, 3, 4, 5]\n",
        "triage_probabilities = [0.1, 0.2, 0.3, 0.25, 0.15]"
      ],
      "metadata": {
        "id": "y1NI_5p3NCsO"
      },
      "id": "y1NI_5p3NCsO",
      "execution_count": 163,
      "outputs": []
    },
    {
      "cell_type": "code",
      "source": [
        "#random assign triage categories to each patient\n",
        "assigned_triage = np.random.choice(triage_levels, size=num_patients, p=triage_probabilities)"
      ],
      "metadata": {
        "id": "piLkLw2BNHfC"
      },
      "id": "piLkLw2BNHfC",
      "execution_count": 164,
      "outputs": []
    },
    {
      "cell_type": "code",
      "source": [
        "# Display normalized frequency distribution\n",
        "print(\"Normalized triage distribution:\")\n",
        "print(pd.Series(assigned_triage).value_counts(normalize=True).sort_index())"
      ],
      "metadata": {
        "colab": {
          "base_uri": "https://localhost:8080/"
        },
        "id": "LG4mgVpgNOTh",
        "outputId": "58e787e5-879e-4bfd-9d66-98df39b74a7b"
      },
      "id": "LG4mgVpgNOTh",
      "execution_count": 165,
      "outputs": [
        {
          "output_type": "stream",
          "name": "stdout",
          "text": [
            "Normalized triage distribution:\n",
            "1    0.106428\n",
            "2    0.193888\n",
            "3    0.268704\n",
            "4    0.276080\n",
            "5    0.154900\n",
            "Name: proportion, dtype: float64\n"
          ]
        }
      ]
    },
    {
      "cell_type": "markdown",
      "source": [
        "Visualisation of the triage distribution"
      ],
      "metadata": {
        "id": "vEWqqdeqNWZw"
      },
      "id": "vEWqqdeqNWZw"
    },
    {
      "cell_type": "code",
      "source": [
        "import matplotlib.pyplot as plt\n",
        "import seaborn as sns\n",
        "\n",
        "triage_counts = pd.Series(assigned_triage).value_counts(normalize=True).sort_index()\n",
        "triage_levels = triage_counts.index.astype(str)\n",
        "frequencies = triage_counts.values\n",
        "\n",
        "plt.figure(figsize=(8, 5))\n",
        "sns.barplot(x=triage_levels, y=frequencies, hue=triage_levels, palette=\"viridis\", dodge=False, legend=False)\n",
        "\n",
        "plt.xlabel('Triage Category', fontsize=12)\n",
        "plt.ylabel('Proportion of Patients', fontsize=12)\n",
        "plt.title('Normalized Distribution of Triage Categories', fontsize=14)\n",
        "\n",
        "#Show proportion values on top of bars\n",
        "for i, freq in enumerate(frequencies):\n",
        "    plt.text(i, freq + 0.01, f'{freq:.2f}', ha='center', fontsize=10)\n",
        "plt.ylim(0, max(frequencies) + 0.1)\n",
        "plt.show()"
      ],
      "metadata": {
        "colab": {
          "base_uri": "https://localhost:8080/",
          "height": 0
        },
        "id": "1OXBMra8NdG7",
        "outputId": "d3b1f2a8-1a43-42ec-83cb-efed0cbbd807"
      },
      "id": "1OXBMra8NdG7",
      "execution_count": 166,
      "outputs": [
        {
          "output_type": "display_data",
          "data": {
            "text/plain": [
              "<Figure size 800x500 with 1 Axes>"
            ],
            "image/png": "[encoded data removed]"
          },
          "metadata": {}
        }
      ]
    },
    {
      "cell_type": "markdown",
      "source": [
        "4. Simulate diagnostic testing requirements with Bernoulli Trials"
      ],
      "metadata": {
        "id": "tMDgajqTN0ls"
      },
      "id": "tMDgajqTN0ls"
    },
    {
      "cell_type": "code",
      "source": [
        "#probability of requiring diagn. testing - 30% is typical for clinical studies\n",
        "diagnostic_probability = 0.3"
      ],
      "metadata": {
        "id": "ocrljqmfN6nx"
      },
      "id": "ocrljqmfN6nx",
      "execution_count": 167,
      "outputs": []
    },
    {
      "cell_type": "code",
      "source": [
        "# binary diagnostic requirement flags to patients\n",
        "requires_diagnostics = np.random.binomial(n=1, p=diagnostic_probability, size=num_patients)"
      ],
      "metadata": {
        "id": "aalkKatXOGEx"
      },
      "id": "aalkKatXOGEx",
      "execution_count": 168,
      "outputs": []
    },
    {
      "cell_type": "code",
      "source": [
        "print(f\"Percentage of patients requiring diagnostics: {requires_diagnostics.mean() * 100:.2f}%\")"
      ],
      "metadata": {
        "colab": {
          "base_uri": "https://localhost:8080/"
        },
        "id": "UfKxLgBNOKa5",
        "outputId": "f9d3386e-b1eb-48d9-c864-05e8baf20acc"
      },
      "id": "UfKxLgBNOKa5",
      "execution_count": 169,
      "outputs": [
        {
          "output_type": "stream",
          "name": "stdout",
          "text": [
            "Percentage of patients requiring diagnostics: 29.82%\n"
          ]
        }
      ]
    },
    {
      "cell_type": "markdown",
      "source": [
        "**5. Sample process durations using Triangular Distributions**\n",
        "\n",
        "to avoid zero to negative values & return array of samples."
      ],
      "metadata": {
        "id": "09AqaI3nOYVp"
      },
      "id": "09AqaI3nOYVp"
    },
    {
      "cell_type": "markdown",
      "source": [
        "parameters:\n",
        "\n",
        "*  minimum: minimum value of distribution\n",
        "*  mode: most likely (peak) value\n",
        "*  maximum: maximum value\n",
        "*  sample_size: number of samples to generate"
      ],
      "metadata": {
        "id": "OYrsHxZtO1CV"
      },
      "id": "OYrsHxZtO1CV"
    },
    {
      "cell_type": "code",
      "source": [
        "def triangular_sample(minimum, mode, maximum, sample_size):\n",
        "  samples = np.random.triangular(left=minimum, mode=mode, right=maximum, size=sample_size)\n",
        "  return np.clip(samples, a_min=0.1, a_max=None)  # ensures positive durations"
      ],
      "metadata": {
        "id": "w2WvAR25OcKL"
      },
      "id": "w2WvAR25OcKL",
      "execution_count": 170,
      "outputs": []
    },
    {
      "cell_type": "code",
      "source": [
        "# sample process durations in minutes for each patient\n",
        "\n",
        "triage_times = triangular_sample(5, 10, 15, num_patients)\n",
        "registration_times = triangular_sample(3, 7, 12, num_patients)\n",
        "consultation_times = triangular_sample(15, 25, 40, num_patients)\n",
        "diagnostic_times = triangular_sample(20, 30, 45, num_patients)\n",
        "treatment_times = triangular_sample(10, 20, 35, num_patients)"
      ],
      "metadata": {
        "id": "VcHfkoiyPQk5"
      },
      "id": "VcHfkoiyPQk5",
      "execution_count": 171,
      "outputs": []
    },
    {
      "cell_type": "code",
      "source": [
        "# setting diagnostics to 0 for pations not requiring it\n",
        "diagnostic_times *= requires_diagnostics"
      ],
      "metadata": {
        "id": "YkKwBhUaPWjJ"
      },
      "id": "YkKwBhUaPWjJ",
      "execution_count": 172,
      "outputs": []
    },
    {
      "cell_type": "code",
      "source": [
        "print(\"Sample of Consultation Times (minutes):\")\n",
        "for i, time in enumerate(consultation_times[:5], start=1):\n",
        "    print(f\"  Patient {i}: {time:.2f} minutes\")"
      ],
      "metadata": {
        "colab": {
          "base_uri": "https://localhost:8080/"
        },
        "id": "-JQJ3_4GPdGG",
        "outputId": "c94d0241-80bb-4ef5-a829-673457d01202"
      },
      "id": "-JQJ3_4GPdGG",
      "execution_count": 173,
      "outputs": [
        {
          "output_type": "stream",
          "name": "stdout",
          "text": [
            "Sample of Consultation Times (minutes):\n",
            "  Patient 1: 18.12 minutes\n",
            "  Patient 2: 24.90 minutes\n",
            "  Patient 3: 31.39 minutes\n",
            "  Patient 4: 24.24 minutes\n",
            "  Patient 5: 25.56 minutes\n"
          ]
        }
      ]
    },
    {
      "cell_type": "markdown",
      "source": [
        "6. Gather generated variables into chronologically ordered dataset for further simulation (both control and manipulated scenarios)"
      ],
      "metadata": {
        "id": "zVJxD8KgQ0zg"
      },
      "id": "zVJxD8KgQ0zg"
    },
    {
      "cell_type": "code",
      "source": [
        "ed_patient_data = pd.DataFrame({\n",
        "    'arrival_time_hr': arrival_times,   #hours since simulation start\n",
        "    'triage_category': assigned_triage,  #triage levels 1–5\n",
        "    'requires_diagnostics': requires_diagnostics,   #booleans\n",
        "    'triage_time_min': triage_times,  #continuous var-s, process durations in minutes\n",
        "    'registration_time_min': registration_times,\n",
        "    'consultation_time_min': consultation_times,\n",
        "    'diagnostic_time_min': diagnostic_times,\n",
        "    'treatment_time_min': treatment_times\n",
        "})"
      ],
      "metadata": {
        "id": "VqyhxNMxRIur"
      },
      "id": "VqyhxNMxRIur",
      "execution_count": 174,
      "outputs": []
    },
    {
      "cell_type": "code",
      "source": [
        "#sort dataset by arrival time to ensure the correct event sequencing\n",
        "ed_patient_data.sort_values('arrival_time_hr', inplace=True)\n",
        "ed_patient_data.reset_index(drop=True, inplace=True)"
      ],
      "metadata": {
        "id": "UFPJuMLgRVnb"
      },
      "id": "UFPJuMLgRVnb",
      "execution_count": 175,
      "outputs": []
    },
    {
      "cell_type": "code",
      "source": [
        "# how the dataset looks like (what's stored inside, not easy to analyse)\n",
        "print(ed_patient_data.head())"
      ],
      "metadata": {
        "colab": {
          "base_uri": "https://localhost:8080/"
        },
        "id": "yEONI7j-RbTf",
        "outputId": "6b502635-ef98-44dd-c619-9c4adf9da6f0"
      },
      "id": "yEONI7j-RbTf",
      "execution_count": 176,
      "outputs": [
        {
          "output_type": "stream",
          "name": "stdout",
          "text": [
            "   arrival_time_hr  triage_category  requires_diagnostics  triage_time_min  \\\n",
            "0         0.032919                4                     0         9.234256   \n",
            "1         0.055742                2                     0        10.856518   \n",
            "2         0.059983                5                     1         8.466979   \n",
            "3         0.064223                3                     0         8.095101   \n",
            "4         0.065719                3                     1        12.978108   \n",
            "\n",
            "   registration_time_min  consultation_time_min  diagnostic_time_min  \\\n",
            "0               5.492160              18.120811             0.000000   \n",
            "1               7.590787              24.897107             0.000000   \n",
            "2               6.266324              31.391903            42.557368   \n",
            "3              10.333929              24.236401             0.000000   \n",
            "4               9.144008              25.562853            28.585121   \n",
            "\n",
            "   treatment_time_min  \n",
            "0           20.133074  \n",
            "1           28.833465  \n",
            "2           28.762714  \n",
            "3           24.143771  \n",
            "4           27.727979  \n"
          ]
        }
      ]
    },
    {
      "cell_type": "code",
      "source": [
        "#sort and reset index\n",
        "ed_patient_data.sort_values('arrival_time_hr', inplace=True)\n",
        "ed_patient_data.reset_index(drop=True, inplace=True)\n",
        "# verify with the previous one - compare\n",
        "print(ed_patient_data.head())"
      ],
      "metadata": {
        "colab": {
          "base_uri": "https://localhost:8080/"
        },
        "id": "3BjnfFLFa_A7",
        "outputId": "4205d2b0-e1a2-4546-a447-7e7f58758ca4"
      },
      "id": "3BjnfFLFa_A7",
      "execution_count": 177,
      "outputs": [
        {
          "output_type": "stream",
          "name": "stdout",
          "text": [
            "   arrival_time_hr  triage_category  requires_diagnostics  triage_time_min  \\\n",
            "0         0.032919                4                     0         9.234256   \n",
            "1         0.055742                2                     0        10.856518   \n",
            "2         0.059983                5                     1         8.466979   \n",
            "3         0.064223                3                     0         8.095101   \n",
            "4         0.065719                3                     1        12.978108   \n",
            "\n",
            "   registration_time_min  consultation_time_min  diagnostic_time_min  \\\n",
            "0               5.492160              18.120811             0.000000   \n",
            "1               7.590787              24.897107             0.000000   \n",
            "2               6.266324              31.391903            42.557368   \n",
            "3              10.333929              24.236401             0.000000   \n",
            "4               9.144008              25.562853            28.585121   \n",
            "\n",
            "   treatment_time_min  \n",
            "0           20.133074  \n",
            "1           28.833465  \n",
            "2           28.762714  \n",
            "3           24.143771  \n",
            "4           27.727979  \n"
          ]
        }
      ]
    },
    {
      "cell_type": "code",
      "source": [
        "print(\"Sample of Generated Patient Data (first 5 rows):\\n\")\n",
        "\n",
        "# Select relevant columns for display\n",
        "sample = ed_patient_data.head()\n",
        "\n",
        "# Rename columns with descriptive headers for clarity\n",
        "sample = sample.rename(columns={\n",
        "    'arrival_time_hr': 'Arrival',\n",
        "    'triage_category': 'TriageCat.',\n",
        "    'requires_diagnostics': 'Needs Diagn.?',\n",
        "    'triage_time_min': 'Triage(min)',\n",
        "    'registration_time_min': 'Registr.(min)',\n",
        "    'consultation_time_min': 'Consult.(min)',\n",
        "    'diagnostic_time_min': 'Diagnostic(min)',\n",
        "    'treatment_time_min': 'Treatment(min)'\n",
        "})\n",
        "\n",
        "print(sample.to_string(index=False))"
      ],
      "metadata": {
        "colab": {
          "base_uri": "https://localhost:8080/"
        },
        "id": "_q4A3erFRv9C",
        "outputId": "0c7afcc5-c58a-4a78-e543-4b233486a3ad"
      },
      "id": "_q4A3erFRv9C",
      "execution_count": 178,
      "outputs": [
        {
          "output_type": "stream",
          "name": "stdout",
          "text": [
            "Sample of Generated Patient Data (first 5 rows):\n",
            "\n",
            " Arrival  TriageCat.  Needs Diagn.?  Triage(min)  Registr.(min)  Consult.(min)  Diagnostic(min)  Treatment(min)\n",
            "0.032919           4              0     9.234256       5.492160      18.120811         0.000000       20.133074\n",
            "0.055742           2              0    10.856518       7.590787      24.897107         0.000000       28.833465\n",
            "0.059983           5              1     8.466979       6.266324      31.391903        42.557368       28.762714\n",
            "0.064223           3              0     8.095101      10.333929      24.236401         0.000000       24.143771\n",
            "0.065719           3              1    12.978108       9.144008      25.562853        28.585121       27.727979\n"
          ]
        }
      ]
    },
    {
      "cell_type": "markdown",
      "source": [
        "Visuals of the dataset by triage category"
      ],
      "metadata": {
        "id": "QHImWd0aTlCg"
      },
      "id": "QHImWd0aTlCg"
    },
    {
      "cell_type": "code",
      "source": [
        "import matplotlib.patches as mpatches\n",
        "\n",
        "palette = sns.color_palette(\"Set1\", n_colors=5)\n",
        "\n",
        "\n",
        "plot_data = ed_patient_data[['triage_category', 'consultation_time_min']].copy()\n",
        "plot_data['triage_category'] = plot_data['triage_category'].astype('category')\n",
        "\n",
        "\n",
        "plt.figure(figsize=(12, 6))\n",
        "hist = sns.histplot(\n",
        "    data=plot_data,\n",
        "    x='consultation_time_min',\n",
        "    hue='triage_category',\n",
        "    multiple='stack',\n",
        "    palette=palette,\n",
        "    bins=30,\n",
        "    edgecolor='black',\n",
        "    alpha=0.75\n",
        ")\n",
        "\n",
        "plt.title('Consultation Time Distribution by Triage Category', fontsize=16)\n",
        "plt.xlabel('Consultation Time (minutes)', fontsize=13)\n",
        "plt.ylabel('Count', fontsize=13)\n",
        "plt.grid(True, linestyle='--', alpha=0.5)\n",
        "plt.tight_layout()\n",
        "\n",
        "triage_labels = ['1 - Critical', '2 - High', '3 - Moderate', '4 - Low', '5 - Minor']\n",
        "handles = [mpatches.Patch(color=palette[i], label=triage_labels[i]) for i in range(len(triage_labels))]\n",
        "\n",
        "plt.legend(handles=handles, title='Triage Category', title_fontsize=13, fontsize=11, loc='upper right')\n",
        "\n",
        "plt.show()"
      ],
      "metadata": {
        "colab": {
          "base_uri": "https://localhost:8080/",
          "height": 0
        },
        "id": "gdpbuj-pSoyw",
        "outputId": "f49cb39b-9587-4502-d552-782890c6a871"
      },
      "id": "gdpbuj-pSoyw",
      "execution_count": 179,
      "outputs": [
        {
          "output_type": "display_data",
          "data": {
            "text/plain": [
              "<Figure size 1200x600 with 1 Axes>"
            ],
            "image/png": "[encoded data removed]"
          },
          "metadata": {}
        }
      ]
    },
    {
      "cell_type": "markdown",
      "source": [
        "# KPIs"
      ],
      "metadata": {
        "id": "rrnZ5WOVcegL"
      },
      "id": "rrnZ5WOVcegL"
    },
    {
      "cell_type": "markdown",
      "source": [
        "Collect and store KPIs across simulations"
      ],
      "metadata": {
        "id": "fhd14zP4comz"
      },
      "id": "fhd14zP4comz"
    },
    {
      "cell_type": "code",
      "source": [
        "class KPICollector:\n",
        "    def __init__(self):\n",
        "        self.waiting_times = []\n",
        "        self.length_of_stay = []\n",
        "        self.diverted_patients = 0\n",
        "        self.doctor_busy_time = 0.0\n",
        "        self.bed_busy_time = 0.0\n",
        "        self.surgical_room_busy_time = 0.0\n",
        "        self.diagnostic_room_busy_time = 0.0\n",
        "\n",
        "    def reset(self):\n",
        "        self.waiting_times.clear()\n",
        "        self.length_of_stay.clear()\n",
        "        self.diverted_patients = 0\n",
        "        self.doctor_busy_time = 0.0\n",
        "        self.bed_busy_time = 0.0\n",
        "        self.surgical_room_busy_time = 0.0\n",
        "        self.diagnostic_room_busy_time = 0.0\n",
        "\n",
        "    def aggregate(self, other):\n",
        "        self.waiting_times.extend(other.waiting_times)\n",
        "        self.length_of_stay.extend(other.length_of_stay)\n",
        "        self.diverted_patients += other.diverted_patients\n",
        "        self.doctor_busy_time += other.doctor_busy_time\n",
        "        self.bed_busy_time += other.bed_busy_time\n",
        "        self.surgical_room_busy_time += other.surgical_room_busy_time\n",
        "        self.diagnostic_room_busy_time += other.diagnostic_room_busy_time\n"
      ],
      "metadata": {
        "id": "uO-lV61fclHE"
      },
      "id": "uO-lV61fclHE",
      "execution_count": 180,
      "outputs": []
    },
    {
      "cell_type": "code",
      "source": [
        "from scipy import stats"
      ],
      "metadata": {
        "id": "nstcy2somRn1"
      },
      "id": "nstcy2somRn1",
      "execution_count": 181,
      "outputs": []
    },
    {
      "cell_type": "code",
      "source": [
        "def kpi_statistics(data):\n",
        "    if len(data) == 0:\n",
        "        return {'mean': None, 'median': None, 'mode': None, 'std_dev': None}\n",
        "    mode_val = stats.mode(data, keepdims=False).mode\n",
        "    return {\n",
        "        'mean': np.mean(data),\n",
        "        'median': np.median(data),\n",
        "        'mode': mode_val,\n",
        "        'std_dev': np.std(data, ddof=1)\n",
        "    }"
      ],
      "metadata": {
        "id": "q0k43EV4l7-G"
      },
      "id": "q0k43EV4l7-G",
      "execution_count": 182,
      "outputs": []
    },
    {
      "cell_type": "code",
      "source": [
        "def utilization_stats(label, busy_time, capacity, sim_hours):\n",
        "    utilization_pct = (busy_time / (capacity * sim_hours)) * 100\n",
        "    print(f\"{label}: {utilization_pct:.2f}% average utilization\")"
      ],
      "metadata": {
        "id": "FpG2_Et5vEso"
      },
      "id": "FpG2_Et5vEso",
      "execution_count": 183,
      "outputs": []
    },
    {
      "cell_type": "code",
      "source": [
        "def print_resource_utilization(replication_results, scenario_name):\n",
        "    num_replications = len(replication_results)\n",
        "\n",
        "    total_doctor_busy = sum(res.doctor_busy_time for res in replication_results)\n",
        "    total_bed_busy = sum(res.bed_busy_time for res in replication_results)\n",
        "    total_surgical_busy = sum(res.surgical_room_busy_time for res in replication_results)\n",
        "    total_diagnostic_busy = sum(res.diagnostic_room_busy_time for res in replication_results)\n",
        "\n",
        "    print(f\"\\n{scenario_name} Resource Utilizations:\")\n",
        "    utilization_stats(\"Doctor Utilization\", total_doctor_busy, DOCTOR_CAPACITY, SIM_TIME_HOURS * num_replications)\n",
        "    utilization_stats(\"Bed Utilization\", total_bed_busy, BED_CAPACITY, SIM_TIME_HOURS * num_replications)\n",
        "    utilization_stats(\"Surgical Room Utilization\", total_surgical_busy, SURGICAL_ROOM_CAPACITY, SIM_TIME_HOURS * num_replications)\n",
        "    utilization_stats(\"Diagnostic Room Utilization\", total_diagnostic_busy, DIAGNOSTIC_ROOM_CAPASITY, SIM_TIME_HOURS * num_replications)"
      ],
      "metadata": {
        "id": "3OT7B3gw4Yx6"
      },
      "id": "3OT7B3gw4Yx6",
      "execution_count": 184,
      "outputs": []
    },
    {
      "cell_type": "code",
      "source": [
        "def print_kpi_stats(label, stats):\n",
        "    print(f\"{label}:\")\n",
        "    print(f\"  Mean   : {float(stats['mean']):.2f} hours\")\n",
        "    print(f\"  Median : {float(stats['median']):.2f} hours\")\n",
        "    print(f\"  Mode   : {float(stats['mode']):.2f} hours\")\n",
        "    print(f\"  Std Dev: {float(stats['std_dev']):.2f} hours\\n\")\n"
      ],
      "metadata": {
        "id": "GR3ZxrC8TVwu"
      },
      "id": "GR3ZxrC8TVwu",
      "execution_count": 185,
      "outputs": []
    },
    {
      "cell_type": "markdown",
      "source": [
        "# Control scenario simulation"
      ],
      "metadata": {
        "id": "WlECVt6kaUGt"
      },
      "id": "WlECVt6kaUGt"
    },
    {
      "cell_type": "markdown",
      "source": [
        "1. Setting the baseline scenario basic resources (including human resources) capacities and data assumptions"
      ],
      "metadata": {
        "id": "pdmwaGN1efvI"
      },
      "id": "pdmwaGN1efvI"
    },
    {
      "cell_type": "code",
      "source": [
        "DOCTOR_CAPACITY = 4\n",
        "BED_CAPACITY = 15\n",
        "SURGICAL_ROOM_CAPACITY = 1\n",
        "DIAGNOSTIC_ROOM_CAPASITY = 5"
      ],
      "metadata": {
        "id": "7iMEXWBetHG0"
      },
      "id": "7iMEXWBetHG0",
      "execution_count": 186,
      "outputs": []
    },
    {
      "cell_type": "code",
      "source": [
        "SIM_TIME_HOURS = 24 # one days simulation"
      ],
      "metadata": {
        "id": "F1JSvsw1euw8"
      },
      "id": "F1JSvsw1euw8",
      "execution_count": 187,
      "outputs": []
    },
    {
      "cell_type": "markdown",
      "source": [
        "## Patient process"
      ],
      "metadata": {
        "id": "0gzOQ-6EfPpM"
      },
      "id": "0gzOQ-6EfPpM"
    },
    {
      "cell_type": "markdown",
      "source": [
        "journey of one patient within ED. Max steps are:\n",
        "\n",
        "\n",
        "1. triage identification\n",
        "2. registration *time resource\n",
        "3. consultation *doctor, time resource\n",
        "4. diagnostics *, doctor, capacity of diagnostical rooms/equipment, time resource\n",
        "5. admission decision n possible treatment incl. surgery *bed + surgical room + doctor, time capacity\n",
        "\n"
      ],
      "metadata": {
        "id": "K3p7rA-Bgaek"
      },
      "id": "K3p7rA-Bgaek"
    },
    {
      "cell_type": "code",
      "source": [
        "def patient_process(env, patient_id, patient_data, doctors, beds, diagnostic_rooms, surgical_rooms, kpi):\n",
        "\n",
        "    arrival_time = patient_data.loc[patient_id, 'arrival_time_hr']\n",
        "    #wait for arrival\n",
        "    yield env.timeout(max(0, arrival_time - env.now))\n",
        "\n",
        "    start_time = env.now\n",
        "\n",
        "    # Triage identif. and registration(assumed unconstrained)\n",
        "    yield env.timeout(patient_data.loc[patient_id, 'triage_time_min'] / 60)\n",
        "    yield env.timeout(patient_data.loc[patient_id, 'registration_time_min'] / 60)\n",
        "\n",
        "    #Consultation\n",
        "    with doctors.request() as req:\n",
        "        yield req\n",
        "        wait_time = env.now - start_time\n",
        "        kpi.waiting_times.append(wait_time)\n",
        "        consult_duration = patient_data.loc[patient_id, 'consultation_time_min'] / 60\n",
        "        kpi.doctor_busy_time += consult_duration\n",
        "        yield env.timeout(consult_duration)\n",
        "\n",
        "    # Diagnostics / if required\n",
        "    if patient_data.loc[patient_id, 'requires_diagnostics'] == 1:\n",
        "        with diagnostic_rooms.request() as req:\n",
        "            yield req\n",
        "            diag_duration = patient_data.loc[patient_id, 'diagnostic_time_min'] / 60\n",
        "            kpi.diagnostic_room_busy_time += diag_duration\n",
        "            yield env.timeout(diag_duration)\n",
        "\n",
        "    # admission decision / (30% admitted)\n",
        "    admitted = np.random.rand() < 0.3\n",
        "\n",
        "    if admitted:\n",
        "        # bed\n",
        "        with beds.request() as bed_req:\n",
        "            bed_result = yield bed_req | env.timeout(0)  # Non-blocking bed request\n",
        "            if bed_req not in bed_result:\n",
        "                # No beds => patient diverted\n",
        "                kpi.diverted_patients += 1\n",
        "                kpi.length_of_stay.append(env.now - start_time)\n",
        "                return\n",
        "\n",
        "            # decide boolean if surgery is needed /50% of admitted require surgery\n",
        "            surgery_needed = np.random.rand() < 0.5\n",
        "\n",
        "            if surgery_needed:\n",
        "                with surgical_rooms.request() as surg_req:\n",
        "                    yield surg_req\n",
        "                    surgery_duration = patient_data.loc[patient_id, 'surgery_time_min'] / 60\n",
        "                    kpi.surgical_room_busy_time += surgery_duration\n",
        "                    yield env.timeout(surgery_duration)\n",
        "\n",
        "            # treatment duration after surgery || treatment admitted non-surgical patients\n",
        "            treatment_duration = patient_data.loc[patient_id, 'treatment_time_min'] / 60\n",
        "            kpi.bed_busy_time += treatment_duration\n",
        "            yield env.timeout(treatment_duration)\n",
        "\n",
        "    else:\n",
        "        # treatment - no bed or surgical room needed\n",
        "        yield env.timeout(patient_data.loc[patient_id, 'treatment_time_min'] / 60)\n",
        "\n",
        "    # total LOS\n",
        "    kpi.length_of_stay.append(env.now - start_time)\n"
      ],
      "metadata": {
        "id": "ios3jHYmgR3I"
      },
      "id": "ios3jHYmgR3I",
      "execution_count": 188,
      "outputs": []
    },
    {
      "cell_type": "markdown",
      "source": [
        "Changes for initial dataframe to fit the patient process with ***surgery***"
      ],
      "metadata": {
        "id": "RDY-B-p3j-vj"
      },
      "id": "RDY-B-p3j-vj"
    },
    {
      "cell_type": "code",
      "source": [
        "num_patients = len(ed_patient_data)\n",
        "\n",
        "ed_patient_data['surgery_time_min'] = 0.0\n",
        "\n",
        "# 50% require surgery\n",
        "surgery_mask = np.random.binomial(1, 0.5, num_patients).astype(bool)\n",
        "\n",
        "#TriangularDistribution for surgery time: min=60, mode=120, max=180 minutes\n",
        "surgery_times = np.random.triangular(left=60, mode=120, right=180, size=num_patients)\n",
        "\n",
        "# Assign surgery times only for patients selected for surgery\n",
        "ed_patient_data.loc[surgery_mask, 'surgery_time_min'] = surgery_times[surgery_mask]"
      ],
      "metadata": {
        "id": "4iTvxNPokEvd"
      },
      "id": "4iTvxNPokEvd",
      "execution_count": 189,
      "outputs": []
    },
    {
      "cell_type": "markdown",
      "source": [
        "# Simulation function (will use also for manipulated *consitions* later)"
      ],
      "metadata": {
        "id": "Ln8WXQVZh5d1"
      },
      "id": "Ln8WXQVZh5d1"
    },
    {
      "cell_type": "code",
      "source": [
        "def run_control_simulation(patient_data, run_time=SIM_TIME_HOURS):\n",
        "    import simpy\n",
        "    env = simpy.Environment()\n",
        "\n",
        "    doctors = simpy.Resource(env, capacity=DOCTOR_CAPACITY)\n",
        "    beds = simpy.Resource(env, capacity=BED_CAPACITY)\n",
        "    surgical_rooms = simpy.Resource(env, capacity=SURGICAL_ROOM_CAPACITY)\n",
        "    diagnostic_rooms = simpy.Resource(env, capacity=DIAGNOSTIC_ROOM_CAPASITY)\n",
        "\n",
        "    kpi = KPICollector()\n",
        "\n",
        "    for patient_id in patient_data.index:\n",
        "        env.process(patient_process(env, patient_id, patient_data, doctors, beds, diagnostic_rooms, surgical_rooms, kpi))\n",
        "\n",
        "    env.run(until=run_time)\n",
        "\n",
        "    return kpi"
      ],
      "metadata": {
        "id": "XQnoj73Hk4y-"
      },
      "id": "XQnoj73Hk4y-",
      "execution_count": 190,
      "outputs": []
    },
    {
      "cell_type": "markdown",
      "source": [
        "Run simulation  100 times"
      ],
      "metadata": {
        "id": "nF3PQ2G7jGuo"
      },
      "id": "nF3PQ2G7jGuo"
    },
    {
      "cell_type": "code",
      "source": [
        "num_replications = 100\n",
        "replication_results = []\n",
        "\n",
        "for i in range(num_replications):\n",
        "    kpi = run_control_simulation(ed_patient_data, run_time=SIM_TIME_HOURS)\n",
        "    replication_results.append(kpi)\n",
        "\n",
        "#Aggregate KPIs from all replications\n",
        "all_waiting_times = []\n",
        "all_length_of_stay = []\n",
        "total_diverted = 0\n",
        "\n",
        "for res in replication_results:\n",
        "    all_waiting_times.extend(res.waiting_times)\n",
        "    all_length_of_stay.extend(res.length_of_stay)\n",
        "    total_diverted += res.diverted_patients"
      ],
      "metadata": {
        "id": "1qcot6QUk8I8"
      },
      "id": "1qcot6QUk8I8",
      "execution_count": 191,
      "outputs": []
    },
    {
      "cell_type": "markdown",
      "source": [
        "# KPI statistics  on control scenario"
      ],
      "metadata": {
        "id": "6Oas7ozAlxJ6"
      },
      "id": "6Oas7ozAlxJ6"
    },
    {
      "cell_type": "code",
      "source": [
        "# Calculate aggregated statistics\n",
        "waiting_stats = kpi_statistics(all_waiting_times)\n",
        "los_stats = kpi_statistics(all_length_of_stay)"
      ],
      "metadata": {
        "id": "fgDaVxyCl3p1"
      },
      "id": "fgDaVxyCl3p1",
      "execution_count": 192,
      "outputs": []
    },
    {
      "cell_type": "code",
      "source": [
        "print_kpi_stats(\"Aggregated Waiting Time Statistics\", waiting_stats)\n",
        "print_kpi_stats(\"Aggregated Length of Stay Statistics\", los_stats)\n",
        "print(f\"Aggregated Total Diverted Patients: {total_diverted}\\n\")"
      ],
      "metadata": {
        "colab": {
          "base_uri": "https://localhost:8080/"
        },
        "id": "JlmUv-kzmAT1",
        "outputId": "92eb0f35-c45a-4762-e847-1957eca446c7"
      },
      "id": "JlmUv-kzmAT1",
      "execution_count": 193,
      "outputs": [
        {
          "output_type": "stream",
          "name": "stdout",
          "text": [
            "Aggregated Waiting Time Statistics:\n",
            "  Mean   : 9.52 hours\n",
            "  Median : 9.64 hours\n",
            "  Mode   : 0.25 hours\n",
            "  Std Dev: 5.40 hours\n",
            "\n",
            "Aggregated Length of Stay Statistics:\n",
            "  Mean   : 10.21 hours\n",
            "  Median : 10.26 hours\n",
            "  Mode   : 0.88 hours\n",
            "  Std Dev: 5.23 hours\n",
            "\n",
            "Aggregated Total Diverted Patients: 366\n",
            "\n"
          ]
        }
      ]
    },
    {
      "cell_type": "code",
      "source": [
        "print_resource_utilization(replication_results, \"Control Scenario\")"
      ],
      "metadata": {
        "colab": {
          "base_uri": "https://localhost:8080/"
        },
        "id": "4_8UDSuO2HyY",
        "outputId": "7a638ac5-dc6b-4839-9075-192fd985db3a"
      },
      "id": "4_8UDSuO2HyY",
      "execution_count": 194,
      "outputs": [
        {
          "output_type": "stream",
          "name": "stdout",
          "text": [
            "\n",
            "Control Scenario Resource Utilizations:\n",
            "Doctor Utilization: 99.75% average utilization\n",
            "Bed Utilization: 4.88% average utilization\n",
            "Surgical Room Utilization: 91.12% average utilization\n",
            "Diagnostic Room Utilization: 27.83% average utilization\n"
          ]
        }
      ]
    },
    {
      "cell_type": "markdown",
      "source": [
        "# Manipulated 1 - fast track for minor cases"
      ],
      "metadata": {
        "id": "H2_tQUdkvxIk"
      },
      "id": "H2_tQUdkvxIk"
    },
    {
      "cell_type": "code",
      "source": [
        "FAST_TRACK_DOCTOR_CAPACITY = 5"
      ],
      "metadata": {
        "id": "-_fnllLUv1PX"
      },
      "id": "-_fnllLUv1PX",
      "execution_count": 195,
      "outputs": []
    },
    {
      "cell_type": "markdown",
      "source": [
        "### patient process with a fast track"
      ],
      "metadata": {
        "id": "n7Hs-Qx0zWms"
      },
      "id": "n7Hs-Qx0zWms"
    },
    {
      "cell_type": "code",
      "source": [
        "def patient_process_fast_track(env, patient_id, patient_data, doctors, beds, diagnostic_rooms, surgical_rooms, fast_track_doctors, kpi):\n",
        "    arrival = patient_data.loc[patient_id, 'arrival_time_hr']\n",
        "    yield env.timeout(max(0, arrival - env.now))\n",
        "\n",
        "    start_time = env.now\n",
        "\n",
        "    # Triage and registration\n",
        "    yield env.timeout(patient_data.loc[patient_id, 'triage_time_min'] / 60)\n",
        "    yield env.timeout(patient_data.loc[patient_id, 'registration_time_min'] / 60)\n",
        "\n",
        "    triage_cat = patient_data.loc[patient_id, 'triage_category']\n",
        "\n",
        "    # Doctor pool selection\n",
        "    if triage_cat in [4, 5]:\n",
        "        doctor_resource = fast_track_doctors\n",
        "    else:\n",
        "        doctor_resource = doctors\n",
        "\n",
        "    # Consultation\n",
        "    with doctor_resource.request() as req:\n",
        "        yield req\n",
        "        wait_time = env.now - start_time\n",
        "        kpi.waiting_times.append(wait_time)\n",
        "        duration = patient_data.loc[patient_id, 'consultation_time_min'] / 60\n",
        "        kpi.doctor_busy_time += duration\n",
        "        yield env.timeout(duration)\n",
        "\n",
        "    # Diagnostics if needed\n",
        "    if patient_data.loc[patient_id, 'requires_diagnostics'] == 1:\n",
        "        with diagnostic_rooms.request() as req:\n",
        "            yield req\n",
        "            duration = patient_data.loc[patient_id, 'diagnostic_time_min'] / 60\n",
        "            kpi.diagnostic_room_busy_time += duration\n",
        "            yield env.timeout(duration)\n",
        "\n",
        "    # Admission decision (30%)\n",
        "    admitted = np.random.rand() < 0.3\n",
        "    if admitted:\n",
        "        with beds.request() as req:\n",
        "            result = yield req | env.timeout(0)  # Non-blocking bed request\n",
        "            if req not in result:\n",
        "                kpi.diverted_patients += 1\n",
        "                kpi.length_of_stay.append(env.now - start_time)\n",
        "                return\n",
        "\n",
        "            # Surgery decision for admitted patients (50% chance)\n",
        "            surgery_needed = np.random.rand() < 0.5\n",
        "            if surgery_needed:\n",
        "                with surgical_rooms.request() as surg_req:\n",
        "                    yield surg_req\n",
        "                    surgery_duration = patient_data.loc[patient_id, 'surgery_time_min'] / 60\n",
        "                    kpi.surgical_room_busy_time += surgery_duration\n",
        "                    yield env.timeout(surgery_duration)\n",
        "\n",
        "            # Treatment after surgery or admitted non-surgical patients\n",
        "            treatment_duration = patient_data.loc[patient_id, 'treatment_time_min'] / 60\n",
        "            kpi.bed_busy_time += treatment_duration\n",
        "            yield env.timeout(treatment_duration)\n",
        "    else:\n",
        "        # Treatment without admission (no bed/surgery)\n",
        "        yield env.timeout(patient_data.loc[patient_id, 'treatment_time_min'] / 60)\n",
        "\n",
        "    kpi.length_of_stay.append(env.now - start_time)\n"
      ],
      "metadata": {
        "id": "rZo3YY-jzRiM"
      },
      "id": "rZo3YY-jzRiM",
      "execution_count": 196,
      "outputs": []
    },
    {
      "cell_type": "markdown",
      "source": [
        "### fast track sim runner"
      ],
      "metadata": {
        "id": "0B-HammPzwvA"
      },
      "id": "0B-HammPzwvA"
    },
    {
      "cell_type": "code",
      "source": [
        "def run_fast_track_simulation(patient_data, run_time=SIM_TIME_HOURS):\n",
        "    import simpy\n",
        "    env = simpy.Environment()\n",
        "\n",
        "    doctors = simpy.Resource(env, capacity=DOCTOR_CAPACITY)\n",
        "    fast_track_doctors = simpy.Resource(env, capacity=FAST_TRACK_DOCTOR_CAPACITY)\n",
        "    beds = simpy.Resource(env, capacity=BED_CAPACITY)\n",
        "    surgical_rooms = simpy.Resource(env, capacity=SURGICAL_ROOM_CAPACITY)\n",
        "    diagnostic_rooms = simpy.Resource(env, capacity=DIAGNOSTIC_ROOM_CAPASITY)\n",
        "\n",
        "    kpi = KPICollector()\n",
        "\n",
        "    for patient_id in patient_data.index:\n",
        "        env.process(patient_process_fast_track(env, patient_id, patient_data, doctors, beds,\n",
        "                                              diagnostic_rooms, surgical_rooms, fast_track_doctors, kpi))\n",
        "\n",
        "    env.run(until=run_time)\n",
        "\n",
        "    return kpi"
      ],
      "metadata": {
        "id": "4Jhn38GIzuwl"
      },
      "id": "4Jhn38GIzuwl",
      "execution_count": 213,
      "outputs": []
    },
    {
      "cell_type": "code",
      "source": [
        "num_replications = 100\n",
        "replication_results_ft = []\n",
        "\n",
        "for i in range(num_replications):\n",
        "    kpi = run_fast_track_simulation(ed_patient_data, run_time=SIM_TIME_HOURS)\n",
        "    replication_results_ft.append(kpi)"
      ],
      "metadata": {
        "id": "umqVVZsk02Td"
      },
      "id": "umqVVZsk02Td",
      "execution_count": 198,
      "outputs": []
    },
    {
      "cell_type": "markdown",
      "source": [
        "# KPI stats on scen1"
      ],
      "metadata": {
        "id": "MlFFuRuBz_SR"
      },
      "id": "MlFFuRuBz_SR"
    },
    {
      "cell_type": "code",
      "source": [
        "all_waiting_times_ft = []\n",
        "all_length_of_stay_ft = []\n",
        "total_diverted_ft = 0\n",
        "\n",
        "for res in replication_results_ft:\n",
        "    all_waiting_times_ft.extend(res.waiting_times)\n",
        "    all_length_of_stay_ft.extend(res.length_of_stay)\n",
        "    total_diverted_ft += res.diverted_patients"
      ],
      "metadata": {
        "id": "dYSgko1W0zXE"
      },
      "id": "dYSgko1W0zXE",
      "execution_count": 199,
      "outputs": []
    },
    {
      "cell_type": "code",
      "source": [
        "\n",
        "waiting_stats_ft = kpi_statistics(all_waiting_times_ft)\n",
        "los_stats_ft = kpi_statistics(all_length_of_stay_ft)\n"
      ],
      "metadata": {
        "id": "KWH0oINt0AxM"
      },
      "id": "KWH0oINt0AxM",
      "execution_count": 200,
      "outputs": []
    },
    {
      "cell_type": "code",
      "source": [
        "print_kpi_stats(\"Fast-Track Aggregated Waiting Time Statistics\", waiting_stats_ft)\n",
        "print_kpi_stats(\"Fast-Track Aggregated Length of Stay Statistics\", los_stats_ft)\n",
        "print(f\"Fast-Track Aggregated Total Diverted Patients: {total_diverted_ft}\\n\")"
      ],
      "metadata": {
        "colab": {
          "base_uri": "https://localhost:8080/"
        },
        "id": "nSViFlO90ud0",
        "outputId": "27a73366-bbdd-46a4-ca8b-43ef056e791c"
      },
      "id": "nSViFlO90ud0",
      "execution_count": 201,
      "outputs": [
        {
          "output_type": "stream",
          "name": "stdout",
          "text": [
            "Fast-Track Aggregated Waiting Time Statistics:\n",
            "  Mean   : 5.94 hours\n",
            "  Median : 5.85 hours\n",
            "  Mode   : 0.21 hours\n",
            "  Std Dev: 3.55 hours\n",
            "\n",
            "Fast-Track Aggregated Length of Stay Statistics:\n",
            "  Mean   : 6.95 hours\n",
            "  Median : 6.69 hours\n",
            "  Mode   : 0.88 hours\n",
            "  Std Dev: 3.63 hours\n",
            "\n",
            "Fast-Track Aggregated Total Diverted Patients: 7064\n",
            "\n"
          ]
        }
      ]
    },
    {
      "cell_type": "code",
      "source": [
        "print_resource_utilization(replication_results, \"Control Scenario\")\n",
        "print_resource_utilization(replication_results_ft, \"Fast-Track Scenario\")"
      ],
      "metadata": {
        "colab": {
          "base_uri": "https://localhost:8080/"
        },
        "id": "004788dR3vBC",
        "outputId": "cdf5fd2d-5344-41ab-99e1-9acdf30eb110"
      },
      "id": "004788dR3vBC",
      "execution_count": 202,
      "outputs": [
        {
          "output_type": "stream",
          "name": "stdout",
          "text": [
            "\n",
            "Control Scenario Resource Utilizations:\n",
            "Doctor Utilization: 99.75% average utilization\n",
            "Bed Utilization: 4.88% average utilization\n",
            "Surgical Room Utilization: 91.12% average utilization\n",
            "Diagnostic Room Utilization: 27.83% average utilization\n",
            "\n",
            "Fast-Track Scenario Resource Utilizations:\n",
            "Doctor Utilization: 223.59% average utilization\n",
            "Bed Utilization: 5.84% average utilization\n",
            "Surgical Room Utilization: 97.89% average utilization\n",
            "Diagnostic Room Utilization: 62.93% average utilization\n"
          ]
        }
      ]
    },
    {
      "cell_type": "markdown",
      "source": [
        "# Manipulated scenario 2 - additional sugical room n diagnostical equipment"
      ],
      "metadata": {
        "id": "a56pRmZs48Ql"
      },
      "id": "a56pRmZs48Ql"
    },
    {
      "cell_type": "code",
      "source": [
        "SCEN2_SURGICAL_ROOM_CAPACITY = 2 #+1\n",
        "SCEN2_DIAGNOSTIC_ROOM_CAPACITY = 7 #+2\n",
        "SCEN2_DOCTOR_CAPACITY = 5  #+1"
      ],
      "metadata": {
        "id": "cnDqoHFT5H2n"
      },
      "id": "cnDqoHFT5H2n",
      "execution_count": 203,
      "outputs": []
    },
    {
      "cell_type": "markdown",
      "source": [
        "## Patient process is the same as baseline"
      ],
      "metadata": {
        "id": "Bpfp50db5UeG"
      },
      "id": "Bpfp50db5UeG"
    },
    {
      "cell_type": "markdown",
      "source": [
        "## runner of simulation function new to accumulate data"
      ],
      "metadata": {
        "id": "o6Isd6Sk5cT5"
      },
      "id": "o6Isd6Sk5cT5"
    },
    {
      "cell_type": "code",
      "source": [
        "def run_scenario2_simulation(patient_data, run_time=SIM_TIME_HOURS):\n",
        "    import simpy\n",
        "    env = simpy.Environment()\n",
        "\n",
        "    doctors = simpy.Resource(env, capacity=SCEN2_DOCTOR_CAPACITY)\n",
        "    beds = simpy.Resource(env, capacity=BED_CAPACITY)  # no change to beds\n",
        "    surgical_rooms = simpy.Resource(env, capacity=SCEN2_SURGICAL_ROOM_CAPACITY)\n",
        "    diagnostic_rooms = simpy.Resource(env, capacity=SCEN2_DIAGNOSTIC_ROOM_CAPACITY)\n",
        "\n",
        "    kpi = KPICollector()\n",
        "\n",
        "    for patient_id in patient_data.index:\n",
        "        env.process(patient_process(env, patient_id, patient_data, doctors, beds, diagnostic_rooms, surgical_rooms, kpi))\n",
        "\n",
        "    env.run(until=run_time)\n",
        "\n",
        "    return kpi\n"
      ],
      "metadata": {
        "id": "zEzxnyrn6PEU"
      },
      "id": "zEzxnyrn6PEU",
      "execution_count": 204,
      "outputs": []
    },
    {
      "cell_type": "code",
      "source": [
        "num_replications = 100\n",
        "replication_results_scen2 = []\n",
        "\n",
        "for i in range(num_replications):\n",
        "    kpi = run_scenario2_simulation(ed_patient_data, run_time=SIM_TIME_HOURS)\n",
        "    replication_results_scen2.append(kpi)"
      ],
      "metadata": {
        "id": "UOZT_k656UAJ"
      },
      "id": "UOZT_k656UAJ",
      "execution_count": 205,
      "outputs": []
    },
    {
      "cell_type": "markdown",
      "source": [
        "# Scen2 KPIs"
      ],
      "metadata": {
        "id": "iAJE9k3-6QDx"
      },
      "id": "iAJE9k3-6QDx"
    },
    {
      "cell_type": "code",
      "source": [
        "all_waiting_times_s2 = []\n",
        "all_length_of_stay_s2 = []\n",
        "total_diverted_s2 = 0\n",
        "\n",
        "for res in replication_results_scen2:\n",
        "    all_waiting_times_s2.extend(res.waiting_times)\n",
        "    all_length_of_stay_s2.extend(res.length_of_stay)\n",
        "    total_diverted_s2 += res.diverted_patients"
      ],
      "metadata": {
        "id": "d6Ju8qnz6ZJH"
      },
      "id": "d6Ju8qnz6ZJH",
      "execution_count": 206,
      "outputs": []
    },
    {
      "cell_type": "code",
      "source": [
        "waiting_stats_s2 = kpi_statistics(all_waiting_times_s2)\n",
        "los_stats_s2 = kpi_statistics(all_length_of_stay_s2)"
      ],
      "metadata": {
        "id": "1mPODGaC6a-c"
      },
      "id": "1mPODGaC6a-c",
      "execution_count": 207,
      "outputs": []
    },
    {
      "cell_type": "code",
      "source": [
        "\n",
        "print_kpi_stats(\"Scenario 2 Aggregated Waiting Time Statistics\", waiting_stats_s2)\n",
        "print_kpi_stats(\"Scenario 2 Aggregated Length of Stay Statistics\", los_stats_s2)\n",
        "print(f\"Scenario 2 Aggregated Total Diverted Patients: {total_diverted_s2}\\n\")"
      ],
      "metadata": {
        "colab": {
          "base_uri": "https://localhost:8080/"
        },
        "id": "f2zGwMsQ6cK7",
        "outputId": "272f0496-1bf1-4e4c-f99c-3e3e2bc3b367"
      },
      "id": "f2zGwMsQ6cK7",
      "execution_count": 208,
      "outputs": [
        {
          "output_type": "stream",
          "name": "stdout",
          "text": [
            "Scenario 2 Aggregated Waiting Time Statistics:\n",
            "  Mean   : 8.84 hours\n",
            "  Median : 8.84 hours\n",
            "  Mode   : 0.22 hours\n",
            "  Std Dev: 5.01 hours\n",
            "\n",
            "Scenario 2 Aggregated Length of Stay Statistics:\n",
            "  Mean   : 9.73 hours\n",
            "  Median : 9.76 hours\n",
            "  Mode   : 0.88 hours\n",
            "  Std Dev: 4.90 hours\n",
            "\n",
            "Scenario 2 Aggregated Total Diverted Patients: 46\n",
            "\n"
          ]
        }
      ]
    },
    {
      "cell_type": "code",
      "source": [
        "print_resource_utilization(replication_results_scen2, \"Scenario 2\")"
      ],
      "metadata": {
        "colab": {
          "base_uri": "https://localhost:8080/"
        },
        "id": "No8xEm6z6fOD",
        "outputId": "5cdd0aa9-51db-49c5-f87a-000c15bfb994"
      },
      "id": "No8xEm6z6fOD",
      "execution_count": 209,
      "outputs": [
        {
          "output_type": "stream",
          "name": "stdout",
          "text": [
            "\n",
            "Scenario 2 Resource Utilizations:\n",
            "Doctor Utilization: 124.12% average utilization\n",
            "Bed Utilization: 7.63% average utilization\n",
            "Surgical Room Utilization: 146.70% average utilization\n",
            "Diagnostic Room Utilization: 35.32% average utilization\n"
          ]
        }
      ]
    },
    {
      "cell_type": "code",
      "source": [
        "print_resource_utilization(replication_results, \"Control Scenario\")\n",
        "print_resource_utilization(replication_results_ft, \"Fast-Track Scenario\")"
      ],
      "metadata": {
        "colab": {
          "base_uri": "https://localhost:8080/"
        },
        "id": "EUBUF9uq6nCY",
        "outputId": "21d5dc76-26a5-4488-8be4-18949bbd1491"
      },
      "id": "EUBUF9uq6nCY",
      "execution_count": 210,
      "outputs": [
        {
          "output_type": "stream",
          "name": "stdout",
          "text": [
            "\n",
            "Control Scenario Resource Utilizations:\n",
            "Doctor Utilization: 99.75% average utilization\n",
            "Bed Utilization: 4.88% average utilization\n",
            "Surgical Room Utilization: 91.12% average utilization\n",
            "Diagnostic Room Utilization: 27.83% average utilization\n",
            "\n",
            "Fast-Track Scenario Resource Utilizations:\n",
            "Doctor Utilization: 223.59% average utilization\n",
            "Bed Utilization: 5.84% average utilization\n",
            "Surgical Room Utilization: 97.89% average utilization\n",
            "Diagnostic Room Utilization: 62.93% average utilization\n"
          ]
        }
      ]
    },
    {
      "cell_type": "markdown",
      "source": [
        "# Manipulated Scenario 3 - mixed"
      ],
      "metadata": {
        "id": "25koo783NUQg"
      },
      "id": "25koo783NUQg"
    },
    {
      "cell_type": "markdown",
      "source": [
        "parameters are set again (not to forget, plus can do them const above)"
      ],
      "metadata": {
        "id": "9cG3kr8TXoc8"
      },
      "id": "9cG3kr8TXoc8"
    },
    {
      "cell_type": "code",
      "source": [
        "SCEN2_SURGICAL_ROOM_CAPACITY = 2\n",
        "SCEN2_DIAGNOSTIC_ROOM_CAPACITY = 7\n",
        "SCEN2_DOCTOR_CAPACITY = 5\n",
        "FAST_TRACK_DOCTOR_CAPACITY = 5     #from scen1, fast track doctors\n",
        "BED_CAPACITY = 15"
      ],
      "metadata": {
        "id": "Ri-LOzaRNU7A"
      },
      "id": "Ri-LOzaRNU7A",
      "execution_count": 211,
      "outputs": []
    },
    {
      "cell_type": "markdown",
      "source": [],
      "metadata": {
        "id": "-F6QdS39XuLK"
      },
      "id": "-F6QdS39XuLK"
    },
    {
      "cell_type": "code",
      "source": [
        "def run_scenario3_simulation(patient_data, run_time=SIM_TIME_HOURS):\n",
        "    env = simpy.Environment()\n",
        "\n",
        "    doctors = simpy.Resource(env, capacity=SCEN2_DOCTOR_CAPACITY)\n",
        "    fast_track_doctors = simpy.Resource(env, capacity=FAST_TRACK_DOCTOR_CAPACITY)\n",
        "    beds = simpy.Resource(env, capacity=BED_CAPACITY)\n",
        "    surgical_rooms = simpy.Resource(env, capacity=SCEN2_SURGICAL_ROOM_CAPACITY)\n",
        "    diagnostic_rooms = simpy.Resource(env, capacity=SCEN2_DIAGNOSTIC_ROOM_CAPACITY)\n",
        "\n",
        "    kpi = KPICollector()\n",
        "\n",
        "    for patient_id in patient_data.index:\n",
        "        env.process(patient_process_fast_track(env, patient_id, patient_data,\n",
        "                                              doctors, beds, diagnostic_rooms,\n",
        "                                              surgical_rooms, fast_track_doctors, kpi))\n",
        "\n",
        "    env.run(until=run_time)\n",
        "\n",
        "    return kpi\n"
      ],
      "metadata": {
        "id": "Iq65z8-cQCe3"
      },
      "id": "Iq65z8-cQCe3",
      "execution_count": 212,
      "outputs": []
    },
    {
      "cell_type": "code",
      "source": [
        "\n",
        "num_replications = 100\n",
        "replication_results_s3 = []\n",
        "\n",
        "for i in range(num_replications):\n",
        "    kpi = run_scenario3_simulation(ed_patient_data, run_time=SIM_TIME_HOURS)\n",
        "    replication_results_s3.append(kpi)\n"
      ],
      "metadata": {
        "id": "Yqr04RLjP8Ax"
      },
      "id": "Yqr04RLjP8Ax",
      "execution_count": 146,
      "outputs": []
    },
    {
      "cell_type": "code",
      "source": [
        "\n",
        "all_waiting_times_s3 = []\n",
        "all_length_of_stay_s3 = []\n",
        "total_diverted_s3 = 0"
      ],
      "metadata": {
        "id": "lBU67C73VlFr"
      },
      "id": "lBU67C73VlFr",
      "execution_count": 147,
      "outputs": []
    },
    {
      "cell_type": "code",
      "source": [
        "for res in replication_results_s3:\n",
        "    all_waiting_times_s3.extend(res.waiting_times)\n",
        "    all_length_of_stay_s3.extend(res.length_of_stay)\n",
        "    total_diverted_s3 += res.diverted_patients"
      ],
      "metadata": {
        "id": "g1fEoEaQVrqW"
      },
      "id": "g1fEoEaQVrqW",
      "execution_count": 148,
      "outputs": []
    },
    {
      "cell_type": "markdown",
      "source": [
        "# KPIs scen3 mixed"
      ],
      "metadata": {
        "id": "jfJTWpZCVszs"
      },
      "id": "jfJTWpZCVszs"
    },
    {
      "cell_type": "code",
      "source": [
        "waiting_stats_s3 = kpi_statistics(all_waiting_times_s3)\n",
        "los_stats_s3 = kpi_statistics(all_length_of_stay_s3)\n"
      ],
      "metadata": {
        "id": "8W7gLx7WVwc7"
      },
      "id": "8W7gLx7WVwc7",
      "execution_count": 149,
      "outputs": []
    },
    {
      "cell_type": "code",
      "source": [
        "print_kpi_stats(\"Scenario 3 Aggregated Waiting Time Statistics\", waiting_stats_s3)\n",
        "print_kpi_stats(\"Scenario 3 Aggregated Length of Stay Statistics\", los_stats_s3)\n",
        "print(f\"Scenario 3 Aggregated Total Diverted Patients: {total_diverted_s3}\\n\")"
      ],
      "metadata": {
        "colab": {
          "base_uri": "https://localhost:8080/"
        },
        "id": "ZYV2XC8WVy5M",
        "outputId": "364445d0-08e7-4874-e6f1-02b7f3c4b43c"
      },
      "id": "ZYV2XC8WVy5M",
      "execution_count": 150,
      "outputs": [
        {
          "output_type": "stream",
          "name": "stdout",
          "text": [
            "Scenario 3 Aggregated Waiting Time Statistics:\n",
            "  Mean   : 5.43 hours\n",
            "  Median : 5.51 hours\n",
            "  Mode   : 0.21 hours\n",
            "  Std Dev: 3.02 hours\n",
            "\n",
            "Scenario 3 Aggregated Length of Stay Statistics:\n",
            "  Mean   : 6.45 hours\n",
            "  Median : 6.48 hours\n",
            "  Mode   : 1.11 hours\n",
            "  Std Dev: 3.07 hours\n",
            "\n",
            "Scenario 3 Aggregated Total Diverted Patients: 4452\n",
            "\n"
          ]
        }
      ]
    },
    {
      "cell_type": "code",
      "source": [
        "\n",
        "print_resource_utilization(replication_results_s3, \"Scenario 3\")\n"
      ],
      "metadata": {
        "colab": {
          "base_uri": "https://localhost:8080/"
        },
        "id": "C1RkArXWV023",
        "outputId": "1baf791e-8e86-4461-e195-7920117a817c"
      },
      "id": "C1RkArXWV023",
      "execution_count": 151,
      "outputs": [
        {
          "output_type": "stream",
          "name": "stdout",
          "text": [
            "\n",
            "Scenario 3 Resource Utilizations:\n",
            "Doctor Utilization: 247.34% average utilization\n",
            "Bed Utilization: 10.11% average utilization\n",
            "Surgical Room Utilization: 192.09% average utilization\n",
            "Diagnostic Room Utilization: 66.25% average utilization\n"
          ]
        }
      ]
    },
    {
      "cell_type": "code",
      "source": [
        "print_resource_utilization(replication_results, \"Control Scenario\")\n",
        "print_resource_utilization(replication_results_ft, \"Fast-Track Scenario\")\n",
        "print_resource_utilization(replication_results_scen2, \"Scenario 2\")"
      ],
      "metadata": {
        "colab": {
          "base_uri": "https://localhost:8080/"
        },
        "id": "96bsAfMgV47H",
        "outputId": "7354fd7b-b651-4912-c7f9-5cea8c7aac9d"
      },
      "id": "96bsAfMgV47H",
      "execution_count": 152,
      "outputs": [
        {
          "output_type": "stream",
          "name": "stdout",
          "text": [
            "\n",
            "Control Scenario Resource Utilizations:\n",
            "Doctor Utilization: 99.75% average utilization\n",
            "Bed Utilization: 5.21% average utilization\n",
            "Surgical Room Utilization: 90.23% average utilization\n",
            "Diagnostic Room Utilization: 27.83% average utilization\n",
            "\n",
            "Fast-Track Scenario Resource Utilizations:\n",
            "Doctor Utilization: 223.59% average utilization\n",
            "Bed Utilization: 5.90% average utilization\n",
            "Surgical Room Utilization: 98.93% average utilization\n",
            "Diagnostic Room Utilization: 62.93% average utilization\n",
            "\n",
            "Scenario 2 Resource Utilizations:\n",
            "Doctor Utilization: 124.12% average utilization\n",
            "Bed Utilization: 7.47% average utilization\n",
            "Surgical Room Utilization: 142.93% average utilization\n",
            "Diagnostic Room Utilization: 35.32% average utilization\n"
          ]
        }
      ]
    },
    {
      "cell_type": "markdown",
      "source": [
        "# ----------------------------------------"
      ],
      "metadata": {
        "id": "CQO7ZZ2iYYRI"
      },
      "id": "CQO7ZZ2iYYRI"
    },
    {
      "cell_type": "markdown",
      "source": [
        "# KPIs summary"
      ],
      "metadata": {
        "id": "lMDVJL5wY3WX"
      },
      "id": "lMDVJL5wY3WX"
    },
    {
      "cell_type": "code",
      "source": [
        "# Aggregation function — unchanged but complete here for reference\n",
        "def aggregate_kpis(replication_results, scenario_name):\n",
        "    data = []\n",
        "    for res in replication_results:\n",
        "        for wt in res.waiting_times:\n",
        "            data.append({'Scenario': scenario_name, 'KPI': 'Waiting Time', 'Value': wt})\n",
        "        for los in res.length_of_stay:\n",
        "            data.append({'Scenario': scenario_name, 'KPI': 'Length of Stay', 'Value': los})\n",
        "        data.append({'Scenario': scenario_name, 'KPI': 'Diverted Patients', 'Value': res.diverted_patients})\n",
        "        data.append({'Scenario': scenario_name, 'KPI': 'Doctor Busy Time', 'Value': res.doctor_busy_time})\n",
        "        data.append({'Scenario': scenario_name, 'KPI': 'Bed Busy Time', 'Value': res.bed_busy_time})\n",
        "        data.append({'Scenario': scenario_name, 'KPI': 'Surgical Room Busy Time', 'Value': res.surgical_room_busy_time})\n",
        "        data.append({'Scenario': scenario_name, 'KPI': 'Diagnostic Room Busy Time', 'Value': res.diagnostic_room_busy_time})\n",
        "    return pd.DataFrame(data)\n",
        "\n",
        "# Aggregate data for all scenarios\n",
        "df_control = aggregate_kpis(replication_results, 'Control')\n",
        "df_ft = aggregate_kpis(replication_results_ft, 'Fast-Track')\n",
        "df_s2 = aggregate_kpis(replication_results_scen2, 'More Rooms for Surgery and Diagnostics')\n",
        "df_s3 = aggregate_kpis(replication_results_s3, 'Combined')\n",
        "\n",
        "# Combine all\n",
        "df_all = pd.concat([df_control, df_ft, df_s2, df_s3], ignore_index=True)\n",
        "\n",
        "# Summary stats function - clean and readable\n",
        "def kpi_grouped_summary_clean(df):\n",
        "    summary_records = []\n",
        "    for scenario in sorted(df['Scenario'].unique()):\n",
        "        for kpi_name in sorted(df['KPI'].unique()):\n",
        "            values = df.loc[(df['Scenario'] == scenario) & (df['KPI'] == kpi_name), 'Value']\n",
        "            n = len(values)\n",
        "            if n == 0:\n",
        "                continue\n",
        "\n",
        "            mean = values.mean()\n",
        "            median = values.median()\n",
        "            try:\n",
        "                mode_val = stats.mode(values, keepdims=False).mode\n",
        "            except Exception:\n",
        "                mode_val = np.nan\n",
        "            std_dev = values.std(ddof=1)\n",
        "            if n > 1:\n",
        "                ci_low, ci_high = stats.t.interval(0.95, n-1, loc=mean, scale=stats.sem(values))\n",
        "            else:\n",
        "                ci_low, ci_high = (np.nan, np.nan)\n",
        "\n",
        "            summary_records.append({\n",
        "                'Scenario': scenario,\n",
        "                'KPI': kpi_name,\n",
        "                'Count': n,\n",
        "                'Mean': round(mean, 3),\n",
        "                'Median': round(median, 3),\n",
        "                'Mode': round(mode_val, 3) if not pd.isna(mode_val) else None,\n",
        "                'Std Dev': round(std_dev, 3),\n",
        "                '95% CI Lower': round(ci_low, 3) if not pd.isna(ci_low) else None,\n",
        "                '95% CI Upper': round(ci_high, 3) if not pd.isna(ci_high) else None,\n",
        "            })\n",
        "    return pd.DataFrame(summary_records)\n",
        "\n",
        "# Generate summary\n",
        "summary_df = kpi_grouped_summary_clean(df_all)\n",
        "\n",
        "# Print summaries per scenario clearly\n",
        "for scenario in summary_df['Scenario'].unique():\n",
        "    print(f\"\\n--- KPI Summary for Scenario: {scenario} ---\")\n",
        "    display(summary_df[summary_df['Scenario'] == scenario].drop(columns='Scenario').reset_index(drop=True))\n"
      ],
      "metadata": {
        "colab": {
          "base_uri": "https://localhost:8080/",
          "height": 1000
        },
        "id": "RSMFyUMam7SS",
        "outputId": "714fb624-56c7-4dff-b85e-57d03884f688"
      },
      "id": "RSMFyUMam7SS",
      "execution_count": 153,
      "outputs": [
        {
          "output_type": "stream",
          "name": "stderr",
          "text": [
            "/usr/local/lib/python3.11/dist-packages/scipy/stats/_distn_infrastructure.py:2304: RuntimeWarning: invalid value encountered in multiply\n",
            "  lower_bound = _a * scale + loc\n",
            "/usr/local/lib/python3.11/dist-packages/scipy/stats/_distn_infrastructure.py:2305: RuntimeWarning: invalid value encountered in multiply\n",
            "  upper_bound = _b * scale + loc\n"
          ]
        },
        {
          "output_type": "stream",
          "name": "stdout",
          "text": [
            "\n",
            "--- KPI Summary for Scenario: Combined ---\n"
          ]
        },
        {
          "output_type": "display_data",
          "data": {
            "text/plain": [
              "                         KPI  Count     Mean   Median     Mode  Std Dev  \\\n",
              "0              Bed Busy Time    100   36.388   36.250   22.712    5.439   \n",
              "1  Diagnostic Room Busy Time    100   79.504   79.504   79.504    0.000   \n",
              "2          Diverted Patients    100   44.520   44.000   33.000   16.736   \n",
              "3           Doctor Busy Time    100  237.450  237.450  237.450    0.000   \n",
              "4             Length of Stay  50247    6.449    6.477    1.113    3.067   \n",
              "5    Surgical Room Busy Time    100   46.102   46.429   35.445    2.191   \n",
              "6               Waiting Time  53600    5.435    5.507    0.205    3.017   \n",
              "\n",
              "   95% CI Lower  95% CI Upper  \n",
              "0        35.309        37.467  \n",
              "1        79.504        79.504  \n",
              "2        41.199        47.841  \n",
              "3       237.450       237.450  \n",
              "4         6.422         6.476  \n",
              "5        45.667        46.537  \n",
              "6         5.409         5.460  "
            ],
            "text/html": [
              "\n",
              "  <div id=\"df-dbdf1be2-bdfd-4082-ae19-b3725a82b807\" class=\"colab-df-container\">\n",
              "    <div>\n",
              "<style scoped>\n",
              "    .dataframe tbody tr th:only-of-type {\n",
              "        vertical-align: middle;\n",
              "    }\n",
              "\n",
              "    .dataframe tbody tr th {\n",
              "        vertical-align: top;\n",
              "    }\n",
              "\n",
              "    .dataframe thead th {\n",
              "        text-align: right;\n",
              "    }\n",
              "</style>\n",
              "<table border=\"1\" class=\"dataframe\">\n",
              "  <thead>\n",
              "    <tr style=\"text-align: right;\">\n",
              "      <th></th>\n",
              "      <th>KPI</th>\n",
              "      <th>Count</th>\n",
              "      <th>Mean</th>\n",
              "      <th>Median</th>\n",
              "      <th>Mode</th>\n",
              "      <th>Std Dev</th>\n",
              "      <th>95% CI Lower</th>\n",
              "      <th>95% CI Upper</th>\n",
              "    </tr>\n",
              "  </thead>\n",
              "  <tbody>\n",
              "    <tr>\n",
              "      <th>0</th>\n",
              "      <td>Bed Busy Time</td>\n",
              "      <td>100</td>\n",
              "      <td>36.388</td>\n",
              "      <td>36.250</td>\n",
              "      <td>22.712</td>\n",
              "      <td>5.439</td>\n",
              "      <td>35.309</td>\n",
              "      <td>37.467</td>\n",
              "    </tr>\n",
              "    <tr>\n",
              "      <th>1</th>\n",
              "      <td>Diagnostic Room Busy Time</td>\n",
              "      <td>100</td>\n",
              "      <td>79.504</td>\n",
              "      <td>79.504</td>\n",
              "      <td>79.504</td>\n",
              "      <td>0.000</td>\n",
              "      <td>79.504</td>\n",
              "      <td>79.504</td>\n",
              "    </tr>\n",
              "    <tr>\n",
              "      <th>2</th>\n",
              "      <td>Diverted Patients</td>\n",
              "      <td>100</td>\n",
              "      <td>44.520</td>\n",
              "      <td>44.000</td>\n",
              "      <td>33.000</td>\n",
              "      <td>16.736</td>\n",
              "      <td>41.199</td>\n",
              "      <td>47.841</td>\n",
              "    </tr>\n",
              "    <tr>\n",
              "      <th>3</th>\n",
              "      <td>Doctor Busy Time</td>\n",
              "      <td>100</td>\n",
              "      <td>237.450</td>\n",
              "      <td>237.450</td>\n",
              "      <td>237.450</td>\n",
              "      <td>0.000</td>\n",
              "      <td>237.450</td>\n",
              "      <td>237.450</td>\n",
              "    </tr>\n",
              "    <tr>\n",
              "      <th>4</th>\n",
              "      <td>Length of Stay</td>\n",
              "      <td>50247</td>\n",
              "      <td>6.449</td>\n",
              "      <td>6.477</td>\n",
              "      <td>1.113</td>\n",
              "      <td>3.067</td>\n",
              "      <td>6.422</td>\n",
              "      <td>6.476</td>\n",
              "    </tr>\n",
              "    <tr>\n",
              "      <th>5</th>\n",
              "      <td>Surgical Room Busy Time</td>\n",
              "      <td>100</td>\n",
              "      <td>46.102</td>\n",
              "      <td>46.429</td>\n",
              "      <td>35.445</td>\n",
              "      <td>2.191</td>\n",
              "      <td>45.667</td>\n",
              "      <td>46.537</td>\n",
              "    </tr>\n",
              "    <tr>\n",
              "      <th>6</th>\n",
              "      <td>Waiting Time</td>\n",
              "      <td>53600</td>\n",
              "      <td>5.435</td>\n",
              "      <td>5.507</td>\n",
              "      <td>0.205</td>\n",
              "      <td>3.017</td>\n",
              "      <td>5.409</td>\n",
              "      <td>5.460</td>\n",
              "    </tr>\n",
              "  </tbody>\n",
              "</table>\n",
              "</div>\n",
              "    <div class=\"colab-df-buttons\">\n",
              "\n",
              "  <div class=\"colab-df-container\">\n",
              "    <button class=\"colab-df-convert\" onclick=\"convertToInteractive('df-dbdf1be2-bdfd-4082-ae19-b3725a82b807')\"\n",
              "            title=\"Convert this dataframe to an interactive table.\"\n",
              "            style=\"display:none;\">\n",
              "\n",
              "  <svg xmlns=\"http://www.w3.org/2000/svg\" height=\"24px\" viewBox=\"0 -960 960 960\">\n",
              "    <path d=\"M120-120v-720h720v720H120Zm60-500h600v-160H180v160Zm220 220h160v-160H400v160Zm0 220h160v-160H400v160ZM180-400h160v-160H180v160Zm440 0h160v-160H620v160ZM180-180h160v-160H180v160Zm440 0h160v-160H620v160Z\"/>\n",
              "  </svg>\n",
              "    </button>\n",
              "\n",
              "  <style>\n",
              "    .colab-df-container {\n",
              "      display:flex;\n",
              "      gap: 12px;\n",
              "    }\n",
              "\n",
              "    .colab-df-convert {\n",
              "      background-color: #E8F0FE;\n",
              "      border: none;\n",
              "      border-radius: 50%;\n",
              "      cursor: pointer;\n",
              "      display: none;\n",
              "      fill: #1967D2;\n",
              "      height: 32px;\n",
              "      padding: 0 0 0 0;\n",
              "      width: 32px;\n",
              "    }\n",
              "\n",
              "    .colab-df-convert:hover {\n",
              "      background-color: #E2EBFA;\n",
              "      box-shadow: 0px 1px 2px rgba(60, 64, 67, 0.3), 0px 1px 3px 1px rgba(60, 64, 67, 0.15);\n",
              "      fill: #174EA6;\n",
              "    }\n",
              "\n",
              "    .colab-df-buttons div {\n",
              "      margin-bottom: 4px;\n",
              "    }\n",
              "\n",
              "    [theme=dark] .colab-df-convert {\n",
              "      background-color: #3B4455;\n",
              "      fill: #D2E3FC;\n",
              "    }\n",
              "\n",
              "    [theme=dark] .colab-df-convert:hover {\n",
              "      background-color: #434B5C;\n",
              "      box-shadow: 0px 1px 3px 1px rgba(0, 0, 0, 0.15);\n",
              "      filter: drop-shadow(0px 1px 2px rgba(0, 0, 0, 0.3));\n",
              "      fill: #FFFFFF;\n",
              "    }\n",
              "  </style>\n",
              "\n",
              "    <script>\n",
              "      const buttonEl =\n",
              "        document.querySelector('#df-dbdf1be2-bdfd-4082-ae19-b3725a82b807 button.colab-df-convert');\n",
              "      buttonEl.style.display =\n",
              "        google.colab.kernel.accessAllowed ? 'block' : 'none';\n",
              "\n",
              "      async function convertToInteractive(key) {\n",
              "        const element = document.querySelector('#df-dbdf1be2-bdfd-4082-ae19-b3725a82b807');\n",
              "        const dataTable =\n",
              "          await google.colab.kernel.invokeFunction('convertToInteractive',\n",
              "                                                    [key], {});\n",
              "        if (!dataTable) return;\n",
              "\n",
              "        const docLinkHtml = 'Like what you see? Visit the ' +\n",
              "          '<a target=\"_blank\" href=https://colab.research.google.com/notebooks/data_table.ipynb>data table notebook</a>'\n",
              "          + ' to learn more about interactive tables.';\n",
              "        element.innerHTML = '';\n",
              "        dataTable['output_type'] = 'display_data';\n",
              "        await google.colab.output.renderOutput(dataTable, element);\n",
              "        const docLink = document.createElement('div');\n",
              "        docLink.innerHTML = docLinkHtml;\n",
              "        element.appendChild(docLink);\n",
              "      }\n",
              "    </script>\n",
              "  </div>\n",
              "\n",
              "\n",
              "    <div id=\"df-965e4f29-6620-477f-861d-c6c5d4bd11ce\">\n",
              "      <button class=\"colab-df-quickchart\" onclick=\"quickchart('df-965e4f29-6620-477f-861d-c6c5d4bd11ce')\"\n",
              "                title=\"Suggest charts\"\n",
              "                style=\"display:none;\">\n",
              "\n",
              "<svg xmlns=\"http://www.w3.org/2000/svg\" height=\"24px\"viewBox=\"0 0 24 24\"\n",
              "     width=\"24px\">\n",
              "    <g>\n",
              "        <path d=\"M19 3H5c-1.1 0-2 .9-2 2v14c0 1.1.9 2 2 2h14c1.1 0 2-.9 2-2V5c0-1.1-.9-2-2-2zM9 17H7v-7h2v7zm4 0h-2V7h2v10zm4 0h-2v-4h2v4z\"/>\n",
              "    </g>\n",
              "</svg>\n",
              "      </button>\n",
              "\n",
              "<style>\n",
              "  .colab-df-quickchart {\n",
              "      --bg-color: #E8F0FE;\n",
              "      --fill-color: #1967D2;\n",
              "      --hover-bg-color: #E2EBFA;\n",
              "      --hover-fill-color: #174EA6;\n",
              "      --disabled-fill-color: #AAA;\n",
              "      --disabled-bg-color: #DDD;\n",
              "  }\n",
              "\n",
              "  [theme=dark] .colab-df-quickchart {\n",
              "      --bg-color: #3B4455;\n",
              "      --fill-color: #D2E3FC;\n",
              "      --hover-bg-color: #434B5C;\n",
              "      --hover-fill-color: #FFFFFF;\n",
              "      --disabled-bg-color: #3B4455;\n",
              "      --disabled-fill-color: #666;\n",
              "  }\n",
              "\n",
              "  .colab-df-quickchart {\n",
              "    background-color: var(--bg-color);\n",
              "    border: none;\n",
              "    border-radius: 50%;\n",
              "    cursor: pointer;\n",
              "    display: none;\n",
              "    fill: var(--fill-color);\n",
              "    height: 32px;\n",
              "    padding: 0;\n",
              "    width: 32px;\n",
              "  }\n",
              "\n",
              "  .colab-df-quickchart:hover {\n",
              "    background-color: var(--hover-bg-color);\n",
              "    box-shadow: 0 1px 2px rgba(60, 64, 67, 0.3), 0 1px 3px 1px rgba(60, 64, 67, 0.15);\n",
              "    fill: var(--button-hover-fill-color);\n",
              "  }\n",
              "\n",
              "  .colab-df-quickchart-complete:disabled,\n",
              "  .colab-df-quickchart-complete:disabled:hover {\n",
              "    background-color: var(--disabled-bg-color);\n",
              "    fill: var(--disabled-fill-color);\n",
              "    box-shadow: none;\n",
              "  }\n",
              "\n",
              "  .colab-df-spinner {\n",
              "    border: 2px solid var(--fill-color);\n",
              "    border-color: transparent;\n",
              "    border-bottom-color: var(--fill-color);\n",
              "    animation:\n",
              "      spin 1s steps(1) infinite;\n",
              "  }\n",
              "\n",
              "  @keyframes spin {\n",
              "    0% {\n",
              "      border-color: transparent;\n",
              "      border-bottom-color: var(--fill-color);\n",
              "      border-left-color: var(--fill-color);\n",
              "    }\n",
              "    20% {\n",
              "      border-color: transparent;\n",
              "      border-left-color: var(--fill-color);\n",
              "      border-top-color: var(--fill-color);\n",
              "    }\n",
              "    30% {\n",
              "      border-color: transparent;\n",
              "      border-left-color: var(--fill-color);\n",
              "      border-top-color: var(--fill-color);\n",
              "      border-right-color: var(--fill-color);\n",
              "    }\n",
              "    40% {\n",
              "      border-color: transparent;\n",
              "      border-right-color: var(--fill-color);\n",
              "      border-top-color: var(--fill-color);\n",
              "    }\n",
              "    60% {\n",
              "      border-color: transparent;\n",
              "      border-right-color: var(--fill-color);\n",
              "    }\n",
              "    80% {\n",
              "      border-color: transparent;\n",
              "      border-right-color: var(--fill-color);\n",
              "      border-bottom-color: var(--fill-color);\n",
              "    }\n",
              "    90% {\n",
              "      border-color: transparent;\n",
              "      border-bottom-color: var(--fill-color);\n",
              "    }\n",
              "  }\n",
              "</style>\n",
              "\n",
              "      <script>\n",
              "        async function quickchart(key) {\n",
              "          const quickchartButtonEl =\n",
              "            document.querySelector('#' + key + ' button');\n",
              "          quickchartButtonEl.disabled = true;  // To prevent multiple clicks.\n",
              "          quickchartButtonEl.classList.add('colab-df-spinner');\n",
              "          try {\n",
              "            const charts = await google.colab.kernel.invokeFunction(\n",
              "                'suggestCharts', [key], {});\n",
              "          } catch (error) {\n",
              "            console.error('Error during call to suggestCharts:', error);\n",
              "          }\n",
              "          quickchartButtonEl.classList.remove('colab-df-spinner');\n",
              "          quickchartButtonEl.classList.add('colab-df-quickchart-complete');\n",
              "        }\n",
              "        (() => {\n",
              "          let quickchartButtonEl =\n",
              "            document.querySelector('#df-965e4f29-6620-477f-861d-c6c5d4bd11ce button');\n",
              "          quickchartButtonEl.style.display =\n",
              "            google.colab.kernel.accessAllowed ? 'block' : 'none';\n",
              "        })();\n",
              "      </script>\n",
              "    </div>\n",
              "\n",
              "    </div>\n",
              "  </div>\n"
            ],
            "application/vnd.google.colaboratory.intrinsic+json": {
              "type": "dataframe",
              "summary": "{\n  \"name\": \"    display(summary_df[summary_df['Scenario'] == scenario]\",\n  \"rows\": 7,\n  \"fields\": [\n    {\n      \"column\": \"KPI\",\n      \"properties\": {\n        \"dtype\": \"string\",\n        \"num_unique_values\": 7,\n        \"samples\": [\n          \"Bed Busy Time\",\n          \"Diagnostic Room Busy Time\",\n          \"Surgical Room Busy Time\"\n        ],\n        \"semantic_type\": \"\",\n        \"description\": \"\"\n      }\n    },\n    {\n      \"column\": \"Count\",\n      \"properties\": {\n        \"dtype\": \"number\",\n        \"std\": 25305,\n        \"min\": 100,\n        \"max\": 53600,\n        \"num_unique_values\": 3,\n        \"samples\": [\n          100,\n          50247,\n          53600\n        ],\n        \"semantic_type\": \"\",\n        \"description\": \"\"\n      }\n    },\n    {\n      \"column\": \"Mean\",\n      \"properties\": {\n        \"dtype\": \"number\",\n        \"std\": 80.12561592156108,\n        \"min\": 5.435,\n        \"max\": 237.45,\n        \"num_unique_values\": 7,\n        \"samples\": [\n          36.388,\n          79.504,\n          46.102\n        ],\n        \"semantic_type\": \"\",\n        \"description\": \"\"\n      }\n    },\n    {\n      \"column\": \"Median\",\n      \"properties\": {\n        \"dtype\": \"number\",\n        \"std\": 80.13126444659115,\n        \"min\": 5.507,\n        \"max\": 237.45,\n        \"num_unique_values\": 7,\n        \"samples\": [\n          36.25,\n          79.504,\n          46.429\n        ],\n        \"semantic_type\": \"\",\n        \"description\": \"\"\n      }\n    },\n    {\n      \"column\": \"Mode\",\n      \"properties\": {\n        \"dtype\": \"number\",\n        \"std\": 83.28506124435636,\n        \"min\": 0.205,\n        \"max\": 237.45,\n        \"num_unique_values\": 7,\n        \"samples\": [\n          22.712,\n          79.504,\n          35.445\n        ],\n        \"semantic_type\": \"\",\n        \"description\": \"\"\n      }\n    },\n    {\n      \"column\": \"Std Dev\",\n      \"properties\": {\n        \"dtype\": \"number\",\n        \"std\": 5.781121229196518,\n        \"min\": 0.0,\n        \"max\": 16.736,\n        \"num_unique_values\": 6,\n        \"samples\": [\n          5.439,\n          0.0,\n          3.017\n        ],\n        \"semantic_type\": \"\",\n        \"description\": \"\"\n      }\n    },\n    {\n      \"column\": \"95% CI Lower\",\n      \"properties\": {\n        \"dtype\": \"number\",\n        \"std\": 80.3651190866381,\n        \"min\": 5.409,\n        \"max\": 237.45,\n        \"num_unique_values\": 7,\n        \"samples\": [\n          35.309,\n          79.504,\n          45.667\n        ],\n        \"semantic_type\": \"\",\n        \"description\": \"\"\n      }\n    },\n    {\n      \"column\": \"95% CI Upper\",\n      \"properties\": {\n        \"dtype\": \"number\",\n        \"std\": 79.90423416756312,\n        \"min\": 5.46,\n        \"max\": 237.45,\n        \"num_unique_values\": 7,\n        \"samples\": [\n          37.467,\n          79.504,\n          46.537\n        ],\n        \"semantic_type\": \"\",\n        \"description\": \"\"\n      }\n    }\n  ]\n}"
            }
          },
          "metadata": {}
        },
        {
          "output_type": "stream",
          "name": "stdout",
          "text": [
            "\n",
            "--- KPI Summary for Scenario: Control ---\n"
          ]
        },
        {
          "output_type": "display_data",
          "data": {
            "text/plain": [
              "                         KPI  Count    Mean  Median    Mode  Std Dev  \\\n",
              "0              Bed Busy Time    100  18.762  19.060  10.210    2.585   \n",
              "1  Diagnostic Room Busy Time    100  33.392  33.392  33.392    0.000   \n",
              "2          Diverted Patients    100   2.140   0.000   0.000    4.429   \n",
              "3           Doctor Busy Time    100  95.764  95.764  95.764    0.000   \n",
              "4             Length of Stay  19771  10.211  10.262   1.113    5.203   \n",
              "5    Surgical Room Busy Time    100  21.656  22.065  10.221    2.658   \n",
              "6               Waiting Time  21700   9.524   9.641   0.245    5.401   \n",
              "\n",
              "   95% CI Lower  95% CI Upper  \n",
              "0        18.249        19.275  \n",
              "1           NaN           NaN  \n",
              "2         1.261         3.019  \n",
              "3        95.764        95.764  \n",
              "4        10.138        10.283  \n",
              "5        21.128        22.183  \n",
              "6         9.452         9.595  "
            ],
            "text/html": [
              "\n",
              "  <div id=\"df-1f368b35-a8a7-4df1-a01b-c416ed5d6655\" class=\"colab-df-container\">\n",
              "    <div>\n",
              "<style scoped>\n",
              "    .dataframe tbody tr th:only-of-type {\n",
              "        vertical-align: middle;\n",
              "    }\n",
              "\n",
              "    .dataframe tbody tr th {\n",
              "        vertical-align: top;\n",
              "    }\n",
              "\n",
              "    .dataframe thead th {\n",
              "        text-align: right;\n",
              "    }\n",
              "</style>\n",
              "<table border=\"1\" class=\"dataframe\">\n",
              "  <thead>\n",
              "    <tr style=\"text-align: right;\">\n",
              "      <th></th>\n",
              "      <th>KPI</th>\n",
              "      <th>Count</th>\n",
              "      <th>Mean</th>\n",
              "      <th>Median</th>\n",
              "      <th>Mode</th>\n",
              "      <th>Std Dev</th>\n",
              "      <th>95% CI Lower</th>\n",
              "      <th>95% CI Upper</th>\n",
              "    </tr>\n",
              "  </thead>\n",
              "  <tbody>\n",
              "    <tr>\n",
              "      <th>0</th>\n",
              "      <td>Bed Busy Time</td>\n",
              "      <td>100</td>\n",
              "      <td>18.762</td>\n",
              "      <td>19.060</td>\n",
              "      <td>10.210</td>\n",
              "      <td>2.585</td>\n",
              "      <td>18.249</td>\n",
              "      <td>19.275</td>\n",
              "    </tr>\n",
              "    <tr>\n",
              "      <th>1</th>\n",
              "      <td>Diagnostic Room Busy Time</td>\n",
              "      <td>100</td>\n",
              "      <td>33.392</td>\n",
              "      <td>33.392</td>\n",
              "      <td>33.392</td>\n",
              "      <td>0.000</td>\n",
              "      <td>NaN</td>\n",
              "      <td>NaN</td>\n",
              "    </tr>\n",
              "    <tr>\n",
              "      <th>2</th>\n",
              "      <td>Diverted Patients</td>\n",
              "      <td>100</td>\n",
              "      <td>2.140</td>\n",
              "      <td>0.000</td>\n",
              "      <td>0.000</td>\n",
              "      <td>4.429</td>\n",
              "      <td>1.261</td>\n",
              "      <td>3.019</td>\n",
              "    </tr>\n",
              "    <tr>\n",
              "      <th>3</th>\n",
              "      <td>Doctor Busy Time</td>\n",
              "      <td>100</td>\n",
              "      <td>95.764</td>\n",
              "      <td>95.764</td>\n",
              "      <td>95.764</td>\n",
              "      <td>0.000</td>\n",
              "      <td>95.764</td>\n",
              "      <td>95.764</td>\n",
              "    </tr>\n",
              "    <tr>\n",
              "      <th>4</th>\n",
              "      <td>Length of Stay</td>\n",
              "      <td>19771</td>\n",
              "      <td>10.211</td>\n",
              "      <td>10.262</td>\n",
              "      <td>1.113</td>\n",
              "      <td>5.203</td>\n",
              "      <td>10.138</td>\n",
              "      <td>10.283</td>\n",
              "    </tr>\n",
              "    <tr>\n",
              "      <th>5</th>\n",
              "      <td>Surgical Room Busy Time</td>\n",
              "      <td>100</td>\n",
              "      <td>21.656</td>\n",
              "      <td>22.065</td>\n",
              "      <td>10.221</td>\n",
              "      <td>2.658</td>\n",
              "      <td>21.128</td>\n",
              "      <td>22.183</td>\n",
              "    </tr>\n",
              "    <tr>\n",
              "      <th>6</th>\n",
              "      <td>Waiting Time</td>\n",
              "      <td>21700</td>\n",
              "      <td>9.524</td>\n",
              "      <td>9.641</td>\n",
              "      <td>0.245</td>\n",
              "      <td>5.401</td>\n",
              "      <td>9.452</td>\n",
              "      <td>9.595</td>\n",
              "    </tr>\n",
              "  </tbody>\n",
              "</table>\n",
              "</div>\n",
              "    <div class=\"colab-df-buttons\">\n",
              "\n",
              "  <div class=\"colab-df-container\">\n",
              "    <button class=\"colab-df-convert\" onclick=\"convertToInteractive('df-1f368b35-a8a7-4df1-a01b-c416ed5d6655')\"\n",
              "            title=\"Convert this dataframe to an interactive table.\"\n",
              "            style=\"display:none;\">\n",
              "\n",
              "  <svg xmlns=\"http://www.w3.org/2000/svg\" height=\"24px\" viewBox=\"0 -960 960 960\">\n",
              "    <path d=\"M120-120v-720h720v720H120Zm60-500h600v-160H180v160Zm220 220h160v-160H400v160Zm0 220h160v-160H400v160ZM180-400h160v-160H180v160Zm440 0h160v-160H620v160ZM180-180h160v-160H180v160Zm440 0h160v-160H620v160Z\"/>\n",
              "  </svg>\n",
              "    </button>\n",
              "\n",
              "  <style>\n",
              "    .colab-df-container {\n",
              "      display:flex;\n",
              "      gap: 12px;\n",
              "    }\n",
              "\n",
              "    .colab-df-convert {\n",
              "      background-color: #E8F0FE;\n",
              "      border: none;\n",
              "      border-radius: 50%;\n",
              "      cursor: pointer;\n",
              "      display: none;\n",
              "      fill: #1967D2;\n",
              "      height: 32px;\n",
              "      padding: 0 0 0 0;\n",
              "      width: 32px;\n",
              "    }\n",
              "\n",
              "    .colab-df-convert:hover {\n",
              "      background-color: #E2EBFA;\n",
              "      box-shadow: 0px 1px 2px rgba(60, 64, 67, 0.3), 0px 1px 3px 1px rgba(60, 64, 67, 0.15);\n",
              "      fill: #174EA6;\n",
              "    }\n",
              "\n",
              "    .colab-df-buttons div {\n",
              "      margin-bottom: 4px;\n",
              "    }\n",
              "\n",
              "    [theme=dark] .colab-df-convert {\n",
              "      background-color: #3B4455;\n",
              "      fill: #D2E3FC;\n",
              "    }\n",
              "\n",
              "    [theme=dark] .colab-df-convert:hover {\n",
              "      background-color: #434B5C;\n",
              "      box-shadow: 0px 1px 3px 1px rgba(0, 0, 0, 0.15);\n",
              "      filter: drop-shadow(0px 1px 2px rgba(0, 0, 0, 0.3));\n",
              "      fill: #FFFFFF;\n",
              "    }\n",
              "  </style>\n",
              "\n",
              "    <script>\n",
              "      const buttonEl =\n",
              "        document.querySelector('#df-1f368b35-a8a7-4df1-a01b-c416ed5d6655 button.colab-df-convert');\n",
              "      buttonEl.style.display =\n",
              "        google.colab.kernel.accessAllowed ? 'block' : 'none';\n",
              "\n",
              "      async function convertToInteractive(key) {\n",
              "        const element = document.querySelector('#df-1f368b35-a8a7-4df1-a01b-c416ed5d6655');\n",
              "        const dataTable =\n",
              "          await google.colab.kernel.invokeFunction('convertToInteractive',\n",
              "                                                    [key], {});\n",
              "        if (!dataTable) return;\n",
              "\n",
              "        const docLinkHtml = 'Like what you see? Visit the ' +\n",
              "          '<a target=\"_blank\" href=https://colab.research.google.com/notebooks/data_table.ipynb>data table notebook</a>'\n",
              "          + ' to learn more about interactive tables.';\n",
              "        element.innerHTML = '';\n",
              "        dataTable['output_type'] = 'display_data';\n",
              "        await google.colab.output.renderOutput(dataTable, element);\n",
              "        const docLink = document.createElement('div');\n",
              "        docLink.innerHTML = docLinkHtml;\n",
              "        element.appendChild(docLink);\n",
              "      }\n",
              "    </script>\n",
              "  </div>\n",
              "\n",
              "\n",
              "    <div id=\"df-9975007a-1490-4718-a9bd-eca1275402f6\">\n",
              "      <button class=\"colab-df-quickchart\" onclick=\"quickchart('df-9975007a-1490-4718-a9bd-eca1275402f6')\"\n",
              "                title=\"Suggest charts\"\n",
              "                style=\"display:none;\">\n",
              "\n",
              "<svg xmlns=\"http://www.w3.org/2000/svg\" height=\"24px\"viewBox=\"0 0 24 24\"\n",
              "     width=\"24px\">\n",
              "    <g>\n",
              "        <path d=\"M19 3H5c-1.1 0-2 .9-2 2v14c0 1.1.9 2 2 2h14c1.1 0 2-.9 2-2V5c0-1.1-.9-2-2-2zM9 17H7v-7h2v7zm4 0h-2V7h2v10zm4 0h-2v-4h2v4z\"/>\n",
              "    </g>\n",
              "</svg>\n",
              "      </button>\n",
              "\n",
              "<style>\n",
              "  .colab-df-quickchart {\n",
              "      --bg-color: #E8F0FE;\n",
              "      --fill-color: #1967D2;\n",
              "      --hover-bg-color: #E2EBFA;\n",
              "      --hover-fill-color: #174EA6;\n",
              "      --disabled-fill-color: #AAA;\n",
              "      --disabled-bg-color: #DDD;\n",
              "  }\n",
              "\n",
              "  [theme=dark] .colab-df-quickchart {\n",
              "      --bg-color: #3B4455;\n",
              "      --fill-color: #D2E3FC;\n",
              "      --hover-bg-color: #434B5C;\n",
              "      --hover-fill-color: #FFFFFF;\n",
              "      --disabled-bg-color: #3B4455;\n",
              "      --disabled-fill-color: #666;\n",
              "  }\n",
              "\n",
              "  .colab-df-quickchart {\n",
              "    background-color: var(--bg-color);\n",
              "    border: none;\n",
              "    border-radius: 50%;\n",
              "    cursor: pointer;\n",
              "    display: none;\n",
              "    fill: var(--fill-color);\n",
              "    height: 32px;\n",
              "    padding: 0;\n",
              "    width: 32px;\n",
              "  }\n",
              "\n",
              "  .colab-df-quickchart:hover {\n",
              "    background-color: var(--hover-bg-color);\n",
              "    box-shadow: 0 1px 2px rgba(60, 64, 67, 0.3), 0 1px 3px 1px rgba(60, 64, 67, 0.15);\n",
              "    fill: var(--button-hover-fill-color);\n",
              "  }\n",
              "\n",
              "  .colab-df-quickchart-complete:disabled,\n",
              "  .colab-df-quickchart-complete:disabled:hover {\n",
              "    background-color: var(--disabled-bg-color);\n",
              "    fill: var(--disabled-fill-color);\n",
              "    box-shadow: none;\n",
              "  }\n",
              "\n",
              "  .colab-df-spinner {\n",
              "    border: 2px solid var(--fill-color);\n",
              "    border-color: transparent;\n",
              "    border-bottom-color: var(--fill-color);\n",
              "    animation:\n",
              "      spin 1s steps(1) infinite;\n",
              "  }\n",
              "\n",
              "  @keyframes spin {\n",
              "    0% {\n",
              "      border-color: transparent;\n",
              "      border-bottom-color: var(--fill-color);\n",
              "      border-left-color: var(--fill-color);\n",
              "    }\n",
              "    20% {\n",
              "      border-color: transparent;\n",
              "      border-left-color: var(--fill-color);\n",
              "      border-top-color: var(--fill-color);\n",
              "    }\n",
              "    30% {\n",
              "      border-color: transparent;\n",
              "      border-left-color: var(--fill-color);\n",
              "      border-top-color: var(--fill-color);\n",
              "      border-right-color: var(--fill-color);\n",
              "    }\n",
              "    40% {\n",
              "      border-color: transparent;\n",
              "      border-right-color: var(--fill-color);\n",
              "      border-top-color: var(--fill-color);\n",
              "    }\n",
              "    60% {\n",
              "      border-color: transparent;\n",
              "      border-right-color: var(--fill-color);\n",
              "    }\n",
              "    80% {\n",
              "      border-color: transparent;\n",
              "      border-right-color: var(--fill-color);\n",
              "      border-bottom-color: var(--fill-color);\n",
              "    }\n",
              "    90% {\n",
              "      border-color: transparent;\n",
              "      border-bottom-color: var(--fill-color);\n",
              "    }\n",
              "  }\n",
              "</style>\n",
              "\n",
              "      <script>\n",
              "        async function quickchart(key) {\n",
              "          const quickchartButtonEl =\n",
              "            document.querySelector('#' + key + ' button');\n",
              "          quickchartButtonEl.disabled = true;  // To prevent multiple clicks.\n",
              "          quickchartButtonEl.classList.add('colab-df-spinner');\n",
              "          try {\n",
              "            const charts = await google.colab.kernel.invokeFunction(\n",
              "                'suggestCharts', [key], {});\n",
              "          } catch (error) {\n",
              "            console.error('Error during call to suggestCharts:', error);\n",
              "          }\n",
              "          quickchartButtonEl.classList.remove('colab-df-spinner');\n",
              "          quickchartButtonEl.classList.add('colab-df-quickchart-complete');\n",
              "        }\n",
              "        (() => {\n",
              "          let quickchartButtonEl =\n",
              "            document.querySelector('#df-9975007a-1490-4718-a9bd-eca1275402f6 button');\n",
              "          quickchartButtonEl.style.display =\n",
              "            google.colab.kernel.accessAllowed ? 'block' : 'none';\n",
              "        })();\n",
              "      </script>\n",
              "    </div>\n",
              "\n",
              "    </div>\n",
              "  </div>\n"
            ],
            "application/vnd.google.colaboratory.intrinsic+json": {
              "type": "dataframe",
              "summary": "{\n  \"name\": \"    display(summary_df[summary_df['Scenario'] == scenario]\",\n  \"rows\": 7,\n  \"fields\": [\n    {\n      \"column\": \"KPI\",\n      \"properties\": {\n        \"dtype\": \"string\",\n        \"num_unique_values\": 7,\n        \"samples\": [\n          \"Bed Busy Time\",\n          \"Diagnostic Room Busy Time\",\n          \"Surgical Room Busy Time\"\n        ],\n        \"semantic_type\": \"\",\n        \"description\": \"\"\n      }\n    },\n    {\n      \"column\": \"Count\",\n      \"properties\": {\n        \"dtype\": \"number\",\n        \"std\": 10084,\n        \"min\": 100,\n        \"max\": 21700,\n        \"num_unique_values\": 3,\n        \"samples\": [\n          100,\n          19771,\n          21700\n        ],\n        \"semantic_type\": \"\",\n        \"description\": \"\"\n      }\n    },\n    {\n      \"column\": \"Mean\",\n      \"properties\": {\n        \"dtype\": \"number\",\n        \"std\": 31.80726394200215,\n        \"min\": 2.14,\n        \"max\": 95.764,\n        \"num_unique_values\": 7,\n        \"samples\": [\n          18.762,\n          33.392,\n          21.656\n        ],\n        \"semantic_type\": \"\",\n        \"description\": \"\"\n      }\n    },\n    {\n      \"column\": \"Median\",\n      \"properties\": {\n        \"dtype\": \"number\",\n        \"std\": 32.059939812942936,\n        \"min\": 0.0,\n        \"max\": 95.764,\n        \"num_unique_values\": 7,\n        \"samples\": [\n          19.06,\n          33.392,\n          22.065\n        ],\n        \"semantic_type\": \"\",\n        \"description\": \"\"\n      }\n    },\n    {\n      \"column\": \"Mode\",\n      \"properties\": {\n        \"dtype\": \"number\",\n        \"std\": 34.73918969913347,\n        \"min\": 0.0,\n        \"max\": 95.764,\n        \"num_unique_values\": 7,\n        \"samples\": [\n          10.21,\n          33.392,\n          10.221\n        ],\n        \"semantic_type\": \"\",\n        \"description\": \"\"\n      }\n    },\n    {\n      \"column\": \"Std Dev\",\n      \"properties\": {\n        \"dtype\": \"number\",\n        \"std\": 2.268419336391375,\n        \"min\": 0.0,\n        \"max\": 5.401,\n        \"num_unique_values\": 6,\n        \"samples\": [\n          2.585,\n          0.0,\n          5.401\n        ],\n        \"semantic_type\": \"\",\n        \"description\": \"\"\n      }\n    },\n    {\n      \"column\": \"95% CI Lower\",\n      \"properties\": {\n        \"dtype\": \"number\",\n        \"std\": 34.89494960401385,\n        \"min\": 1.261,\n        \"max\": 95.764,\n        \"num_unique_values\": 6,\n        \"samples\": [\n          18.249,\n          1.261,\n          9.452\n        ],\n        \"semantic_type\": \"\",\n        \"description\": \"\"\n      }\n    },\n    {\n      \"column\": \"95% CI Upper\",\n      \"properties\": {\n        \"dtype\": \"number\",\n        \"std\": 34.54926219617432,\n        \"min\": 3.019,\n        \"max\": 95.764,\n        \"num_unique_values\": 6,\n        \"samples\": [\n          19.275,\n          3.019,\n          9.595\n        ],\n        \"semantic_type\": \"\",\n        \"description\": \"\"\n      }\n    }\n  ]\n}"
            }
          },
          "metadata": {}
        },
        {
          "output_type": "stream",
          "name": "stdout",
          "text": [
            "\n",
            "--- KPI Summary for Scenario: Fast-Track ---\n"
          ]
        },
        {
          "output_type": "display_data",
          "data": {
            "text/plain": [
              "                         KPI  Count     Mean   Median     Mode  Std Dev  \\\n",
              "0              Bed Busy Time    100   21.254   21.139   11.650    4.588   \n",
              "1  Diagnostic Room Busy Time    100   75.514   75.514   75.514    0.000   \n",
              "2          Diverted Patients    100   68.450   68.500   60.000   15.656   \n",
              "3           Doctor Busy Time    100  214.647  214.647  214.647    0.000   \n",
              "4             Length of Stay  45418    6.956    6.697    1.113    3.623   \n",
              "5    Surgical Room Busy Time    100   23.743   23.766   20.837    0.961   \n",
              "6               Waiting Time  48700    5.937    5.848    0.205    3.546   \n",
              "\n",
              "   95% CI Lower  95% CI Upper  \n",
              "0        20.343        22.164  \n",
              "1        75.514        75.514  \n",
              "2        65.344        71.556  \n",
              "3       214.647       214.647  \n",
              "4         6.923         6.990  \n",
              "5        23.553        23.934  \n",
              "6         5.905         5.968  "
            ],
            "text/html": [
              "\n",
              "  <div id=\"df-75d144f3-fcb7-4227-8d02-c0558c225f93\" class=\"colab-df-container\">\n",
              "    <div>\n",
              "<style scoped>\n",
              "    .dataframe tbody tr th:only-of-type {\n",
              "        vertical-align: middle;\n",
              "    }\n",
              "\n",
              "    .dataframe tbody tr th {\n",
              "        vertical-align: top;\n",
              "    }\n",
              "\n",
              "    .dataframe thead th {\n",
              "        text-align: right;\n",
              "    }\n",
              "</style>\n",
              "<table border=\"1\" class=\"dataframe\">\n",
              "  <thead>\n",
              "    <tr style=\"text-align: right;\">\n",
              "      <th></th>\n",
              "      <th>KPI</th>\n",
              "      <th>Count</th>\n",
              "      <th>Mean</th>\n",
              "      <th>Median</th>\n",
              "      <th>Mode</th>\n",
              "      <th>Std Dev</th>\n",
              "      <th>95% CI Lower</th>\n",
              "      <th>95% CI Upper</th>\n",
              "    </tr>\n",
              "  </thead>\n",
              "  <tbody>\n",
              "    <tr>\n",
              "      <th>0</th>\n",
              "      <td>Bed Busy Time</td>\n",
              "      <td>100</td>\n",
              "      <td>21.254</td>\n",
              "      <td>21.139</td>\n",
              "      <td>11.650</td>\n",
              "      <td>4.588</td>\n",
              "      <td>20.343</td>\n",
              "      <td>22.164</td>\n",
              "    </tr>\n",
              "    <tr>\n",
              "      <th>1</th>\n",
              "      <td>Diagnostic Room Busy Time</td>\n",
              "      <td>100</td>\n",
              "      <td>75.514</td>\n",
              "      <td>75.514</td>\n",
              "      <td>75.514</td>\n",
              "      <td>0.000</td>\n",
              "      <td>75.514</td>\n",
              "      <td>75.514</td>\n",
              "    </tr>\n",
              "    <tr>\n",
              "      <th>2</th>\n",
              "      <td>Diverted Patients</td>\n",
              "      <td>100</td>\n",
              "      <td>68.450</td>\n",
              "      <td>68.500</td>\n",
              "      <td>60.000</td>\n",
              "      <td>15.656</td>\n",
              "      <td>65.344</td>\n",
              "      <td>71.556</td>\n",
              "    </tr>\n",
              "    <tr>\n",
              "      <th>3</th>\n",
              "      <td>Doctor Busy Time</td>\n",
              "      <td>100</td>\n",
              "      <td>214.647</td>\n",
              "      <td>214.647</td>\n",
              "      <td>214.647</td>\n",
              "      <td>0.000</td>\n",
              "      <td>214.647</td>\n",
              "      <td>214.647</td>\n",
              "    </tr>\n",
              "    <tr>\n",
              "      <th>4</th>\n",
              "      <td>Length of Stay</td>\n",
              "      <td>45418</td>\n",
              "      <td>6.956</td>\n",
              "      <td>6.697</td>\n",
              "      <td>1.113</td>\n",
              "      <td>3.623</td>\n",
              "      <td>6.923</td>\n",
              "      <td>6.990</td>\n",
              "    </tr>\n",
              "    <tr>\n",
              "      <th>5</th>\n",
              "      <td>Surgical Room Busy Time</td>\n",
              "      <td>100</td>\n",
              "      <td>23.743</td>\n",
              "      <td>23.766</td>\n",
              "      <td>20.837</td>\n",
              "      <td>0.961</td>\n",
              "      <td>23.553</td>\n",
              "      <td>23.934</td>\n",
              "    </tr>\n",
              "    <tr>\n",
              "      <th>6</th>\n",
              "      <td>Waiting Time</td>\n",
              "      <td>48700</td>\n",
              "      <td>5.937</td>\n",
              "      <td>5.848</td>\n",
              "      <td>0.205</td>\n",
              "      <td>3.546</td>\n",
              "      <td>5.905</td>\n",
              "      <td>5.968</td>\n",
              "    </tr>\n",
              "  </tbody>\n",
              "</table>\n",
              "</div>\n",
              "    <div class=\"colab-df-buttons\">\n",
              "\n",
              "  <div class=\"colab-df-container\">\n",
              "    <button class=\"colab-df-convert\" onclick=\"convertToInteractive('df-75d144f3-fcb7-4227-8d02-c0558c225f93')\"\n",
              "            title=\"Convert this dataframe to an interactive table.\"\n",
              "            style=\"display:none;\">\n",
              "\n",
              "  <svg xmlns=\"http://www.w3.org/2000/svg\" height=\"24px\" viewBox=\"0 -960 960 960\">\n",
              "    <path d=\"M120-120v-720h720v720H120Zm60-500h600v-160H180v160Zm220 220h160v-160H400v160Zm0 220h160v-160H400v160ZM180-400h160v-160H180v160Zm440 0h160v-160H620v160ZM180-180h160v-160H180v160Zm440 0h160v-160H620v160Z\"/>\n",
              "  </svg>\n",
              "    </button>\n",
              "\n",
              "  <style>\n",
              "    .colab-df-container {\n",
              "      display:flex;\n",
              "      gap: 12px;\n",
              "    }\n",
              "\n",
              "    .colab-df-convert {\n",
              "      background-color: #E8F0FE;\n",
              "      border: none;\n",
              "      border-radius: 50%;\n",
              "      cursor: pointer;\n",
              "      display: none;\n",
              "      fill: #1967D2;\n",
              "      height: 32px;\n",
              "      padding: 0 0 0 0;\n",
              "      width: 32px;\n",
              "    }\n",
              "\n",
              "    .colab-df-convert:hover {\n",
              "      background-color: #E2EBFA;\n",
              "      box-shadow: 0px 1px 2px rgba(60, 64, 67, 0.3), 0px 1px 3px 1px rgba(60, 64, 67, 0.15);\n",
              "      fill: #174EA6;\n",
              "    }\n",
              "\n",
              "    .colab-df-buttons div {\n",
              "      margin-bottom: 4px;\n",
              "    }\n",
              "\n",
              "    [theme=dark] .colab-df-convert {\n",
              "      background-color: #3B4455;\n",
              "      fill: #D2E3FC;\n",
              "    }\n",
              "\n",
              "    [theme=dark] .colab-df-convert:hover {\n",
              "      background-color: #434B5C;\n",
              "      box-shadow: 0px 1px 3px 1px rgba(0, 0, 0, 0.15);\n",
              "      filter: drop-shadow(0px 1px 2px rgba(0, 0, 0, 0.3));\n",
              "      fill: #FFFFFF;\n",
              "    }\n",
              "  </style>\n",
              "\n",
              "    <script>\n",
              "      const buttonEl =\n",
              "        document.querySelector('#df-75d144f3-fcb7-4227-8d02-c0558c225f93 button.colab-df-convert');\n",
              "      buttonEl.style.display =\n",
              "        google.colab.kernel.accessAllowed ? 'block' : 'none';\n",
              "\n",
              "      async function convertToInteractive(key) {\n",
              "        const element = document.querySelector('#df-75d144f3-fcb7-4227-8d02-c0558c225f93');\n",
              "        const dataTable =\n",
              "          await google.colab.kernel.invokeFunction('convertToInteractive',\n",
              "                                                    [key], {});\n",
              "        if (!dataTable) return;\n",
              "\n",
              "        const docLinkHtml = 'Like what you see? Visit the ' +\n",
              "          '<a target=\"_blank\" href=https://colab.research.google.com/notebooks/data_table.ipynb>data table notebook</a>'\n",
              "          + ' to learn more about interactive tables.';\n",
              "        element.innerHTML = '';\n",
              "        dataTable['output_type'] = 'display_data';\n",
              "        await google.colab.output.renderOutput(dataTable, element);\n",
              "        const docLink = document.createElement('div');\n",
              "        docLink.innerHTML = docLinkHtml;\n",
              "        element.appendChild(docLink);\n",
              "      }\n",
              "    </script>\n",
              "  </div>\n",
              "\n",
              "\n",
              "    <div id=\"df-f68cc7f5-d51c-42b0-aa61-641b28b6811b\">\n",
              "      <button class=\"colab-df-quickchart\" onclick=\"quickchart('df-f68cc7f5-d51c-42b0-aa61-641b28b6811b')\"\n",
              "                title=\"Suggest charts\"\n",
              "                style=\"display:none;\">\n",
              "\n",
              "<svg xmlns=\"http://www.w3.org/2000/svg\" height=\"24px\"viewBox=\"0 0 24 24\"\n",
              "     width=\"24px\">\n",
              "    <g>\n",
              "        <path d=\"M19 3H5c-1.1 0-2 .9-2 2v14c0 1.1.9 2 2 2h14c1.1 0 2-.9 2-2V5c0-1.1-.9-2-2-2zM9 17H7v-7h2v7zm4 0h-2V7h2v10zm4 0h-2v-4h2v4z\"/>\n",
              "    </g>\n",
              "</svg>\n",
              "      </button>\n",
              "\n",
              "<style>\n",
              "  .colab-df-quickchart {\n",
              "      --bg-color: #E8F0FE;\n",
              "      --fill-color: #1967D2;\n",
              "      --hover-bg-color: #E2EBFA;\n",
              "      --hover-fill-color: #174EA6;\n",
              "      --disabled-fill-color: #AAA;\n",
              "      --disabled-bg-color: #DDD;\n",
              "  }\n",
              "\n",
              "  [theme=dark] .colab-df-quickchart {\n",
              "      --bg-color: #3B4455;\n",
              "      --fill-color: #D2E3FC;\n",
              "      --hover-bg-color: #434B5C;\n",
              "      --hover-fill-color: #FFFFFF;\n",
              "      --disabled-bg-color: #3B4455;\n",
              "      --disabled-fill-color: #666;\n",
              "  }\n",
              "\n",
              "  .colab-df-quickchart {\n",
              "    background-color: var(--bg-color);\n",
              "    border: none;\n",
              "    border-radius: 50%;\n",
              "    cursor: pointer;\n",
              "    display: none;\n",
              "    fill: var(--fill-color);\n",
              "    height: 32px;\n",
              "    padding: 0;\n",
              "    width: 32px;\n",
              "  }\n",
              "\n",
              "  .colab-df-quickchart:hover {\n",
              "    background-color: var(--hover-bg-color);\n",
              "    box-shadow: 0 1px 2px rgba(60, 64, 67, 0.3), 0 1px 3px 1px rgba(60, 64, 67, 0.15);\n",
              "    fill: var(--button-hover-fill-color);\n",
              "  }\n",
              "\n",
              "  .colab-df-quickchart-complete:disabled,\n",
              "  .colab-df-quickchart-complete:disabled:hover {\n",
              "    background-color: var(--disabled-bg-color);\n",
              "    fill: var(--disabled-fill-color);\n",
              "    box-shadow: none;\n",
              "  }\n",
              "\n",
              "  .colab-df-spinner {\n",
              "    border: 2px solid var(--fill-color);\n",
              "    border-color: transparent;\n",
              "    border-bottom-color: var(--fill-color);\n",
              "    animation:\n",
              "      spin 1s steps(1) infinite;\n",
              "  }\n",
              "\n",
              "  @keyframes spin {\n",
              "    0% {\n",
              "      border-color: transparent;\n",
              "      border-bottom-color: var(--fill-color);\n",
              "      border-left-color: var(--fill-color);\n",
              "    }\n",
              "    20% {\n",
              "      border-color: transparent;\n",
              "      border-left-color: var(--fill-color);\n",
              "      border-top-color: var(--fill-color);\n",
              "    }\n",
              "    30% {\n",
              "      border-color: transparent;\n",
              "      border-left-color: var(--fill-color);\n",
              "      border-top-color: var(--fill-color);\n",
              "      border-right-color: var(--fill-color);\n",
              "    }\n",
              "    40% {\n",
              "      border-color: transparent;\n",
              "      border-right-color: var(--fill-color);\n",
              "      border-top-color: var(--fill-color);\n",
              "    }\n",
              "    60% {\n",
              "      border-color: transparent;\n",
              "      border-right-color: var(--fill-color);\n",
              "    }\n",
              "    80% {\n",
              "      border-color: transparent;\n",
              "      border-right-color: var(--fill-color);\n",
              "      border-bottom-color: var(--fill-color);\n",
              "    }\n",
              "    90% {\n",
              "      border-color: transparent;\n",
              "      border-bottom-color: var(--fill-color);\n",
              "    }\n",
              "  }\n",
              "</style>\n",
              "\n",
              "      <script>\n",
              "        async function quickchart(key) {\n",
              "          const quickchartButtonEl =\n",
              "            document.querySelector('#' + key + ' button');\n",
              "          quickchartButtonEl.disabled = true;  // To prevent multiple clicks.\n",
              "          quickchartButtonEl.classList.add('colab-df-spinner');\n",
              "          try {\n",
              "            const charts = await google.colab.kernel.invokeFunction(\n",
              "                'suggestCharts', [key], {});\n",
              "          } catch (error) {\n",
              "            console.error('Error during call to suggestCharts:', error);\n",
              "          }\n",
              "          quickchartButtonEl.classList.remove('colab-df-spinner');\n",
              "          quickchartButtonEl.classList.add('colab-df-quickchart-complete');\n",
              "        }\n",
              "        (() => {\n",
              "          let quickchartButtonEl =\n",
              "            document.querySelector('#df-f68cc7f5-d51c-42b0-aa61-641b28b6811b button');\n",
              "          quickchartButtonEl.style.display =\n",
              "            google.colab.kernel.accessAllowed ? 'block' : 'none';\n",
              "        })();\n",
              "      </script>\n",
              "    </div>\n",
              "\n",
              "    </div>\n",
              "  </div>\n"
            ],
            "application/vnd.google.colaboratory.intrinsic+json": {
              "type": "dataframe",
              "summary": "{\n  \"name\": \"    display(summary_df[summary_df['Scenario'] == scenario]\",\n  \"rows\": 7,\n  \"fields\": [\n    {\n      \"column\": \"KPI\",\n      \"properties\": {\n        \"dtype\": \"string\",\n        \"num_unique_values\": 7,\n        \"samples\": [\n          \"Bed Busy Time\",\n          \"Diagnostic Room Busy Time\",\n          \"Surgical Room Busy Time\"\n        ],\n        \"semantic_type\": \"\",\n        \"description\": \"\"\n      }\n    },\n    {\n      \"column\": \"Count\",\n      \"properties\": {\n        \"dtype\": \"number\",\n        \"std\": 22933,\n        \"min\": 100,\n        \"max\": 48700,\n        \"num_unique_values\": 3,\n        \"samples\": [\n          100,\n          45418,\n          48700\n        ],\n        \"semantic_type\": \"\",\n        \"description\": \"\"\n      }\n    },\n    {\n      \"column\": \"Mean\",\n      \"properties\": {\n        \"dtype\": \"number\",\n        \"std\": 73.91248064981667,\n        \"min\": 5.937,\n        \"max\": 214.647,\n        \"num_unique_values\": 7,\n        \"samples\": [\n          21.254,\n          75.514,\n          23.743\n        ],\n        \"semantic_type\": \"\",\n        \"description\": \"\"\n      }\n    },\n    {\n      \"column\": \"Median\",\n      \"properties\": {\n        \"dtype\": \"number\",\n        \"std\": 73.9630506601261,\n        \"min\": 5.848,\n        \"max\": 214.647,\n        \"num_unique_values\": 7,\n        \"samples\": [\n          21.139,\n          75.514,\n          23.766\n        ],\n        \"semantic_type\": \"\",\n        \"description\": \"\"\n      }\n    },\n    {\n      \"column\": \"Mode\",\n      \"properties\": {\n        \"dtype\": \"number\",\n        \"std\": 76.25119663698025,\n        \"min\": 0.205,\n        \"max\": 214.647,\n        \"num_unique_values\": 7,\n        \"samples\": [\n          11.65,\n          75.514,\n          20.837\n        ],\n        \"semantic_type\": \"\",\n        \"description\": \"\"\n      }\n    },\n    {\n      \"column\": \"Std Dev\",\n      \"properties\": {\n        \"dtype\": \"number\",\n        \"std\": 5.443219998528533,\n        \"min\": 0.0,\n        \"max\": 15.656,\n        \"num_unique_values\": 6,\n        \"samples\": [\n          4.588,\n          0.0,\n          3.546\n        ],\n        \"semantic_type\": \"\",\n        \"description\": \"\"\n      }\n    },\n    {\n      \"column\": \"95% CI Lower\",\n      \"properties\": {\n        \"dtype\": \"number\",\n        \"std\": 73.96035946466768,\n        \"min\": 5.905,\n        \"max\": 214.647,\n        \"num_unique_values\": 7,\n        \"samples\": [\n          20.343,\n          75.514,\n          23.553\n        ],\n        \"semantic_type\": \"\",\n        \"description\": \"\"\n      }\n    },\n    {\n      \"column\": \"95% CI Upper\",\n      \"properties\": {\n        \"dtype\": \"number\",\n        \"std\": 73.88241892326198,\n        \"min\": 5.968,\n        \"max\": 214.647,\n        \"num_unique_values\": 7,\n        \"samples\": [\n          22.164,\n          75.514,\n          23.934\n        ],\n        \"semantic_type\": \"\",\n        \"description\": \"\"\n      }\n    }\n  ]\n}"
            }
          },
          "metadata": {}
        },
        {
          "output_type": "stream",
          "name": "stdout",
          "text": [
            "\n",
            "--- KPI Summary for Scenario: More Rooms for Surgery and Diagnostics ---\n"
          ]
        },
        {
          "output_type": "display_data",
          "data": {
            "text/plain": [
              "                         KPI  Count     Mean   Median     Mode  Std Dev  \\\n",
              "0              Bed Busy Time    100   26.892   27.224   19.163    2.509   \n",
              "1  Diagnostic Room Busy Time    100   42.384   42.384   42.384    0.000   \n",
              "2          Diverted Patients    100    0.010    0.000    0.000    0.100   \n",
              "3           Doctor Busy Time    100  119.155  119.155  119.155    0.000   \n",
              "4             Length of Stay  25683    9.648    9.646    1.113    4.876   \n",
              "5    Surgical Room Busy Time    100   34.303   34.092   19.366    6.051   \n",
              "6               Waiting Time  26900    8.841    8.845    0.222    5.012   \n",
              "\n",
              "   95% CI Lower  95% CI Upper  \n",
              "0        26.394        27.390  \n",
              "1        42.384        42.384  \n",
              "2        -0.010         0.030  \n",
              "3       119.155       119.155  \n",
              "4         9.588         9.707  \n",
              "5        33.102        35.503  \n",
              "6         8.781         8.901  "
            ],
            "text/html": [
              "\n",
              "  <div id=\"df-e307d4a1-e4e0-44a0-9890-06c79a3e8779\" class=\"colab-df-container\">\n",
              "    <div>\n",
              "<style scoped>\n",
              "    .dataframe tbody tr th:only-of-type {\n",
              "        vertical-align: middle;\n",
              "    }\n",
              "\n",
              "    .dataframe tbody tr th {\n",
              "        vertical-align: top;\n",
              "    }\n",
              "\n",
              "    .dataframe thead th {\n",
              "        text-align: right;\n",
              "    }\n",
              "</style>\n",
              "<table border=\"1\" class=\"dataframe\">\n",
              "  <thead>\n",
              "    <tr style=\"text-align: right;\">\n",
              "      <th></th>\n",
              "      <th>KPI</th>\n",
              "      <th>Count</th>\n",
              "      <th>Mean</th>\n",
              "      <th>Median</th>\n",
              "      <th>Mode</th>\n",
              "      <th>Std Dev</th>\n",
              "      <th>95% CI Lower</th>\n",
              "      <th>95% CI Upper</th>\n",
              "    </tr>\n",
              "  </thead>\n",
              "  <tbody>\n",
              "    <tr>\n",
              "      <th>0</th>\n",
              "      <td>Bed Busy Time</td>\n",
              "      <td>100</td>\n",
              "      <td>26.892</td>\n",
              "      <td>27.224</td>\n",
              "      <td>19.163</td>\n",
              "      <td>2.509</td>\n",
              "      <td>26.394</td>\n",
              "      <td>27.390</td>\n",
              "    </tr>\n",
              "    <tr>\n",
              "      <th>1</th>\n",
              "      <td>Diagnostic Room Busy Time</td>\n",
              "      <td>100</td>\n",
              "      <td>42.384</td>\n",
              "      <td>42.384</td>\n",
              "      <td>42.384</td>\n",
              "      <td>0.000</td>\n",
              "      <td>42.384</td>\n",
              "      <td>42.384</td>\n",
              "    </tr>\n",
              "    <tr>\n",
              "      <th>2</th>\n",
              "      <td>Diverted Patients</td>\n",
              "      <td>100</td>\n",
              "      <td>0.010</td>\n",
              "      <td>0.000</td>\n",
              "      <td>0.000</td>\n",
              "      <td>0.100</td>\n",
              "      <td>-0.010</td>\n",
              "      <td>0.030</td>\n",
              "    </tr>\n",
              "    <tr>\n",
              "      <th>3</th>\n",
              "      <td>Doctor Busy Time</td>\n",
              "      <td>100</td>\n",
              "      <td>119.155</td>\n",
              "      <td>119.155</td>\n",
              "      <td>119.155</td>\n",
              "      <td>0.000</td>\n",
              "      <td>119.155</td>\n",
              "      <td>119.155</td>\n",
              "    </tr>\n",
              "    <tr>\n",
              "      <th>4</th>\n",
              "      <td>Length of Stay</td>\n",
              "      <td>25683</td>\n",
              "      <td>9.648</td>\n",
              "      <td>9.646</td>\n",
              "      <td>1.113</td>\n",
              "      <td>4.876</td>\n",
              "      <td>9.588</td>\n",
              "      <td>9.707</td>\n",
              "    </tr>\n",
              "    <tr>\n",
              "      <th>5</th>\n",
              "      <td>Surgical Room Busy Time</td>\n",
              "      <td>100</td>\n",
              "      <td>34.303</td>\n",
              "      <td>34.092</td>\n",
              "      <td>19.366</td>\n",
              "      <td>6.051</td>\n",
              "      <td>33.102</td>\n",
              "      <td>35.503</td>\n",
              "    </tr>\n",
              "    <tr>\n",
              "      <th>6</th>\n",
              "      <td>Waiting Time</td>\n",
              "      <td>26900</td>\n",
              "      <td>8.841</td>\n",
              "      <td>8.845</td>\n",
              "      <td>0.222</td>\n",
              "      <td>5.012</td>\n",
              "      <td>8.781</td>\n",
              "      <td>8.901</td>\n",
              "    </tr>\n",
              "  </tbody>\n",
              "</table>\n",
              "</div>\n",
              "    <div class=\"colab-df-buttons\">\n",
              "\n",
              "  <div class=\"colab-df-container\">\n",
              "    <button class=\"colab-df-convert\" onclick=\"convertToInteractive('df-e307d4a1-e4e0-44a0-9890-06c79a3e8779')\"\n",
              "            title=\"Convert this dataframe to an interactive table.\"\n",
              "            style=\"display:none;\">\n",
              "\n",
              "  <svg xmlns=\"http://www.w3.org/2000/svg\" height=\"24px\" viewBox=\"0 -960 960 960\">\n",
              "    <path d=\"M120-120v-720h720v720H120Zm60-500h600v-160H180v160Zm220 220h160v-160H400v160Zm0 220h160v-160H400v160ZM180-400h160v-160H180v160Zm440 0h160v-160H620v160ZM180-180h160v-160H180v160Zm440 0h160v-160H620v160Z\"/>\n",
              "  </svg>\n",
              "    </button>\n",
              "\n",
              "  <style>\n",
              "    .colab-df-container {\n",
              "      display:flex;\n",
              "      gap: 12px;\n",
              "    }\n",
              "\n",
              "    .colab-df-convert {\n",
              "      background-color: #E8F0FE;\n",
              "      border: none;\n",
              "      border-radius: 50%;\n",
              "      cursor: pointer;\n",
              "      display: none;\n",
              "      fill: #1967D2;\n",
              "      height: 32px;\n",
              "      padding: 0 0 0 0;\n",
              "      width: 32px;\n",
              "    }\n",
              "\n",
              "    .colab-df-convert:hover {\n",
              "      background-color: #E2EBFA;\n",
              "      box-shadow: 0px 1px 2px rgba(60, 64, 67, 0.3), 0px 1px 3px 1px rgba(60, 64, 67, 0.15);\n",
              "      fill: #174EA6;\n",
              "    }\n",
              "\n",
              "    .colab-df-buttons div {\n",
              "      margin-bottom: 4px;\n",
              "    }\n",
              "\n",
              "    [theme=dark] .colab-df-convert {\n",
              "      background-color: #3B4455;\n",
              "      fill: #D2E3FC;\n",
              "    }\n",
              "\n",
              "    [theme=dark] .colab-df-convert:hover {\n",
              "      background-color: #434B5C;\n",
              "      box-shadow: 0px 1px 3px 1px rgba(0, 0, 0, 0.15);\n",
              "      filter: drop-shadow(0px 1px 2px rgba(0, 0, 0, 0.3));\n",
              "      fill: #FFFFFF;\n",
              "    }\n",
              "  </style>\n",
              "\n",
              "    <script>\n",
              "      const buttonEl =\n",
              "        document.querySelector('#df-e307d4a1-e4e0-44a0-9890-06c79a3e8779 button.colab-df-convert');\n",
              "      buttonEl.style.display =\n",
              "        google.colab.kernel.accessAllowed ? 'block' : 'none';\n",
              "\n",
              "      async function convertToInteractive(key) {\n",
              "        const element = document.querySelector('#df-e307d4a1-e4e0-44a0-9890-06c79a3e8779');\n",
              "        const dataTable =\n",
              "          await google.colab.kernel.invokeFunction('convertToInteractive',\n",
              "                                                    [key], {});\n",
              "        if (!dataTable) return;\n",
              "\n",
              "        const docLinkHtml = 'Like what you see? Visit the ' +\n",
              "          '<a target=\"_blank\" href=https://colab.research.google.com/notebooks/data_table.ipynb>data table notebook</a>'\n",
              "          + ' to learn more about interactive tables.';\n",
              "        element.innerHTML = '';\n",
              "        dataTable['output_type'] = 'display_data';\n",
              "        await google.colab.output.renderOutput(dataTable, element);\n",
              "        const docLink = document.createElement('div');\n",
              "        docLink.innerHTML = docLinkHtml;\n",
              "        element.appendChild(docLink);\n",
              "      }\n",
              "    </script>\n",
              "  </div>\n",
              "\n",
              "\n",
              "    <div id=\"df-5fd57329-f3ac-4e34-82f9-9dd96a2aba90\">\n",
              "      <button class=\"colab-df-quickchart\" onclick=\"quickchart('df-5fd57329-f3ac-4e34-82f9-9dd96a2aba90')\"\n",
              "                title=\"Suggest charts\"\n",
              "                style=\"display:none;\">\n",
              "\n",
              "<svg xmlns=\"http://www.w3.org/2000/svg\" height=\"24px\"viewBox=\"0 0 24 24\"\n",
              "     width=\"24px\">\n",
              "    <g>\n",
              "        <path d=\"M19 3H5c-1.1 0-2 .9-2 2v14c0 1.1.9 2 2 2h14c1.1 0 2-.9 2-2V5c0-1.1-.9-2-2-2zM9 17H7v-7h2v7zm4 0h-2V7h2v10zm4 0h-2v-4h2v4z\"/>\n",
              "    </g>\n",
              "</svg>\n",
              "      </button>\n",
              "\n",
              "<style>\n",
              "  .colab-df-quickchart {\n",
              "      --bg-color: #E8F0FE;\n",
              "      --fill-color: #1967D2;\n",
              "      --hover-bg-color: #E2EBFA;\n",
              "      --hover-fill-color: #174EA6;\n",
              "      --disabled-fill-color: #AAA;\n",
              "      --disabled-bg-color: #DDD;\n",
              "  }\n",
              "\n",
              "  [theme=dark] .colab-df-quickchart {\n",
              "      --bg-color: #3B4455;\n",
              "      --fill-color: #D2E3FC;\n",
              "      --hover-bg-color: #434B5C;\n",
              "      --hover-fill-color: #FFFFFF;\n",
              "      --disabled-bg-color: #3B4455;\n",
              "      --disabled-fill-color: #666;\n",
              "  }\n",
              "\n",
              "  .colab-df-quickchart {\n",
              "    background-color: var(--bg-color);\n",
              "    border: none;\n",
              "    border-radius: 50%;\n",
              "    cursor: pointer;\n",
              "    display: none;\n",
              "    fill: var(--fill-color);\n",
              "    height: 32px;\n",
              "    padding: 0;\n",
              "    width: 32px;\n",
              "  }\n",
              "\n",
              "  .colab-df-quickchart:hover {\n",
              "    background-color: var(--hover-bg-color);\n",
              "    box-shadow: 0 1px 2px rgba(60, 64, 67, 0.3), 0 1px 3px 1px rgba(60, 64, 67, 0.15);\n",
              "    fill: var(--button-hover-fill-color);\n",
              "  }\n",
              "\n",
              "  .colab-df-quickchart-complete:disabled,\n",
              "  .colab-df-quickchart-complete:disabled:hover {\n",
              "    background-color: var(--disabled-bg-color);\n",
              "    fill: var(--disabled-fill-color);\n",
              "    box-shadow: none;\n",
              "  }\n",
              "\n",
              "  .colab-df-spinner {\n",
              "    border: 2px solid var(--fill-color);\n",
              "    border-color: transparent;\n",
              "    border-bottom-color: var(--fill-color);\n",
              "    animation:\n",
              "      spin 1s steps(1) infinite;\n",
              "  }\n",
              "\n",
              "  @keyframes spin {\n",
              "    0% {\n",
              "      border-color: transparent;\n",
              "      border-bottom-color: var(--fill-color);\n",
              "      border-left-color: var(--fill-color);\n",
              "    }\n",
              "    20% {\n",
              "      border-color: transparent;\n",
              "      border-left-color: var(--fill-color);\n",
              "      border-top-color: var(--fill-color);\n",
              "    }\n",
              "    30% {\n",
              "      border-color: transparent;\n",
              "      border-left-color: var(--fill-color);\n",
              "      border-top-color: var(--fill-color);\n",
              "      border-right-color: var(--fill-color);\n",
              "    }\n",
              "    40% {\n",
              "      border-color: transparent;\n",
              "      border-right-color: var(--fill-color);\n",
              "      border-top-color: var(--fill-color);\n",
              "    }\n",
              "    60% {\n",
              "      border-color: transparent;\n",
              "      border-right-color: var(--fill-color);\n",
              "    }\n",
              "    80% {\n",
              "      border-color: transparent;\n",
              "      border-right-color: var(--fill-color);\n",
              "      border-bottom-color: var(--fill-color);\n",
              "    }\n",
              "    90% {\n",
              "      border-color: transparent;\n",
              "      border-bottom-color: var(--fill-color);\n",
              "    }\n",
              "  }\n",
              "</style>\n",
              "\n",
              "      <script>\n",
              "        async function quickchart(key) {\n",
              "          const quickchartButtonEl =\n",
              "            document.querySelector('#' + key + ' button');\n",
              "          quickchartButtonEl.disabled = true;  // To prevent multiple clicks.\n",
              "          quickchartButtonEl.classList.add('colab-df-spinner');\n",
              "          try {\n",
              "            const charts = await google.colab.kernel.invokeFunction(\n",
              "                'suggestCharts', [key], {});\n",
              "          } catch (error) {\n",
              "            console.error('Error during call to suggestCharts:', error);\n",
              "          }\n",
              "          quickchartButtonEl.classList.remove('colab-df-spinner');\n",
              "          quickchartButtonEl.classList.add('colab-df-quickchart-complete');\n",
              "        }\n",
              "        (() => {\n",
              "          let quickchartButtonEl =\n",
              "            document.querySelector('#df-5fd57329-f3ac-4e34-82f9-9dd96a2aba90 button');\n",
              "          quickchartButtonEl.style.display =\n",
              "            google.colab.kernel.accessAllowed ? 'block' : 'none';\n",
              "        })();\n",
              "      </script>\n",
              "    </div>\n",
              "\n",
              "    </div>\n",
              "  </div>\n"
            ],
            "application/vnd.google.colaboratory.intrinsic+json": {
              "type": "dataframe",
              "summary": "{\n  \"name\": \"    display(summary_df[summary_df['Scenario'] == scenario]\",\n  \"rows\": 7,\n  \"fields\": [\n    {\n      \"column\": \"KPI\",\n      \"properties\": {\n        \"dtype\": \"string\",\n        \"num_unique_values\": 7,\n        \"samples\": [\n          \"Bed Busy Time\",\n          \"Diagnostic Room Busy Time\",\n          \"Surgical Room Busy Time\"\n        ],\n        \"semantic_type\": \"\",\n        \"description\": \"\"\n      }\n    },\n    {\n      \"column\": \"Count\",\n      \"properties\": {\n        \"dtype\": \"number\",\n        \"std\": 12784,\n        \"min\": 100,\n        \"max\": 26900,\n        \"num_unique_values\": 3,\n        \"samples\": [\n          100,\n          25683,\n          26900\n        ],\n        \"semantic_type\": \"\",\n        \"description\": \"\"\n      }\n    },\n    {\n      \"column\": \"Mean\",\n      \"properties\": {\n        \"dtype\": \"number\",\n        \"std\": 40.31563603793021,\n        \"min\": 0.01,\n        \"max\": 119.155,\n        \"num_unique_values\": 7,\n        \"samples\": [\n          26.892,\n          42.384,\n          34.303\n        ],\n        \"semantic_type\": \"\",\n        \"description\": \"\"\n      }\n    },\n    {\n      \"column\": \"Median\",\n      \"properties\": {\n        \"dtype\": \"number\",\n        \"std\": 40.306906095606,\n        \"min\": 0.0,\n        \"max\": 119.155,\n        \"num_unique_values\": 7,\n        \"samples\": [\n          27.224,\n          42.384,\n          34.092\n        ],\n        \"semantic_type\": \"\",\n        \"description\": \"\"\n      }\n    },\n    {\n      \"column\": \"Mode\",\n      \"properties\": {\n        \"dtype\": \"number\",\n        \"std\": 42.70661485620454,\n        \"min\": 0.0,\n        \"max\": 119.155,\n        \"num_unique_values\": 7,\n        \"samples\": [\n          19.163,\n          42.384,\n          19.366\n        ],\n        \"semantic_type\": \"\",\n        \"description\": \"\"\n      }\n    },\n    {\n      \"column\": \"Std Dev\",\n      \"properties\": {\n        \"dtype\": \"number\",\n        \"std\": 2.66671775248686,\n        \"min\": 0.0,\n        \"max\": 6.051,\n        \"num_unique_values\": 6,\n        \"samples\": [\n          2.509,\n          0.0,\n          5.012\n        ],\n        \"semantic_type\": \"\",\n        \"description\": \"\"\n      }\n    },\n    {\n      \"column\": \"95% CI Lower\",\n      \"properties\": {\n        \"dtype\": \"number\",\n        \"std\": 40.34986435511512,\n        \"min\": -0.01,\n        \"max\": 119.155,\n        \"num_unique_values\": 7,\n        \"samples\": [\n          26.394,\n          42.384,\n          33.102\n        ],\n        \"semantic_type\": \"\",\n        \"description\": \"\"\n      }\n    },\n    {\n      \"column\": \"95% CI Upper\",\n      \"properties\": {\n        \"dtype\": \"number\",\n        \"std\": 40.28650520837917,\n        \"min\": 0.03,\n        \"max\": 119.155,\n        \"num_unique_values\": 7,\n        \"samples\": [\n          27.39,\n          42.384,\n          35.503\n        ],\n        \"semantic_type\": \"\",\n        \"description\": \"\"\n      }\n    }\n  ]\n}"
            }
          },
          "metadata": {}
        }
      ]
    },
    {
      "cell_type": "markdown",
      "source": [
        "# Visualisation and comparison  of the scenarios (and versus control)"
      ],
      "metadata": {
        "id": "drKvjEDtau8h"
      },
      "id": "drKvjEDtau8h"
    },
    {
      "cell_type": "markdown",
      "source": [
        "# Boxplot - distribution of waiting time by scenario"
      ],
      "metadata": {
        "id": "MupvQvuun3tE"
      },
      "id": "MupvQvuun3tE"
    },
    {
      "cell_type": "code",
      "source": [
        "\n",
        "plt.figure(figsize=(12,10))\n",
        "sns.boxplot(\n",
        "    data=df_all[df_all['KPI'] == 'Waiting Time'],\n",
        "    x='Scenario', y='Value',\n",
        "    hue='Scenario',\n",
        "    palette='Set2',\n",
        "    legend=False\n",
        ")\n",
        "plt.title('Distribution of Patient Waiting Time by Scenario', fontsize=16)\n",
        "plt.ylabel('Waiting Time (hours)')\n",
        "plt.xlabel('Scenario')\n",
        "plt.grid(axis='y', linestyle='--', alpha=0.6)\n",
        "plt.tight_layout()\n",
        "plt.show()"
      ],
      "metadata": {
        "colab": {
          "base_uri": "https://localhost:8080/",
          "height": 886
        },
        "id": "arBTqpeSn6AS",
        "outputId": "34ac428e-b0ef-4318-caaa-51d52816cb8a"
      },
      "id": "arBTqpeSn6AS",
      "execution_count": 154,
      "outputs": [
        {
          "output_type": "display_data",
          "data": {
            "text/plain": [
              "<Figure size 1200x1000 with 1 Axes>"
            ],
            "image/png": "[encoded data removed]"
          },
          "metadata": {}
        }
      ]
    },
    {
      "cell_type": "markdown",
      "source": [
        "# Violin distr. for LOS"
      ],
      "metadata": {
        "id": "p2gz_ffIolpP"
      },
      "id": "p2gz_ffIolpP"
    },
    {
      "cell_type": "code",
      "source": [
        "plt.figure(figsize=(12,10))\n",
        "sns.violinplot(\n",
        "    data=df_all[df_all['KPI'] == 'Length of Stay'],\n",
        "    x='Scenario', y='Value',\n",
        "    hue='Scenario',\n",
        "    legend=False,\n",
        "    palette='Set3',\n",
        "    inner='quartile'\n",
        ")\n",
        "plt.title('Length of Stay Distribution by Scenario', fontsize=16)\n",
        "plt.ylabel('Length of Stay (hours)')\n",
        "plt.xlabel('Scenario')\n",
        "plt.grid(axis='y', linestyle='--', alpha=0.6)\n",
        "plt.tight_layout()\n",
        "plt.show()"
      ],
      "metadata": {
        "colab": {
          "base_uri": "https://localhost:8080/",
          "height": 886
        },
        "id": "1gKLrMWdopDH",
        "outputId": "1f0ce66f-f9ae-4372-e9f7-b4b384c18c2d"
      },
      "id": "1gKLrMWdopDH",
      "execution_count": 155,
      "outputs": [
        {
          "output_type": "display_data",
          "data": {
            "text/plain": [
              "<Figure size 1200x1000 with 1 Axes>"
            ],
            "image/png": "[encoded data removed]"
          },
          "metadata": {}
        }
      ]
    },
    {
      "cell_type": "markdown",
      "source": [
        "# Bar plot - mean LPIs with 95% confidence intervals"
      ],
      "metadata": {
        "id": "DQ23UxPppfwF"
      },
      "id": "DQ23UxPppfwF"
    },
    {
      "cell_type": "code",
      "source": [
        "# Filter KPIs for numeric means comparison (exclude Diverted Patients)\n",
        "mean_kpis = summary_df[~summary_df['KPI'].isin(['Diverted Patients'])]\n",
        "\n",
        "plt.figure(figsize=(14,7))\n",
        "sns.barplot(\n",
        "    data=mean_kpis, x='KPI', y='Mean', hue='Scenario',\n",
        "    palette='Pastel1', capsize=0.1,\n",
        "    err_kws={'color': 'gray'}\n",
        ")\n",
        "plt.title('Mean KPI Comparison Across Scenarios with 95% Confidence Intervals', fontsize=18)\n",
        "plt.ylabel('Mean Value (hours)')\n",
        "plt.xlabel('KPI')\n",
        "plt.legend(title='Scenario', loc='upper right')\n",
        "plt.xticks(rotation=45)\n",
        "plt.grid(axis='y', linestyle='--', alpha=0.7)\n",
        "plt.tight_layout()\n",
        "plt.show()\n"
      ],
      "metadata": {
        "colab": {
          "base_uri": "https://localhost:8080/",
          "height": 707
        },
        "id": "dfjcpMmjphFR",
        "outputId": "8ff73595-48ac-46bd-9ab1-af4d2d114a34"
      },
      "id": "dfjcpMmjphFR",
      "execution_count": 156,
      "outputs": [
        {
          "output_type": "display_data",
          "data": {
            "text/plain": [
              "<Figure size 1400x700 with 1 Axes>"
            ],
            "image/png": "[encoded data removed]"
          },
          "metadata": {}
        }
      ]
    },
    {
      "cell_type": "markdown",
      "source": [
        "# Resource Utilization Comparison — Stacked Bar Chart"
      ],
      "metadata": {
        "id": "8jQTwJjlwu65"
      },
      "id": "8jQTwJjlwu65"
    },
    {
      "cell_type": "code",
      "source": [
        "# Extract resource KPIs only\n",
        "resource_kpis = summary_df[summary_df['KPI'].str.contains('Busy Time')]\n",
        "\n",
        "# Pivot to wide format for stacked bar\n",
        "resource_pivot = resource_kpis.pivot(index='Scenario', columns='KPI', values='Mean')\n",
        "\n",
        "resource_pivot.plot(\n",
        "    kind='bar', stacked=True, figsize=(12,7),\n",
        "    colormap='Set3', edgecolor='black'\n",
        ")\n",
        "plt.title('Stacked Resource Utilization (Average Busy Time in hours) by Scenario', fontsize=16)\n",
        "plt.ylabel('Average Busy Time (hours)')\n",
        "plt.xlabel('Scenario')\n",
        "plt.legend(title='Resource', bbox_to_anchor=(1.05, 1), loc='upper left')\n",
        "plt.tight_layout()\n",
        "plt.show()\n"
      ],
      "metadata": {
        "colab": {
          "base_uri": "https://localhost:8080/",
          "height": 707
        },
        "id": "vevtqOmyxV3Z",
        "outputId": "adf44f86-7547-43a4-a3bb-61ac22e3519e"
      },
      "id": "vevtqOmyxV3Z",
      "execution_count": 220,
      "outputs": [
        {
          "output_type": "display_data",
          "data": {
            "text/plain": [
              "<Figure size 1200x700 with 1 Axes>"
            ],
            "image/png": "[encoded data removed]"
          },
          "metadata": {}
        }
      ]
    },
    {
      "cell_type": "markdown",
      "source": [
        "# Bar plot - diverted patients"
      ],
      "metadata": {
        "id": "wXYKXj_2ww45"
      },
      "id": "wXYKXj_2ww45"
    },
    {
      "cell_type": "code",
      "source": [
        "\n",
        "# Filter Diverted Patients KPI only\n",
        "diverted = summary_df[summary_df['KPI'] == 'Diverted Patients']\n",
        "\n",
        "# Extract means and std devs by scenario for diverted patients\n",
        "means = diverted['Mean'].values\n",
        "std_devs = diverted['Std Dev'].fillna(0).values\n",
        "scenarios = diverted['Scenario'].values\n",
        "\n",
        "plt.figure(figsize=(16,8))\n",
        "plt.bar(scenarios, means, yerr=std_devs, capsize=5, color=sns.color_palette('Set2', len(scenarios)))\n",
        "plt.title('Average Number of Diverted Patients by Scenario', fontsize=16)\n",
        "plt.ylabel('Average Diverted Patients')\n",
        "plt.xlabel('Scenario')\n",
        "plt.grid(axis='y', linestyle='--', alpha=0.6)\n",
        "plt.tight_layout()\n",
        "plt.show()"
      ],
      "metadata": {
        "colab": {
          "base_uri": "https://localhost:8080/",
          "height": 807
        },
        "id": "NjhUXjYnwwbR",
        "outputId": "ba480da7-7c8f-4324-ba02-59d668f43ff9"
      },
      "id": "NjhUXjYnwwbR",
      "execution_count": 217,
      "outputs": [
        {
          "output_type": "display_data",
          "data": {
            "text/plain": [
              "<Figure size 1600x800 with 1 Axes>"
            ],
            "image/png": "[encoded data removed]"
          },
          "metadata": {}
        }
      ]
    }
  ],
  "metadata": {
    "kernelspec": {
      "display_name": ".venv",
      "language": "python",
      "name": "python3"
    },
    "language_info": {
      "codemirror_mode": {
        "name": "ipython",
        "version": 3
      },
      "file_extension": ".py",
      "mimetype": "text/x-python",
      "name": "python",
      "nbconvert_exporter": "python",
      "pygments_lexer": "ipython3",
      "version": "3.13.2"
    },
    "colab": {
      "provenance": [],
      "collapsed_sections": [
        "5624ff8f",
        "rrnZ5WOVcegL",
        "WlECVt6kaUGt",
        "Ln8WXQVZh5d1",
        "6Oas7ozAlxJ6",
        "H2_tQUdkvxIk",
        "0B-HammPzwvA",
        "MlFFuRuBz_SR",
        "o6Isd6Sk5cT5",
        "iAJE9k3-6QDx",
        "25koo783NUQg",
        "jfJTWpZCVszs",
        "twdxZq-eZ6KI"
      ],
      "include_colab_link": true
    }
  },
  "nbformat": 4,
  "nbformat_minor": 5
}