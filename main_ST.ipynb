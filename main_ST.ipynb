{
  "cells": [
    {
      "cell_type": "markdown",
      "metadata": {
        "id": "view-in-github",
        "colab_type": "text"
      },
      "source": [
        "<a href=\"https://colab.research.google.com/github/chigvintseva/UniProject-simulation-techniques/blob/main/main_ST.ipynb\" target=\"_parent\"><img src=\"https://colab.research.google.com/assets/colab-badge.svg\" alt=\"Open In Colab\"/></a>"
      ]
    },
    {
      "cell_type": "markdown",
      "id": "5624ff8f",
      "metadata": {
        "id": "5624ff8f"
      },
      "source": [
        "# **Data generation**"
      ]
    },
    {
      "cell_type": "code",
      "execution_count": 77,
      "id": "6cf46b0a",
      "metadata": {
        "id": "6cf46b0a"
      },
      "outputs": [],
      "source": [
        "import numpy as np\n",
        "import pandas as pd\n",
        "import simpy\n",
        "from scipy import stats"
      ]
    },
    {
      "cell_type": "code",
      "source": [],
      "metadata": {
        "id": "OzA_R3FFUOp9"
      },
      "id": "OzA_R3FFUOp9",
      "execution_count": 77,
      "outputs": []
    },
    {
      "cell_type": "markdown",
      "id": "074f586f",
      "metadata": {
        "id": "074f586f"
      },
      "source": [
        "1. Set random seed for reproducibility"
      ]
    },
    {
      "cell_type": "code",
      "execution_count": 78,
      "id": "7d90070b",
      "metadata": {
        "id": "7d90070b"
      },
      "outputs": [],
      "source": [
        "# to ensure the reproducable synthetic data generation\n",
        "np.random.seed(42)"
      ]
    },
    {
      "cell_type": "markdown",
      "id": "f165b49f",
      "metadata": {
        "id": "f165b49f"
      },
      "source": [
        "2. Generate patient arrival times using poisson process"
      ]
    },
    {
      "cell_type": "code",
      "execution_count": 79,
      "id": "0d5d4a88",
      "metadata": {
        "id": "0d5d4a88"
      },
      "outputs": [],
      "source": [
        "arrival_rate_per_hour = 20\n",
        "simulation_duration_hours = 24\n",
        "\n",
        "#total patient count\n",
        "num_patients = np.random.poisson(lam=arrival_rate_per_hour * simulation_duration_hours)"
      ]
    },
    {
      "cell_type": "code",
      "execution_count": 80,
      "id": "7a02226d",
      "metadata": {
        "id": "7a02226d"
      },
      "outputs": [],
      "source": [
        "#inter-arrival times (in hours) from exponential distribution\n",
        "inter_arrival_times = np.random.exponential(scale=1/arrival_rate_per_hour, size=num_patients)"
      ]
    },
    {
      "cell_type": "code",
      "source": [
        "#cumulative arrival times\n",
        "arrival_times = np.cumsum(inter_arrival_times)"
      ],
      "metadata": {
        "id": "oRA933QzK9C1"
      },
      "id": "oRA933QzK9C1",
      "execution_count": 81,
      "outputs": []
    },
    {
      "cell_type": "markdown",
      "source": [
        "Arrivals example for data verfification:"
      ],
      "metadata": {
        "id": "gDWn4odZQMeR"
      },
      "id": "gDWn4odZQMeR"
    },
    {
      "cell_type": "code",
      "source": [
        "print(\"Sample of Patient Arrival Times:\")\n",
        "for i, arrival in enumerate(arrival_times[:5], start=1):\n",
        "    hours = int(arrival)\n",
        "    minutes = int((arrival - hours) * 60)\n",
        "    print(f\"  Patient {i}: {hours} hours and {minutes} minutes after simulation start\")"
      ],
      "metadata": {
        "colab": {
          "base_uri": "https://localhost:8080/"
        },
        "id": "g0XK-ZN6LC2F",
        "outputId": "af05f5a9-f0d2-4d34-9f0e-83f08ecb8feb"
      },
      "id": "g0XK-ZN6LC2F",
      "execution_count": 82,
      "outputs": [
        {
          "output_type": "stream",
          "name": "stdout",
          "text": [
            "Sample of Patient Arrival Times:\n",
            "  Patient 1: 0 hours and 3 minutes after simulation start\n",
            "  Patient 2: 0 hours and 6 minutes after simulation start\n",
            "  Patient 3: 0 hours and 7 minutes after simulation start\n",
            "  Patient 4: 0 hours and 7 minutes after simulation start\n",
            "  Patient 5: 0 hours and 7 minutes after simulation start\n"
          ]
        }
      ]
    },
    {
      "cell_type": "markdown",
      "source": [
        "3. Assign Triage Categories with Weighted Sampling"
      ],
      "metadata": {
        "id": "-Q4fvfIYL2xU"
      },
      "id": "-Q4fvfIYL2xU"
    },
    {
      "cell_type": "code",
      "source": [
        "# triage levels and their empirical probabilities\n",
        "triage_levels = [1, 2, 3, 4, 5]\n",
        "triage_probabilities = [0.1, 0.2, 0.3, 0.25, 0.15]"
      ],
      "metadata": {
        "id": "y1NI_5p3NCsO"
      },
      "id": "y1NI_5p3NCsO",
      "execution_count": 83,
      "outputs": []
    },
    {
      "cell_type": "code",
      "source": [
        "#random assign triage categories to each patient\n",
        "assigned_triage = np.random.choice(triage_levels, size=num_patients, p=triage_probabilities)"
      ],
      "metadata": {
        "id": "piLkLw2BNHfC"
      },
      "id": "piLkLw2BNHfC",
      "execution_count": 84,
      "outputs": []
    },
    {
      "cell_type": "code",
      "source": [
        "# Display normalized frequency distribution\n",
        "print(\"Normalized triage distribution:\")\n",
        "print(pd.Series(assigned_triage).value_counts(normalize=True).sort_index())"
      ],
      "metadata": {
        "colab": {
          "base_uri": "https://localhost:8080/"
        },
        "id": "LG4mgVpgNOTh",
        "outputId": "2d4d00ea-f380-49ee-a636-180a766aa23d"
      },
      "id": "LG4mgVpgNOTh",
      "execution_count": 85,
      "outputs": [
        {
          "output_type": "stream",
          "name": "stdout",
          "text": [
            "Normalized triage distribution:\n",
            "1    0.084746\n",
            "2    0.239407\n",
            "3    0.311441\n",
            "4    0.213983\n",
            "5    0.150424\n",
            "Name: proportion, dtype: float64\n"
          ]
        }
      ]
    },
    {
      "cell_type": "markdown",
      "source": [
        "Visualisation of the triage distribution"
      ],
      "metadata": {
        "id": "vEWqqdeqNWZw"
      },
      "id": "vEWqqdeqNWZw"
    },
    {
      "cell_type": "code",
      "source": [
        "import matplotlib.pyplot as plt\n",
        "import seaborn as sns\n",
        "\n",
        "triage_counts = pd.Series(assigned_triage).value_counts(normalize=True).sort_index()\n",
        "triage_levels = triage_counts.index.astype(str)\n",
        "frequencies = triage_counts.values\n",
        "\n",
        "plt.figure(figsize=(8, 5))\n",
        "sns.barplot(x=triage_levels, y=frequencies, hue=triage_levels, palette=\"viridis\", dodge=False, legend=False)\n",
        "\n",
        "plt.xlabel('Triage Category', fontsize=12)\n",
        "plt.ylabel('Proportion of Patients', fontsize=12)\n",
        "plt.title('Normalized Distribution of Triage Categories', fontsize=14)\n",
        "\n",
        "#Show proportion values on top of bars\n",
        "for i, freq in enumerate(frequencies):\n",
        "    plt.text(i, freq + 0.01, f'{freq:.2f}', ha='center', fontsize=10)\n",
        "plt.ylim(0, max(frequencies) + 0.1)\n",
        "plt.show()"
      ],
      "metadata": {
        "colab": {
          "base_uri": "https://localhost:8080/",
          "height": 492
        },
        "id": "1OXBMra8NdG7",
        "outputId": "026ac9a3-973d-4efe-8cfa-fce9deffa4d5"
      },
      "id": "1OXBMra8NdG7",
      "execution_count": 86,
      "outputs": [
        {
          "output_type": "display_data",
          "data": {
            "text/plain": [
              "<Figure size 800x500 with 1 Axes>"
            ],
            "image/png": "[encoded data removed]"
          },
          "metadata": {}
        }
      ]
    },
    {
      "cell_type": "markdown",
      "source": [
        "4. Simulate diagnostic testing requirements with Bernoulli Trials"
      ],
      "metadata": {
        "id": "tMDgajqTN0ls"
      },
      "id": "tMDgajqTN0ls"
    },
    {
      "cell_type": "code",
      "source": [
        "#probability of requiring diagn. testing - 30% is typical for clinical studies\n",
        "diagnostic_probability = 0.3"
      ],
      "metadata": {
        "id": "ocrljqmfN6nx"
      },
      "id": "ocrljqmfN6nx",
      "execution_count": 87,
      "outputs": []
    },
    {
      "cell_type": "code",
      "source": [
        "# binary diagnostic requirement flags to patients\n",
        "requires_diagnostics = np.random.binomial(n=1, p=diagnostic_probability, size=num_patients)"
      ],
      "metadata": {
        "id": "aalkKatXOGEx"
      },
      "id": "aalkKatXOGEx",
      "execution_count": 88,
      "outputs": []
    },
    {
      "cell_type": "code",
      "source": [
        "print(f\"Percentage of patients requiring diagnostics: {requires_diagnostics.mean() * 100:.2f}%\")"
      ],
      "metadata": {
        "colab": {
          "base_uri": "https://localhost:8080/"
        },
        "id": "UfKxLgBNOKa5",
        "outputId": "d83d9d6b-71b2-43b5-84c1-5cb2187f1b35"
      },
      "id": "UfKxLgBNOKa5",
      "execution_count": 89,
      "outputs": [
        {
          "output_type": "stream",
          "name": "stdout",
          "text": [
            "Percentage of patients requiring diagnostics: 31.99%\n"
          ]
        }
      ]
    },
    {
      "cell_type": "markdown",
      "source": [
        "**5. Sample process durations using Triangular Distributions**\n",
        "\n",
        "to avoid zero to negative values & return array of samples."
      ],
      "metadata": {
        "id": "09AqaI3nOYVp"
      },
      "id": "09AqaI3nOYVp"
    },
    {
      "cell_type": "markdown",
      "source": [
        "parameters:\n",
        "\n",
        "*  minimum: minimum value of distribution\n",
        "*  mode: most likely (peak) value\n",
        "*  maximum: maximum value\n",
        "*  sample_size: number of samples to generate"
      ],
      "metadata": {
        "id": "OYrsHxZtO1CV"
      },
      "id": "OYrsHxZtO1CV"
    },
    {
      "cell_type": "code",
      "source": [
        "def triangular_sample(minimum, mode, maximum, sample_size):\n",
        "  samples = np.random.triangular(left=minimum, mode=mode, right=maximum, size=sample_size)\n",
        "  return np.clip(samples, a_min=0.1, a_max=None)  # ensures positive durations"
      ],
      "metadata": {
        "id": "w2WvAR25OcKL"
      },
      "id": "w2WvAR25OcKL",
      "execution_count": 90,
      "outputs": []
    },
    {
      "cell_type": "code",
      "source": [
        "# sample process durations in minutes for each patient\n",
        "\n",
        "triage_times = triangular_sample(5, 10, 15, num_patients)\n",
        "registration_times = triangular_sample(3, 7, 12, num_patients)\n",
        "consultation_times = triangular_sample(15, 25, 40, num_patients)\n",
        "diagnostic_times = triangular_sample(20, 30, 45, num_patients)\n",
        "treatment_times = triangular_sample(10, 20, 35, num_patients)"
      ],
      "metadata": {
        "id": "VcHfkoiyPQk5"
      },
      "id": "VcHfkoiyPQk5",
      "execution_count": 91,
      "outputs": []
    },
    {
      "cell_type": "code",
      "source": [
        "# setting diagnostics to 0 for pations not requiring it\n",
        "diagnostic_times *= requires_diagnostics"
      ],
      "metadata": {
        "id": "YkKwBhUaPWjJ"
      },
      "id": "YkKwBhUaPWjJ",
      "execution_count": 92,
      "outputs": []
    },
    {
      "cell_type": "code",
      "source": [
        "print(\"Sample of Consultation Times (minutes):\")\n",
        "for i, time in enumerate(consultation_times[:5], start=1):\n",
        "    print(f\"  Patient {i}: {time:.2f} minutes\")"
      ],
      "metadata": {
        "colab": {
          "base_uri": "https://localhost:8080/"
        },
        "id": "-JQJ3_4GPdGG",
        "outputId": "9bd84369-ef6a-45da-bf12-c77be54959a6"
      },
      "id": "-JQJ3_4GPdGG",
      "execution_count": 93,
      "outputs": [
        {
          "output_type": "stream",
          "name": "stdout",
          "text": [
            "Sample of Consultation Times (minutes):\n",
            "  Patient 1: 23.59 minutes\n",
            "  Patient 2: 26.12 minutes\n",
            "  Patient 3: 27.41 minutes\n",
            "  Patient 4: 18.31 minutes\n",
            "  Patient 5: 20.55 minutes\n"
          ]
        }
      ]
    },
    {
      "cell_type": "markdown",
      "source": [
        "6. Gather generated variables into chronologically ordered dataset for further simulation (both control and manipulated scenarios)"
      ],
      "metadata": {
        "id": "zVJxD8KgQ0zg"
      },
      "id": "zVJxD8KgQ0zg"
    },
    {
      "cell_type": "code",
      "source": [
        "ed_patient_data = pd.DataFrame({\n",
        "    'arrival_time_hr': arrival_times,   #hours since simulation start\n",
        "    'triage_category': assigned_triage,  #triage levels 1–5\n",
        "    'requires_diagnostics': requires_diagnostics,   #booleans\n",
        "    'triage_time_min': triage_times,  #continuous var-s, process durations in minutes\n",
        "    'registration_time_min': registration_times,\n",
        "    'consultation_time_min': consultation_times,\n",
        "    'diagnostic_time_min': diagnostic_times,\n",
        "    'treatment_time_min': treatment_times\n",
        "})"
      ],
      "metadata": {
        "id": "VqyhxNMxRIur"
      },
      "id": "VqyhxNMxRIur",
      "execution_count": 94,
      "outputs": []
    },
    {
      "cell_type": "code",
      "source": [
        "#sort dataset by arrival time to ensure the correct event sequencing\n",
        "ed_patient_data.sort_values('arrival_time_hr', inplace=True)\n",
        "ed_patient_data.reset_index(drop=True, inplace=True)"
      ],
      "metadata": {
        "id": "UFPJuMLgRVnb"
      },
      "id": "UFPJuMLgRVnb",
      "execution_count": 95,
      "outputs": []
    },
    {
      "cell_type": "code",
      "source": [
        "# how the dataset looks like (what's stored inside, not easy to analyse)\n",
        "print(ed_patient_data.head())"
      ],
      "metadata": {
        "colab": {
          "base_uri": "https://localhost:8080/"
        },
        "id": "yEONI7j-RbTf",
        "outputId": "72fb4384-98bd-40f1-fc95-ec14ecaa537c"
      },
      "id": "yEONI7j-RbTf",
      "execution_count": 96,
      "outputs": [
        {
          "output_type": "stream",
          "name": "stdout",
          "text": [
            "   arrival_time_hr  triage_category  requires_diagnostics  triage_time_min  \\\n",
            "0         0.065837                3                     0         9.754992   \n",
            "1         0.111484                5                     1        13.181691   \n",
            "2         0.119966                1                     1         8.975903   \n",
            "3         0.128445                3                     0        10.036306   \n",
            "4         0.131437                5                     0         6.441750   \n",
            "\n",
            "   registration_time_min  consultation_time_min  diagnostic_time_min  \\\n",
            "0               4.889553              23.588375             0.000000   \n",
            "1               6.801815              26.116563            39.506744   \n",
            "2               9.000532              27.408334            43.409601   \n",
            "3               5.710218              18.306776             0.000000   \n",
            "4               7.525497              20.545343             0.000000   \n",
            "\n",
            "   treatment_time_min  \n",
            "0           19.650561  \n",
            "1           14.144686  \n",
            "2           19.612156  \n",
            "3           20.825708  \n",
            "4           24.803268  \n"
          ]
        }
      ]
    },
    {
      "cell_type": "code",
      "source": [
        "#sort and reset index\n",
        "ed_patient_data.sort_values('arrival_time_hr', inplace=True)\n",
        "ed_patient_data.reset_index(drop=True, inplace=True)\n",
        "# verify with the previous one - compare\n",
        "print(ed_patient_data.head())"
      ],
      "metadata": {
        "colab": {
          "base_uri": "https://localhost:8080/"
        },
        "id": "3BjnfFLFa_A7",
        "outputId": "5e38ae0b-3ef5-4c89-fd7c-1446e7612c78"
      },
      "id": "3BjnfFLFa_A7",
      "execution_count": 97,
      "outputs": [
        {
          "output_type": "stream",
          "name": "stdout",
          "text": [
            "   arrival_time_hr  triage_category  requires_diagnostics  triage_time_min  \\\n",
            "0         0.065837                3                     0         9.754992   \n",
            "1         0.111484                5                     1        13.181691   \n",
            "2         0.119966                1                     1         8.975903   \n",
            "3         0.128445                3                     0        10.036306   \n",
            "4         0.131437                5                     0         6.441750   \n",
            "\n",
            "   registration_time_min  consultation_time_min  diagnostic_time_min  \\\n",
            "0               4.889553              23.588375             0.000000   \n",
            "1               6.801815              26.116563            39.506744   \n",
            "2               9.000532              27.408334            43.409601   \n",
            "3               5.710218              18.306776             0.000000   \n",
            "4               7.525497              20.545343             0.000000   \n",
            "\n",
            "   treatment_time_min  \n",
            "0           19.650561  \n",
            "1           14.144686  \n",
            "2           19.612156  \n",
            "3           20.825708  \n",
            "4           24.803268  \n"
          ]
        }
      ]
    },
    {
      "cell_type": "code",
      "source": [
        "print(\"Sample of Generated Patient Data (first 5 rows):\\n\")\n",
        "\n",
        "# Select relevant columns for display\n",
        "sample = ed_patient_data.head()\n",
        "\n",
        "# Rename columns with descriptive headers for clarity\n",
        "sample = sample.rename(columns={\n",
        "    'arrival_time_hr': 'Arrival',\n",
        "    'triage_category': 'TriageCat.',\n",
        "    'requires_diagnostics': 'Needs Diagn.?',\n",
        "    'triage_time_min': 'Triage(min)',\n",
        "    'registration_time_min': 'Registr.(min)',\n",
        "    'consultation_time_min': 'Consult.(min)',\n",
        "    'diagnostic_time_min': 'Diagnostic(min)',\n",
        "    'treatment_time_min': 'Treatment(min)'\n",
        "})\n",
        "\n",
        "print(sample.to_string(index=False))"
      ],
      "metadata": {
        "colab": {
          "base_uri": "https://localhost:8080/"
        },
        "id": "_q4A3erFRv9C",
        "outputId": "92f4380d-344a-48dc-ef81-52590ef05e31"
      },
      "id": "_q4A3erFRv9C",
      "execution_count": 98,
      "outputs": [
        {
          "output_type": "stream",
          "name": "stdout",
          "text": [
            "Sample of Generated Patient Data (first 5 rows):\n",
            "\n",
            " Arrival  TriageCat.  Needs Diagn.?  Triage(min)  Registr.(min)  Consult.(min)  Diagnostic(min)  Treatment(min)\n",
            "0.065837           3              0     9.754992       4.889553      23.588375         0.000000       19.650561\n",
            "0.111484           5              1    13.181691       6.801815      26.116563        39.506744       14.144686\n",
            "0.119966           1              1     8.975903       9.000532      27.408334        43.409601       19.612156\n",
            "0.128445           3              0    10.036306       5.710218      18.306776         0.000000       20.825708\n",
            "0.131437           5              0     6.441750       7.525497      20.545343         0.000000       24.803268\n"
          ]
        }
      ]
    },
    {
      "cell_type": "markdown",
      "source": [
        "Visuals of the dataset by triage category"
      ],
      "metadata": {
        "id": "QHImWd0aTlCg"
      },
      "id": "QHImWd0aTlCg"
    },
    {
      "cell_type": "code",
      "source": [
        "import matplotlib.patches as mpatches\n",
        "\n",
        "palette = sns.color_palette(\"Set1\", n_colors=5)\n",
        "\n",
        "\n",
        "plot_data = ed_patient_data[['triage_category', 'consultation_time_min']].copy()\n",
        "plot_data['triage_category'] = plot_data['triage_category'].astype('category')\n",
        "\n",
        "\n",
        "plt.figure(figsize=(12, 6))\n",
        "hist = sns.histplot(\n",
        "    data=plot_data,\n",
        "    x='consultation_time_min',\n",
        "    hue='triage_category',\n",
        "    multiple='stack',\n",
        "    palette=palette,\n",
        "    bins=30,\n",
        "    edgecolor='black',\n",
        "    alpha=0.75\n",
        ")\n",
        "\n",
        "plt.title('Consultation Time Distribution by Triage Category', fontsize=16)\n",
        "plt.xlabel('Consultation Time (minutes)', fontsize=13)\n",
        "plt.ylabel('Count', fontsize=13)\n",
        "plt.grid(True, linestyle='--', alpha=0.5)\n",
        "plt.tight_layout()\n",
        "\n",
        "triage_labels = ['1 - Critical', '2 - High', '3 - Moderate', '4 - Low', '5 - Minor']\n",
        "handles = [mpatches.Patch(color=palette[i], label=triage_labels[i]) for i in range(len(triage_labels))]\n",
        "\n",
        "plt.legend(handles=handles, title='Triage Category', title_fontsize=13, fontsize=11, loc='upper right')\n",
        "\n",
        "plt.show()"
      ],
      "metadata": {
        "colab": {
          "base_uri": "https://localhost:8080/",
          "height": 607
        },
        "id": "gdpbuj-pSoyw",
        "outputId": "ab23b4e4-5cbf-4939-e3ea-37295250d18e"
      },
      "id": "gdpbuj-pSoyw",
      "execution_count": 99,
      "outputs": [
        {
          "output_type": "display_data",
          "data": {
            "text/plain": [
              "<Figure size 1200x600 with 1 Axes>"
            ],
            "image/png": "[encoded data removed]"
          },
          "metadata": {}
        }
      ]
    },
    {
      "cell_type": "markdown",
      "source": [
        "# KPIs"
      ],
      "metadata": {
        "id": "rrnZ5WOVcegL"
      },
      "id": "rrnZ5WOVcegL"
    },
    {
      "cell_type": "markdown",
      "source": [
        "Collect and store KPIs across simulations"
      ],
      "metadata": {
        "id": "fhd14zP4comz"
      },
      "id": "fhd14zP4comz"
    },
    {
      "cell_type": "code",
      "source": [
        "class KPICollector:\n",
        "    def __init__(self):\n",
        "        self.waiting_times = []\n",
        "        self.length_of_stay = []\n",
        "        self.diverted_patients = 0\n",
        "        self.doctor_busy_time = 0.0\n",
        "        self.bed_busy_time = 0.0\n",
        "        self.surgical_room_busy_time = 0.0\n",
        "        self.diagnostic_room_busy_time = 0.0\n",
        "\n",
        "    def reset(self):\n",
        "        self.waiting_times.clear()\n",
        "        self.length_of_stay.clear()\n",
        "        self.diverted_patients = 0\n",
        "        self.doctor_busy_time = 0.0\n",
        "        self.bed_busy_time = 0.0\n",
        "        self.surgical_room_busy_time = 0.0\n",
        "        self.diagnostic_room_busy_time = 0.0\n",
        "\n",
        "    def aggregate(self, other):\n",
        "        self.waiting_times.extend(other.waiting_times)\n",
        "        self.length_of_stay.extend(other.length_of_stay)\n",
        "        self.diverted_patients += other.diverted_patients\n",
        "        self.doctor_busy_time += other.doctor_busy_time\n",
        "        self.bed_busy_time += other.bed_busy_time\n",
        "        self.surgical_room_busy_time += other.surgical_room_busy_time\n",
        "        self.diagnostic_room_busy_time += other.diagnostic_room_busy_time\n"
      ],
      "metadata": {
        "id": "uO-lV61fclHE"
      },
      "id": "uO-lV61fclHE",
      "execution_count": 100,
      "outputs": []
    },
    {
      "cell_type": "code",
      "source": [
        "from scipy import stats"
      ],
      "metadata": {
        "id": "nstcy2somRn1"
      },
      "id": "nstcy2somRn1",
      "execution_count": 101,
      "outputs": []
    },
    {
      "cell_type": "code",
      "source": [
        "def kpi_statistics(data):\n",
        "    if len(data) == 0:\n",
        "        return {'mean': None, 'median': None, 'mode': None, 'std_dev': None}\n",
        "    mode_val = stats.mode(data, keepdims=False).mode\n",
        "    return {\n",
        "        'mean': np.mean(data),\n",
        "        'median': np.median(data),\n",
        "        'mode': mode_val,\n",
        "        'std_dev': np.std(data, ddof=1)\n",
        "    }"
      ],
      "metadata": {
        "id": "q0k43EV4l7-G"
      },
      "id": "q0k43EV4l7-G",
      "execution_count": 102,
      "outputs": []
    },
    {
      "cell_type": "code",
      "source": [
        "def utilization_stats(label, busy_time, capacity, sim_hours):\n",
        "    utilization_pct = (busy_time / (capacity * sim_hours)) * 100\n",
        "    print(f\"{label}: {utilization_pct:.2f}% average utilization\")"
      ],
      "metadata": {
        "id": "FpG2_Et5vEso"
      },
      "id": "FpG2_Et5vEso",
      "execution_count": 103,
      "outputs": []
    },
    {
      "cell_type": "code",
      "source": [
        "def print_resource_utilization(replication_results, scenario_name):\n",
        "    num_replications = len(replication_results)\n",
        "\n",
        "    total_doctor_busy = sum(res.doctor_busy_time for res in replication_results)\n",
        "    total_bed_busy = sum(res.bed_busy_time for res in replication_results)\n",
        "    total_surgical_busy = sum(res.surgical_room_busy_time for res in replication_results)\n",
        "    total_diagnostic_busy = sum(res.diagnostic_room_busy_time for res in replication_results)\n",
        "\n",
        "    print(f\"\\n{scenario_name} Resource Utilizations:\")\n",
        "    utilization_stats(\"Doctor Utilization\", total_doctor_busy, DOCTOR_CAPACITY, SIM_TIME_HOURS * num_replications)\n",
        "    utilization_stats(\"Bed Utilization\", total_bed_busy, BED_CAPACITY, SIM_TIME_HOURS * num_replications)\n",
        "    utilization_stats(\"Surgical Room Utilization\", total_surgical_busy, SURGICAL_ROOM_CAPACITY, SIM_TIME_HOURS * num_replications)\n",
        "    utilization_stats(\"Diagnostic Room Utilization\", total_diagnostic_busy, DIAGNOSTIC_ROOM_CAPASITY, SIM_TIME_HOURS * num_replications)"
      ],
      "metadata": {
        "id": "3OT7B3gw4Yx6"
      },
      "id": "3OT7B3gw4Yx6",
      "execution_count": 104,
      "outputs": []
    },
    {
      "cell_type": "code",
      "source": [
        "def print_kpi_stats(label, stats):\n",
        "    print(f\"{label}:\")\n",
        "    print(f\"  Mean   : {float(stats['mean']):.2f} hours\")\n",
        "    print(f\"  Median : {float(stats['median']):.2f} hours\")\n",
        "    print(f\"  Mode   : {float(stats['mode']):.2f} hours\")\n",
        "    print(f\"  Std Dev: {float(stats['std_dev']):.2f} hours\\n\")\n"
      ],
      "metadata": {
        "id": "GR3ZxrC8TVwu"
      },
      "id": "GR3ZxrC8TVwu",
      "execution_count": 105,
      "outputs": []
    },
    {
      "cell_type": "markdown",
      "source": [
        "# Control scenario simulation"
      ],
      "metadata": {
        "id": "WlECVt6kaUGt"
      },
      "id": "WlECVt6kaUGt"
    },
    {
      "cell_type": "markdown",
      "source": [
        "1. Setting the baseline scenario basic resources (including human resources) capacities and data assumptions"
      ],
      "metadata": {
        "id": "pdmwaGN1efvI"
      },
      "id": "pdmwaGN1efvI"
    },
    {
      "cell_type": "code",
      "source": [
        "DOCTOR_CAPACITY = 3\n",
        "BED_CAPACITY = 30\n",
        "SURGICAL_ROOM_CAPACITY = 5\n",
        "DIAGNOSTIC_ROOM_CAPASITY = 25"
      ],
      "metadata": {
        "id": "7iMEXWBetHG0"
      },
      "id": "7iMEXWBetHG0",
      "execution_count": 106,
      "outputs": []
    },
    {
      "cell_type": "code",
      "source": [
        "SIM_TIME_HOURS = 24 # two days simulation"
      ],
      "metadata": {
        "id": "F1JSvsw1euw8"
      },
      "id": "F1JSvsw1euw8",
      "execution_count": 107,
      "outputs": []
    },
    {
      "cell_type": "markdown",
      "source": [
        "## Patient process"
      ],
      "metadata": {
        "id": "0gzOQ-6EfPpM"
      },
      "id": "0gzOQ-6EfPpM"
    },
    {
      "cell_type": "markdown",
      "source": [
        "journey of one patient within ED. Max steps are:\n",
        "\n",
        "\n",
        "1. triage identification\n",
        "2. registration *time resource\n",
        "3. consultation *doctor, time resource\n",
        "4. diagnostics *, doctor, capacity of diagnostical rooms/equipment, time resource\n",
        "5. admission decision n possible treatment incl. surgery *bed + surgical room + doctor, time capacity\n",
        "\n"
      ],
      "metadata": {
        "id": "K3p7rA-Bgaek"
      },
      "id": "K3p7rA-Bgaek"
    },
    {
      "cell_type": "code",
      "source": [
        "def patient_process(env, patient_id, patient_data, doctors, beds, diagnostic_rooms, surgical_rooms, kpi):\n",
        "    arrival_time = patient_data.loc[patient_id, 'arrival_time_hr']\n",
        "    yield env.timeout(max(0, arrival_time - env.now))  # wait for arrival\n",
        "\n",
        "    start_time = env.now\n",
        "\n",
        "    # Simulate triage time (higher priority for critical patients)\n",
        "    yield env.timeout(patient_data.loc[patient_id, 'triage_time_min'] / 60)\n",
        "\n",
        "    # Simulate registration time\n",
        "    yield env.timeout(patient_data.loc[patient_id, 'registration_time_min'] / 60)\n",
        "\n",
        "    # Consultation phase\n",
        "    with doctors.request() as req:\n",
        "        yield req\n",
        "        wait_time = env.now - start_time\n",
        "        kpi.waiting_times.append(wait_time)\n",
        "        consult_duration = patient_data.loc[patient_id, 'consultation_time_min'] / 60\n",
        "        kpi.doctor_busy_time += consult_duration\n",
        "        yield env.timeout(consult_duration)\n",
        "\n",
        "    # Diagnostic testing if needed\n",
        "    if patient_data.loc[patient_id, 'requires_diagnostics'] == 1:\n",
        "        with diagnostic_rooms.request() as req:\n",
        "            yield req\n",
        "            diag_duration = patient_data.loc[patient_id, 'diagnostic_time_min'] / 60\n",
        "            kpi.diagnostic_room_busy_time += diag_duration\n",
        "            yield env.timeout(diag_duration)\n",
        "\n",
        "    # Admission decision (increase admission rate to 20-30% to simulate overcrowding)\n",
        "    admitted = np.random.rand() < 0.25  # Adjusted to 25% for realistic overcrowding\n",
        "\n",
        "    if admitted:\n",
        "        with beds.request() as bed_req:\n",
        "            # Check if a bed is available\n",
        "            bed_result = yield bed_req  # Block until a bed is available\n",
        "            if bed_result is None:  # If no bed is available, patient is diverted\n",
        "                kpi.diverted_patients += 1\n",
        "                kpi.length_of_stay.append(env.now - start_time)  # Track the time until diversion\n",
        "                return  # Patient is diverted, end the process\n",
        "\n",
        "            # If surgery is required, we assign a surgical room\n",
        "            surgery_needed = np.random.rand() < 0.5  # 50% chance of needing surgery\n",
        "            if surgery_needed:\n",
        "                with surgical_rooms.request() as surg_req:\n",
        "                    yield surg_req\n",
        "                    surgery_duration = patient_data.loc[patient_id, 'surgery_time_min'] / 60\n",
        "                    kpi.surgical_room_busy_time += surgery_duration\n",
        "                    yield env.timeout(surgery_duration)\n",
        "\n",
        "            # Treatment duration after surgery or for non-surgical patients\n",
        "            treatment_duration = patient_data.loc[patient_id, 'treatment_time_min'] / 60\n",
        "            kpi.bed_busy_time += treatment_duration\n",
        "            yield env.timeout(treatment_duration)\n",
        "\n",
        "    else:\n",
        "        # Patients not admitted (no bed assigned) will go through treatment directly\n",
        "        yield env.timeout(patient_data.loc[patient_id, 'treatment_time_min'] / 60)\n",
        "\n",
        "    kpi.length_of_stay.append(env.now - start_time)"
      ],
      "metadata": {
        "id": "ios3jHYmgR3I"
      },
      "id": "ios3jHYmgR3I",
      "execution_count": 108,
      "outputs": []
    },
    {
      "cell_type": "markdown",
      "source": [
        "Changes for initial dataframe to fit the patient process with ***surgery***"
      ],
      "metadata": {
        "id": "RDY-B-p3j-vj"
      },
      "id": "RDY-B-p3j-vj"
    },
    {
      "cell_type": "code",
      "source": [
        "num_patients = len(ed_patient_data)\n",
        "\n",
        "ed_patient_data['surgery_time_min'] = 0.0\n",
        "\n",
        "# 50% require surgery\n",
        "surgery_mask = np.random.binomial(1, 0.5, num_patients).astype(bool)\n",
        "\n",
        "#TriangularDistribution for surgery time: min=60, mode=120, max=180 minutes\n",
        "surgery_times = np.random.triangular(left=60, mode=120, right=180, size=num_patients)\n",
        "\n",
        "# Assign surgery times only for patients selected for surgery\n",
        "ed_patient_data.loc[surgery_mask, 'surgery_time_min'] = surgery_times[surgery_mask]"
      ],
      "metadata": {
        "id": "4iTvxNPokEvd"
      },
      "id": "4iTvxNPokEvd",
      "execution_count": 109,
      "outputs": []
    },
    {
      "cell_type": "markdown",
      "source": [
        "# Simulation function (will use also for manipulated *consitions* later)"
      ],
      "metadata": {
        "id": "Ln8WXQVZh5d1"
      },
      "id": "Ln8WXQVZh5d1"
    },
    {
      "cell_type": "code",
      "source": [
        "def run_control_simulation(patient_data, run_time=SIM_TIME_HOURS):\n",
        "    import simpy\n",
        "    env = simpy.Environment()\n",
        "\n",
        "    doctors = simpy.Resource(env, capacity=DOCTOR_CAPACITY)\n",
        "    beds = simpy.Resource(env, capacity=BED_CAPACITY)\n",
        "    surgical_rooms = simpy.Resource(env, capacity=SURGICAL_ROOM_CAPACITY)\n",
        "    diagnostic_rooms = simpy.Resource(env, capacity=DIAGNOSTIC_ROOM_CAPASITY)\n",
        "\n",
        "    kpi = KPICollector()\n",
        "\n",
        "    for patient_id in patient_data.index:\n",
        "        env.process(patient_process(env, patient_id, patient_data, doctors, beds, diagnostic_rooms, surgical_rooms, kpi))\n",
        "\n",
        "    env.run(until=run_time)\n",
        "\n",
        "    return kpi"
      ],
      "metadata": {
        "id": "XQnoj73Hk4y-"
      },
      "id": "XQnoj73Hk4y-",
      "execution_count": 110,
      "outputs": []
    },
    {
      "cell_type": "markdown",
      "source": [
        "Run simulation  10 times"
      ],
      "metadata": {
        "id": "nF3PQ2G7jGuo"
      },
      "id": "nF3PQ2G7jGuo"
    },
    {
      "cell_type": "code",
      "source": [
        "num_replications = 10\n",
        "replication_results = []\n",
        "\n",
        "for i in range(num_replications):\n",
        "    kpi = run_control_simulation(ed_patient_data, run_time=SIM_TIME_HOURS)\n",
        "    replication_results.append(kpi)\n",
        "\n",
        "#Aggregate KPIs from all replications\n",
        "all_waiting_times = []\n",
        "all_length_of_stay = []\n",
        "total_diverted = 0\n",
        "\n",
        "for res in replication_results:\n",
        "    all_waiting_times.extend(res.waiting_times)\n",
        "    all_length_of_stay.extend(res.length_of_stay)\n",
        "    total_diverted += res.diverted_patients"
      ],
      "metadata": {
        "id": "1qcot6QUk8I8"
      },
      "id": "1qcot6QUk8I8",
      "execution_count": 111,
      "outputs": []
    },
    {
      "cell_type": "markdown",
      "source": [
        "# KPI statistics  on control scenario"
      ],
      "metadata": {
        "id": "6Oas7ozAlxJ6"
      },
      "id": "6Oas7ozAlxJ6"
    },
    {
      "cell_type": "code",
      "source": [
        "# Calculate aggregated statistics\n",
        "waiting_stats = kpi_statistics(all_waiting_times)\n",
        "los_stats = kpi_statistics(all_length_of_stay)"
      ],
      "metadata": {
        "id": "fgDaVxyCl3p1"
      },
      "id": "fgDaVxyCl3p1",
      "execution_count": 112,
      "outputs": []
    },
    {
      "cell_type": "code",
      "source": [
        "print_kpi_stats(\"Aggregated Waiting Time Statistics\", waiting_stats)\n",
        "print_kpi_stats(\"Aggregated Length of Stay Statistics\", los_stats)\n",
        "print(f\"Aggregated Total Diverted Patients: {total_diverted}\\n\")"
      ],
      "metadata": {
        "colab": {
          "base_uri": "https://localhost:8080/"
        },
        "id": "JlmUv-kzmAT1",
        "outputId": "1764e5a4-3650-4a88-f58a-162e8a2d10d3"
      },
      "id": "JlmUv-kzmAT1",
      "execution_count": 113,
      "outputs": [
        {
          "output_type": "stream",
          "name": "stdout",
          "text": [
            "Aggregated Waiting Time Statistics:\n",
            "  Mean   : 8.24 hours\n",
            "  Median : 8.13 hours\n",
            "  Mode   : 0.23 hours\n",
            "  Std Dev: 4.71 hours\n",
            "\n",
            "Aggregated Length of Stay Statistics:\n",
            "  Mean   : 8.83 hours\n",
            "  Median : 8.79 hours\n",
            "  Mode   : 2.20 hours\n",
            "  Std Dev: 4.56 hours\n",
            "\n",
            "Aggregated Total Diverted Patients: 408\n",
            "\n"
          ]
        }
      ]
    },
    {
      "cell_type": "code",
      "source": [
        "print_resource_utilization(replication_results, \"Control Scenario\")"
      ],
      "metadata": {
        "colab": {
          "base_uri": "https://localhost:8080/"
        },
        "id": "4_8UDSuO2HyY",
        "outputId": "39ef0696-c41a-41b7-9d2c-1fd5174af9b6"
      },
      "id": "4_8UDSuO2HyY",
      "execution_count": 114,
      "outputs": [
        {
          "output_type": "stream",
          "name": "stdout",
          "text": [
            "\n",
            "Control Scenario Resource Utilizations:\n",
            "Doctor Utilization: 99.29% average utilization\n",
            "Bed Utilization: 0.00% average utilization\n",
            "Surgical Room Utilization: 0.00% average utilization\n",
            "Diagnostic Room Utilization: 4.44% average utilization\n"
          ]
        }
      ]
    },
    {
      "cell_type": "markdown",
      "source": [
        "# Manipulated 1 - fast track for minor cases"
      ],
      "metadata": {
        "id": "H2_tQUdkvxIk"
      },
      "id": "H2_tQUdkvxIk"
    },
    {
      "cell_type": "code",
      "source": [
        "FAST_TRACK_DOCTOR_CAPACITY = 5"
      ],
      "metadata": {
        "id": "-_fnllLUv1PX"
      },
      "id": "-_fnllLUv1PX",
      "execution_count": 115,
      "outputs": []
    },
    {
      "cell_type": "markdown",
      "source": [
        "### patient process with a fast track"
      ],
      "metadata": {
        "id": "n7Hs-Qx0zWms"
      },
      "id": "n7Hs-Qx0zWms"
    },
    {
      "cell_type": "code",
      "source": [
        "def patient_process_fast_track(env, patient_id, patient_data, doctors, beds, diagnostic_rooms, surgical_rooms, fast_track_doctors, kpi):\n",
        "    arrival = patient_data.loc[patient_id, 'arrival_time_hr']\n",
        "    yield env.timeout(max(0, arrival - env.now))\n",
        "\n",
        "    start_time = env.now\n",
        "\n",
        "    # Triage and registration\n",
        "    yield env.timeout(patient_data.loc[patient_id, 'triage_time_min'] / 60)\n",
        "    yield env.timeout(patient_data.loc[patient_id, 'registration_time_min'] / 60)\n",
        "\n",
        "    triage_cat = patient_data.loc[patient_id, 'triage_category']\n",
        "\n",
        "    # Doctor pool selection\n",
        "    if triage_cat in [4, 5]:\n",
        "        doctor_resource = fast_track_doctors\n",
        "    else:\n",
        "        doctor_resource = doctors\n",
        "\n",
        "    # Consultation\n",
        "    with doctor_resource.request() as req:\n",
        "        yield req\n",
        "        wait_time = env.now - start_time\n",
        "        kpi.waiting_times.append(wait_time)\n",
        "        duration = patient_data.loc[patient_id, 'consultation_time_min'] / 60\n",
        "        kpi.doctor_busy_time += duration\n",
        "        yield env.timeout(duration)\n",
        "\n",
        "    # Diagnostics if needed\n",
        "    if patient_data.loc[patient_id, 'requires_diagnostics'] == 1:\n",
        "        with diagnostic_rooms.request() as req:\n",
        "            yield req\n",
        "            duration = patient_data.loc[patient_id, 'diagnostic_time_min'] / 60\n",
        "            kpi.diagnostic_room_busy_time += duration\n",
        "            yield env.timeout(duration)\n",
        "\n",
        "    # Admission decision (30%)\n",
        "    admitted = np.random.rand() < 0.3\n",
        "    if admitted:\n",
        "        with beds.request() as req:\n",
        "            result = yield req | env.timeout(0)  # Non-blocking bed request\n",
        "            if req not in result:\n",
        "                kpi.diverted_patients += 1\n",
        "                kpi.length_of_stay.append(env.now - start_time)\n",
        "                return\n",
        "\n",
        "            # Surgery decision for admitted patients (50% chance)\n",
        "            surgery_needed = np.random.rand() < 0.5\n",
        "            if surgery_needed:\n",
        "                with surgical_rooms.request() as surg_req:\n",
        "                    yield surg_req\n",
        "                    surgery_duration = patient_data.loc[patient_id, 'surgery_time_min'] / 60\n",
        "                    kpi.surgical_room_busy_time += surgery_duration\n",
        "                    yield env.timeout(surgery_duration)\n",
        "\n",
        "            # Treatment after surgery or admitted non-surgical patients\n",
        "            treatment_duration = patient_data.loc[patient_id, 'treatment_time_min'] / 60\n",
        "            kpi.bed_busy_time += treatment_duration\n",
        "            yield env.timeout(treatment_duration)\n",
        "    else:\n",
        "        # Treatment without admission (no bed/surgery)\n",
        "        yield env.timeout(patient_data.loc[patient_id, 'treatment_time_min'] / 60)\n",
        "\n",
        "    kpi.length_of_stay.append(env.now - start_time)\n"
      ],
      "metadata": {
        "id": "rZo3YY-jzRiM"
      },
      "id": "rZo3YY-jzRiM",
      "execution_count": 116,
      "outputs": []
    },
    {
      "cell_type": "markdown",
      "source": [
        "### fast track sim runner"
      ],
      "metadata": {
        "id": "0B-HammPzwvA"
      },
      "id": "0B-HammPzwvA"
    },
    {
      "cell_type": "code",
      "source": [
        "def run_fast_track_simulation(patient_data, run_time=SIM_TIME_HOURS):\n",
        "    import simpy\n",
        "    env = simpy.Environment()\n",
        "\n",
        "    doctors = simpy.Resource(env, capacity=DOCTOR_CAPACITY)\n",
        "    fast_track_doctors = simpy.Resource(env, capacity=FAST_TRACK_DOCTOR_CAPACITY)\n",
        "    beds = simpy.Resource(env, capacity=BED_CAPACITY)\n",
        "    surgical_rooms = simpy.Resource(env, capacity=SURGICAL_ROOM_CAPACITY)\n",
        "    diagnostic_rooms = simpy.Resource(env, capacity=DIAGNOSTIC_ROOM_CAPASITY)\n",
        "\n",
        "    kpi = KPICollector()\n",
        "\n",
        "    for patient_id in patient_data.index:\n",
        "        env.process(patient_process_fast_track(env, patient_id, patient_data, doctors, beds,\n",
        "                                              diagnostic_rooms, surgical_rooms, fast_track_doctors, kpi))\n",
        "\n",
        "    env.run(until=run_time)\n",
        "\n",
        "    return kpi"
      ],
      "metadata": {
        "id": "4Jhn38GIzuwl"
      },
      "id": "4Jhn38GIzuwl",
      "execution_count": 117,
      "outputs": []
    },
    {
      "cell_type": "code",
      "source": [
        "num_replications = 10\n",
        "replication_results_ft = []\n",
        "\n",
        "for i in range(num_replications):\n",
        "    kpi = run_fast_track_simulation(ed_patient_data, run_time=SIM_TIME_HOURS)\n",
        "    replication_results_ft.append(kpi)"
      ],
      "metadata": {
        "id": "umqVVZsk02Td"
      },
      "id": "umqVVZsk02Td",
      "execution_count": 118,
      "outputs": []
    },
    {
      "cell_type": "markdown",
      "source": [
        "# KPI stats on scen1"
      ],
      "metadata": {
        "id": "MlFFuRuBz_SR"
      },
      "id": "MlFFuRuBz_SR"
    },
    {
      "cell_type": "code",
      "source": [
        "all_waiting_times_ft = []\n",
        "all_length_of_stay_ft = []\n",
        "total_diverted_ft = 0\n",
        "\n",
        "for res in replication_results_ft:\n",
        "    all_waiting_times_ft.extend(res.waiting_times)\n",
        "    all_length_of_stay_ft.extend(res.length_of_stay)\n",
        "    total_diverted_ft += res.diverted_patients"
      ],
      "metadata": {
        "id": "dYSgko1W0zXE"
      },
      "id": "dYSgko1W0zXE",
      "execution_count": 119,
      "outputs": []
    },
    {
      "cell_type": "code",
      "source": [
        "\n",
        "waiting_stats_ft = kpi_statistics(all_waiting_times_ft)\n",
        "los_stats_ft = kpi_statistics(all_length_of_stay_ft)\n"
      ],
      "metadata": {
        "id": "KWH0oINt0AxM"
      },
      "id": "KWH0oINt0AxM",
      "execution_count": 120,
      "outputs": []
    },
    {
      "cell_type": "code",
      "source": [
        "print_kpi_stats(\"Fast-Track Aggregated Waiting Time Statistics\", waiting_stats_ft)\n",
        "print_kpi_stats(\"Fast-Track Aggregated Length of Stay Statistics\", los_stats_ft)\n",
        "print(f\"Fast-Track Aggregated Total Diverted Patients: {total_diverted_ft}\\n\")"
      ],
      "metadata": {
        "colab": {
          "base_uri": "https://localhost:8080/"
        },
        "id": "nSViFlO90ud0",
        "outputId": "b239c269-93c7-4f62-c561-e3c1d1b3f01c"
      },
      "id": "nSViFlO90ud0",
      "execution_count": 121,
      "outputs": [
        {
          "output_type": "stream",
          "name": "stdout",
          "text": [
            "Fast-Track Aggregated Waiting Time Statistics:\n",
            "  Mean   : 3.05 hours\n",
            "  Median : 0.52 hours\n",
            "  Mode   : 0.19 hours\n",
            "  Std Dev: 3.79 hours\n",
            "\n",
            "Fast-Track Aggregated Length of Stay Statistics:\n",
            "  Mean   : 3.97 hours\n",
            "  Median : 1.91 hours\n",
            "  Mode   : 0.84 hours\n",
            "  Std Dev: 3.62 hours\n",
            "\n",
            "Fast-Track Aggregated Total Diverted Patients: 0\n",
            "\n"
          ]
        }
      ]
    },
    {
      "cell_type": "code",
      "source": [
        "print_resource_utilization(replication_results, \"Control Scenario\")\n",
        "print_resource_utilization(replication_results_ft, \"Fast-Track Scenario\")"
      ],
      "metadata": {
        "colab": {
          "base_uri": "https://localhost:8080/"
        },
        "id": "004788dR3vBC",
        "outputId": "2f5b742a-845c-41af-e27c-022bcd92bb5e"
      },
      "id": "004788dR3vBC",
      "execution_count": 122,
      "outputs": [
        {
          "output_type": "stream",
          "name": "stdout",
          "text": [
            "\n",
            "Control Scenario Resource Utilizations:\n",
            "Doctor Utilization: 99.29% average utilization\n",
            "Bed Utilization: 0.00% average utilization\n",
            "Surgical Room Utilization: 0.00% average utilization\n",
            "Diagnostic Room Utilization: 4.44% average utilization\n",
            "\n",
            "Fast-Track Scenario Resource Utilizations:\n",
            "Doctor Utilization: 205.64% average utilization\n",
            "Bed Utilization: 4.87% average utilization\n",
            "Surgical Room Utilization: 40.00% average utilization\n",
            "Diagnostic Room Utilization: 9.63% average utilization\n"
          ]
        }
      ]
    },
    {
      "cell_type": "markdown",
      "source": [
        "# Manipulated scenario 2 - additional sugical room n diagnostical equipment"
      ],
      "metadata": {
        "id": "a56pRmZs48Ql"
      },
      "id": "a56pRmZs48Ql"
    },
    {
      "cell_type": "code",
      "source": [
        "SCEN2_SURGICAL_ROOM_CAPACITY = 2 #+1\n",
        "SCEN2_DIAGNOSTIC_ROOM_CAPACITY = 7 #+2\n",
        "SCEN2_DOCTOR_CAPACITY = 5  #+1"
      ],
      "metadata": {
        "id": "cnDqoHFT5H2n"
      },
      "id": "cnDqoHFT5H2n",
      "execution_count": 123,
      "outputs": []
    },
    {
      "cell_type": "markdown",
      "source": [
        "## Patient process is the same as baseline"
      ],
      "metadata": {
        "id": "Bpfp50db5UeG"
      },
      "id": "Bpfp50db5UeG"
    },
    {
      "cell_type": "markdown",
      "source": [
        "## runner of simulation function new to accumulate data"
      ],
      "metadata": {
        "id": "o6Isd6Sk5cT5"
      },
      "id": "o6Isd6Sk5cT5"
    },
    {
      "cell_type": "code",
      "source": [
        "def run_scenario2_simulation(patient_data, run_time=SIM_TIME_HOURS):\n",
        "    import simpy\n",
        "    env = simpy.Environment()\n",
        "\n",
        "    doctors = simpy.Resource(env, capacity=SCEN2_DOCTOR_CAPACITY)\n",
        "    beds = simpy.Resource(env, capacity=BED_CAPACITY)  # no change to beds\n",
        "    surgical_rooms = simpy.Resource(env, capacity=SCEN2_SURGICAL_ROOM_CAPACITY)\n",
        "    diagnostic_rooms = simpy.Resource(env, capacity=SCEN2_DIAGNOSTIC_ROOM_CAPACITY)\n",
        "\n",
        "    kpi = KPICollector()\n",
        "\n",
        "    for patient_id in patient_data.index:\n",
        "        env.process(patient_process(env, patient_id, patient_data, doctors, beds, diagnostic_rooms, surgical_rooms, kpi))\n",
        "\n",
        "    env.run(until=run_time)\n",
        "\n",
        "    return kpi\n"
      ],
      "metadata": {
        "id": "zEzxnyrn6PEU"
      },
      "id": "zEzxnyrn6PEU",
      "execution_count": 124,
      "outputs": []
    },
    {
      "cell_type": "code",
      "source": [
        "num_replications = 10\n",
        "replication_results_scen2 = []\n",
        "\n",
        "for i in range(num_replications):\n",
        "    kpi = run_scenario2_simulation(ed_patient_data, run_time=SIM_TIME_HOURS)\n",
        "    replication_results_scen2.append(kpi)"
      ],
      "metadata": {
        "id": "UOZT_k656UAJ"
      },
      "id": "UOZT_k656UAJ",
      "execution_count": 125,
      "outputs": []
    },
    {
      "cell_type": "markdown",
      "source": [
        "# Scen2 KPIs"
      ],
      "metadata": {
        "id": "iAJE9k3-6QDx"
      },
      "id": "iAJE9k3-6QDx"
    },
    {
      "cell_type": "code",
      "source": [
        "all_waiting_times_s2 = []\n",
        "all_length_of_stay_s2 = []\n",
        "total_diverted_s2 = 0\n",
        "\n",
        "for res in replication_results_scen2:\n",
        "    all_waiting_times_s2.extend(res.waiting_times)\n",
        "    all_length_of_stay_s2.extend(res.length_of_stay)\n",
        "    total_diverted_s2 += res.diverted_patients"
      ],
      "metadata": {
        "id": "d6Ju8qnz6ZJH"
      },
      "id": "d6Ju8qnz6ZJH",
      "execution_count": 126,
      "outputs": []
    },
    {
      "cell_type": "code",
      "source": [
        "waiting_stats_s2 = kpi_statistics(all_waiting_times_s2)\n",
        "los_stats_s2 = kpi_statistics(all_length_of_stay_s2)"
      ],
      "metadata": {
        "id": "1mPODGaC6a-c"
      },
      "id": "1mPODGaC6a-c",
      "execution_count": 127,
      "outputs": []
    },
    {
      "cell_type": "code",
      "source": [
        "\n",
        "print_kpi_stats(\"Scenario 2 Aggregated Waiting Time Statistics\", waiting_stats_s2)\n",
        "print_kpi_stats(\"Scenario 2 Aggregated Length of Stay Statistics\", los_stats_s2)\n",
        "print(f\"Scenario 2 Aggregated Total Diverted Patients: {total_diverted_s2}\\n\")"
      ],
      "metadata": {
        "colab": {
          "base_uri": "https://localhost:8080/"
        },
        "id": "f2zGwMsQ6cK7",
        "outputId": "db86b803-bd2e-4d87-a788-a023f7f37116"
      },
      "id": "f2zGwMsQ6cK7",
      "execution_count": 128,
      "outputs": [
        {
          "output_type": "stream",
          "name": "stdout",
          "text": [
            "Scenario 2 Aggregated Waiting Time Statistics:\n",
            "  Mean   : 5.89 hours\n",
            "  Median : 5.97 hours\n",
            "  Mode   : 0.23 hours\n",
            "  Std Dev: 3.26 hours\n",
            "\n",
            "Scenario 2 Aggregated Length of Stay Statistics:\n",
            "  Mean   : 6.63 hours\n",
            "  Median : 6.68 hours\n",
            "  Mode   : 2.12 hours\n",
            "  Std Dev: 3.21 hours\n",
            "\n",
            "Scenario 2 Aggregated Total Diverted Patients: 659\n",
            "\n"
          ]
        }
      ]
    },
    {
      "cell_type": "code",
      "source": [
        "print_resource_utilization(replication_results_scen2, \"Scenario 2\")"
      ],
      "metadata": {
        "colab": {
          "base_uri": "https://localhost:8080/"
        },
        "id": "No8xEm6z6fOD",
        "outputId": "f430a11b-eda4-435c-9c53-38fdfc9ce0eb"
      },
      "id": "No8xEm6z6fOD",
      "execution_count": 129,
      "outputs": [
        {
          "output_type": "stream",
          "name": "stdout",
          "text": [
            "\n",
            "Scenario 2 Resource Utilizations:\n",
            "Doctor Utilization: 165.49% average utilization\n",
            "Bed Utilization: 0.00% average utilization\n",
            "Surgical Room Utilization: 0.00% average utilization\n",
            "Diagnostic Room Utilization: 7.83% average utilization\n"
          ]
        }
      ]
    },
    {
      "cell_type": "code",
      "source": [
        "print_resource_utilization(replication_results, \"Control Scenario\")\n",
        "print_resource_utilization(replication_results_ft, \"Fast-Track Scenario\")"
      ],
      "metadata": {
        "colab": {
          "base_uri": "https://localhost:8080/"
        },
        "id": "EUBUF9uq6nCY",
        "outputId": "5f3a91b2-ff6d-4371-8237-5a95f8ffea67"
      },
      "id": "EUBUF9uq6nCY",
      "execution_count": 130,
      "outputs": [
        {
          "output_type": "stream",
          "name": "stdout",
          "text": [
            "\n",
            "Control Scenario Resource Utilizations:\n",
            "Doctor Utilization: 99.29% average utilization\n",
            "Bed Utilization: 0.00% average utilization\n",
            "Surgical Room Utilization: 0.00% average utilization\n",
            "Diagnostic Room Utilization: 4.44% average utilization\n",
            "\n",
            "Fast-Track Scenario Resource Utilizations:\n",
            "Doctor Utilization: 205.64% average utilization\n",
            "Bed Utilization: 4.87% average utilization\n",
            "Surgical Room Utilization: 40.00% average utilization\n",
            "Diagnostic Room Utilization: 9.63% average utilization\n"
          ]
        }
      ]
    },
    {
      "cell_type": "markdown",
      "source": [
        "# Manipulated Scenario 3 - mixed"
      ],
      "metadata": {
        "id": "25koo783NUQg"
      },
      "id": "25koo783NUQg"
    },
    {
      "cell_type": "markdown",
      "source": [
        "parameters are set again (not to forget, plus can do them const above)"
      ],
      "metadata": {
        "id": "9cG3kr8TXoc8"
      },
      "id": "9cG3kr8TXoc8"
    },
    {
      "cell_type": "code",
      "source": [
        "SCEN2_SURGICAL_ROOM_CAPACITY = 2\n",
        "SCEN2_DIAGNOSTIC_ROOM_CAPACITY = 7\n",
        "SCEN2_DOCTOR_CAPACITY = 5\n",
        "FAST_TRACK_DOCTOR_CAPACITY = 5     #from scen1, fast track doctors\n",
        "BED_CAPACITY = 15"
      ],
      "metadata": {
        "id": "Ri-LOzaRNU7A"
      },
      "id": "Ri-LOzaRNU7A",
      "execution_count": 131,
      "outputs": []
    },
    {
      "cell_type": "markdown",
      "source": [],
      "metadata": {
        "id": "-F6QdS39XuLK"
      },
      "id": "-F6QdS39XuLK"
    },
    {
      "cell_type": "code",
      "source": [
        "def run_scenario3_simulation(patient_data, run_time=SIM_TIME_HOURS):\n",
        "    env = simpy.Environment()\n",
        "\n",
        "    doctors = simpy.Resource(env, capacity=SCEN2_DOCTOR_CAPACITY)\n",
        "    fast_track_doctors = simpy.Resource(env, capacity=FAST_TRACK_DOCTOR_CAPACITY)\n",
        "    beds = simpy.Resource(env, capacity=BED_CAPACITY)\n",
        "    surgical_rooms = simpy.Resource(env, capacity=SCEN2_SURGICAL_ROOM_CAPACITY)\n",
        "    diagnostic_rooms = simpy.Resource(env, capacity=SCEN2_DIAGNOSTIC_ROOM_CAPACITY)\n",
        "\n",
        "    kpi = KPICollector()\n",
        "\n",
        "    for patient_id in patient_data.index:\n",
        "        env.process(patient_process_fast_track(env, patient_id, patient_data,\n",
        "                                              doctors, beds, diagnostic_rooms,\n",
        "                                              surgical_rooms, fast_track_doctors, kpi))\n",
        "\n",
        "    env.run(until=run_time)\n",
        "\n",
        "    return kpi\n"
      ],
      "metadata": {
        "id": "Iq65z8-cQCe3"
      },
      "id": "Iq65z8-cQCe3",
      "execution_count": 132,
      "outputs": []
    },
    {
      "cell_type": "code",
      "source": [
        "\n",
        "num_replications = 10\n",
        "replication_results_s3 = []\n",
        "\n",
        "for i in range(num_replications):\n",
        "    kpi = run_scenario3_simulation(ed_patient_data, run_time=SIM_TIME_HOURS)\n",
        "    replication_results_s3.append(kpi)\n"
      ],
      "metadata": {
        "id": "Yqr04RLjP8Ax"
      },
      "id": "Yqr04RLjP8Ax",
      "execution_count": 133,
      "outputs": []
    },
    {
      "cell_type": "code",
      "source": [
        "\n",
        "all_waiting_times_s3 = []\n",
        "all_length_of_stay_s3 = []\n",
        "total_diverted_s3 = 0"
      ],
      "metadata": {
        "id": "lBU67C73VlFr"
      },
      "id": "lBU67C73VlFr",
      "execution_count": 134,
      "outputs": []
    },
    {
      "cell_type": "code",
      "source": [
        "for res in replication_results_s3:\n",
        "    all_waiting_times_s3.extend(res.waiting_times)\n",
        "    all_length_of_stay_s3.extend(res.length_of_stay)\n",
        "    total_diverted_s3 += res.diverted_patients"
      ],
      "metadata": {
        "id": "g1fEoEaQVrqW"
      },
      "id": "g1fEoEaQVrqW",
      "execution_count": 135,
      "outputs": []
    },
    {
      "cell_type": "markdown",
      "source": [
        "# KPIs scen3 mixed"
      ],
      "metadata": {
        "id": "jfJTWpZCVszs"
      },
      "id": "jfJTWpZCVszs"
    },
    {
      "cell_type": "code",
      "source": [
        "waiting_stats_s3 = kpi_statistics(all_waiting_times_s3)\n",
        "los_stats_s3 = kpi_statistics(all_length_of_stay_s3)\n"
      ],
      "metadata": {
        "id": "8W7gLx7WVwc7"
      },
      "id": "8W7gLx7WVwc7",
      "execution_count": 136,
      "outputs": []
    },
    {
      "cell_type": "code",
      "source": [
        "print_kpi_stats(\"Scenario 3 Aggregated Waiting Time Statistics\", waiting_stats_s3)\n",
        "print_kpi_stats(\"Scenario 3 Aggregated Length of Stay Statistics\", los_stats_s3)\n",
        "print(f\"Scenario 3 Aggregated Total Diverted Patients: {total_diverted_s3}\\n\")"
      ],
      "metadata": {
        "colab": {
          "base_uri": "https://localhost:8080/"
        },
        "id": "ZYV2XC8WVy5M",
        "outputId": "63cbe41e-907b-46c9-d092-916e7ea7d704"
      },
      "id": "ZYV2XC8WVy5M",
      "execution_count": 137,
      "outputs": [
        {
          "output_type": "stream",
          "name": "stdout",
          "text": [
            "Scenario 3 Aggregated Waiting Time Statistics:\n",
            "  Mean   : 1.39 hours\n",
            "  Median : 0.66 hours\n",
            "  Mode   : 0.19 hours\n",
            "  Std Dev: 1.19 hours\n",
            "\n",
            "Scenario 3 Aggregated Length of Stay Statistics:\n",
            "  Mean   : 2.60 hours\n",
            "  Median : 2.06 hours\n",
            "  Mode   : 0.91 hours\n",
            "  Std Dev: 1.63 hours\n",
            "\n",
            "Scenario 3 Aggregated Total Diverted Patients: 140\n",
            "\n"
          ]
        }
      ]
    },
    {
      "cell_type": "code",
      "source": [
        "\n",
        "print_resource_utilization(replication_results_s3, \"Scenario 3\")\n"
      ],
      "metadata": {
        "colab": {
          "base_uri": "https://localhost:8080/"
        },
        "id": "C1RkArXWV023",
        "outputId": "790693be-6f0d-47a8-843b-e0560dad733a"
      },
      "id": "C1RkArXWV023",
      "execution_count": 138,
      "outputs": [
        {
          "output_type": "stream",
          "name": "stdout",
          "text": [
            "\n",
            "Scenario 3 Resource Utilizations:\n",
            "Doctor Utilization: 270.27% average utilization\n",
            "Bed Utilization: 10.12% average utilization\n",
            "Surgical Room Utilization: 36.71% average utilization\n",
            "Diagnostic Room Utilization: 12.36% average utilization\n"
          ]
        }
      ]
    },
    {
      "cell_type": "code",
      "source": [
        "print_resource_utilization(replication_results, \"Control Scenario\")\n",
        "print_resource_utilization(replication_results_ft, \"Fast-Track Scenario\")\n",
        "print_resource_utilization(replication_results_scen2, \"Scenario 2\")"
      ],
      "metadata": {
        "colab": {
          "base_uri": "https://localhost:8080/"
        },
        "id": "96bsAfMgV47H",
        "outputId": "f78daea8-2f8d-4e72-d71b-f4dbebad613e"
      },
      "id": "96bsAfMgV47H",
      "execution_count": 139,
      "outputs": [
        {
          "output_type": "stream",
          "name": "stdout",
          "text": [
            "\n",
            "Control Scenario Resource Utilizations:\n",
            "Doctor Utilization: 99.29% average utilization\n",
            "Bed Utilization: 0.00% average utilization\n",
            "Surgical Room Utilization: 0.00% average utilization\n",
            "Diagnostic Room Utilization: 4.44% average utilization\n",
            "\n",
            "Fast-Track Scenario Resource Utilizations:\n",
            "Doctor Utilization: 205.64% average utilization\n",
            "Bed Utilization: 9.75% average utilization\n",
            "Surgical Room Utilization: 40.00% average utilization\n",
            "Diagnostic Room Utilization: 9.63% average utilization\n",
            "\n",
            "Scenario 2 Resource Utilizations:\n",
            "Doctor Utilization: 165.49% average utilization\n",
            "Bed Utilization: 0.00% average utilization\n",
            "Surgical Room Utilization: 0.00% average utilization\n",
            "Diagnostic Room Utilization: 7.83% average utilization\n"
          ]
        }
      ]
    },
    {
      "cell_type": "markdown",
      "source": [
        "# ----------------------------------------"
      ],
      "metadata": {
        "id": "CQO7ZZ2iYYRI"
      },
      "id": "CQO7ZZ2iYYRI"
    },
    {
      "cell_type": "markdown",
      "source": [
        "# KPIs summary"
      ],
      "metadata": {
        "id": "lMDVJL5wY3WX"
      },
      "id": "lMDVJL5wY3WX"
    },
    {
      "cell_type": "code",
      "source": [
        "def aggregate_kpis(replication_results, scenario_name):\n",
        "    all_waiting = []\n",
        "    all_los = []\n",
        "    total_diverted = 0\n",
        "\n",
        "    for idx, kpi in enumerate(replication_results):\n",
        "        if len(kpi.waiting_times) != len(kpi.length_of_stay):\n",
        "            raise ValueError(f\"Replication {idx} has mismatched lengths: waiting_times={len(kpi.waiting_times)} vs length_of_stay={len(kpi.length_of_stay)}\")\n",
        "        all_waiting.extend(kpi.waiting_times)\n",
        "        all_los.extend(kpi.length_of_stay)\n",
        "        total_diverted += kpi.diverted_patients\n",
        "\n",
        "    n = len(all_waiting)\n",
        "    return pd.DataFrame({\n",
        "        'Scenario': [scenario_name] * n,\n",
        "        'Waiting_Time': all_waiting,\n",
        "        'Length_of_Stay': all_los,\n",
        "        'Diverted_Patients': [total_diverted] * n\n",
        "    })\n"
      ],
      "metadata": {
        "id": "EbP-l7_khmG_"
      },
      "id": "EbP-l7_khmG_",
      "execution_count": 140,
      "outputs": []
    },
    {
      "cell_type": "markdown",
      "source": [
        "# Stats summary"
      ],
      "metadata": {
        "id": "twdxZq-eZ6KI"
      },
      "id": "twdxZq-eZ6KI"
    },
    {
      "cell_type": "markdown",
      "source": [
        "# Visualisation and comparison  of the scenarios (and versus control)"
      ],
      "metadata": {
        "id": "drKvjEDtau8h"
      },
      "id": "drKvjEDtau8h"
    }
  ],
  "metadata": {
    "kernelspec": {
      "display_name": ".venv",
      "language": "python",
      "name": "python3"
    },
    "language_info": {
      "codemirror_mode": {
        "name": "ipython",
        "version": 3
      },
      "file_extension": ".py",
      "mimetype": "text/x-python",
      "name": "python",
      "nbconvert_exporter": "python",
      "pygments_lexer": "ipython3",
      "version": "3.13.2"
    },
    "colab": {
      "provenance": [],
      "collapsed_sections": [
        "5624ff8f",
        "WlECVt6kaUGt",
        "0gzOQ-6EfPpM",
        "Ln8WXQVZh5d1",
        "6Oas7ozAlxJ6",
        "H2_tQUdkvxIk",
        "MlFFuRuBz_SR",
        "o6Isd6Sk5cT5",
        "iAJE9k3-6QDx"
      ],
      "include_colab_link": true
    }
  },
  "nbformat": 4,
  "nbformat_minor": 5
}